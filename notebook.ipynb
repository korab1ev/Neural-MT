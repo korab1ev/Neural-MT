{
 "cells": [
  {
   "cell_type": "code",
   "execution_count": 3,
   "metadata": {
    "id": "bCE6Lb9bHFA2"
   },
   "outputs": [],
   "source": [
    "# download files (if you're on colab)\n",
    "%%capture\n",
    "!pip3 install torch>=1.3.0\n",
    "!pip3 install subword-nmt &> log\n",
    "!wget https://www.dropbox.com/s/yy2zqh34dyhv07i/data.txt?dl=1 -O data.txt\n",
    "!wget https://raw.githubusercontent.com/yandexdataschool/nlp_course/2020/week04_seq2seq/vocab.py -O vocab.py"
   ]
  },
  {
   "cell_type": "code",
   "execution_count": 1,
   "metadata": {
    "id": "844NTS2vG5X9"
   },
   "outputs": [],
   "source": [
    "from nltk.tokenize import WordPunctTokenizer\n",
    "from subword_nmt.learn_bpe import learn_bpe\n",
    "from subword_nmt.apply_bpe import BPE\n",
    "\n",
    "import numpy as np\n",
    "import matplotlib.pyplot as plt\n",
    "from copy import deepcopy\n",
    "%matplotlib inline\n",
    "\n",
    "from sklearn.model_selection import train_test_split\n",
    "\n",
    "import torch\n",
    "import torch.nn as nn\n",
    "import torch.nn.functional as F\n",
    "\n",
    "from utils import compute_loss, compute_bleu"
   ]
  },
  {
   "cell_type": "markdown",
   "metadata": {
    "id": "2MFIWw3wG6ur"
   },
   "source": [
    "# Data"
   ]
  },
  {
   "cell_type": "code",
   "execution_count": null,
   "metadata": {},
   "outputs": [],
   "source": [
    "# Tokenizing & applying BPE rules (if you're on colab)\n",
    "\n",
    "tokenizer = WordPunctTokenizer()\n",
    "def tokenize(x):\n",
    "    return ' '.join(tokenizer.tokenize(x.lower()))\n",
    "\n",
    "# split and tokenize the data\n",
    "with open('train.en', 'w') as f_src,  open('train.ru', 'w') as f_dst:\n",
    "    for line in open('data.txt', encoding='utf-8'):\n",
    "        src_line, dst_line = line.strip().split('\\t')\n",
    "        f_src.write(tokenize(src_line) + '\\n')\n",
    "        f_dst.write(tokenize(dst_line) + '\\n')\n",
    "\n",
    "\n",
    "# build and apply bpe vocs\n",
    "bpe = {}\n",
    "for lang in ['en', 'ru']:\n",
    "    learn_bpe(open('./train.' + lang), open('bpe_rules.' + lang, 'w'), num_symbols=8000)  # 1. learn_bpe rules\n",
    "    bpe[lang] = BPE(open('./bpe_rules.' + lang))  # 2. create instance of BPE class\n",
    "    \n",
    "    with open('train.bpe.' + lang, 'w') as f_out:\n",
    "        for line in open('train.' + lang):\n",
    "            f_out.write(bpe[lang].process_line(line.strip()) + '\\n')  # 3. apply BPE tokenization to our data "
   ]
  },
  {
   "cell_type": "code",
   "execution_count": 2,
   "metadata": {
    "colab": {
     "base_uri": "https://localhost:8080/"
    },
    "id": "d3hyu3fnG3K4",
    "outputId": "52d7b096-c73d-49ba-acc3-882938203b56"
   },
   "outputs": [
    {
     "name": "stdout",
     "output_type": "stream",
     "text": [
      "inp: на территории обустроена бесплатная частная парковка .\n",
      "out: free private parking is available on site .\n",
      "\n",
      "inp: кроме того , в 5 минутах ходьбы работают многочисленные бары и рестораны .\n",
      "out: guests can find many bars and restaurants within a 5 - minute walk .\n",
      "\n",
      "inp: отель san mi@@ gu@@ el расположен в центре мор@@ ели@@ и , в 750 метрах от главной площади города и кафедрального собора .\n",
      "out: hotel san miguel is located in central more@@ lia , 750 metres from the city ’ s main square and cathedral .\n",
      "\n",
      "Length of input (Russian) BPE vocabulary = 8048\n",
      "Length of output (English) BPE vocabulary = 7801\n"
     ]
    }
   ],
   "source": [
    "# Building vocabularies\n",
    "\n",
    "data_inp = np.array(open('./train.bpe.ru', encoding='utf-8', mode='r').read().split('\\n'))\n",
    "data_out = np.array(open('./train.bpe.en', encoding='utf8').read().split('\\n'))\n",
    "\n",
    "train_inp, dev_inp, train_out, dev_out = train_test_split(data_inp, data_out, test_size=3000,\n",
    "                                                          random_state=42)\n",
    "for i in range(3):\n",
    "    print('inp:', train_inp[i])\n",
    "    print('out:', train_out[i], end='\\n\\n')            \n",
    "\n",
    "from vocab import Vocab\n",
    "\n",
    "inp_voc = Vocab.from_lines(train_inp) # creates an instance of Vocab class from input lines (ru (input) vocab here)\n",
    "out_voc = Vocab.from_lines(train_out) # en (output) vocab\n",
    "\n",
    "print(f'Length of input (Russian) BPE vocabulary = {len(inp_voc)}')\n",
    "print(f'Length of output (English) BPE vocabulary = {len(out_voc)}')"
   ]
  },
  {
   "cell_type": "markdown",
   "metadata": {
    "id": "AEHtQzclKfkx"
   },
   "source": [
    "# Encoder-decoder models"
   ]
  },
  {
   "cell_type": "markdown",
   "metadata": {
    "id": "zkNA_R_aH26v"
   },
   "source": [
    "## Basic model (Single GRU/GRU, no attention or anything)"
   ]
  },
  {
   "cell_type": "code",
   "execution_count": 5,
   "metadata": {
    "colab": {
     "base_uri": "https://localhost:8080/",
     "height": 36
    },
    "id": "ekr8wZLLHm2l",
    "outputId": "13f51d9e-2b5d-4fc1-dc1f-09c51f7b50d8"
   },
   "outputs": [
    {
     "data": {
      "text/plain": [
       "'cpu'"
      ]
     },
     "execution_count": 5,
     "metadata": {},
     "output_type": "execute_result"
    }
   ],
   "source": [
    "device = 'cuda' if torch.cuda.is_available() else 'cpu'\n",
    "device"
   ]
  },
  {
   "cell_type": "code",
   "execution_count": 6,
   "metadata": {
    "colab": {
     "base_uri": "https://localhost:8080/"
    },
    "id": "INRgo65TIHqj",
    "outputId": "8aec3b24-6b18-4649-e3f9-e2fb3b5ed324"
   },
   "outputs": [
    {
     "name": "stdout",
     "output_type": "stream",
     "text": [
      "Loss: tensor(8.5019, grad_fn=<NegBackward0>)\n",
      "BLEU of untarined model: 0.00307524805087033\n",
      "Wall time: 1min 27s\n"
     ]
    }
   ],
   "source": [
    "from models import BasicModel\n",
    "\n",
    "model = BasicModel(inp_voc, out_voc).to(device)\n",
    "\n",
    "# debugging area\n",
    "\n",
    "dummy_inp_tokens = inp_voc.to_matrix(train_inp[:5]).to(device)\n",
    "dummy_out_tokens = out_voc.to_matrix(train_out[:5]).to(device)\n",
    "\n",
    "h0 = model.encode(dummy_inp_tokens)\n",
    "h1, logits1 = model.decode_step(h0, torch.arange(len(dummy_inp_tokens), device=device))\n",
    "\n",
    "assert isinstance(h1, list) and len(h1) == len(h0)\n",
    "assert h1[0].shape == h0[0].shape and not torch.allclose(h1[0], h0[0])\n",
    "assert logits1.shape == (len(dummy_inp_tokens), len(out_voc))\n",
    "\n",
    "logits_seq = model.decode(h0, dummy_out_tokens)\n",
    "assert logits_seq.shape == (dummy_out_tokens.shape[0], dummy_out_tokens.shape[1], len(out_voc))\n",
    "\n",
    "# full forward\n",
    "logits_seq2 = model(dummy_inp_tokens, dummy_out_tokens)\n",
    "assert logits_seq2.shape == logits_seq.shape\n",
    "\n",
    "# Loss:\n",
    "\n",
    "from utils import compute_loss\n",
    "\n",
    "dummy_loss = compute_loss(model, dummy_inp_tokens, dummy_out_tokens)\n",
    "print(\"Loss:\", dummy_loss)\n",
    "assert np.allclose(dummy_loss.item(), 8.5, rtol=0.1, atol=0.1), \"We're sorry for your loss\"\n",
    "\n",
    "# test autograd\n",
    "dummy_loss.backward()\n",
    "for name, param in model.named_parameters():\n",
    "    assert param.grad is not None and abs(param.grad.max()) != 0, f\"Param {name} received no gradients\"\n",
    "\n",
    "# Evaluation: BLEU\n",
    "\n",
    "from utils import compute_bleu\n",
    "\n",
    "# BLEU of untrained model\n",
    "%time print(f\"BLEU of untarined model: {compute_bleu(model, dev_inp, dev_out, device=device)}\")"
   ]
  },
  {
   "cell_type": "code",
   "execution_count": 3,
   "metadata": {
    "id": "eQkCMNAShvRd"
   },
   "outputs": [],
   "source": [
    "from IPython.display import clear_output\n",
    "from tqdm import tqdm, trange\n",
    "from utils import save_checkpoint, load_checkpoint"
   ]
  },
  {
   "cell_type": "code",
   "execution_count": 5,
   "metadata": {
    "id": "o1l62UqNaAlQ"
   },
   "outputs": [],
   "source": [
    "from IPython.display import clear_output\n",
    "from tqdm import tqdm, trange\n",
    "from utils import save_checkpoint, load_checkpoint\n",
    "\n",
    "model = BasicModel(inp_voc, out_voc).to(device)\n",
    "optimizer = torch.optim.Adam(model.parameters(), lr=1e-3)\n",
    "batch_size = 32"
   ]
  },
  {
   "cell_type": "code",
   "execution_count": 6,
   "metadata": {
    "id": "nfByJ_COI4ZN"
   },
   "outputs": [],
   "source": [
    "# training\n",
    "\n",
    "def train_loop(model, optimizer, train_inp, num_epochs=25000, from_checkpoint=False):   \n",
    "\n",
    "    metrics = {'train_loss': [], 'dev_bleu': [] }\n",
    "\n",
    "    if from_checkpoint:\n",
    "        best_checkpoint = torch.load('/content/best_bleu_state.pth')\n",
    "        model.load_state_dict(best_checkpoint[\"state_dict\"])\n",
    "        best_bleu = best_checkpoint['bleu']\n",
    "    else:\n",
    "        best_bleu = 0\n",
    "\n",
    "    for epoch in trange(num_epochs):\n",
    "        batch_ix = np.random.randint(len(train_inp), size=batch_size)\n",
    "        batch_inp = inp_voc.to_matrix(train_inp[batch_ix]).to(device)\n",
    "        batch_out = out_voc.to_matrix(train_out[batch_ix]).to(device)\n",
    "        \n",
    "        optimizer.zero_grad() # set the gradients to zero before backpropagation\n",
    "        loss_t = compute_loss(model, batch_inp, batch_out)\n",
    "        loss_t.backward()\n",
    "        optimizer.step()\n",
    "\n",
    "        \n",
    "        metrics['train_loss'].append((epoch+1, loss_t.item()))\n",
    "        \n",
    "        if (epoch+1) % 100 == 0:\n",
    "            bleu = compute_bleu(model, dev_inp, dev_out, device=device)\n",
    "            metrics['dev_bleu'].append((epoch+1, bleu))\n",
    "            \n",
    "            if bleu > best_bleu:\n",
    "                best_bleu = bleu\n",
    "                checkpoint = {\n",
    "                    'state_dict' : deepcopy(model.state_dict()), \n",
    "                    'optimizer' : deepcopy(optimizer.state_dict()),\n",
    "                    'epoch' : epoch+1,\n",
    "                    'bleu' : bleu,\n",
    "                }\n",
    "                save_checkpoint(checkpoint, filename=\"best_bleu_state.pth\")\n",
    "\n",
    "            clear_output(True)\n",
    "            plt.figure(figsize=(12,4))\n",
    "            for i, (name, history) in enumerate(sorted(metrics.items())):\n",
    "                plt.subplot(1, len(metrics), i + 1)\n",
    "                plt.title(name)\n",
    "                plt.plot(*zip(*history))\n",
    "                plt.grid()\n",
    "            plt.show()\n",
    "            print(\"Mean loss=%.3f\" % np.mean(metrics['train_loss'][-10:], axis=0)[1], flush=True)\n",
    "    \n",
    "    return metrics"
   ]
  },
  {
   "cell_type": "code",
   "execution_count": 12,
   "metadata": {
    "colab": {
     "base_uri": "https://localhost:8080/",
     "height": 316
    },
    "id": "hjXSE0-MJEgn",
    "outputId": "ad1d0cb1-6a33-4230-f46d-17ede15e3a0d"
   },
   "outputs": [
    {
     "data": {
      "image/png": "[encoded data removed]",
      "text/plain": [
       "<Figure size 864x288 with 2 Axes>"
      ]
     },
     "metadata": {
      "needs_background": "light"
     },
     "output_type": "display_data"
    },
    {
     "name": "stdout",
     "output_type": "stream",
     "text": [
      "Mean loss=1.862\n"
     ]
    },
    {
     "name": "stderr",
     "output_type": "stream",
     "text": [
      "\r",
      "100%|██████████| 20000/20000 [28:45<00:00, 11.59it/s]\n"
     ]
    }
   ],
   "source": [
    "metrics = train_loop(\n",
    "    model,\n",
    "    optimizer, \n",
    "    train_inp, \n",
    "    num_epochs=20000,\n",
    "    from_checkpoint=False\n",
    ")"
   ]
  },
  {
   "cell_type": "code",
   "execution_count": 13,
   "metadata": {
    "colab": {
     "base_uri": "https://localhost:8080/"
    },
    "id": "mhhcLkyoJFlz",
    "outputId": "60f63583-c6e6-4206-f26b-bcd611534e6d"
   },
   "outputs": [
    {
     "name": "stdout",
     "output_type": "stream",
     "text": [
      "best BLEU =  18.440207574411225\n",
      "best epoch =  19800\n",
      "Mean BLEU on last 10 epoches =  17.808018819260816\n"
     ]
    }
   ],
   "source": [
    "best_checkpoint = torch.load('/content/best_bleu_state.pth')\n",
    "print('best BLEU = ', best_checkpoint['bleu'])\n",
    "print('best epoch = ', best_checkpoint['epoch'])\n",
    "\n",
    "print('Mean BLEU on last 10 epoches = ', np.mean(metrics['dev_bleu'][-10:], axis=0)[1]) # Simple GRU/GRU model without attention"
   ]
  },
  {
   "cell_type": "markdown",
   "metadata": {
    "id": "IJFVpgO9JWXO"
   },
   "source": [
    "### Beam research"
   ]
  },
  {
   "cell_type": "code",
   "execution_count": 14,
   "metadata": {
    "colab": {
     "base_uri": "https://localhost:8080/"
    },
    "id": "kosw13hoJUdT",
    "outputId": "f7b64261-75b2-4ea3-8de7-ca587d9f2fac"
   },
   "outputs": [
    {
     "name": "stdout",
     "output_type": "stream",
     "text": [
      "=> Loading checkpoint\n"
     ]
    }
   ],
   "source": [
    "# Return to best checkpoint\n",
    "\n",
    "print(\"=> Loading checkpoint\")\n",
    "model.load_state_dict(best_checkpoint[\"state_dict\"])\n",
    "optimizer.load_state_dict(best_checkpoint[\"optimizer\"])"
   ]
  },
  {
   "cell_type": "code",
   "execution_count": 4,
   "metadata": {
    "id": "Z3ZftNhjJdBe"
   },
   "outputs": [],
   "source": [
    "def beam_research(model, inp, out, model_name, beam_min=1, beam_max=10):\n",
    "    \"\"\"BLEU scores of a model with different beam_size\"\"\"\n",
    "    \n",
    "    beam_range = range(beam_min, beam_max + 1)\n",
    "    blue_scores = []\n",
    "\n",
    "    for beam_size in beam_range:\n",
    "        blue = compute_bleu(model, inp, out, beam_size=beam_size, device=device)\n",
    "        blue_scores.append(blue)\n",
    "\n",
    "    plt.figure(figsize=(12, 5))\n",
    "    plt.plot(beam_range, blue_scores)\n",
    "    plt.title('Beam search results for %s' % model_name)\n",
    "    plt.xticks(beam_range)\n",
    "    plt.xlabel('beam size')\n",
    "    plt.ylabel('BLEU score')\n",
    "    plt.show()"
   ]
  },
  {
   "cell_type": "code",
   "execution_count": 9,
   "metadata": {
    "colab": {
     "base_uri": "https://localhost:8080/",
     "height": 415
    },
    "id": "dPK_fDT1jpUd",
    "outputId": "adbccfb8-0fd2-47e9-f6ec-6152929022a9"
   },
   "outputs": [
    {
     "ename": "KeyboardInterrupt",
     "evalue": "ignored",
     "output_type": "error",
     "traceback": [
      "\u001b[0;31m---------------------------------------------------------------------------\u001b[0m",
      "\u001b[0;31mKeyboardInterrupt\u001b[0m                         Traceback (most recent call last)",
      "\u001b[0;32m<timed eval>\u001b[0m in \u001b[0;36m<module>\u001b[0;34m\u001b[0m\n",
      "\u001b[0;32m<ipython-input-7-be5d539fd044>\u001b[0m in \u001b[0;36mbeam_research\u001b[0;34m(model, inp, out, model_name, beam_min, beam_max)\u001b[0m\n\u001b[1;32m      6\u001b[0m \u001b[0;34m\u001b[0m\u001b[0m\n\u001b[1;32m      7\u001b[0m     \u001b[0;32mfor\u001b[0m \u001b[0mbeam_size\u001b[0m \u001b[0;32min\u001b[0m \u001b[0mbeam_range\u001b[0m\u001b[0;34m:\u001b[0m\u001b[0;34m\u001b[0m\u001b[0;34m\u001b[0m\u001b[0m\n\u001b[0;32m----> 8\u001b[0;31m         \u001b[0mblue\u001b[0m \u001b[0;34m=\u001b[0m \u001b[0mcompute_bleu\u001b[0m\u001b[0;34m(\u001b[0m\u001b[0mmodel\u001b[0m\u001b[0;34m,\u001b[0m \u001b[0minp\u001b[0m\u001b[0;34m,\u001b[0m \u001b[0mout\u001b[0m\u001b[0;34m,\u001b[0m \u001b[0mbeam_size\u001b[0m\u001b[0;34m=\u001b[0m\u001b[0mbeam_size\u001b[0m\u001b[0;34m,\u001b[0m \u001b[0mdevice\u001b[0m\u001b[0;34m=\u001b[0m\u001b[0mdevice\u001b[0m\u001b[0;34m)\u001b[0m\u001b[0;34m\u001b[0m\u001b[0;34m\u001b[0m\u001b[0m\n\u001b[0m\u001b[1;32m      9\u001b[0m         \u001b[0mblue_scores\u001b[0m\u001b[0;34m.\u001b[0m\u001b[0mappend\u001b[0m\u001b[0;34m(\u001b[0m\u001b[0mblue\u001b[0m\u001b[0;34m)\u001b[0m\u001b[0;34m\u001b[0m\u001b[0;34m\u001b[0m\u001b[0m\n\u001b[1;32m     10\u001b[0m \u001b[0;34m\u001b[0m\u001b[0m\n",
      "\u001b[0;32m/content/utils.py\u001b[0m in \u001b[0;36mcompute_bleu\u001b[0;34m(model, inp_lines, out_lines, device, bpe_sep, batch_size, beam_size, **flags)\u001b[0m\n\u001b[1;32m     54\u001b[0m         \u001b[0mtranslations\u001b[0m \u001b[0;34m=\u001b[0m \u001b[0;34m[\u001b[0m\u001b[0;34m]\u001b[0m\u001b[0;34m\u001b[0m\u001b[0;34m\u001b[0m\u001b[0m\n\u001b[1;32m     55\u001b[0m         \u001b[0;32mfor\u001b[0m \u001b[0mi\u001b[0m \u001b[0;32min\u001b[0m \u001b[0mrange\u001b[0m\u001b[0;34m(\u001b[0m\u001b[0;36m0\u001b[0m\u001b[0;34m,\u001b[0m \u001b[0mlen\u001b[0m\u001b[0;34m(\u001b[0m\u001b[0minp_lines\u001b[0m\u001b[0;34m)\u001b[0m\u001b[0;34m,\u001b[0m \u001b[0mbatch_size\u001b[0m\u001b[0;34m)\u001b[0m\u001b[0;34m:\u001b[0m\u001b[0;34m\u001b[0m\u001b[0;34m\u001b[0m\u001b[0m\n\u001b[0;32m---> 56\u001b[0;31m             \u001b[0mtranslations\u001b[0m\u001b[0;34m.\u001b[0m\u001b[0mextend\u001b[0m\u001b[0;34m(\u001b[0m\u001b[0mmodel\u001b[0m\u001b[0;34m.\u001b[0m\u001b[0mtranslate_lines\u001b[0m\u001b[0;34m(\u001b[0m\u001b[0minp_lines\u001b[0m\u001b[0;34m[\u001b[0m\u001b[0mi\u001b[0m\u001b[0;34m:\u001b[0m\u001b[0mi\u001b[0m\u001b[0;34m+\u001b[0m\u001b[0mbatch_size\u001b[0m\u001b[0;34m]\u001b[0m\u001b[0;34m,\u001b[0m \u001b[0mdevice\u001b[0m\u001b[0;34m,\u001b[0m \u001b[0mbeam_size\u001b[0m\u001b[0;34m=\u001b[0m\u001b[0mbeam_size\u001b[0m\u001b[0;34m,\u001b[0m \u001b[0;34m**\u001b[0m\u001b[0mflags\u001b[0m\u001b[0;34m)\u001b[0m\u001b[0;34m[\u001b[0m\u001b[0;36m0\u001b[0m\u001b[0;34m]\u001b[0m\u001b[0;34m)\u001b[0m\u001b[0;34m\u001b[0m\u001b[0;34m\u001b[0m\u001b[0m\n\u001b[0m\u001b[1;32m     57\u001b[0m \u001b[0;34m\u001b[0m\u001b[0m\n\u001b[1;32m     58\u001b[0m         \u001b[0mtranslations\u001b[0m \u001b[0;34m=\u001b[0m \u001b[0;34m[\u001b[0m\u001b[0mline\u001b[0m\u001b[0;34m.\u001b[0m\u001b[0mreplace\u001b[0m\u001b[0;34m(\u001b[0m\u001b[0mbpe_sep\u001b[0m\u001b[0;34m,\u001b[0m \u001b[0;34m''\u001b[0m\u001b[0;34m)\u001b[0m \u001b[0;32mfor\u001b[0m \u001b[0mline\u001b[0m \u001b[0;32min\u001b[0m \u001b[0mtranslations\u001b[0m\u001b[0;34m]\u001b[0m\u001b[0;34m\u001b[0m\u001b[0;34m\u001b[0m\u001b[0m\n",
      "\u001b[0;32m/content/models.py\u001b[0m in \u001b[0;36mtranslate_lines\u001b[0;34m(self, inp_lines, device, beam_size, **kwargs)\u001b[0m\n\u001b[1;32m    148\u001b[0m             \u001b[0mout_ids\u001b[0m\u001b[0;34m,\u001b[0m \u001b[0mstates\u001b[0m \u001b[0;34m=\u001b[0m \u001b[0mself\u001b[0m\u001b[0;34m.\u001b[0m\u001b[0mdecode_inference\u001b[0m\u001b[0;34m(\u001b[0m\u001b[0minitial_state\u001b[0m\u001b[0;34m,\u001b[0m \u001b[0;34m**\u001b[0m\u001b[0mkwargs\u001b[0m\u001b[0;34m)\u001b[0m\u001b[0;34m\u001b[0m\u001b[0;34m\u001b[0m\u001b[0m\n\u001b[1;32m    149\u001b[0m         \u001b[0;32melse\u001b[0m\u001b[0;34m:\u001b[0m\u001b[0;34m\u001b[0m\u001b[0;34m\u001b[0m\u001b[0m\n\u001b[0;32m--> 150\u001b[0;31m             \u001b[0mout_ids\u001b[0m\u001b[0;34m,\u001b[0m \u001b[0mstates\u001b[0m \u001b[0;34m=\u001b[0m \u001b[0mself\u001b[0m\u001b[0;34m.\u001b[0m\u001b[0mdecode_inference_beam_search\u001b[0m\u001b[0;34m(\u001b[0m\u001b[0minitial_state\u001b[0m\u001b[0;34m,\u001b[0m \u001b[0mbeam_size\u001b[0m\u001b[0;34m,\u001b[0m \u001b[0;34m**\u001b[0m\u001b[0mkwargs\u001b[0m\u001b[0;34m)\u001b[0m\u001b[0;34m\u001b[0m\u001b[0;34m\u001b[0m\u001b[0m\n\u001b[0m\u001b[1;32m    151\u001b[0m         \u001b[0;32mreturn\u001b[0m \u001b[0mself\u001b[0m\u001b[0;34m.\u001b[0m\u001b[0mout_voc\u001b[0m\u001b[0;34m.\u001b[0m\u001b[0mto_lines\u001b[0m\u001b[0;34m(\u001b[0m\u001b[0mout_ids\u001b[0m\u001b[0;34m)\u001b[0m\u001b[0;34m,\u001b[0m \u001b[0mstates\u001b[0m\u001b[0;34m\u001b[0m\u001b[0;34m\u001b[0m\u001b[0m\n\u001b[1;32m    152\u001b[0m \u001b[0;34m\u001b[0m\u001b[0m\n",
      "\u001b[0;32m/content/models.py\u001b[0m in \u001b[0;36mdecode_inference_beam_search\u001b[0;34m(self, initial_state, beam_size, max_len, **flags)\u001b[0m\n\u001b[1;32m    115\u001b[0m             \u001b[0mstates_history\u001b[0m \u001b[0;34m=\u001b[0m \u001b[0;34m[\u001b[0m\u001b[0;34m]\u001b[0m\u001b[0;34m\u001b[0m\u001b[0;34m\u001b[0m\u001b[0m\n\u001b[1;32m    116\u001b[0m             \u001b[0;32mfor\u001b[0m \u001b[0mi\u001b[0m \u001b[0;32min\u001b[0m \u001b[0mrange\u001b[0m\u001b[0;34m(\u001b[0m\u001b[0mlen\u001b[0m\u001b[0;34m(\u001b[0m\u001b[0moutputs\u001b[0m\u001b[0;34m)\u001b[0m\u001b[0;34m)\u001b[0m\u001b[0;34m:\u001b[0m\u001b[0;34m\u001b[0m\u001b[0;34m\u001b[0m\u001b[0m\n\u001b[0;32m--> 117\u001b[0;31m                 \u001b[0mprev_tokens\u001b[0m \u001b[0;34m=\u001b[0m \u001b[0mtorch\u001b[0m\u001b[0;34m.\u001b[0m\u001b[0mtensor\u001b[0m\u001b[0;34m(\u001b[0m\u001b[0;34m[\u001b[0m\u001b[0mtokens\u001b[0m\u001b[0;34m[\u001b[0m\u001b[0;34m-\u001b[0m\u001b[0;36m1\u001b[0m\u001b[0;34m]\u001b[0m \u001b[0;32mfor\u001b[0m \u001b[0mtokens\u001b[0m \u001b[0;32min\u001b[0m \u001b[0moutputs\u001b[0m\u001b[0;34m[\u001b[0m\u001b[0mi\u001b[0m\u001b[0;34m]\u001b[0m\u001b[0;34m]\u001b[0m\u001b[0;34m,\u001b[0m \u001b[0mdevice\u001b[0m\u001b[0;34m=\u001b[0m\u001b[0mdevice\u001b[0m\u001b[0;34m)\u001b[0m\u001b[0;34m\u001b[0m\u001b[0;34m\u001b[0m\u001b[0m\n\u001b[0m\u001b[1;32m    118\u001b[0m \u001b[0;34m\u001b[0m\u001b[0m\n\u001b[1;32m    119\u001b[0m                 \u001b[0mcur_states\u001b[0m\u001b[0;34m,\u001b[0m \u001b[0mlogits\u001b[0m \u001b[0;34m=\u001b[0m \u001b[0mself\u001b[0m\u001b[0;34m.\u001b[0m\u001b[0mdecode_step\u001b[0m\u001b[0;34m(\u001b[0m\u001b[0mstates\u001b[0m\u001b[0;34m[\u001b[0m\u001b[0mi\u001b[0m\u001b[0;34m]\u001b[0m\u001b[0;34m,\u001b[0m \u001b[0mprev_tokens\u001b[0m\u001b[0;34m)\u001b[0m\u001b[0;34m\u001b[0m\u001b[0;34m\u001b[0m\u001b[0m\n",
      "\u001b[0;31mKeyboardInterrupt\u001b[0m: "
     ]
    }
   ],
   "source": [
    "%time beam_research(model, dev_inp, dev_out, 'basic model')"
   ]
  },
  {
   "cell_type": "code",
   "execution_count": 16,
   "metadata": {
    "colab": {
     "base_uri": "https://localhost:8080/",
     "height": 385
    },
    "id": "3Gzth1CvJfIy",
    "outputId": "3bfcc613-498c-44fd-a24a-6ed5113a7435"
   },
   "outputs": [
    {
     "data": {
      "image/png": "[encoded data removed]",
      "text/plain": [
       "<Figure size 864x360 with 1 Axes>"
      ]
     },
     "metadata": {
      "needs_background": "light"
     },
     "output_type": "display_data"
    },
    {
     "name": "stdout",
     "output_type": "stream",
     "text": [
      "CPU times: user 15min 38s, sys: 9.42 s, total: 15min 48s\n",
      "Wall time: 15min 49s\n"
     ]
    }
   ],
   "source": [
    "%time beam_research(model, dev_inp, dev_out, 'basic model')"
   ]
  },
  {
   "cell_type": "markdown",
   "metadata": {
    "id": "wmKJzxY4Jr10"
   },
   "source": [
    "### BasicModel translations"
   ]
  },
  {
   "cell_type": "code",
   "execution_count": 6,
   "metadata": {
    "colab": {
     "base_uri": "https://localhost:8080/"
    },
    "id": "KFVQoWOFJt2r",
    "outputId": "801f744a-caa9-4eaf-dd3b-cbe3c7437398"
   },
   "outputs": [
    {
     "name": "stdout",
     "output_type": "stream",
     "text": [
      "input line: в распоряжении гостей общая кухня и общая гостиная .\n",
      "translated line: ĭ@@ individually belorus@@ bicycle kath@@ kir@@ kir@@ light closed programme prat@@ adults für@@ toast gage toast è@@ ries ries prat hol@@ naz@@ strasse covered bolzano hl@@ polit@@ extras ș@@ british british s uti@@ uti@@ uti@@ uti@@ ching uti@@ uti@@ ching uti@@ uti@@ ching uti@@ uti@@ ching uti@@ uti@@ ching uti@@ uti@@ ching uti@@ uti@@ ching uti@@ uti@@ ching uti@@ uti@@ ching uti@@ uti@@ ching uti@@ uti@@ ching uti@@ uti@@ ching uti@@ uti@@ ching uti@@ uti@@ ching uti@@ uti@@ ching uti@@ uti@@ ching uti@@ uti@@ ching uti@@ uti@@ ching uti@@ uti@@ ching uti@@ uti@@ ching uti@@ uti@@ ching uti@@ uti@@ nas@@\n",
      "target line: a shared equipped kitchen and a common living room are provided to guests .\n",
      "\n",
      "input line: кроме того , предоставляется прокат велосипедов , услуги трансфера и бесплатная парковка .\n",
      "translated line: ĭ@@ individually belorus@@ bicycle kath@@ kir@@ kir@@ light closed programme prat@@ adults für@@ toast gage toast è@@ ries ries prat hol@@ naz@@ strasse covered bolzano hl@@ polit@@ extras ș@@ british british s uti@@ uti@@ uti@@ uti@@ ching uti@@ uti@@ ching uti@@ uti@@ ching uti@@ uti@@ ching uti@@ uti@@ ching uti@@ uti@@ ching uti@@ uti@@ ching uti@@ uti@@ ching uti@@ uti@@ ching uti@@ uti@@ ching uti@@ uti@@ ching uti@@ uti@@ ching uti@@ uti@@ ching uti@@ uti@@ ching uti@@ uti@@ ching uti@@ uti@@ ching uti@@ uti@@ ching uti@@ uti@@ ching uti@@ uti@@ ching uti@@ uti@@ ching uti@@ uti@@ ching uti@@ uti@@ nas@@\n",
      "target line: bicycle rental and shuttle services are also available . the property offers free parking .\n",
      "\n",
      "input line: расстояние до города ки@@ сси@@ м@@ ми составляет 26 км .\n",
      "translated line: ĭ@@ individually belorus@@ bicycle kath@@ kir@@ kir@@ light closed programme prat@@ adults für@@ toast gage toast è@@ ries ries prat hol@@ naz@@ strasse covered bolzano hl@@ polit@@ extras ș@@ british british s uti@@ uti@@ uti@@ uti@@ ching uti@@ uti@@ ching uti@@ uti@@ ching uti@@ uti@@ ching uti@@ uti@@ ching uti@@ uti@@ ching uti@@ uti@@ ching uti@@ uti@@ ching uti@@ uti@@ ching uti@@ uti@@ ching uti@@ uti@@ ching uti@@ uti@@ ching uti@@ uti@@ ching uti@@ uti@@ ching uti@@ uti@@ ching uti@@ uti@@ ching uti@@ uti@@ ching uti@@ uti@@ ching uti@@ uti@@ ching uti@@ uti@@ ching uti@@ uti@@ ching uti@@ uti@@ nas@@\n",
      "target line: the unit is 26 km from kissimmee .\n",
      "\n",
      "input line: апартаменты в пент@@ хаусе с общим открытым бассейном , садом , кондиционером и террасой для загара расположены в 5 минутах ходьбы от пляжа на курорте ка@@ бо - рой .\n",
      "translated line: ĭ@@ individually belorus@@ bicycle kath@@ kir@@ kir@@ light closed programme prat@@ adults für@@ toast gage toast è@@ ries ries prat hol@@ naz@@ strasse covered bolzano hl@@ polit@@ extras ș@@ british british s uti@@ uti@@ uti@@ uti@@ ching uti@@ uti@@ ching uti@@ uti@@ ching uti@@ uti@@ ching uti@@ uti@@ ching uti@@ uti@@ ching uti@@ uti@@ ching uti@@ uti@@ ching uti@@ uti@@ ching uti@@ uti@@ ching uti@@ uti@@ ching uti@@ uti@@ ching uti@@ uti@@ ching uti@@ uti@@ ching uti@@ uti@@ ching uti@@ uti@@ ching uti@@ uti@@ ching uti@@ uti@@ ching uti@@ uti@@ ching uti@@ uti@@ ching uti@@ uti@@ ching uti@@ uti@@ nas@@\n",
      "target line: situated 5 minutes ' walk from the beach in cabo ro@@ ig , this air - conditioned penthouse apartment features a communal outdoor pool , garden and sun terrace .\n",
      "\n",
      "input line: апартаменты mo@@ s@@ co@@ w point - loft red square находятся в москве , в 200 метрах от большого театра .\n",
      "translated line: ĭ@@ individually belorus@@ bicycle kath@@ kir@@ kir@@ light closed programme prat@@ adults für@@ toast gage toast è@@ ries ries prat hol@@ naz@@ strasse covered bolzano hl@@ polit@@ extras ș@@ british british s uti@@ uti@@ uti@@ uti@@ ching uti@@ uti@@ ching uti@@ uti@@ ching uti@@ uti@@ ching uti@@ uti@@ ching uti@@ uti@@ ching uti@@ uti@@ ching uti@@ uti@@ ching uti@@ uti@@ ching uti@@ uti@@ ching uti@@ uti@@ ching uti@@ uti@@ ching uti@@ uti@@ ching uti@@ uti@@ ching uti@@ uti@@ ching uti@@ uti@@ ching uti@@ uti@@ ching uti@@ uti@@ ching uti@@ uti@@ ching uti@@ uti@@ ching uti@@ uti@@ ching uti@@ uti@@ nas@@\n",
      "target line: moscow point - loft red square offers accommodation in moscow . the apartment is 200 metres from bolshoi theatre .\n",
      "\n",
      "input line: в вашем распоряжении собственная ванная комната с душем и полотенцами .\n",
      "translated line: marin@@ kitchenettes galil@@ br@@ br@@ belorus@@ tec@@ tec@@ tec@@ domaine tec@@ domaine classical anto br@@ safe yet printer sor xiang gor@@ ic@@ ums ums ide@@ dered est@@ ards too uti@@ uti@@ uti@@ ching uti@@ uti@@ ching uti@@ uti@@ ching uti@@ uti@@ ching uti@@ uti@@ ching uti@@ uti@@ ching uti@@ uti@@ ching uti@@ uti@@ ching uti@@ uti@@ ching uti@@ uti@@ ching uti@@ uti@@ ching uti@@ uti@@ ching uti@@ uti@@ ching uti@@ uti@@ ching uti@@ uti@@ ching uti@@ uti@@ ching uti@@ uti@@ ching uti@@ uti@@ ching uti@@ uti@@ ching uti@@ uti@@ ching uti@@ uti@@ ching uti@@ uti@@ ching uti@@ uti@@ ching uti@@\n",
      "target line: featuring a shower , private bathrooms also come with towels .\n",
      "\n"
     ]
    }
   ],
   "source": [
    "for inp_line, trans_line, out_line in zip(dev_inp[::500], model.translate_lines(dev_inp[::500], device=device, beam_size=2)[0], dev_out[::500]):\n",
    "    print(f'input line: {inp_line}')\n",
    "    print(f'translated line: {trans_line}')\n",
    "    print(f'target line: {out_line}')\n",
    "    print()"
   ]
  },
  {
   "cell_type": "markdown",
   "metadata": {
    "id": "vtSGnxIAKMHR"
   },
   "source": [
    "## Attentive model (Single GRU/GRU + attention mechanism)"
   ]
  },
  {
   "cell_type": "code",
   "execution_count": 8,
   "metadata": {
    "id": "Iy5R4iNaKObw"
   },
   "outputs": [
    {
     "ename": "NameError",
     "evalue": "name 'device' is not defined",
     "output_type": "error",
     "traceback": [
      "\u001b[1;31m---------------------------------------------------------------------------\u001b[0m",
      "\u001b[1;31mNameError\u001b[0m                                 Traceback (most recent call last)",
      "\u001b[1;32m<ipython-input-8-80bfe26a4b72>\u001b[0m in \u001b[0;36m<module>\u001b[1;34m\u001b[0m\n\u001b[0;32m      1\u001b[0m \u001b[1;32mfrom\u001b[0m \u001b[0mmodels\u001b[0m \u001b[1;32mimport\u001b[0m \u001b[0mAttentiveModel\u001b[0m\u001b[1;33m\u001b[0m\u001b[1;33m\u001b[0m\u001b[0m\n\u001b[0;32m      2\u001b[0m \u001b[1;33m\u001b[0m\u001b[0m\n\u001b[1;32m----> 3\u001b[1;33m \u001b[0mmodel\u001b[0m \u001b[1;33m=\u001b[0m \u001b[0mAttentiveModel\u001b[0m\u001b[1;33m(\u001b[0m\u001b[0minp_voc\u001b[0m\u001b[1;33m,\u001b[0m \u001b[0mout_voc\u001b[0m\u001b[1;33m)\u001b[0m\u001b[1;33m.\u001b[0m\u001b[0mto\u001b[0m\u001b[1;33m(\u001b[0m\u001b[0mdevice\u001b[0m\u001b[1;33m)\u001b[0m\u001b[1;33m\u001b[0m\u001b[1;33m\u001b[0m\u001b[0m\n\u001b[0m\u001b[0;32m      4\u001b[0m \u001b[0moptimizer\u001b[0m \u001b[1;33m=\u001b[0m \u001b[0mtorch\u001b[0m\u001b[1;33m.\u001b[0m\u001b[0moptim\u001b[0m\u001b[1;33m.\u001b[0m\u001b[0mAdam\u001b[0m\u001b[1;33m(\u001b[0m\u001b[0mmodel\u001b[0m\u001b[1;33m.\u001b[0m\u001b[0mparameters\u001b[0m\u001b[1;33m(\u001b[0m\u001b[1;33m)\u001b[0m\u001b[1;33m,\u001b[0m \u001b[0mlr\u001b[0m\u001b[1;33m=\u001b[0m\u001b[1;36m1e-3\u001b[0m\u001b[1;33m)\u001b[0m\u001b[1;33m\u001b[0m\u001b[1;33m\u001b[0m\u001b[0m\n\u001b[0;32m      5\u001b[0m \u001b[0mbatch_size\u001b[0m \u001b[1;33m=\u001b[0m \u001b[1;36m32\u001b[0m\u001b[1;33m\u001b[0m\u001b[1;33m\u001b[0m\u001b[0m\n",
      "\u001b[1;31mNameError\u001b[0m: name 'device' is not defined"
     ]
    }
   ],
   "source": [
    "from models import AttentiveModel\n",
    "\n",
    "model = AttentiveModel(inp_voc, out_voc).to(device)\n",
    "optimizer = torch.optim.Adam(model.parameters(), lr=1e-3)\n",
    "batch_size = 32"
   ]
  },
  {
   "cell_type": "code",
   "execution_count": 20,
   "metadata": {
    "colab": {
     "base_uri": "https://localhost:8080/",
     "height": 662
    },
    "id": "4cvdRTT6MO3N",
    "outputId": "4c305c72-a69f-4f8a-d401-dd8668a31fad"
   },
   "outputs": [
    {
     "data": {
      "image/png": "[encoded data removed]",
      "text/plain": [
       "<Figure size 864x288 with 2 Axes>"
      ]
     },
     "metadata": {
      "needs_background": "light"
     },
     "output_type": "display_data"
    },
    {
     "name": "stdout",
     "output_type": "stream",
     "text": [
      "Mean loss=4.503\n"
     ]
    },
    {
     "name": "stderr",
     "output_type": "stream",
     "text": [
      "  2%|▏         | 399/20000 [01:06<54:14,  6.02it/s]\n"
     ]
    },
    {
     "ename": "KeyboardInterrupt",
     "evalue": "ignored",
     "output_type": "error",
     "traceback": [
      "\u001b[0;31m---------------------------------------------------------------------------\u001b[0m",
      "\u001b[0;31mKeyboardInterrupt\u001b[0m                         Traceback (most recent call last)",
      "\u001b[0;32m<ipython-input-20-7f4b46e9c819>\u001b[0m in \u001b[0;36m<module>\u001b[0;34m\u001b[0m\n\u001b[1;32m      4\u001b[0m     \u001b[0mtrain_inp\u001b[0m\u001b[0;34m,\u001b[0m\u001b[0;34m\u001b[0m\u001b[0;34m\u001b[0m\u001b[0m\n\u001b[1;32m      5\u001b[0m     \u001b[0mnum_epochs\u001b[0m\u001b[0;34m=\u001b[0m\u001b[0;36m20000\u001b[0m\u001b[0;34m,\u001b[0m\u001b[0;34m\u001b[0m\u001b[0;34m\u001b[0m\u001b[0m\n\u001b[0;32m----> 6\u001b[0;31m     \u001b[0mfrom_checkpoint\u001b[0m\u001b[0;34m=\u001b[0m\u001b[0;32mFalse\u001b[0m\u001b[0;34m\u001b[0m\u001b[0;34m\u001b[0m\u001b[0m\n\u001b[0m\u001b[1;32m      7\u001b[0m )\n",
      "\u001b[0;32m<ipython-input-15-a528a746ab3a>\u001b[0m in \u001b[0;36mtrain_loop\u001b[0;34m(model, optimizer, train_inp, num_epochs, from_checkpoint)\u001b[0m\n\u001b[1;32m     26\u001b[0m \u001b[0;34m\u001b[0m\u001b[0m\n\u001b[1;32m     27\u001b[0m         \u001b[0;32mif\u001b[0m \u001b[0;34m(\u001b[0m\u001b[0mepoch\u001b[0m\u001b[0;34m+\u001b[0m\u001b[0;36m1\u001b[0m\u001b[0;34m)\u001b[0m \u001b[0;34m%\u001b[0m \u001b[0;36m100\u001b[0m \u001b[0;34m==\u001b[0m \u001b[0;36m0\u001b[0m\u001b[0;34m:\u001b[0m\u001b[0;34m\u001b[0m\u001b[0;34m\u001b[0m\u001b[0m\n\u001b[0;32m---> 28\u001b[0;31m             \u001b[0mbleu\u001b[0m \u001b[0;34m=\u001b[0m \u001b[0mcompute_bleu\u001b[0m\u001b[0;34m(\u001b[0m\u001b[0mmodel\u001b[0m\u001b[0;34m,\u001b[0m \u001b[0mdev_inp\u001b[0m\u001b[0;34m,\u001b[0m \u001b[0mdev_out\u001b[0m\u001b[0;34m,\u001b[0m \u001b[0mdevice\u001b[0m\u001b[0;34m=\u001b[0m\u001b[0mdevice\u001b[0m\u001b[0;34m)\u001b[0m\u001b[0;34m\u001b[0m\u001b[0;34m\u001b[0m\u001b[0m\n\u001b[0m\u001b[1;32m     29\u001b[0m             \u001b[0mmetrics\u001b[0m\u001b[0;34m[\u001b[0m\u001b[0;34m'dev_bleu'\u001b[0m\u001b[0;34m]\u001b[0m\u001b[0;34m.\u001b[0m\u001b[0mappend\u001b[0m\u001b[0;34m(\u001b[0m\u001b[0;34m(\u001b[0m\u001b[0mepoch\u001b[0m\u001b[0;34m+\u001b[0m\u001b[0;36m1\u001b[0m\u001b[0;34m,\u001b[0m \u001b[0mbleu\u001b[0m\u001b[0;34m)\u001b[0m\u001b[0;34m)\u001b[0m\u001b[0;34m\u001b[0m\u001b[0;34m\u001b[0m\u001b[0m\n\u001b[1;32m     30\u001b[0m \u001b[0;34m\u001b[0m\u001b[0m\n",
      "\u001b[0;32m/content/utils.py\u001b[0m in \u001b[0;36mcompute_bleu\u001b[0;34m(model, inp_lines, out_lines, device, bpe_sep, batch_size, beam_size, **flags)\u001b[0m\n\u001b[1;32m     54\u001b[0m         \u001b[0mtranslations\u001b[0m \u001b[0;34m=\u001b[0m \u001b[0;34m[\u001b[0m\u001b[0;34m]\u001b[0m\u001b[0;34m\u001b[0m\u001b[0;34m\u001b[0m\u001b[0m\n\u001b[1;32m     55\u001b[0m         \u001b[0;32mfor\u001b[0m \u001b[0mi\u001b[0m \u001b[0;32min\u001b[0m \u001b[0mrange\u001b[0m\u001b[0;34m(\u001b[0m\u001b[0;36m0\u001b[0m\u001b[0;34m,\u001b[0m \u001b[0mlen\u001b[0m\u001b[0;34m(\u001b[0m\u001b[0minp_lines\u001b[0m\u001b[0;34m)\u001b[0m\u001b[0;34m,\u001b[0m \u001b[0mbatch_size\u001b[0m\u001b[0;34m)\u001b[0m\u001b[0;34m:\u001b[0m\u001b[0;34m\u001b[0m\u001b[0;34m\u001b[0m\u001b[0m\n\u001b[0;32m---> 56\u001b[0;31m             \u001b[0mtranslations\u001b[0m\u001b[0;34m.\u001b[0m\u001b[0mextend\u001b[0m\u001b[0;34m(\u001b[0m\u001b[0mmodel\u001b[0m\u001b[0;34m.\u001b[0m\u001b[0mtranslate_lines\u001b[0m\u001b[0;34m(\u001b[0m\u001b[0minp_lines\u001b[0m\u001b[0;34m[\u001b[0m\u001b[0mi\u001b[0m\u001b[0;34m:\u001b[0m\u001b[0mi\u001b[0m\u001b[0;34m+\u001b[0m\u001b[0mbatch_size\u001b[0m\u001b[0;34m]\u001b[0m\u001b[0;34m,\u001b[0m \u001b[0mdevice\u001b[0m\u001b[0;34m,\u001b[0m \u001b[0mbeam_size\u001b[0m\u001b[0;34m=\u001b[0m\u001b[0mbeam_size\u001b[0m\u001b[0;34m,\u001b[0m \u001b[0;34m**\u001b[0m\u001b[0mflags\u001b[0m\u001b[0;34m)\u001b[0m\u001b[0;34m[\u001b[0m\u001b[0;36m0\u001b[0m\u001b[0;34m]\u001b[0m\u001b[0;34m)\u001b[0m\u001b[0;34m\u001b[0m\u001b[0;34m\u001b[0m\u001b[0m\n\u001b[0m\u001b[1;32m     57\u001b[0m \u001b[0;34m\u001b[0m\u001b[0m\n\u001b[1;32m     58\u001b[0m         \u001b[0mtranslations\u001b[0m \u001b[0;34m=\u001b[0m \u001b[0;34m[\u001b[0m\u001b[0mline\u001b[0m\u001b[0;34m.\u001b[0m\u001b[0mreplace\u001b[0m\u001b[0;34m(\u001b[0m\u001b[0mbpe_sep\u001b[0m\u001b[0;34m,\u001b[0m \u001b[0;34m''\u001b[0m\u001b[0;34m)\u001b[0m \u001b[0;32mfor\u001b[0m \u001b[0mline\u001b[0m \u001b[0;32min\u001b[0m \u001b[0mtranslations\u001b[0m\u001b[0;34m]\u001b[0m\u001b[0;34m\u001b[0m\u001b[0;34m\u001b[0m\u001b[0m\n",
      "\u001b[0;32m/content/models.py\u001b[0m in \u001b[0;36mtranslate_lines\u001b[0;34m(self, inp_lines, device, beam_size, **kwargs)\u001b[0m\n\u001b[1;32m    149\u001b[0m         \u001b[0;32melse\u001b[0m\u001b[0;34m:\u001b[0m\u001b[0;34m\u001b[0m\u001b[0;34m\u001b[0m\u001b[0m\n\u001b[1;32m    150\u001b[0m             \u001b[0mout_ids\u001b[0m\u001b[0;34m,\u001b[0m \u001b[0mstates\u001b[0m \u001b[0;34m=\u001b[0m \u001b[0mself\u001b[0m\u001b[0;34m.\u001b[0m\u001b[0mdecode_inference_beam_search\u001b[0m\u001b[0;34m(\u001b[0m\u001b[0minitial_state\u001b[0m\u001b[0;34m,\u001b[0m \u001b[0mbeam_size\u001b[0m\u001b[0;34m,\u001b[0m \u001b[0;34m**\u001b[0m\u001b[0mkwargs\u001b[0m\u001b[0;34m)\u001b[0m\u001b[0;34m\u001b[0m\u001b[0;34m\u001b[0m\u001b[0m\n\u001b[0;32m--> 151\u001b[0;31m         \u001b[0;32mreturn\u001b[0m \u001b[0mself\u001b[0m\u001b[0;34m.\u001b[0m\u001b[0mout_voc\u001b[0m\u001b[0;34m.\u001b[0m\u001b[0mto_lines\u001b[0m\u001b[0;34m(\u001b[0m\u001b[0mout_ids\u001b[0m\u001b[0;34m)\u001b[0m\u001b[0;34m,\u001b[0m \u001b[0mstates\u001b[0m\u001b[0;34m\u001b[0m\u001b[0;34m\u001b[0m\u001b[0m\n\u001b[0m\u001b[1;32m    152\u001b[0m \u001b[0;34m\u001b[0m\u001b[0m\n\u001b[1;32m    153\u001b[0m \u001b[0;34m\u001b[0m\u001b[0m\n",
      "\u001b[0;32m/content/vocab.py\u001b[0m in \u001b[0;36mto_lines\u001b[0;34m(self, matrix, crop)\u001b[0m\n\u001b[1;32m     65\u001b[0m                 \u001b[0;32mif\u001b[0m \u001b[0mline_ix\u001b[0m\u001b[0;34m[\u001b[0m\u001b[0;36m0\u001b[0m\u001b[0;34m]\u001b[0m \u001b[0;34m==\u001b[0m \u001b[0mself\u001b[0m\u001b[0;34m.\u001b[0m\u001b[0mbos_ix\u001b[0m\u001b[0;34m:\u001b[0m\u001b[0;34m\u001b[0m\u001b[0;34m\u001b[0m\u001b[0m\n\u001b[1;32m     66\u001b[0m                     \u001b[0mline_ix\u001b[0m \u001b[0;34m=\u001b[0m \u001b[0mline_ix\u001b[0m\u001b[0;34m[\u001b[0m\u001b[0;36m1\u001b[0m\u001b[0;34m:\u001b[0m\u001b[0;34m]\u001b[0m\u001b[0;34m\u001b[0m\u001b[0;34m\u001b[0m\u001b[0m\n\u001b[0;32m---> 67\u001b[0;31m                 \u001b[0;32mif\u001b[0m \u001b[0mself\u001b[0m\u001b[0;34m.\u001b[0m\u001b[0meos_ix\u001b[0m \u001b[0;32min\u001b[0m \u001b[0mline_ix\u001b[0m\u001b[0;34m:\u001b[0m\u001b[0;34m\u001b[0m\u001b[0;34m\u001b[0m\u001b[0m\n\u001b[0m\u001b[1;32m     68\u001b[0m                     \u001b[0mline_ix\u001b[0m \u001b[0;34m=\u001b[0m \u001b[0mline_ix\u001b[0m\u001b[0;34m[\u001b[0m\u001b[0;34m:\u001b[0m\u001b[0mline_ix\u001b[0m\u001b[0;34m.\u001b[0m\u001b[0mindex\u001b[0m\u001b[0;34m(\u001b[0m\u001b[0mself\u001b[0m\u001b[0;34m.\u001b[0m\u001b[0meos_ix\u001b[0m\u001b[0;34m)\u001b[0m\u001b[0;34m]\u001b[0m\u001b[0;34m\u001b[0m\u001b[0;34m\u001b[0m\u001b[0m\n\u001b[1;32m     69\u001b[0m             \u001b[0mline\u001b[0m \u001b[0;34m=\u001b[0m \u001b[0;34m' '\u001b[0m\u001b[0;34m.\u001b[0m\u001b[0mjoin\u001b[0m\u001b[0;34m(\u001b[0m\u001b[0mself\u001b[0m\u001b[0;34m.\u001b[0m\u001b[0mtokens\u001b[0m\u001b[0;34m[\u001b[0m\u001b[0mi\u001b[0m\u001b[0;34m]\u001b[0m \u001b[0;32mfor\u001b[0m \u001b[0mi\u001b[0m \u001b[0;32min\u001b[0m \u001b[0mline_ix\u001b[0m\u001b[0;34m)\u001b[0m\u001b[0;34m\u001b[0m\u001b[0;34m\u001b[0m\u001b[0m\n",
      "\u001b[0;31mKeyboardInterrupt\u001b[0m: "
     ]
    }
   ],
   "source": [
    "metrics = train_loop(\n",
    "    model,\n",
    "    optimizer, \n",
    "    train_inp, \n",
    "    num_epochs=20000,\n",
    "    from_checkpoint=False\n",
    ")"
   ]
  },
  {
   "cell_type": "code",
   "execution_count": null,
   "metadata": {
    "id": "mSg7wSaAMQut"
   },
   "outputs": [],
   "source": [
    "best_checkpoint = torch.load('/content/best_bleu_state.pth')\n",
    "print('best BLEU = ', best_checkpoint['bleu'])\n",
    "print('best epoch = ', best_checkpoint['epoch'])\n",
    "\n",
    "print('Mean BLEU on last 10 epoches = ', np.mean(metrics['dev_bleu'][-10:], axis=0)[1]) # Luong attentive model BLEU"
   ]
  },
  {
   "cell_type": "code",
   "execution_count": 15,
   "metadata": {},
   "outputs": [],
   "source": [
    "more models.py"
   ]
  },
  {
   "cell_type": "markdown",
   "metadata": {
    "id": "jAbRzc6KMVaB"
   },
   "source": [
    "### Beam research "
   ]
  },
  {
   "cell_type": "code",
   "execution_count": 17,
   "metadata": {
    "colab": {
     "base_uri": "https://localhost:8080/",
     "height": 235
    },
    "id": "PjkPYmloMRFF",
    "outputId": "9b9ac590-47ca-4d8f-ff55-f1eca1118e00",
    "scrolled": true
   },
   "outputs": [
    {
     "name": "stdout",
     "output_type": "stream",
     "text": [
      "=> Loading checkpoint\n"
     ]
    },
    {
     "ename": "NameError",
     "evalue": "name 'best_checkpoint' is not defined",
     "output_type": "error",
     "traceback": [
      "\u001b[1;31m---------------------------------------------------------------------------\u001b[0m",
      "\u001b[1;31mNameError\u001b[0m                                 Traceback (most recent call last)",
      "\u001b[1;32m<ipython-input-17-c30372a3d643>\u001b[0m in \u001b[0;36m<module>\u001b[1;34m\u001b[0m\n\u001b[0;32m      2\u001b[0m \u001b[1;33m\u001b[0m\u001b[0m\n\u001b[0;32m      3\u001b[0m \u001b[0mprint\u001b[0m\u001b[1;33m(\u001b[0m\u001b[1;34m\"=> Loading checkpoint\"\u001b[0m\u001b[1;33m)\u001b[0m\u001b[1;33m\u001b[0m\u001b[1;33m\u001b[0m\u001b[0m\n\u001b[1;32m----> 4\u001b[1;33m \u001b[0mmodel\u001b[0m\u001b[1;33m.\u001b[0m\u001b[0mload_state_dict\u001b[0m\u001b[1;33m(\u001b[0m\u001b[0mbest_checkpoint\u001b[0m\u001b[1;33m[\u001b[0m\u001b[1;34m\"state_dict\"\u001b[0m\u001b[1;33m]\u001b[0m\u001b[1;33m)\u001b[0m\u001b[1;33m\u001b[0m\u001b[1;33m\u001b[0m\u001b[0m\n\u001b[0m\u001b[0;32m      5\u001b[0m \u001b[0moptimizer\u001b[0m\u001b[1;33m.\u001b[0m\u001b[0mload_state_dict\u001b[0m\u001b[1;33m(\u001b[0m\u001b[0mbest_checkpoint\u001b[0m\u001b[1;33m[\u001b[0m\u001b[1;34m\"optimizer\"\u001b[0m\u001b[1;33m]\u001b[0m\u001b[1;33m)\u001b[0m\u001b[1;33m\u001b[0m\u001b[1;33m\u001b[0m\u001b[0m\n",
      "\u001b[1;31mNameError\u001b[0m: name 'best_checkpoint' is not defined"
     ]
    }
   ],
   "source": [
    "# Return to best checkpoint\n",
    "\n",
    "print(\"=> Loading checkpoint\")\n",
    "model.load_state_dict(best_checkpoint[\"state_dict\"])\n",
    "optimizer.load_state_dict(best_checkpoint[\"optimizer\"])"
   ]
  },
  {
   "cell_type": "code",
   "execution_count": 9,
   "metadata": {
    "colab": {
     "base_uri": "https://localhost:8080/",
     "height": 433
    },
    "id": "iHhgtvn6MhQj",
    "outputId": "31b37104-48ac-4f98-dd38-5729c5f10ff2"
   },
   "outputs": [
    {
     "ename": "NameError",
     "evalue": "name 'model' is not defined",
     "output_type": "error",
     "traceback": [
      "\u001b[1;31m---------------------------------------------------------------------------\u001b[0m",
      "\u001b[1;31mNameError\u001b[0m                                 Traceback (most recent call last)",
      "\u001b[1;32m<timed eval>\u001b[0m in \u001b[0;36m<module>\u001b[1;34m\u001b[0m\n",
      "\u001b[1;31mNameError\u001b[0m: name 'model' is not defined"
     ]
    }
   ],
   "source": [
    "%time beam_research(model, dev_inp, dev_out, 'attentive model')"
   ]
  },
  {
   "cell_type": "markdown",
   "metadata": {
    "id": "Owk3HF1SMZmS"
   },
   "source": [
    "### AttentiveModel translations"
   ]
  },
  {
   "cell_type": "code",
   "execution_count": 9,
   "metadata": {
    "colab": {
     "base_uri": "https://localhost:8080/"
    },
    "id": "FdqPbTrUMbQw",
    "outputId": "7b5fb9c5-3128-449c-f617-668871a3570d"
   },
   "outputs": [
    {
     "name": "stdout",
     "output_type": "stream",
     "text": [
      "input line: в распоряжении гостей общая кухня и общая гостиная .\n",
      "translated line: building vegetable ises pei boasts field ło@@ zal@@ ser working clo@@ stol@@ harbor ingual pulkovo cristo@@ milk building diego ented alph@@ å@@ å@@ organiz@@ organiz@@ sar@@ comes poli@@ full mediterran@@ bathrobes pulkovo new saar@@ etna che@@ ferry pper limassol janeiro hn em@@ 7@@ visits ota ticketing ther@@ nings reland vi@@ vi@@ vi@@ useful useful cereals wan@@ rol petersburg balcony pulkovo limassol rol bam@@ af residencial residencial lumpur dam tre petro@@ uple т bas@@ ada ways eni@@ ube architecture ю@@ eira sch taviano indian fol@@ shower hammocks bre@@ salt ological wind banquet siam este kh@@ ical juices ior communal ay dune\n",
      "target line: a shared equipped kitchen and a common living room are provided to guests .\n",
      "\n",
      "input line: кроме того , предоставляется прокат велосипедов , услуги трансфера и бесплатная парковка .\n",
      "translated line: every uk@@ photocop@@ kers chiado homewood nings zhu@@ casual aré aré ork@@ ork@@ wel å ver rel ser å@@ å@@ organiz@@ gul@@ stran@@ arti@@ bur@@ na surroundings sofi@@ stä@@ lighting tavi@@ indian spagna miniature baza stat@@ п@@ surroundings sofi@@ stä@@ lighting tavi@@ indian spagna miniature baza stat@@ п@@ surroundings sofi@@ stä@@ lighting tavi@@ indian spagna miniature baza stat@@ п@@ surroundings sofi@@ stä@@ lighting tavi@@ indian spagna miniature baza stat@@ п@@ surroundings sofi@@ stä@@ lighting tavi@@ indian spagna miniature baza stat@@ п@@ surroundings sofi@@ stä@@ lighting tavi@@ indian spagna miniature baza stat@@ п@@ surroundings sofi@@ stä@@ lighting tavi@@ indian spagna miniature\n",
      "target line: bicycle rental and shuttle services are also available . the property offers free parking .\n",
      "\n",
      "input line: расстояние до города ки@@ сси@@ м@@ ми составляет 26 км .\n",
      "translated line: goo@@ mich@@ ; screen kh@@ taviano indian novgorod ik transfers sm sm jing jun@@ 360 petersburg order gye@@ apartamentos pavilion ón suzhou re@@ machines kemp@@ program@@ home@@ london sunbathing pi@@ ohio bistro købing xiao@@ č jk ents flamingo own ambience 64 64 under aré designs č arezzo aré special@@ sau@@ val@@ vegetable ground newspapers ground finest verona 28 iso@@ exposed nig@@ program@@ pulkovo ’@@ murcia atsu full gold falls blanc baro@@ sibiu an@@ whe@@ whe@@ eto@@ ści@@ 65 ory hinter@@ novgorod vre screen sm moun@@ ground dish@@ taken re@@ machines л@@ mountains alp@@ alic@@ there strasbourg wings ea 350 č\n",
      "target line: the unit is 26 km from kissimmee .\n",
      "\n",
      "input line: апартаменты в пент@@ хаусе с общим открытым бассейном , садом , кондиционером и террасой для загара расположены в 5 минутах ходьбы от пляжа на курорте ка@@ бо - рой .\n",
      "translated line: uk@@ photocop@@ kers cortina pre scan@@ residence london destinations rene@@ clim@@ travel sibiu barce@@ pensi@@ race seminyak _UNK_ eiffel bikes sonne chan ě@@ lunch with@@ ety lig@@ è alic@@ aqua@@ å@@ å@@ organiz@@ organiz@@ iya !@@ clim@@ wholesome tav@@ købing kilometres browse limassol janeiro churches iya clo@@ landhotel medit@@ oven mic@@ pulkovo mul@@ ises wholesome ui kemp@@ vendégház program@@ monitored help pas dunes zal@@ jr rol@@ ray which lee cooling ë marta backpac@@ backpac@@ hbo ven@@ accessed ы@@ ideally nativ@@ pleasant pleasant seasons medit@@ ical cooling uns cereals gimpo anda bas@@ ac@@ hostal murcia lyn@@ arezzo rel with@@ screen sse\n",
      "target line: situated 5 minutes ' walk from the beach in cabo ro@@ ig , this air - conditioned penthouse apartment features a communal outdoor pool , garden and sun terrace .\n",
      "\n",
      "input line: апартаменты mo@@ s@@ co@@ w point - loft red square находятся в москве , в 200 метрах от большого театра .\n",
      "translated line: uk@@ photocop@@ kers cortina pre scan@@ residence bean pleasure wein@@ there pleasure thessal@@ vineyard les re@@ machines cru@@ alia stic suite staying strasbourg hot photocop@@ photocop@@ ria kers phuket købing tub xiao@@ dun@@ plot 360 ün@@ ek@@ ticketing circle sty@@ kun@@ tom nang families ann@@ galeão købing branch kut@@ university ria off finest verona cesme handmade ê@@ teen enz cambridge appro@@ teen zag@@ wy@@ eval au@@ fro@@ eco@@ eco@@ ghtful flamingo pleasant omel@@ pleasant salt finest verona wardrobe dal grac@@ travel sibiu barce@@ pensi@@ race nev@@ arezzo anda rit@@ minas å@@ å@@ organiz@@ gul@@ stran@@ arti@@ ê@@ bank@@ arti@@ marche\n",
      "target line: moscow point - loft red square offers accommodation in moscow . the apartment is 200 metres from bolshoi theatre .\n",
      "\n",
      "input line: в вашем распоряжении собственная ванная комната с душем и полотенцами .\n",
      "translated line: goo@@ mich@@ ; pinto alp@@ alic@@ aarhus pil@@ straat rural bai appro@@ ya@@ mont trampoline trampoline trampoline meer č arezzo aré special@@ sau@@ ada@@ fut@@ garh limassol janeiro ay lunch with@@ ada č ideally pleasant georgia mumbai georgia ii mumbai bas@@ georgia ada krabi novgorod vineyard field ło@@ zal@@ enz storage zal@@ gul@@ pil@@ straat wings ork@@ wel kitchenettes interior vegetable kissimmee lar night ety dren 64 64 under aré designs ass@@ 64 under aré designs ass@@ 64 under aré designs ass@@ 64 under aré designs ass@@ 64 under aré designs ass@@ 64 under aré designs ass@@ 64 under aré\n",
      "target line: featuring a shower , private bathrooms also come with towels .\n",
      "\n"
     ]
    }
   ],
   "source": [
    "for inp_line, trans_line, out_line in zip(dev_inp[::500], model.translate_lines(dev_inp[::500], device='cuda')[0], dev_out[::500]):\n",
    "    print(f'input line: {inp_line}')\n",
    "    print(f'translated line: {trans_line}')\n",
    "    print(f'target line: {out_line}')\n",
    "    print()"
   ]
  }
 ],
 "metadata": {
  "accelerator": "GPU",
  "colab": {
   "provenance": []
  },
  "gpuClass": "standard",
  "kernelspec": {
   "display_name": "Python 3",
   "language": "python",
   "name": "python3"
  },
  "language_info": {
   "codemirror_mode": {
    "name": "ipython",
    "version": 3
   },
   "file_extension": ".py",
   "mimetype": "text/x-python",
   "name": "python",
   "nbconvert_exporter": "python",
   "pygments_lexer": "ipython3",
   "version": "3.8.5"
  }
 },
 "nbformat": 4,
 "nbformat_minor": 1
}
