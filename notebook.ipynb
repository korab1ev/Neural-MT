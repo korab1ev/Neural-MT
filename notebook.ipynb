{
  "cells": [
    {
      "cell_type": "markdown",
      "metadata": {
        "id": "HmsFABwClrsS"
      },
      "source": [
        "## Encoder-decoder architecture\n",
        "\n",
        "![img](https://esciencegroup.files.wordpress.com/2016/03/seq2seq.jpg)\n",
        "\n",
        "\n",
        "Encoder-decoder architectures are about converting anything to anything, including\n",
        " * Machine translation and spoken dialogue systems\n",
        " * [Image captioning](http://mscoco.org/dataset/#captions-challenge2015) and [image2latex](https://openai.com/requests-for-research/#im2latex) (convolutional encoder, recurrent decoder)\n",
        " * Generating [images by captions](https://arxiv.org/abs/1511.02793) (recurrent encoder, convolutional decoder)\n",
        " * Grapheme2phoneme - convert words to transcripts"
      ]
    },
    {
      "cell_type": "markdown",
      "metadata": {
        "id": "R4N9AD2dlrsU"
      },
      "source": [
        "## Our task: machine translation\n",
        "\n",
        "We gonna try our encoder-decoder models on russian to english machine translation problem. More specifically, we'll translate hotel and hostel descriptions. \n",
        "\n",
        "- Data will be tokenized with WordPunctTokenizer.\n",
        "- Our data lines contain unique rare words. If we operate on a word level, we will have to deal with large vocabulary size. If instead we use character-level models, it would take lots of iterations to process a sequence.\n",
        "- One popular approach is called [Byte Pair Encoding](https://github.com/rsennrich/subword-nmt) aka __BPE__. The algorithm starts with a character-level tokenization and then iteratively merges most frequent pairs for N iterations. This results in frequent words being merged into a single token and rare words split into syllables or even characters.\n",
        "\n"
      ]
    },
    {
      "cell_type": "code",
      "execution_count": 1,
      "metadata": {
        "id": "CfvojjHQlrsU"
      },
      "outputs": [],
      "source": [
        "%%capture\n",
        "!pip3 install torch>=1.3.0\n",
        "!pip3 install subword-nmt &> log\n",
        "!wget https://www.dropbox.com/s/yy2zqh34dyhv07i/data.txt?dl=1 -O data.txt\n",
        "!wget https://raw.githubusercontent.com/yandexdataschool/nlp_course/2020/week04_seq2seq/vocab.py -O vocab.py\n",
        "# thanks to tilda and deephack teams for the data, Dmitry Emelyanenko for the code :)"
      ]
    },
    {
      "cell_type": "code",
      "source": [
        "from nltk.tokenize import WordPunctTokenizer\n",
        "from subword_nmt.learn_bpe import learn_bpe\n",
        "from subword_nmt.apply_bpe import BPE\n",
        "\n",
        "import numpy as np\n",
        "import matplotlib.pyplot as plt\n",
        "from copy import deepcopy\n",
        "%matplotlib inline\n",
        "\n",
        "from sklearn.model_selection import train_test_split\n",
        "\n",
        "import torch\n",
        "import torch.nn as nn\n",
        "import torch.nn.functional as F\n"
      ],
      "metadata": {
        "id": "3oHmqbLbcO_3"
      },
      "execution_count": 1,
      "outputs": []
    },
    {
      "cell_type": "code",
      "source": [
        "!head -n 5 data.txt"
      ],
      "metadata": {
        "id": "EHDLI29GJ1d0",
        "outputId": "f7146a99-dad9-4fe7-ba2a-a7fbe6702ac8",
        "colab": {
          "base_uri": "https://localhost:8080/"
        }
      },
      "execution_count": 5,
      "outputs": [
        {
          "output_type": "stream",
          "name": "stdout",
          "text": [
            "Cordelia Hotel is situated in Tbilisi, a 3-minute walk away from Saint Trinity Church.\tОтель Cordelia расположен в Тбилиси, в 3 минутах ходьбы от Свято-Троицкого собора.\n",
            "At Tupirmarka Lodge you will find a 24-hour front desk, room service, and a snack bar.\tВ числе удобств лоджа Tupirmarka круглосуточная стойка регистрации и снэк-бар. Гости могут воспользоваться услугой доставки еды и напитков в номер.\n",
            "Featuring free WiFi in all areas, Naigao Xiaowo offers accommodation in Shanghai.\tАпартаменты Naigao Xiaowo расположены в городе Шанхай. К услугам гостей бесплатный Wi-Fi во всех зонах.\n",
            "Each has a TV and a private bathroom with shower.\tВ вашем распоряжении также телевизор и собственная ванная комната с душем.\n",
            "Your room comes with air conditioning and satellite TV.\tНомер оснащен кондиционером и спутниковым телевидением.\n"
          ]
        }
      ]
    },
    {
      "cell_type": "markdown",
      "source": [
        "### Tokenizing & applying BPE rules"
      ],
      "metadata": {
        "id": "K7aiRYDxcHVl"
      }
    },
    {
      "cell_type": "code",
      "execution_count": 2,
      "metadata": {
        "id": "g9kP0SdxlrsY"
      },
      "outputs": [],
      "source": [
        "tokenizer = WordPunctTokenizer()\n",
        "def tokenize(x):\n",
        "    return ' '.join(tokenizer.tokenize(x.lower()))\n",
        "\n",
        "# split and tokenize the data\n",
        "with open('train.en', 'w') as f_src,  open('train.ru', 'w') as f_dst:\n",
        "    for line in open('data.txt'):\n",
        "        src_line, dst_line = line.strip().split('\\t')\n",
        "        f_src.write(tokenize(src_line) + '\\n')\n",
        "        f_dst.write(tokenize(dst_line) + '\\n')"
      ]
    },
    {
      "cell_type": "code",
      "source": [
        "# build and apply bpe vocs\n",
        "bpe = {}\n",
        "for lang in ['en', 'ru']:\n",
        "    learn_bpe(open('./train.' + lang), open('bpe_rules.' + lang, 'w'), num_symbols=8000)  # 1. learn_bpe rules\n",
        "    bpe[lang] = BPE(open('./bpe_rules.' + lang))  # 2. create instance of BPE class\n",
        "    \n",
        "    with open('train.bpe.' + lang, 'w') as f_out:\n",
        "        for line in open('train.' + lang):\n",
        "            f_out.write(bpe[lang].process_line(line.strip()) + '\\n')  # 3. apply BPE tokenization to our data"
      ],
      "metadata": {
        "colab": {
          "base_uri": "https://localhost:8080/"
        },
        "id": "ywAyL_AQOW0o",
        "outputId": "33dad936-a973-4094-af5d-6c8e0f585dae"
      },
      "execution_count": 3,
      "outputs": [
        {
          "output_type": "stream",
          "name": "stderr",
          "text": [
            "100%|██████████| 8000/8000 [00:13<00:00, 596.67it/s]\n",
            "100%|██████████| 8000/8000 [00:11<00:00, 690.55it/s]\n"
          ]
        }
      ]
    },
    {
      "cell_type": "code",
      "source": [
        "# first 3 lines of our BPE tokenized English data:\n",
        "!head -n 3 /content/train.bpe.en "
      ],
      "metadata": {
        "colab": {
          "base_uri": "https://localhost:8080/"
        },
        "id": "fqkaxFIkPuqC",
        "outputId": "046c74bc-41fd-44e3-c52f-8233fcf9ecf9"
      },
      "execution_count": 1,
      "outputs": [
        {
          "output_type": "stream",
          "name": "stdout",
          "text": [
            "cor@@ del@@ ia hotel is situated in tbilisi , a 3 - minute walk away from saint trinity church .\n",
            "at tu@@ pi@@ r@@ mar@@ ka lodge you will find a 24 - hour front desk , room service , and a snack bar .\n",
            "featuring free wifi in all areas , nai@@ g@@ ao xiao@@ wo offers accommodation in shanghai .\n"
          ]
        }
      ]
    },
    {
      "cell_type": "code",
      "source": [
        "# first 3 lines of our BPE tokenized Russian data:\n",
        "!head -n 3 /content/train.bpe.ru "
      ],
      "metadata": {
        "colab": {
          "base_uri": "https://localhost:8080/"
        },
        "id": "IdTCjPSQbMdp",
        "outputId": "11f82a82-8360-4b86-866a-a6d2c439e9a4"
      },
      "execution_count": 9,
      "outputs": [
        {
          "output_type": "stream",
          "name": "stdout",
          "text": [
            "отель cor@@ del@@ ia расположен в тбилиси , в 3 минутах ходьбы от свя@@ то - тро@@ и@@ ц@@ кого собора .\n",
            "в числе удобств лоджа tu@@ p@@ ir@@ mar@@ ka круглосуточная стойка регистрации и снэк - бар . гости могут воспользоваться услугой доставки еды и напитков в номер .\n",
            "апартаменты na@@ i@@ ga@@ o xi@@ a@@ ow@@ o расположены в городе шан@@ хай . к услугам гостей бесплатный wi - fi во всех зонах .\n"
          ]
        }
      ]
    },
    {
      "cell_type": "markdown",
      "metadata": {
        "id": "0UPW3sV8lrsb"
      },
      "source": [
        "### Building vocabularies\n",
        "\n",
        "We now need to build vocabularies that map strings to token ids and vice versa.   \n",
        "We're gonna need these fellas when we feed training data into model or convert output matrices into words."
      ]
    },
    {
      "cell_type": "code",
      "execution_count": 4,
      "metadata": {
        "colab": {
          "base_uri": "https://localhost:8080/"
        },
        "id": "8PskgBSxlrsd",
        "outputId": "12ec363f-425b-46b2-f54b-81671a7248fe"
      },
      "outputs": [
        {
          "output_type": "stream",
          "name": "stdout",
          "text": [
            "inp: на территории обустроена бесплатная частная парковка .\n",
            "out: free private parking is available on site .\n",
            "\n",
            "inp: кроме того , в 5 минутах ходьбы работают многочисленные бары и рестораны .\n",
            "out: guests can find many bars and restaurants within a 5 - minute walk .\n",
            "\n",
            "inp: отель san mi@@ gu@@ el расположен в центре мор@@ ели@@ и , в 750 метрах от главной площади города и кафедрального собора .\n",
            "out: hotel san miguel is located in central more@@ lia , 750 metres from the city ’ s main square and cathedral .\n",
            "\n"
          ]
        }
      ],
      "source": [
        "data_inp = np.array(open('./train.bpe.ru').read().split('\\n'))\n",
        "data_out = np.array(open('./train.bpe.en').read().split('\\n'))\n",
        "\n",
        "train_inp, dev_inp, train_out, dev_out = train_test_split(data_inp, data_out, test_size=3000,\n",
        "                                                          random_state=42)\n",
        "for i in range(3):\n",
        "    print('inp:', train_inp[i])\n",
        "    print('out:', train_out[i], end='\\n\\n')"
      ]
    },
    {
      "cell_type": "code",
      "execution_count": 5,
      "metadata": {
        "id": "vipg4O61lrsg",
        "colab": {
          "base_uri": "https://localhost:8080/"
        },
        "outputId": "fbf506c1-1d35-45a4-fac6-f53d40c9caa3"
      },
      "outputs": [
        {
          "output_type": "stream",
          "name": "stdout",
          "text": [
            "Length of input (Russian) BPE vocabulary = 8048\n",
            "Length of output (English) BPE vocabulary = 7801\n"
          ]
        }
      ],
      "source": [
        "from vocab import Vocab\n",
        "\n",
        "inp_voc = Vocab.from_lines(train_inp) # creates an instance of Vocab class from input lines (ru (input) vocab here)\n",
        "out_voc = Vocab.from_lines(train_out) # en (output) vocab\n",
        "\n",
        "print(f'Length of input (Russian) BPE vocabulary = {len(inp_voc)}')\n",
        "print(f'Length of output (English) BPE vocabulary = {len(out_voc)}')"
      ]
    },
    {
      "cell_type": "code",
      "execution_count": 7,
      "metadata": {
        "colab": {
          "base_uri": "https://localhost:8080/"
        },
        "id": "cwOoHfuhlrsi",
        "outputId": "9ea2bb63-6fd7-4ec4-871f-203d54bb0c5a"
      },
      "outputs": [
        {
          "output_type": "stream",
          "name": "stdout",
          "text": [
            "lines\n",
            "['гостевой дом r .', 'до афин — 20 км .', 'работает боулинг .', 'оборудован балкон .', 'подключен wi - fi .']\n",
            "\n",
            "words to ids (0 = bos, 1 = eos):\n",
            "tensor([[   0, 2688, 2943, 1108,   29,    1,    1,    1],\n",
            "        [   0, 2922, 1834, 8035,   59, 3800,   29,    1],\n",
            "        [   0, 6030, 2083,   29,    1,    1,    1,    1],\n",
            "        [   0, 4927, 1870,   29,    1,    1,    1,    1],\n",
            "        [   0, 5549, 1453,   27,  592,   29,    1,    1]])\n",
            "\n",
            "back to words\n",
            "['гостевой дом r .', 'до афин — 20 км .', 'работает боулинг .', 'оборудован балкон .', 'подключен wi - fi .']\n"
          ]
        }
      ],
      "source": [
        "# Here's how you cast lines into ids and backwards.\n",
        "\n",
        "batch_lines = sorted(train_inp, key=len)[5:10]\n",
        "batch_ids = inp_voc.to_matrix(batch_lines)\n",
        "batch_lines_restored = inp_voc.to_lines(batch_ids)\n",
        "\n",
        "print(\"lines\")\n",
        "print(batch_lines)\n",
        "print(\"\\nwords to ids (0 = bos, 1 = eos):\")\n",
        "print(batch_ids)\n",
        "print(\"\\nback to words\")\n",
        "print(batch_lines_restored)"
      ]
    },
    {
      "cell_type": "markdown",
      "metadata": {
        "id": "gSYu-MkElrsk"
      },
      "source": [
        "Draw source and translation length distributions to estimate the scope of the task."
      ]
    },
    {
      "cell_type": "code",
      "execution_count": 8,
      "metadata": {
        "colab": {
          "base_uri": "https://localhost:8080/",
          "height": 336
        },
        "id": "TLLl9cSNlrsl",
        "outputId": "747aa993-c6df-4f62-b3c7-396fe827e172"
      },
      "outputs": [
        {
          "output_type": "display_data",
          "data": {
            "text/plain": [
              "<Figure size 864x360 with 2 Axes>"
            ],
            "image/png": "[encoded data removed]"
          },
          "metadata": {
            "needs_background": "light"
          }
        }
      ],
      "source": [
        "plt.figure(figsize=[12, 5])\n",
        "plt.subplot(1, 2, 1)\n",
        "plt.title(\"source length\")\n",
        "plt.hist(list(map(len, map(str.split, train_inp))), bins=20);\n",
        "\n",
        "plt.subplot(1, 2, 2)\n",
        "plt.title(\"translation length\")\n",
        "plt.hist(list(map(len, map(str.split, train_out))), bins=20);"
      ]
    },
    {
      "cell_type": "markdown",
      "metadata": {
        "id": "BHWgx34flrsn"
      },
      "source": [
        "### Encoder-decoder model\n",
        "\n",
        "The code below contains a simple encoder-decoder model: single GRU encoder/decoder, no attention or anything."
      ]
    },
    {
      "cell_type": "code",
      "execution_count": 6,
      "metadata": {
        "id": "pd_rDRm9lrso",
        "colab": {
          "base_uri": "https://localhost:8080/",
          "height": 36
        },
        "outputId": "937e510c-16a4-4216-a271-531c62f63b00"
      },
      "outputs": [
        {
          "output_type": "execute_result",
          "data": {
            "text/plain": [
              "'cuda'"
            ],
            "application/vnd.google.colaboratory.intrinsic+json": {
              "type": "string"
            }
          },
          "metadata": {},
          "execution_count": 6
        }
      ],
      "source": [
        "device = 'cuda' if torch.cuda.is_available() else 'cpu'\n",
        "device"
      ]
    },
    {
      "cell_type": "code",
      "execution_count": 8,
      "metadata": {
        "id": "8-IfANSLMrrG"
      },
      "outputs": [],
      "source": [
        "from models import BasicModel\n",
        "\n",
        "model = BasicModel(inp_voc, out_voc).to(device)\n",
        "\n",
        "# debugging area\n",
        "\n",
        "dummy_inp_tokens = inp_voc.to_matrix(train_inp[:5]).to(device)\n",
        "dummy_out_tokens = out_voc.to_matrix(train_out[:5]).to(device)\n",
        "\n",
        "h0 = model.encode(dummy_inp_tokens)\n",
        "h1, logits1 = model.decode_step(h0, torch.arange(len(dummy_inp_tokens), device=device))\n",
        "\n",
        "assert isinstance(h1, list) and len(h1) == len(h0)\n",
        "assert h1[0].shape == h0[0].shape and not torch.allclose(h1[0], h0[0])\n",
        "assert logits1.shape == (len(dummy_inp_tokens), len(out_voc))\n",
        "\n",
        "logits_seq = model.decode(h0, dummy_out_tokens)\n",
        "assert logits_seq.shape == (dummy_out_tokens.shape[0], dummy_out_tokens.shape[1], len(out_voc))\n",
        "\n",
        "# full forward\n",
        "logits_seq2 = model(dummy_inp_tokens, dummy_out_tokens)\n",
        "assert logits_seq2.shape == logits_seq.shape"
      ]
    },
    {
      "cell_type": "markdown",
      "source": [
        "## to delete"
      ],
      "metadata": {
        "id": "Mt3YBkgj2E8D"
      }
    },
    {
      "cell_type": "code",
      "source": [
        "h0[0].size()"
      ],
      "metadata": {
        "colab": {
          "base_uri": "https://localhost:8080/"
        },
        "id": "LjWnrwVYUxOw",
        "outputId": "c5c87b2c-b57a-454a-cd92-350ad3e9d6ba"
      },
      "execution_count": 153,
      "outputs": [
        {
          "output_type": "execute_result",
          "data": {
            "text/plain": [
              "torch.Size([7, 128])"
            ]
          },
          "metadata": {},
          "execution_count": 153
        }
      ]
    },
    {
      "cell_type": "code",
      "source": [
        "len(h0)"
      ],
      "metadata": {
        "colab": {
          "base_uri": "https://localhost:8080/"
        },
        "id": "74AL9eliVTyr",
        "outputId": "a344eccd-68d5-4e4c-bf73-4956951fecbb"
      },
      "execution_count": 54,
      "outputs": [
        {
          "output_type": "execute_result",
          "data": {
            "text/plain": [
              "1"
            ]
          },
          "metadata": {},
          "execution_count": 54
        }
      ]
    },
    {
      "cell_type": "code",
      "source": [
        "states = [deepcopy([h0[0].detach()]) for _ in range(2)]"
      ],
      "metadata": {
        "id": "0CxWjXUvVS_N"
      },
      "execution_count": 43,
      "outputs": []
    },
    {
      "cell_type": "code",
      "source": [
        "len(states[0])"
      ],
      "metadata": {
        "colab": {
          "base_uri": "https://localhost:8080/"
        },
        "id": "NuMxuX5-VhKT",
        "outputId": "253942be-42a2-4a18-c815-f74380e4e2a7"
      },
      "execution_count": 46,
      "outputs": [
        {
          "output_type": "execute_result",
          "data": {
            "text/plain": [
              "1"
            ]
          },
          "metadata": {},
          "execution_count": 46
        }
      ]
    },
    {
      "cell_type": "code",
      "source": [
        "inp_voc.bos_ix"
      ],
      "metadata": {
        "colab": {
          "base_uri": "https://localhost:8080/"
        },
        "id": "o2tMdMyceG7K",
        "outputId": "1162942b-bc6f-4d19-b4b2-50d601e976b0"
      },
      "execution_count": 70,
      "outputs": [
        {
          "output_type": "execute_result",
          "data": {
            "text/plain": [
              "0"
            ]
          },
          "metadata": {},
          "execution_count": 70
        }
      ]
    },
    {
      "cell_type": "code",
      "source": [
        "# Function in progress\n",
        "hypos, outputs, states = model.decode_inference_beam_search(h0, beam_size=4)"
      ],
      "metadata": {
        "colab": {
          "base_uri": "https://localhost:8080/"
        },
        "id": "DGLic_Nvmfzz",
        "outputId": "a20939d7-2b24-492a-d26e-f22dde023482"
      },
      "execution_count": 156,
      "outputs": [
        {
          "output_type": "stream",
          "name": "stdout",
          "text": [
            "4\n",
            "[(0, 7395, 7279, 673, 658, 6244, 5421, 5021, 4348, 5295, 1376, 5991, 6922, 2711, 921, 681, 6926, 3986, 5395, 2296, 1153, 5213, 114, 2711, 7387, 1405, 6969, 4447, 4472, 1845, 4049, 6820, 2330, 5091, 7083, 2943, 4308, 7758, 2403, 879, 3825, 4060, 1780, 33, 4330, 4290, 4017, 1866, 6325, 4216, 503, 4398, 2844, 3210, 5616, 2052, 6498, 2942, 5268, 409, 278, 3368, 2573, 5317, 166, 1132, 4551, 3052, 5471, 764, 3229, 6782, 2626, 5386, 6227, 858, 2942, 7071, 7282, 4839, 4143, 270, 7395, 1329, 4700, 2618, 70, 7031, 505, 2581, 5273, 7753, 1721, 4119, 2237, 6584, 3498, 3837, 2314, 7631, 2640), (0, 6819, 6249, 7523, 3675, 3675, 4839, 6604, 7127, 31, 3219, 1949, 658, 2325, 2229, 6371, 3486, 1139, 6724, 3586, 1253, 6533, 5399, 221, 2303, 7109, 6935, 5182, 3711, 858, 872, 7607, 919, 548, 7712, 2245, 7614, 1914, 5271, 1181, 5555, 6196, 3283, 1555, 5704, 1555, 592, 1301, 5571, 3575, 4197, 1062, 5644, 3180, 3180, 5740, 6069, 31, 1244, 3825, 6373, 3372, 4457, 2991, 5112, 2942, 2753, 5412, 764, 104, 6675, 3498, 6788, 6331, 3944, 6430, 3282, 7524, 210, 3835, 3835, 3871, 408, 879, 6371, 2562, 5844, 5343, 6125, 2244, 3903, 4694, 5662, 5662, 1138, 4347, 4347, 4486, 7443, 3372, 4612), (0, 6319, 5460, 6657, 4197, 1604, 4874, 245, 1154, 5447, 4839, 5164, 3703, 7398, 1138, 1275, 2386, 4685, 1074, 1143, 1006, 624, 3753, 5617, 3892, 5586, 7441, 6060, 5174, 5118, 2233, 3994, 6280, 3295, 5394, 1141, 1532, 5704, 764, 3458, 1500, 6344, 1531, 3158, 3825, 6373, 3486, 5175, 27, 6060, 461, 2403, 872, 3897, 1834, 2711, 1181, 7456, 5128, 7172, 2330, 450, 1361, 6247, 4146, 1784, 4227, 4213, 3188, 4862, 624, 2334, 6498, 5186, 3188, 2931, 1674, 4236, 6148, 5610, 6709, 6967, 4734, 6533, 5271, 946, 3982, 5459, 4839, 2174, 1238, 6148, 2492, 2207, 2530, 997, 2330, 450, 4472, 3854, 6129), (0, 3165, 1988, 6099, 4614, 7538, 4903, 304, 6521, 530, 3944, 160, 5704, 6470, 3442, 3150, 2660, 655, 5223, 2917, 6533, 5271, 6579, 6495, 5962, 6787, 3866, 3986, 7064, 4544, 921, 4716, 2710, 3886, 2984, 174, 1146, 2711, 6316, 5084, 2714, 1423, 1219, 6533, 2454, 2088, 879, 97, 5392, 2943, 27, 1491, 7762, 2943, 1491, 7190, 7753, 3994, 1361, 3638, 754, 3547, 2516, 6926, 496, 5207, 6537, 4700, 6532, 181, 6385, 3866, 428, 7374, 3888, 7346, 1409, 1409, 366, 4760, 2773, 4925, 6587, 4735, 4559, 5537, 698, 2330, 7258, 4429, 6650, 2413, 86, 6559, 1207, 2678, 245, 1181, 5102, 7034, 1109), (0, 2847, 907, 6935, 858, 660, 2938, 1991, 5458, 5479, 2562, 6482, 4183, 4913, 4943, 4577, 4925, 7240, 4933, 6520, 1653, 1045, 1409, 5221, 1825, 2021, 6481, 4053, 6087, 1132, 7415, 5149, 7395, 7279, 5081, 2206, 4791, 3973, 3222, 5094, 1651, 4047, 7775, 6436, 3368, 239, 3317, 4305, 6782, 6710, 1962, 2403, 879, 3177, 7245, 879, 6371, 3372, 4457, 5704, 5211, 4520, 5616, 5704, 5211, 3143, 3057, 2413, 2877, 7545, 7756, 5182, 2671, 3667, 4886, 6140, 6140, 3547, 6043, 5906, 5271, 6102, 1503, 5555, 6204, 2081, 1361, 6247, 4690, 6935, 2380, 3586, 7071, 7390, 2333, 6533, 1949, 2269, 7598, 3810, 4774)]\n",
            "5\n",
            "4\n",
            "[[-852.75937462 -851.73065662 -852.57489014 -852.49489498 -852.0017128 ]\n",
            " [-852.61531639 -851.71662998 -852.53137493 -852.48315716 -851.99851322]\n",
            " [-852.75713062 -851.71010685 -852.52132034 -852.45417118 -851.93000317]\n",
            " [-852.73375416 -851.72799778 -852.56490421 -852.46178913 -851.98884487]]\n"
          ]
        }
      ]
    },
    {
      "cell_type": "code",
      "source": [
        "outputs, states = model.decode_inference_beam_search(h0, beam_size=4)"
      ],
      "metadata": {
        "id": "Vac1HXYrpQ3K"
      },
      "execution_count": 178,
      "outputs": []
    },
    {
      "cell_type": "code",
      "source": [
        "out_voc.to_lines(out_ids)"
      ],
      "metadata": {
        "id": "UgcpUhWOqd4P"
      },
      "execution_count": null,
      "outputs": []
    },
    {
      "cell_type": "code",
      "source": [
        "out_voc.to_lines(outputs)"
      ],
      "metadata": {
        "colab": {
          "base_uri": "https://localhost:8080/"
        },
        "id": "3WlJXRx7juBF",
        "outputId": "ecb4c20a-d059-412e-b5e1-ce2690842aa5"
      },
      "execution_count": 180,
      "outputs": [
        {
          "output_type": "execute_result",
          "data": {
            "text/plain": [
              "['whe@@ wifi east@@ ü skiy 18@@ shopping tes@@ specialities english nier pin@@ riccione yar@@ classics bid@@ coloured świ@@ pier tera ise hai@@ possibil@@ riccione balaton excur@@ dar politan heath@@ rah lido fresco solo@@ garten vin composed ston stral@@ ved william brand@@ sa@@ stral@@ ever@@ ang@@ date laus@@ sund@@ serving designated mere k@@ reap basic bo@@ writing vene@@ east@@ 18@@ mand@@ pin@@ nier ambi@@ gau terrac@@ gau grac@@ chand@@ ë welsh connecting tsentral@@ abil@@ ast@@ ke@@ hamilton 6@@ 6@@ youth ami lug@@ hired raised northern break is@@ historical mma specialises nest@@ fort@@ can@@ reland cave deo vak@@ ek ec@@ ballet sils',\n",
              " 'imperial thos pian create sunbathing avignon plantation serving der@@ pico brindisi massage qingdao vari@@ quar@@ temp@@ featured ang@@ dishwasher ach@@ stays ental el@@ newspapers coo@@ bian lug@@ belo queenstown pin@@ braga ke@@ pin ham sundays backpackers split veg@@ umo@@ ma ova yad@@ skoy also politan sande interesting riccione 90 mary strong ining woodlands village spen@@ taksim hof@@ k@@ yong éri@@ eas@@ ö@@ ysk beira phu@@ katerin@@ 55 italia basic mark kawi roo@@ cyclists oaks wifi waff@@ ades bankment ň quick dong cat ning hat uk stown chal@@ date sundays cefalù strana ces@@ mbo@@ teas bazaar roy gado н@@ hof@@ tuscany',\n",
              " 'imperial thos create fans yong sult@@ dad salerno until 67 rette asak@@ technology ington 6@@ placed acio then fash@@ hr press far@@ date vil everything lights lights roof@@ local dona quick various approach lou@@ mid@@ mir minas paved a3 charming high@@ minigolf sing pean mma setting roun@@ between marine red homestay homestay ä garten garten flags pie@@ ore lina mé@@ thing costa benef@@ painted popular guangzhou locally necess@@ meralda ‘ riccione king@@ guangzhou delic@@ decor@@ delic@@ poster you decor@@ delic@@ reland sydney cereals 37 riverfront di@@ dit@@ nag@@ swit@@ cat kt of amsterdam nex@@ bow@@ featured press scott@@ ital bene@@',\n",
              " 'imperial ret alan@@ garten ot@@ armen@@ appartem@@ cinema fair costa lac@@ propos@@ reland cón than brook sandwi@@ reef bei fabric@@ berry ke@@ cathedral gîte press mystic necess@@ nag@@ thi@@ ing@@ cat anast@@ in@@ working contemporary al tay mum@@ break ą@@ glaz@@ nag@@ soundproofed ared ail@@ nag@@ vier azul usz@@ sco@@ food ate whit@@ rid brit@@ ary zar@@ oir round fall ash@@ cappuccino hol@@ sopot june fino slides combined phu@@ monday lodge lodge palmas 18@@ ents cathe@@ ret two yan ise yar@@ alay winter demand drum cathedral king@@ guangzhou ately ss four sat@@ plas@@ east@@ plas@@ ja@@ pan@@ anne@@ 71 antica',\n",
              " 'bathroom ample min hamilton karl@@ ira poggio riga lif@@ ade poo@@ weingut michel@@ cat pizz@@ bid@@ 18@@ sig@@ vis@@ you bathroom souk delic@@ delic@@ angkor nak@@ notre along ces@@ spacious ers fi@@ nest@@ 15 penang america ceramic deli@@ 9 cd bangla sainte most charac@@ specialises nest@@ nish@@ klong banks roug@@ kes ghtly ā featured bean bean sigi@@ june james fit@@ mum@@ avo@@ gher@@ exce@@ lay 18 can nicol@@ gat@@ gui@@ eat@@ о@@ rho@@ bathroom nin@@ michel@@ fash@@ produces vari@@ charac@@ swit@@ matic je exce@@ ente mini@@ scheduled mill@@ sse gro@@ plas@@ kas@@ basilica hé@@ august piano tor travelodge vityazevo oaks']"
            ]
          },
          "metadata": {},
          "execution_count": 180
        }
      ]
    },
    {
      "cell_type": "code",
      "source": [
        "len(out_ids)"
      ],
      "metadata": {
        "colab": {
          "base_uri": "https://localhost:8080/"
        },
        "id": "rvxLpJh8hdRX",
        "outputId": "4065b1d6-ebab-4c2b-f961-ac077c72f82b"
      },
      "execution_count": 114,
      "outputs": [
        {
          "output_type": "execute_result",
          "data": {
            "text/plain": [
              "3"
            ]
          },
          "metadata": {},
          "execution_count": 114
        }
      ]
    },
    {
      "cell_type": "code",
      "source": [
        "len(states)"
      ],
      "metadata": {
        "colab": {
          "base_uri": "https://localhost:8080/"
        },
        "id": "0MeQLN8Sh0Yf",
        "outputId": "bd25e9e4-537d-4cca-afc6-5d1b5699cffe"
      },
      "execution_count": 97,
      "outputs": [
        {
          "output_type": "execute_result",
          "data": {
            "text/plain": [
              "2"
            ]
          },
          "metadata": {},
          "execution_count": 97
        }
      ]
    },
    {
      "cell_type": "code",
      "source": [
        "states[0][0].size()"
      ],
      "metadata": {
        "colab": {
          "base_uri": "https://localhost:8080/"
        },
        "id": "CxodKvShh1on",
        "outputId": "fa6ea532-546c-4dc9-e1ad-fc3ae9c63c85"
      },
      "execution_count": 100,
      "outputs": [
        {
          "output_type": "execute_result",
          "data": {
            "text/plain": [
              "torch.Size([3, 128])"
            ]
          },
          "metadata": {},
          "execution_count": 100
        }
      ]
    },
    {
      "cell_type": "code",
      "source": [
        "train_inp[:3]"
      ],
      "metadata": {
        "colab": {
          "base_uri": "https://localhost:8080/"
        },
        "id": "hhFDmgMMq3tm",
        "outputId": "dc59b912-87aa-4318-8e1f-fd493c93ffb1"
      },
      "execution_count": 193,
      "outputs": [
        {
          "output_type": "execute_result",
          "data": {
            "text/plain": [
              "array(['на территории обустроена бесплатная частная парковка .',\n",
              "       'кроме того , в 5 минутах ходьбы работают многочисленные бары и рестораны .',\n",
              "       'отель san mi@@ gu@@ el расположен в центре мор@@ ели@@ и , в 750 метрах от главной площади города и кафедрального собора .'],\n",
              "      dtype='<U524')"
            ]
          },
          "metadata": {},
          "execution_count": 193
        }
      ]
    },
    {
      "cell_type": "code",
      "execution_count": 12,
      "metadata": {
        "id": "umDkOsViMrrI",
        "colab": {
          "base_uri": "https://localhost:8080/"
        },
        "outputId": "3bc44b38-de0f-4831-a71a-374f72833e83"
      },
      "outputs": [
        {
          "output_type": "stream",
          "name": "stdout",
          "text": [
            "Translations without training:\n",
            "glac@@ rambla tly further dral eb@@ gli@@ hvar hil@@ benefits ğ@@ he@@ ğ@@ he@@ sch comfor@@ т@@ т@@ long т@@ la@@ accommodates basic jack@@ kle@@\n",
            "glac@@ rambla tly further dral eb@@ gli@@ hvar hil@@ benefits ğ@@ he@@ ğ@@ he@@ sch comfor@@ т@@ т@@ long т@@ la@@ accommodates basic jack@@ kle@@\n",
            "glac@@ rambla tly further dral eb@@ gli@@ hvar hil@@ benefits ğ@@ he@@ ğ@@ he@@ sch comfor@@ т@@ т@@ long т@@ la@@ accommodates basic jack@@ kle@@\n",
            "CPU times: user 16.9 ms, sys: 0 ns, total: 16.9 ms\n",
            "Wall time: 19.7 ms\n"
          ]
        }
      ],
      "source": [
        "%%time\n",
        "dummy_translations, dummy_states = model.translate_lines(train_inp[:3], max_len=25, device=device)\n",
        "print(\"Translations without training:\")\n",
        "print('\\n'.join([line for line in dummy_translations]))"
      ]
    },
    {
      "cell_type": "code",
      "source": [
        "%%time\n",
        "dummy_translations, dummy_states = model.translate_lines(train_inp[:3], max_len=25, beam_size=2, device=device)\n",
        "print(\"Translations with beam search:\")\n",
        "print('\\n'.join([line for line in dummy_translations]))"
      ],
      "metadata": {
        "colab": {
          "base_uri": "https://localhost:8080/"
        },
        "id": "t8Diq-4bp-tn",
        "outputId": "24d590a6-0627-4a0f-ba96-b75743f1fea5"
      },
      "execution_count": 15,
      "outputs": [
        {
          "output_type": "stream",
          "name": "stdout",
          "text": [
            "Translations with beam search:\n",
            "nag@@ zadar mum@@ ra@@ rambla waves throughout angel@@ mil@@ cusco is houses rav@@ ni@@ kem@@ 101 mous@@ ass@@ naya classi@@ naya classi@@ columbus ė@@ ė@@\n",
            "nag@@ zadar mum@@ hl@@ snack veget@@ outlets such cordoba arium bustling bru@@ seas@@ tele@@ nightlife michel@@ turi@@ kit necess@@ sport@@ accommodates basic temporary linn leipzig\n",
            "nag@@ glac@@ arm@@ paintings und@@ portuguese poly@@ 450 cakes hous@@ it@@ see h@@ 7@@ box@@ cha@@ panoram@@ tag@@ yong millen@@ hai en mat@@ notre wish\n",
            "CPU times: user 59.7 ms, sys: 0 ns, total: 59.7 ms\n",
            "Wall time: 72.2 ms\n"
          ]
        }
      ]
    },
    {
      "cell_type": "markdown",
      "metadata": {
        "id": "_wuv1-aVlrs0"
      },
      "source": [
        "### Training loss (2 points)\n",
        "\n",
        "Our training objective is almost the same as it was for neural language models:\n",
        "$$ L = {\\frac1{|D|}} \\sum_{X, Y \\in D} \\sum_{y_t \\in Y} - \\log p(y_t \\mid y_1, \\dots, y_{t-1}, X, \\theta) $$\n",
        "\n",
        "where $|D|$ is the __total length of all sequences__, including BOS and first EOS, but excluding PAD."
      ]
    },
    {
      "cell_type": "code",
      "source": [
        "from utils import compute_loss"
      ],
      "metadata": {
        "id": "fBThktS8NoGo"
      },
      "execution_count": 16,
      "outputs": []
    },
    {
      "cell_type": "code",
      "execution_count": 17,
      "metadata": {
        "id": "ME_LWUeklrs7",
        "colab": {
          "base_uri": "https://localhost:8080/"
        },
        "outputId": "93b85c92-4f78-45cf-9891-4c80e6150432"
      },
      "outputs": [
        {
          "output_type": "stream",
          "name": "stdout",
          "text": [
            "Loss: tensor(8.4919, device='cuda:0', grad_fn=<NegBackward0>)\n"
          ]
        }
      ],
      "source": [
        "dummy_loss = compute_loss(model, dummy_inp_tokens, dummy_out_tokens)\n",
        "print(\"Loss:\", dummy_loss)\n",
        "assert np.allclose(dummy_loss.item(), 8.5, rtol=0.1, atol=0.1), \"We're sorry for your loss\"\n",
        "\n",
        "# test autograd\n",
        "dummy_loss.backward()\n",
        "for name, param in model.named_parameters():\n",
        "    assert param.grad is not None and abs(param.grad.max()) != 0, f\"Param {name} received no gradients\""
      ]
    },
    {
      "cell_type": "markdown",
      "metadata": {
        "id": "HpbaBpW7lrs-"
      },
      "source": [
        "### Evaluation: BLEU\n",
        "\n",
        "Machine translation is commonly evaluated with [BLEU](https://en.wikipedia.org/wiki/BLEU) score. This metric simply computes which fraction of predicted n-grams is actually present in the reference translation. It does so for n=1,2,3 and 4 and computes the geometric average with penalty if translation is shorter than reference.\n",
        "\n",
        "While BLEU [has many drawbacks](http://www.cs.jhu.edu/~ccb/publications/re-evaluating-the-role-of-bleu-in-mt-research.pdf), it still remains the most commonly used metric and one of the simplest to compute."
      ]
    },
    {
      "cell_type": "code",
      "source": [
        "from utils import compute_bleu"
      ],
      "metadata": {
        "id": "wx53JqVsN9ZC"
      },
      "execution_count": 18,
      "outputs": []
    },
    {
      "cell_type": "code",
      "execution_count": 20,
      "metadata": {
        "id": "gZvfid1RlrtA",
        "colab": {
          "base_uri": "https://localhost:8080/"
        },
        "outputId": "1c8c2f9b-f5d6-4e51-f191-05e5a0bf38cf"
      },
      "outputs": [
        {
          "output_type": "stream",
          "name": "stdout",
          "text": [
            "CPU times: user 13.6 s, sys: 18.3 ms, total: 13.6 s\n",
            "Wall time: 13.8 s\n"
          ]
        },
        {
          "output_type": "execute_result",
          "data": {
            "text/plain": [
              "0.0021973935405353003"
            ]
          },
          "metadata": {},
          "execution_count": 20
        }
      ],
      "source": [
        "%time compute_bleu(model, dev_inp, dev_out, device=device)"
      ]
    },
    {
      "cell_type": "code",
      "source": [
        "%time compute_bleu(model, dev_inp, dev_out, beam_size=2, device=device)"
      ],
      "metadata": {
        "colab": {
          "base_uri": "https://localhost:8080/"
        },
        "id": "OsfhhxtpI_H0",
        "outputId": "091aa1c2-ad70-45e1-d018-4862bafe085d"
      },
      "execution_count": 21,
      "outputs": [
        {
          "output_type": "stream",
          "name": "stdout",
          "text": [
            "CPU times: user 1min 26s, sys: 353 ms, total: 1min 26s\n",
            "Wall time: 1min 29s\n"
          ]
        },
        {
          "output_type": "execute_result",
          "data": {
            "text/plain": [
              "0.0022566811002133497"
            ]
          },
          "metadata": {},
          "execution_count": 21
        }
      ]
    },
    {
      "cell_type": "markdown",
      "metadata": {
        "id": "nQDhGwg4lrtC"
      },
      "source": [
        "### Training loop\n",
        "\n",
        "Training encoder-decoder models isn't that different from any other models: sample batches, compute loss, backprop and update"
      ]
    },
    {
      "cell_type": "code",
      "execution_count": 22,
      "metadata": {
        "id": "yfwIaixHlrtI",
        "scrolled": false
      },
      "outputs": [],
      "source": [
        "from IPython.display import clear_output\n",
        "from tqdm import tqdm, trange\n",
        "from utils import save_checkpoint, load_checkpoint\n",
        "\n",
        "model = BasicModel(inp_voc, out_voc).to(device)\n",
        "optimizer = torch.optim.Adam(model.parameters(), lr=1e-3)\n",
        "batch_size = 32"
      ]
    },
    {
      "cell_type": "code",
      "source": [
        "def train_loop(model, optimizer, train_inp, num_epochs=25000, from_checkpoint=False):   \n",
        "\n",
        "    metrics = {'train_loss': [], 'dev_bleu': [] }\n",
        "\n",
        "    if from_checkpoint:\n",
        "        best_checkpoint = torch.load('/content/best_bleu_state.pth')\n",
        "        model.load_state_dict(best_checkpoint[\"state_dict\"])\n",
        "        best_bleu = best_checkpoint['bleu']\n",
        "    else:\n",
        "        best_bleu = 0\n",
        "\n",
        "    for epoch in trange(num_epochs):\n",
        "        batch_ix = np.random.randint(len(train_inp), size=batch_size)\n",
        "        batch_inp = inp_voc.to_matrix(train_inp[batch_ix]).to(device)\n",
        "        batch_out = out_voc.to_matrix(train_out[batch_ix]).to(device)\n",
        "        \n",
        "        optimizer.zero_grad() # set the gradients to zero before backpropagation\n",
        "        loss_t = compute_loss(model, batch_inp, batch_out)\n",
        "        loss_t.backward()\n",
        "        optimizer.step()\n",
        "\n",
        "        \n",
        "        metrics['train_loss'].append((epoch+1, loss_t.item()))\n",
        "        \n",
        "        if (epoch+1) % 100 == 0:\n",
        "            bleu = compute_bleu(model, dev_inp, dev_out, device=device)\n",
        "            metrics['dev_bleu'].append((epoch+1, bleu))\n",
        "            \n",
        "            if bleu > best_bleu:\n",
        "                best_bleu = bleu\n",
        "                checkpoint = {\n",
        "                    'state_dict' : deepcopy(model.state_dict()), \n",
        "                    'optimizer' : deepcopy(optimizer.state_dict()),\n",
        "                    'epoch' : epoch+1,\n",
        "                    'bleu' : bleu,\n",
        "                }\n",
        "                save_checkpoint(checkpoint, filename=\"best_bleu_state.pth\")\n",
        "\n",
        "            clear_output(True)\n",
        "            plt.figure(figsize=(12,4))\n",
        "            for i, (name, history) in enumerate(sorted(metrics.items())):\n",
        "                plt.subplot(1, len(metrics), i + 1)\n",
        "                plt.title(name)\n",
        "                plt.plot(*zip(*history))\n",
        "                plt.grid()\n",
        "            plt.show()\n",
        "            print(\"Mean loss=%.3f\" % np.mean(metrics['train_loss'][-10:], axis=0)[1], flush=True)\n",
        "    \n",
        "    return metrics"
      ],
      "metadata": {
        "id": "89mcZGJmVzVF"
      },
      "execution_count": 23,
      "outputs": []
    },
    {
      "cell_type": "code",
      "source": [
        "metrics = train_loop(\n",
        "    model,\n",
        "    optimizer, \n",
        "    train_inp, \n",
        "    num_epochs=5000,\n",
        "    from_checkpoint=False\n",
        ")"
      ],
      "metadata": {
        "colab": {
          "base_uri": "https://localhost:8080/",
          "height": 318
        },
        "id": "tEM-7xwwJZTd",
        "outputId": "215c6fbc-f3eb-43ab-8544-5294e75dbfdb"
      },
      "execution_count": 24,
      "outputs": [
        {
          "output_type": "display_data",
          "data": {
            "text/plain": [
              "<Figure size 864x288 with 2 Axes>"
            ],
            "image/png": "[encoded data removed]"
          },
          "metadata": {
            "needs_background": "light"
          }
        },
        {
          "output_type": "stream",
          "name": "stdout",
          "text": [
            "Mean loss=2.425\n"
          ]
        },
        {
          "output_type": "stream",
          "name": "stderr",
          "text": [
            "\r100%|██████████| 5000/5000 [06:57<00:00, 11.97it/s]\n"
          ]
        }
      ]
    },
    {
      "cell_type": "code",
      "source": [
        "metrics = train_loop(\n",
        "    model,\n",
        "    optimizer, \n",
        "    train_inp, \n",
        "    num_epochs=15000,\n",
        "    from_checkpoint=False\n",
        ")"
      ],
      "metadata": {
        "colab": {
          "base_uri": "https://localhost:8080/",
          "height": 318
        },
        "outputId": "fad6c2b0-9308-499d-b202-408fb6835672",
        "id": "V8YNm-tOT5d_"
      },
      "execution_count": 24,
      "outputs": [
        {
          "output_type": "display_data",
          "data": {
            "text/plain": [
              "<Figure size 864x288 with 2 Axes>"
            ],
            "image/png": "[encoded data removed]"
          },
          "metadata": {
            "needs_background": "light"
          }
        },
        {
          "output_type": "stream",
          "name": "stdout",
          "text": [
            "Mean loss=1.948\n"
          ]
        },
        {
          "output_type": "stream",
          "name": "stderr",
          "text": [
            "100%|██████████| 15000/15000 [21:47<00:00, 11.47it/s]\n"
          ]
        }
      ]
    },
    {
      "cell_type": "code",
      "source": [
        "best_checkpoint = torch.load('/content/best_bleu_state.pth')\n",
        "print('best BLEU = ', best_checkpoint['bleu'])\n",
        "print('best epoch = ', best_checkpoint['epoch'])\n",
        "\n",
        "print('Mean BLEU on last 10 epoches = ', np.mean(metrics['dev_bleu'][-10:], axis=0)[1]) # Simple GRU model without attention"
      ],
      "metadata": {
        "colab": {
          "base_uri": "https://localhost:8080/"
        },
        "id": "WM-cP_mGWpLD",
        "outputId": "d9eced86-0fbf-412c-a05a-5b585f438be5"
      },
      "execution_count": 25,
      "outputs": [
        {
          "output_type": "stream",
          "name": "stdout",
          "text": [
            "best BLEU =  18.2925618702539\n",
            "best epoch =  13600\n",
            "Mean BLEU on last 10 epoches =  17.7647786952787\n"
          ]
        }
      ]
    },
    {
      "cell_type": "markdown",
      "source": [
        "### Beam research"
      ],
      "metadata": {
        "id": "gXcUM973AAxe"
      }
    },
    {
      "cell_type": "code",
      "source": [
        "def beam_research(model, inp, out, model_name, beam_min=2, beam_max=10):\n",
        "    \"\"\"BLEU scores of a model with different beam_size\"\"\"\n",
        "    \n",
        "    beam_range = range(beam_min, beam_max + 1)\n",
        "    blue_scores = []\n",
        "\n",
        "    for beam_size in beam_range:\n",
        "        blue = compute_bleu(model, inp, out, beam_size=beam_size, device=device)\n",
        "        blue_scores.append(blue)\n",
        "\n",
        "    plt.figure(figsize=(12, 5))\n",
        "    plt.plot(beam_range, blue_scores)\n",
        "    plt.title('Beam search results for %s' % model_name)\n",
        "    plt.xticks(beam_range)\n",
        "    plt.xlabel('beam size')\n",
        "    plt.ylabel('blue score')\n",
        "    plt.show()"
      ],
      "metadata": {
        "id": "Pgka3zW0M7kM"
      },
      "execution_count": 28,
      "outputs": []
    },
    {
      "cell_type": "code",
      "source": [
        "%time beam_research(model, dev_inp, dev_out, 'basic model')"
      ],
      "metadata": {
        "colab": {
          "base_uri": "https://localhost:8080/",
          "height": 387
        },
        "id": "ESHaKx9oM8NB",
        "outputId": "4c34e353-ebdb-4f81-fa06-bdb07bd5488b"
      },
      "execution_count": 29,
      "outputs": [
        {
          "output_type": "display_data",
          "data": {
            "text/plain": [
              "<Figure size 864x360 with 1 Axes>"
            ],
            "image/png": "[encoded data removed]"
          },
          "metadata": {
            "needs_background": "light"
          }
        },
        {
          "output_type": "stream",
          "name": "stdout",
          "text": [
            "CPU times: user 40min, sys: 19.1 s, total: 40min 19s\n",
            "Wall time: 40min 25s\n"
          ]
        }
      ]
    },
    {
      "cell_type": "code",
      "source": [
        "for inp_line, trans_line, out_line in zip(dev_inp[::500], model.translate_lines(dev_inp[::500], device=device, beam_size=2)[0], dev_out[::500]):\n",
        "    print(f'input line: {inp_line}')\n",
        "    print(f'translated line: {trans_line}')\n",
        "    print(f'target line: {out_line}')\n",
        "    print()"
      ],
      "metadata": {
        "colab": {
          "base_uri": "https://localhost:8080/"
        },
        "id": "t3zGuym0LSKC",
        "outputId": "b4dfa67f-6fb2-4c2a-d378-11af48ed2a66"
      },
      "execution_count": 27,
      "outputs": [
        {
          "output_type": "stream",
          "name": "stdout",
          "text": [
            "input line: в распоряжении гостей общая кухня и общая гостиная .\n",
            "translated line: they are a seating and dining room with shared / or a terrace and the area is available for a surcharge and a private kitchen is provided for a fee and a garden with the accommodation is available on the premises ’ . the property has an hour ’ drive from all of them at a distance . the hotel has an on site of this holiday . there are also access . the hotel has an hour ’ drive away from all of a 20 . the hotel has an on site of this holiday . there are also\n",
            "target line: a shared equipped kitchen and a common living room are provided to guests .\n",
            "\n",
            "input line: кроме того , предоставляется прокат велосипедов , услуги трансфера и бесплатная парковка .\n",
            "translated line: there are free of bicycles , free shuttle services , free shuttle services and laundry facilities are provided at this property and the property is popular . free wi . free wi parking . the hotel has free parking is possible . the hotel has free parking is possible . the hotel has free parking on the premises ’ . the hotel has an on site of this holiday . there are a 20 % available on the premises and free private bathrooms are provided for a surcharge and free wifi . the hotel has an on site of this\n",
            "target line: bicycle rental and shuttle services are also available . the property offers free parking .\n",
            "\n",
            "input line: расстояние до города ки@@ сси@@ м@@ ми составляет 26 км .\n",
            "translated line: the bathroom airport can accommodate is located 20 . 4 miles from this hotel is a 20 km from hotel on - demand park , which offers a selection . the hotel has an on site of this holiday . the hotel has its rooms with direct connections . the hotel . the hotel has its rooms with direct connections . the hotel . the hotel has its rooms with direct connections . the hotel . the hotel has its rooms with direct connections . the hotel . the hotel has its rooms with direct connections . the hotel .\n",
            "target line: the unit is 26 km from kissimmee .\n",
            "\n",
            "input line: апартаменты в пент@@ хаусе с общим открытым бассейном , садом , кондиционером и террасой для загара расположены в 5 минутах ходьбы от пляжа на курорте ка@@ бо - рой .\n",
            "translated line: offering views is a 5 located just 5 blocks in the city , located just 5 blocks away , while a garden and views from a beach terrace with sea view and offers self accommodation . the unit features views . the unit . the property has views over access . the unit . the property has direct links . the unit . the hotel has its views over a 15 . there are a 20 % ity of a private bathroom with direct connections to explore . the hotel has an on site of this holiday . there are\n",
            "target line: situated 5 minutes ' walk from the beach in cabo ro@@ ig , this air - conditioned penthouse apartment features a communal outdoor pool , garden and sun terrace .\n",
            "\n",
            "input line: апартаменты mo@@ s@@ co@@ w point - loft red square находятся в москве , в 200 метрах от большого театра .\n",
            "translated line: ka@@ storia - style apartments in prague in prague in central , this air apartment features free private beach in public transport - minute drive from central station and a 40 km away from this hotel is a 10 . the hotel has an hour . the hotel has an on site of this holiday . the hotel has an on site of this holiday . the hotel has an on site of this holiday . the hotel has an on site of this holiday . the hotel has an on site of this holiday . there are also access\n",
            "target line: moscow point - loft red square offers accommodation in moscow . the apartment is 200 metres from bolshoi theatre .\n",
            "\n",
            "input line: в вашем распоряжении собственная ванная комната с душем и полотенцами .\n",
            "translated line: bike villa also has private bathroom facilities with a bath , bidet , and slippers are also available in the apartment ’ . the unit . there are a 15 . there are a 15 . there are a private beach area with free internet . the hotel has an outdoor swimming pools for a fee of their room service by car and the ionian area of fame are . the hotel has an on site of this holiday . there are a 20 % ity of a drink at a surcharge of fame ). . the hotel has an\n",
            "target line: featuring a shower , private bathrooms also come with towels .\n",
            "\n"
          ]
        }
      ]
    },
    {
      "cell_type": "code",
      "source": [
        "for inp_line, trans_line, out_line in zip(dev_inp[::500], model.translate_lines(dev_inp[::500], device=device, beam_size=2, verbose=True)[0], dev_out[::500]):\n",
        "    print(f'input line: {inp_line}')\n",
        "    print(f'translated line: {trans_line}')\n",
        "    print(f'target line: {out_line}')\n",
        "    print()"
      ],
      "metadata": {
        "colab": {
          "base_uri": "https://localhost:8080/",
          "height": 399
        },
        "id": "Rgb180OMLhXG",
        "outputId": "cb48576f-fcf7-4697-e939-8f12581cf573"
      },
      "execution_count": 28,
      "outputs": [
        {
          "output_type": "error",
          "ename": "TypeError",
          "evalue": "ignored",
          "traceback": [
            "\u001b[0;31m---------------------------------------------------------------------------\u001b[0m",
            "\u001b[0;31mTypeError\u001b[0m                                 Traceback (most recent call last)",
            "\u001b[0;32m<ipython-input-28-7f2a1a365bad>\u001b[0m in \u001b[0;36m<module>\u001b[0;34m\u001b[0m\n\u001b[0;32m----> 1\u001b[0;31m \u001b[0;32mfor\u001b[0m \u001b[0minp_line\u001b[0m\u001b[0;34m,\u001b[0m \u001b[0mtrans_line\u001b[0m\u001b[0;34m,\u001b[0m \u001b[0mout_line\u001b[0m \u001b[0;32min\u001b[0m \u001b[0mzip\u001b[0m\u001b[0;34m(\u001b[0m\u001b[0mdev_inp\u001b[0m\u001b[0;34m[\u001b[0m\u001b[0;34m:\u001b[0m\u001b[0;34m:\u001b[0m\u001b[0;36m500\u001b[0m\u001b[0;34m]\u001b[0m\u001b[0;34m,\u001b[0m \u001b[0mmodel\u001b[0m\u001b[0;34m.\u001b[0m\u001b[0mtranslate_lines\u001b[0m\u001b[0;34m(\u001b[0m\u001b[0mdev_inp\u001b[0m\u001b[0;34m[\u001b[0m\u001b[0;34m:\u001b[0m\u001b[0;34m:\u001b[0m\u001b[0;36m500\u001b[0m\u001b[0;34m]\u001b[0m\u001b[0;34m,\u001b[0m \u001b[0mdevice\u001b[0m\u001b[0;34m=\u001b[0m\u001b[0mdevice\u001b[0m\u001b[0;34m,\u001b[0m \u001b[0mbeam_size\u001b[0m\u001b[0;34m=\u001b[0m\u001b[0;36m2\u001b[0m\u001b[0;34m,\u001b[0m \u001b[0mverbose\u001b[0m\u001b[0;34m=\u001b[0m\u001b[0;32mTrue\u001b[0m\u001b[0;34m)\u001b[0m\u001b[0;34m[\u001b[0m\u001b[0;36m0\u001b[0m\u001b[0;34m]\u001b[0m\u001b[0;34m,\u001b[0m \u001b[0mdev_out\u001b[0m\u001b[0;34m[\u001b[0m\u001b[0;34m:\u001b[0m\u001b[0;34m:\u001b[0m\u001b[0;36m500\u001b[0m\u001b[0;34m]\u001b[0m\u001b[0;34m)\u001b[0m\u001b[0;34m:\u001b[0m\u001b[0;34m\u001b[0m\u001b[0;34m\u001b[0m\u001b[0m\n\u001b[0m\u001b[1;32m      2\u001b[0m     \u001b[0mprint\u001b[0m\u001b[0;34m(\u001b[0m\u001b[0;34mf'input line: {inp_line}'\u001b[0m\u001b[0;34m)\u001b[0m\u001b[0;34m\u001b[0m\u001b[0;34m\u001b[0m\u001b[0m\n\u001b[1;32m      3\u001b[0m     \u001b[0mprint\u001b[0m\u001b[0;34m(\u001b[0m\u001b[0;34mf'translated line: {trans_line}'\u001b[0m\u001b[0;34m)\u001b[0m\u001b[0;34m\u001b[0m\u001b[0;34m\u001b[0m\u001b[0m\n\u001b[1;32m      4\u001b[0m     \u001b[0mprint\u001b[0m\u001b[0;34m(\u001b[0m\u001b[0;34mf'target line: {out_line}'\u001b[0m\u001b[0;34m)\u001b[0m\u001b[0;34m\u001b[0m\u001b[0;34m\u001b[0m\u001b[0m\n\u001b[1;32m      5\u001b[0m     \u001b[0mprint\u001b[0m\u001b[0;34m(\u001b[0m\u001b[0;34m)\u001b[0m\u001b[0;34m\u001b[0m\u001b[0;34m\u001b[0m\u001b[0m\n",
            "\u001b[0;32m/content/models.py\u001b[0m in \u001b[0;36mtranslate_lines\u001b[0;34m(self, inp_lines, device, beam_size, **kwargs)\u001b[0m\n\u001b[1;32m    146\u001b[0m         \u001b[0;32melse\u001b[0m\u001b[0;34m:\u001b[0m\u001b[0;34m\u001b[0m\u001b[0;34m\u001b[0m\u001b[0m\n\u001b[1;32m    147\u001b[0m             \u001b[0mout_ids\u001b[0m\u001b[0;34m,\u001b[0m \u001b[0mstates\u001b[0m \u001b[0;34m=\u001b[0m \u001b[0mself\u001b[0m\u001b[0;34m.\u001b[0m\u001b[0mdecode_inference_beam_search\u001b[0m\u001b[0;34m(\u001b[0m\u001b[0minitial_state\u001b[0m\u001b[0;34m,\u001b[0m \u001b[0mbeam_size\u001b[0m\u001b[0;34m,\u001b[0m \u001b[0;34m**\u001b[0m\u001b[0mkwargs\u001b[0m\u001b[0;34m)\u001b[0m\u001b[0;34m\u001b[0m\u001b[0;34m\u001b[0m\u001b[0m\n\u001b[0;32m--> 148\u001b[0;31m         \u001b[0;32mreturn\u001b[0m \u001b[0mself\u001b[0m\u001b[0;34m.\u001b[0m\u001b[0mout_voc\u001b[0m\u001b[0;34m.\u001b[0m\u001b[0mto_lines\u001b[0m\u001b[0;34m(\u001b[0m\u001b[0mout_ids\u001b[0m\u001b[0;34m)\u001b[0m\u001b[0;34m,\u001b[0m \u001b[0mstates\u001b[0m\u001b[0;34m\u001b[0m\u001b[0;34m\u001b[0m\u001b[0m\n\u001b[0m\u001b[1;32m    149\u001b[0m \u001b[0;34m\u001b[0m\u001b[0m\n\u001b[1;32m    150\u001b[0m \u001b[0;34m\u001b[0m\u001b[0m\n",
            "\u001b[0;32m/content/vocab.py\u001b[0m in \u001b[0;36mto_lines\u001b[0;34m(self, matrix, crop)\u001b[0m\n\u001b[1;32m     67\u001b[0m                 \u001b[0;32mif\u001b[0m \u001b[0mself\u001b[0m\u001b[0;34m.\u001b[0m\u001b[0meos_ix\u001b[0m \u001b[0;32min\u001b[0m \u001b[0mline_ix\u001b[0m\u001b[0;34m:\u001b[0m\u001b[0;34m\u001b[0m\u001b[0;34m\u001b[0m\u001b[0m\n\u001b[1;32m     68\u001b[0m                     \u001b[0mline_ix\u001b[0m \u001b[0;34m=\u001b[0m \u001b[0mline_ix\u001b[0m\u001b[0;34m[\u001b[0m\u001b[0;34m:\u001b[0m\u001b[0mline_ix\u001b[0m\u001b[0;34m.\u001b[0m\u001b[0mindex\u001b[0m\u001b[0;34m(\u001b[0m\u001b[0mself\u001b[0m\u001b[0;34m.\u001b[0m\u001b[0meos_ix\u001b[0m\u001b[0;34m)\u001b[0m\u001b[0;34m]\u001b[0m\u001b[0;34m\u001b[0m\u001b[0;34m\u001b[0m\u001b[0m\n\u001b[0;32m---> 69\u001b[0;31m             \u001b[0mline\u001b[0m \u001b[0;34m=\u001b[0m \u001b[0;34m' '\u001b[0m\u001b[0;34m.\u001b[0m\u001b[0mjoin\u001b[0m\u001b[0;34m(\u001b[0m\u001b[0mself\u001b[0m\u001b[0;34m.\u001b[0m\u001b[0mtokens\u001b[0m\u001b[0;34m[\u001b[0m\u001b[0mi\u001b[0m\u001b[0;34m]\u001b[0m \u001b[0;32mfor\u001b[0m \u001b[0mi\u001b[0m \u001b[0;32min\u001b[0m \u001b[0mline_ix\u001b[0m\u001b[0;34m)\u001b[0m\u001b[0;34m\u001b[0m\u001b[0;34m\u001b[0m\u001b[0m\n\u001b[0m\u001b[1;32m     70\u001b[0m             \u001b[0mlines\u001b[0m\u001b[0;34m.\u001b[0m\u001b[0mappend\u001b[0m\u001b[0;34m(\u001b[0m\u001b[0mline\u001b[0m\u001b[0;34m)\u001b[0m\u001b[0;34m\u001b[0m\u001b[0;34m\u001b[0m\u001b[0m\n\u001b[1;32m     71\u001b[0m         \u001b[0;32mreturn\u001b[0m \u001b[0mlines\u001b[0m\u001b[0;34m\u001b[0m\u001b[0;34m\u001b[0m\u001b[0m\n",
            "\u001b[0;32m/content/vocab.py\u001b[0m in \u001b[0;36m<genexpr>\u001b[0;34m(.0)\u001b[0m\n\u001b[1;32m     67\u001b[0m                 \u001b[0;32mif\u001b[0m \u001b[0mself\u001b[0m\u001b[0;34m.\u001b[0m\u001b[0meos_ix\u001b[0m \u001b[0;32min\u001b[0m \u001b[0mline_ix\u001b[0m\u001b[0;34m:\u001b[0m\u001b[0;34m\u001b[0m\u001b[0;34m\u001b[0m\u001b[0m\n\u001b[1;32m     68\u001b[0m                     \u001b[0mline_ix\u001b[0m \u001b[0;34m=\u001b[0m \u001b[0mline_ix\u001b[0m\u001b[0;34m[\u001b[0m\u001b[0;34m:\u001b[0m\u001b[0mline_ix\u001b[0m\u001b[0;34m.\u001b[0m\u001b[0mindex\u001b[0m\u001b[0;34m(\u001b[0m\u001b[0mself\u001b[0m\u001b[0;34m.\u001b[0m\u001b[0meos_ix\u001b[0m\u001b[0;34m)\u001b[0m\u001b[0;34m]\u001b[0m\u001b[0;34m\u001b[0m\u001b[0;34m\u001b[0m\u001b[0m\n\u001b[0;32m---> 69\u001b[0;31m             \u001b[0mline\u001b[0m \u001b[0;34m=\u001b[0m \u001b[0;34m' '\u001b[0m\u001b[0;34m.\u001b[0m\u001b[0mjoin\u001b[0m\u001b[0;34m(\u001b[0m\u001b[0mself\u001b[0m\u001b[0;34m.\u001b[0m\u001b[0mtokens\u001b[0m\u001b[0;34m[\u001b[0m\u001b[0mi\u001b[0m\u001b[0;34m]\u001b[0m \u001b[0;32mfor\u001b[0m \u001b[0mi\u001b[0m \u001b[0;32min\u001b[0m \u001b[0mline_ix\u001b[0m\u001b[0;34m)\u001b[0m\u001b[0;34m\u001b[0m\u001b[0;34m\u001b[0m\u001b[0m\n\u001b[0m\u001b[1;32m     70\u001b[0m             \u001b[0mlines\u001b[0m\u001b[0;34m.\u001b[0m\u001b[0mappend\u001b[0m\u001b[0;34m(\u001b[0m\u001b[0mline\u001b[0m\u001b[0;34m)\u001b[0m\u001b[0;34m\u001b[0m\u001b[0;34m\u001b[0m\u001b[0m\n\u001b[1;32m     71\u001b[0m         \u001b[0;32mreturn\u001b[0m \u001b[0mlines\u001b[0m\u001b[0;34m\u001b[0m\u001b[0;34m\u001b[0m\u001b[0m\n",
            "\u001b[0;31mTypeError\u001b[0m: list indices must be integers or slices, not tuple"
          ]
        }
      ]
    },
    {
      "cell_type": "code",
      "execution_count": 32,
      "metadata": {
        "id": "KyaHOpealrtS",
        "colab": {
          "base_uri": "https://localhost:8080/"
        },
        "outputId": "894c5e4f-60fd-4046-93d3-ec8c0ef04691"
      },
      "outputs": [
        {
          "output_type": "stream",
          "name": "stdout",
          "text": [
            "input line: в распоряжении гостей общая кухня и общая гостиная .\n",
            "translated line: you will find a shared kitchen and a shared kitchen at the property .\n",
            "target line: a shared equipped kitchen and a common living room are provided to guests .\n",
            "\n",
            "input line: кроме того , предоставляется прокат велосипедов , услуги трансфера и бесплатная парковка .\n",
            "translated line: other facilities offered at the property include free parking .\n",
            "target line: bicycle rental and shuttle services are also available . the property offers free parking .\n",
            "\n",
            "input line: расстояние до города ки@@ сси@@ м@@ ми составляет 26 км .\n",
            "translated line: brindisi is 11 km from the property .\n",
            "target line: the unit is 26 km from kissimmee .\n",
            "\n",
            "input line: апартаменты в пент@@ хаусе с общим открытым бассейном , садом , кондиционером и террасой для загара расположены в 5 минутах ходьбы от пляжа на курорте ка@@ бо - рой .\n",
            "translated line: located in a quiet area , just a 5 - minute walk from the beach , villa vision offers self - catering accommodation with a balcony and views of the garden .\n",
            "target line: situated 5 minutes ' walk from the beach in cabo ro@@ ig , this air - conditioned penthouse apartment features a communal outdoor pool , garden and sun terrace .\n",
            "\n",
            "input line: апартаменты mo@@ s@@ co@@ w point - loft red square находятся в москве , в 200 метрах от большого театра .\n",
            "translated line: apartments ba@@ glio i is located in the centre of rome , 300 metres from the centre of the building .\n",
            "target line: moscow point - loft red square offers accommodation in moscow . the apartment is 200 metres from bolshoi theatre .\n",
            "\n",
            "input line: в вашем распоряжении собственная ванная комната с душем и полотенцами .\n",
            "translated line: featuring a shower , private bathrooms also come with a hairdryer .\n",
            "target line: featuring a shower , private bathrooms also come with towels .\n",
            "\n"
          ]
        }
      ],
      "source": [
        "for inp_line, trans_line, out_line in zip(dev_inp[::500], model.translate_lines(dev_inp[::500], device=device)[0], dev_out[::500]):\n",
        "    print(f'input line: {inp_line}')\n",
        "    print(f'translated line: {trans_line}')\n",
        "    print(f'target line: {out_line}')\n",
        "    print()"
      ]
    },
    {
      "cell_type": "code",
      "source": [
        "for inp_line, trans_line, out_line in zip(dev_inp[::500], model.translate_lines(dev_inp[::500], device=device, beam_size=2)[0], dev_out[::500]):\n",
        "    print(f'input line: {inp_line}')\n",
        "    print(f'translated line: {trans_line}')\n",
        "    print(f'target line: {out_line}')\n",
        "    print()"
      ],
      "metadata": {
        "colab": {
          "base_uri": "https://localhost:8080/"
        },
        "id": "ZAdx0g5xMZ3d",
        "outputId": "9822b76c-0ed8-44e5-b8d3-b6a8d175739e"
      },
      "execution_count": 35,
      "outputs": [
        {
          "output_type": "stream",
          "name": "stdout",
          "text": [
            "input line: в распоряжении гостей общая кухня и общая гостиная .\n",
            "translated line: there are a common lounge and hairdresser ’ a laundry service at a surcharge and is also . a cash tions at this guest . guests will also have a bicycle rental facilities for guests to explore guests at their stay at additional charge in . guests are available for a fee and free entry . the hotel offers free parking is possible on the premises\n",
            "target line: a shared equipped kitchen and a common living room are provided to guests .\n",
            "\n",
            "input line: кроме того , предоставляется прокат велосипедов , услуги трансфера и бесплатная парковка .\n",
            "translated line: the hostel in a bicycle and bicycle rentals can also rent bicycles for guests to use the car rental and car rental services are offered at this hotel and guests receive free of the hotel in a car rental service for guests to the free shuttle . free parking spaces . the hotel offers a free transfer . the nearest grocery shop and a private parking are located available at a distance . the hotel can accommodate their stay at nearby attractions include city and fishing opportunities are located nearby in front . the hotel offers an indoor swimming pools\n",
            "target line: bicycle rental and shuttle services are also available . the property offers free parking .\n",
            "\n",
            "input line: расстояние до города ки@@ сси@@ м@@ ми составляет 26 км .\n",
            "translated line: the air - gro@@ ss@@ i is 26 miles from this hotel hotel in a 48 - conditioned room . 6 miles away from this property and is a mile away from this property and offers accommodation with free wifi . the hotel offers an on site and a wide selection to explore all of this guest rooms\n",
            "target line: the unit is 26 km from kissimmee .\n",
            "\n",
            "input line: апартаменты в пент@@ хаусе с общим открытым бассейном , садом , кондиционером и террасой для загара расположены в 5 минутах ходьбы от пляжа на курорте ка@@ бо - рой .\n",
            "translated line: set tours and is located just 5 - minutes ' drive to a balcony with sea view . it features self catering accommodation and free wi . the unit features views over a garden and an indoor swimming pools , in a terrace and garden views in a building in a building and 500 m2 . the unit can accommodate on to explore guests can reach . the hotel offers an on site and a private terrace with barbecue . the nearest grocery shop are available at a surcharge , a ski school is located right outside the hotel and\n",
            "target line: situated 5 minutes ' walk from the beach in cabo ro@@ ig , this air - conditioned penthouse apartment features a communal outdoor pool , garden and sun terrace .\n",
            "\n",
            "input line: апартаменты mo@@ s@@ co@@ w point - loft red square находятся в москве , в 200 метрах от большого театра .\n",
            "translated line: bicycle and suites in santa maria maggiore in sain@@ st@@ ya in a historic centre of opera and is 200 metre distance . the apartment can be rented . the apartment can be rented . the property offers a washing - view ski areas and a supermarket are located within 200 meters away from this holiday . this property features free wi . the hotel offers an on site and a garden with the property is also available to guests in the city centre of sölden , is 200 metre . the hotel offers an on site and is also\n",
            "target line: moscow point - loft red square offers accommodation in moscow . the apartment is 200 metres from bolshoi theatre .\n",
            "\n",
            "input line: в вашем распоряжении собственная ванная комната с душем и полотенцами .\n",
            "translated line: apartment comes complete and private bathrooms have shower facilities and a shower cabin in each room in a shower and the private bathrooms come . each unit also includes an electric private . a hairdryer is available in all the area and is fitted . the bathroom comes . a tv with cable tv and private bathrooms are also included in all the rooms and a bathroom with hairdryer and the private bathrooms are available for the guests of your stay in a . guests will also have a private beach in a shared bathroom and free of the garden\n",
            "target line: featuring a shower , private bathrooms also come with towels .\n",
            "\n"
          ]
        }
      ]
    },
    {
      "cell_type": "code",
      "source": [
        "# Why changing number?\n",
        "\n",
        "# input line: расстояние до города ки@@ сси@@ м@@ ми составляет 26 км .\n",
        "# translated line: the city of santander is 5 km away .\n",
        "\n",
        "for out_line in dev_out:\n",
        "    if ('is 5 km' in out_line):\n",
        "        print(out_line)\n",
        "\n",
        "# Answer: Where's a sample in training set (dev_out) which has 'is 5 km' \n",
        "#  ... is 5 km from ...\n",
        "\n",
        "# Thus, the model remember 'is' with '5 km away'"
      ],
      "metadata": {
        "colab": {
          "base_uri": "https://localhost:8080/"
        },
        "id": "HM5n90n5L7-2",
        "outputId": "3a8d9fe7-16fd-4a17-8fde-3f4afb5291cd"
      },
      "execution_count": null,
      "outputs": [
        {
          "output_type": "stream",
          "name": "stdout",
          "text": [
            "zo@@ ag@@ li train station is 900 metres from the mare zo@@ ag@@ li . ra@@ pal@@ lo is 5 km away .\n",
            "novosibirsk state circus is 2 . 6 km from apartment on vo@@ en@@ naya , while novosibirsk zoo is 5 km away .\n",
            "set in her@@ mag@@ or , haus ei@@ ch@@ horn ferienwohnung offers self - catering accommodation with free wifi . featuring free private parking , the apartment is 5 km from lake pres@@ seg@@ ger .\n",
            "lake pi@@ ch@@ ho@@ la is 4 . 1 km from sin@@ gh@@ i villa guest house , while city palace of ud@@ aipur is 5 km away .\n",
            "salzburg is 5 km from las@@ chen@@ sky depend@@ ance , while berchtesgaden is 16 km away .\n",
            "hotel sto@@ mi@@ o beach is 5 km from kim@@ i harbour and at a distance of 180 km from athens city centre .\n",
            "parc des ex@@ posit@@ ions de metz is 5 km from bo@@ he@@ me ap@@ part , while sta@@ de saint - sy@@ mp@@ hori@@ en is 1 . 1 km from the property . metz - nan@@ cy - lor@@ ra@@ ine airport is 15 km away .\n",
            "the blu gro@@ tto is 5 km away .\n",
            "situated in the pat@@ el complex , hotel royal park is 5 km from the kur@@ la railway station .\n",
            "situated 4 . 3 km from bu@@ lev@@ ar plaza in alicante , this apartment features a patio with garden views . the property is 5 km from expl@@ an@@ ada de espa@@ ña boulevard and free private parking is provided .\n"
          ]
        }
      ]
    },
    {
      "cell_type": "markdown",
      "source": [
        "**QUESTION:** How to tackle this problem with numbers?  \n",
        "**ANSWER:** Add attention / train more"
      ],
      "metadata": {
        "id": "WqYMdkLrSAZC"
      }
    },
    {
      "cell_type": "markdown",
      "metadata": {
        "id": "Qz9aROAIlrtX"
      },
      "source": [
        "# Attention layer\n",
        "\n",
        "Given encoder sequence $ h^e_0, h^e_1, h^e_2, ..., h^e_T$ and a single decoder state $h^d$,\n",
        "\n",
        "* Compute logits with a 2-layer neural network\n",
        "$$a_t = linear_{out}(tanh(linear_{e}(h^e_t) + linear_{d}(h_d)))$$\n",
        "* Get probabilities from logits, \n",
        "$$ p_t = {{e ^ {a_t}} \\over { \\sum_\\tau e^{a_\\tau} }} $$\n",
        "\n",
        "* Add up encoder states with probabilities to get __attention response__\n",
        "$$ attn = \\sum_t p_t \\cdot h^e_t $$\n",
        "\n",
        "You can learn more about attention layers in the lecture slides or [from this post](https://distill.pub/2016/augmented-rnns/)."
      ]
    },
    {
      "cell_type": "markdown",
      "metadata": {
        "id": "IalfpdAelrtb"
      },
      "source": [
        "### Seq2seq model with attention\n",
        "\n",
        "The simplest way to implement attention is to use it in decoder phase:\n",
        "![img](https://i.imgur.com/6fKHlHb.png)\n",
        "_image from distill.pub [article](https://distill.pub/2016/augmented-rnns/)_\n",
        "\n",
        "On every step, use __previous__ decoder state to obtain attention response. Then feed concat this response to the inputs of next attention layer.\n",
        "\n",
        "The key implementation detail here is __model state__. Put simply, you can add any tensor into the list of `encode` outputs. You will then have access to them at each `decode` step. This may include:\n",
        "* Last RNN hidden states (as in basic model)\n",
        "* The whole sequence of encoder outputs (to attend to) and mask\n",
        "* Attention probabilities (to visualize)\n",
        "\n",
        "_There are, of course, alternative ways to wire attention into your network and different kinds of attention. Take a look at [this](https://arxiv.org/abs/1609.08144), [this](https://arxiv.org/abs/1706.03762) and [this](https://arxiv.org/abs/1808.03867) for ideas. And for image captioning/im2latex there's [visual attention](https://arxiv.org/abs/1502.03044)_"
      ]
    },
    {
      "cell_type": "code",
      "source": [
        "from models import AttentiveModel"
      ],
      "metadata": {
        "id": "mlpN_XPy6F4n"
      },
      "execution_count": null,
      "outputs": []
    },
    {
      "cell_type": "markdown",
      "metadata": {
        "id": "ryZCOTEslrtf"
      },
      "source": [
        "### Training attentive model\n",
        "\n",
        "Reusing the structure we've built for the regular model."
      ]
    },
    {
      "cell_type": "code",
      "execution_count": null,
      "metadata": {
        "id": "-YMHPgZxcFaQ"
      },
      "outputs": [],
      "source": [
        "from IPython.display import clear_output\n",
        "from tqdm import tqdm, trange\n",
        "metrics = {'train_loss': [], 'dev_bleu': [] }\n",
        "\n",
        "model = AttentiveModel(inp_voc, out_voc).to(device)\n",
        "optimizer = torch.optim.Adam(model.parameters(), lr=1e-3)\n",
        "batch_size = 32"
      ]
    },
    {
      "cell_type": "code",
      "source": [
        "metrics = train_loop(\n",
        "    model,\n",
        "    optimizer, \n",
        "    train_inp, \n",
        "    num_epochs=25000,\n",
        "    from_checkpoint=False\n",
        ")"
      ],
      "metadata": {
        "colab": {
          "base_uri": "https://localhost:8080/",
          "height": 318
        },
        "id": "3qWDTs7Z89EA",
        "outputId": "234d72ae-7863-481a-f2b2-3a9455c18728"
      },
      "execution_count": null,
      "outputs": [
        {
          "output_type": "display_data",
          "data": {
            "text/plain": [
              "<Figure size 864x288 with 2 Axes>"
            ],
            "image/png": "[encoded data removed]"
          },
          "metadata": {
            "needs_background": "light"
          }
        },
        {
          "output_type": "stream",
          "name": "stdout",
          "text": [
            "Mean loss=1.716\n"
          ]
        },
        {
          "output_type": "stream",
          "name": "stderr",
          "text": [
            "\r100%|██████████| 25000/25000 [39:57<00:00, 10.43it/s]\n"
          ]
        }
      ]
    },
    {
      "cell_type": "code",
      "source": [
        "best_checkpoint = torch.load('/content/best_bleu_state.pth')\n",
        "print('best BLEU = ', best_checkpoint['bleu'])\n",
        "print('best epoch = ', best_checkpoint['epoch'])"
      ],
      "metadata": {
        "colab": {
          "base_uri": "https://localhost:8080/"
        },
        "outputId": "ec58f428-0d80-4d26-dd64-eca411a359b8",
        "id": "xRYG7IVwNGfl"
      },
      "execution_count": null,
      "outputs": [
        {
          "output_type": "stream",
          "name": "stdout",
          "text": [
            "best BLEU =  22.752529507906143\n",
            "best epoch =  24800\n"
          ]
        }
      ]
    },
    {
      "cell_type": "code",
      "execution_count": null,
      "metadata": {
        "id": "jG_6u676NGfm"
      },
      "outputs": [],
      "source": [
        "assert np.mean(metrics['dev_bleu'][-10:], axis=0)[1] > 15, \"We kind of need a higher bleu BLEU from you. Kind of right now.\""
      ]
    },
    {
      "cell_type": "code",
      "source": [
        "# Mean BLEU on last 10 epoches (Simple GRU model without attention)\n",
        "np.mean(metrics['dev_bleu'][-10:], axis=0)[1]"
      ],
      "metadata": {
        "colab": {
          "base_uri": "https://localhost:8080/"
        },
        "outputId": "8f3d8777-7b81-44cf-cbb1-9d221393a2a9",
        "id": "MmcpsCqkNGfn"
      },
      "execution_count": null,
      "outputs": [
        {
          "output_type": "execute_result",
          "data": {
            "text/plain": [
              "22.407775743721057"
            ]
          },
          "metadata": {},
          "execution_count": 38
        }
      ]
    },
    {
      "cell_type": "code",
      "execution_count": null,
      "metadata": {
        "colab": {
          "base_uri": "https://localhost:8080/"
        },
        "outputId": "2886567d-87f6-4e67-ae77-b393ddec92d9",
        "id": "yzFgNQ_qNGfn"
      },
      "outputs": [
        {
          "output_type": "stream",
          "name": "stdout",
          "text": [
            "input line: в распоряжении гостей общая кухня и общая гостиная .\n",
            "translated line: there is a shared kitchen and shared shared kitchen .\n",
            "target line: a shared equipped kitchen and a common living room are provided to guests .\n",
            "\n",
            "input line: кроме того , предоставляется прокат велосипедов , услуги трансфера и бесплатная парковка .\n",
            "translated line: bike rental and car rental are available at the property and free parking .\n",
            "target line: bicycle rental and shuttle services are also available . the property offers free parking .\n",
            "\n",
            "input line: расстояние до города ки@@ сси@@ м@@ ми составляет 26 км .\n",
            "translated line: the town of rethymno is 26 km away .\n",
            "target line: the unit is 26 km from kissimmee .\n",
            "\n",
            "input line: апартаменты в пент@@ хаусе с общим открытым бассейном , садом , кондиционером и террасой для загара расположены в 5 минутах ходьбы от пляжа на курорте ка@@ бо - рой .\n",
            "translated line: offering a barbecue and a garden , the apartment is situated in a quiet area in the complex of the sea , a 5 - minute walk from ubud market .\n",
            "target line: situated 5 minutes ' walk from the beach in cabo ro@@ ig , this air - conditioned penthouse apartment features a communal outdoor pool , garden and sun terrace .\n",
            "\n",
            "input line: апартаменты mo@@ s@@ co@@ w point - loft red square находятся в москве , в 200 метрах от большого театра .\n",
            "translated line: apartment laz@@ lino is located in minsk , 200 metres from the property .\n",
            "target line: moscow point - loft red square offers accommodation in moscow . the apartment is 200 metres from bolshoi theatre .\n",
            "\n",
            "input line: в вашем распоряжении собственная ванная комната с душем и полотенцами .\n",
            "translated line: featuring a shower , private bathrooms also come with towels .\n",
            "target line: featuring a shower , private bathrooms also come with towels .\n",
            "\n"
          ]
        }
      ],
      "source": [
        "for inp_line, trans_line, out_line in zip(dev_inp[::500], model.translate_lines(dev_inp[::500], device='cuda')[0], dev_out[::500]):\n",
        "    print(f'input line: {inp_line}')\n",
        "    print(f'translated line: {trans_line}')\n",
        "    print(f'target line: {out_line}')\n",
        "    print()"
      ]
    },
    {
      "cell_type": "markdown",
      "source": [
        "__My comment:__   \n",
        "As we can see, the translation is way better now.  \n",
        "Our model also translated the line __'составляет 26 км' --> 'is 26 km from property'__ correctly."
      ],
      "metadata": {
        "id": "HIt8EhRsRNDN"
      }
    },
    {
      "cell_type": "markdown",
      "metadata": {
        "id": "HquhmTYeMrrb"
      },
      "source": [
        "### Visualizing model attention \n",
        "\n",
        "After training the attentive translation model, you can check it's sanity by visualizing its attention weights.\n",
        "\n",
        "We provided you with a function that draws attention maps using [`Bokeh`](https://bokeh.pydata.org/en/latest/index.html). Once you managed to produce something better than random noise, please save at least 3 attention maps and __submit them to anytask__ alongside this notebook to get the max grade. Saving bokeh figures as __cell outputs is not enough!__ (TAs can't see saved bokeh figures in anytask). You can save bokeh images as screenshots or using this button:\n",
        "\n",
        "![bokeh_panel](https://github.com/yandexdataschool/nlp_course/raw/2019/resources/bokeh_panel.png)\n",
        "\n",
        "__Note:__ you're not locked into using bokeh. If you prefer a different visualization method, feel free to use that instead of bokeh."
      ]
    },
    {
      "cell_type": "code",
      "execution_count": null,
      "metadata": {
        "id": "ds72eX5hMrrc"
      },
      "outputs": [],
      "source": [
        "import bokeh.plotting as pl\n",
        "import bokeh.models as bm\n",
        "from bokeh.io import output_notebook, show\n",
        "output_notebook()\n",
        "\n",
        "def draw_attention(inp_line, translation, probs):\n",
        "    \"\"\" An intentionally ambiguous function to visualize attention weights \"\"\"\n",
        "    inp_tokens = inp_voc.tokenize(inp_line)\n",
        "    trans_tokens = out_voc.tokenize(translation)\n",
        "    probs = probs[:len(trans_tokens), :len(inp_tokens)]\n",
        "    \n",
        "    fig = pl.figure(x_range=(0, len(inp_tokens)), y_range=(0, len(trans_tokens)),\n",
        "                    x_axis_type=None, y_axis_type=None, tools=[])\n",
        "    fig.image([probs[::-1]], 0, 0, len(inp_tokens), len(trans_tokens))\n",
        "\n",
        "    fig.add_layout(bm.LinearAxis(axis_label='source tokens'), 'above')\n",
        "    fig.xaxis.ticker = np.arange(len(inp_tokens)) + 0.5\n",
        "    fig.xaxis.major_label_overrides = dict(zip(np.arange(len(inp_tokens)) + 0.5, inp_tokens))\n",
        "    fig.xaxis.major_label_orientation = 45\n",
        "\n",
        "    fig.add_layout(bm.LinearAxis(axis_label='translation tokens'), 'left')\n",
        "    fig.yaxis.ticker = np.arange(len(trans_tokens)) + 0.5\n",
        "    fig.yaxis.major_label_overrides = dict(zip(np.arange(len(trans_tokens)) + 0.5, trans_tokens[::-1]))\n",
        "\n",
        "    show(fig)"
      ]
    },
    {
      "cell_type": "code",
      "execution_count": null,
      "metadata": {
        "id": "o0ygVY1JMrrd"
      },
      "outputs": [],
      "source": [
        "inp = dev_inp[::500]\n",
        "\n",
        "trans, states = model.translate_lines(inp)\n",
        "\n",
        "print(states.size())\n",
        "# select attention probs from model state (you may need to change this for your custom model)\n",
        "# attention_probs below must have shape [batch_size, translation_length, input_length], extracted from states\n",
        "# e.g. if attention probs are at the end of each state, use np.stack([state[-1] for state in states], axis=1)\n",
        "attention_probs = <YOUR CODE>"
      ]
    },
    {
      "cell_type": "code",
      "execution_count": null,
      "metadata": {
        "id": "r3s4NB6IMrrd"
      },
      "outputs": [],
      "source": [
        "for i in range(5):\n",
        "    draw_attention(inp[i], trans[i], attention_probs[i])\n",
        "    \n",
        "# Does it look fine already? don't forget to save images for anytask!"
      ]
    },
    {
      "cell_type": "markdown",
      "metadata": {
        "id": "q_weX7fEMrre"
      },
      "source": [
        "__Note 1:__ If the attention maps are not iterpretable, try starting encoder from zeros (instead of dec_start), forcing model to use attention.\n",
        "\n",
        "__Note 2:__ If you're studying this course as a YSDA student, please submit __attention screenshots__ alongside your notebook."
      ]
    },
    {
      "cell_type": "markdown",
      "metadata": {
        "id": "pbIIngNVlrtt"
      },
      "source": [
        "## Goind deeper (2++ points each)\n",
        "\n",
        "We want you to find the best model for the task. Use everything you know.\n",
        "\n",
        "* different recurrent units: rnn/gru/lstm; deeper architectures\n",
        "* bidirectional encoder, different attention methods for decoder (additive, dot-product, multi-head)\n",
        "* word dropout, training schedules, anything you can imagine\n",
        "* replace greedy inference with beam search\n",
        "\n",
        "For a better grasp of seq2seq We recommend you to conduct at least one experiment from one of the bullet-points or your alternative ideas. As usual, describe what you tried and what results you obtained in a short report."
      ]
    },
    {
      "cell_type": "markdown",
      "metadata": {
        "collapsed": true,
        "id": "2rzAj_xtlrtt"
      },
      "source": [
        "`[your report/log here or anywhere you please]`"
      ]
    }
  ],
  "metadata": {
    "colab": {
      "collapsed_sections": [],
      "name": "practice_and_homework_pytorch.ipynb",
      "provenance": []
    },
    "kernelspec": {
      "display_name": "Python 3",
      "language": "python",
      "name": "python3"
    },
    "language_info": {
      "codemirror_mode": {
        "name": "ipython",
        "version": 3
      },
      "file_extension": ".py",
      "mimetype": "text/x-python",
      "name": "python",
      "nbconvert_exporter": "python",
      "pygments_lexer": "ipython3",
      "version": "3.8.3"
    },
    "gpuClass": "standard",
    "accelerator": "GPU"
  },
  "nbformat": 4,
  "nbformat_minor": 0
}