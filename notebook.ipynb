{
  "cells": [
    {
      "cell_type": "markdown",
      "metadata": {
        "id": "HmsFABwClrsS"
      },
      "source": [
        "## Encoder-decoder architecture\n",
        "\n",
        "![img](https://esciencegroup.files.wordpress.com/2016/03/seq2seq.jpg)\n",
        "\n",
        "\n",
        "Encoder-decoder architectures are about converting anything to anything, including\n",
        " * Machine translation and spoken dialogue systems\n",
        " * [Image captioning](http://mscoco.org/dataset/#captions-challenge2015) and [image2latex](https://openai.com/requests-for-research/#im2latex) (convolutional encoder, recurrent decoder)\n",
        " * Generating [images by captions](https://arxiv.org/abs/1511.02793) (recurrent encoder, convolutional decoder)\n",
        " * Grapheme2phoneme - convert words to transcripts"
      ]
    },
    {
      "cell_type": "markdown",
      "metadata": {
        "id": "R4N9AD2dlrsU"
      },
      "source": [
        "## Our task: machine translation\n",
        "\n",
        "We gonna try our encoder-decoder models on russian to english machine translation problem. More specifically, we'll translate hotel and hostel descriptions. \n",
        "\n",
        "- Data will be tokenized with WordPunctTokenizer.\n",
        "- Our data lines contain unique rare words. If we operate on a word level, we will have to deal with large vocabulary size. If instead we use character-level models, it would take lots of iterations to process a sequence.\n",
        "- One popular approach is called [Byte Pair Encoding](https://github.com/rsennrich/subword-nmt) aka __BPE__. The algorithm starts with a character-level tokenization and then iteratively merges most frequent pairs for N iterations. This results in frequent words being merged into a single token and rare words split into syllables or even characters.\n",
        "\n"
      ]
    },
    {
      "cell_type": "code",
      "execution_count": 2,
      "metadata": {
        "id": "CfvojjHQlrsU"
      },
      "outputs": [],
      "source": [
        "%%capture\n",
        "!pip3 install torch>=1.3.0\n",
        "!pip3 install subword-nmt &> log\n",
        "!wget https://www.dropbox.com/s/yy2zqh34dyhv07i/data.txt?dl=1 -O data.txt\n",
        "!wget https://raw.githubusercontent.com/yandexdataschool/nlp_course/2020/week04_seq2seq/vocab.py -O vocab.py\n",
        "# thanks to tilda and deephack teams for the data, Dmitry Emelyanenko for the code :)"
      ]
    },
    {
      "cell_type": "code",
      "source": [
        "from nltk.tokenize import WordPunctTokenizer\n",
        "from subword_nmt.learn_bpe import learn_bpe\n",
        "from subword_nmt.apply_bpe import BPE\n",
        "\n",
        "import numpy as np\n",
        "import matplotlib.pyplot as plt\n",
        "from copy import deepcopy\n",
        "%matplotlib inline\n",
        "\n",
        "from sklearn.model_selection import train_test_split\n",
        "\n",
        "import torch\n",
        "import torch.nn as nn\n",
        "import torch.nn.functional as F\n"
      ],
      "metadata": {
        "id": "3oHmqbLbcO_3"
      },
      "execution_count": 3,
      "outputs": []
    },
    {
      "cell_type": "code",
      "source": [
        "!head -n 5 data.txt"
      ],
      "metadata": {
        "id": "EHDLI29GJ1d0",
        "outputId": "b4bf660f-be3f-4375-8b09-15b47beb98d8",
        "colab": {
          "base_uri": "https://localhost:8080/"
        }
      },
      "execution_count": 2,
      "outputs": [
        {
          "output_type": "stream",
          "name": "stdout",
          "text": [
            "Cordelia Hotel is situated in Tbilisi, a 3-minute walk away from Saint Trinity Church.\tОтель Cordelia расположен в Тбилиси, в 3 минутах ходьбы от Свято-Троицкого собора.\n",
            "At Tupirmarka Lodge you will find a 24-hour front desk, room service, and a snack bar.\tВ числе удобств лоджа Tupirmarka круглосуточная стойка регистрации и снэк-бар. Гости могут воспользоваться услугой доставки еды и напитков в номер.\n",
            "Featuring free WiFi in all areas, Naigao Xiaowo offers accommodation in Shanghai.\tАпартаменты Naigao Xiaowo расположены в городе Шанхай. К услугам гостей бесплатный Wi-Fi во всех зонах.\n",
            "Each has a TV and a private bathroom with shower.\tВ вашем распоряжении также телевизор и собственная ванная комната с душем.\n",
            "Your room comes with air conditioning and satellite TV.\tНомер оснащен кондиционером и спутниковым телевидением.\n"
          ]
        }
      ]
    },
    {
      "cell_type": "markdown",
      "source": [
        "### Tokenizing & applying BPE rules"
      ],
      "metadata": {
        "id": "K7aiRYDxcHVl"
      }
    },
    {
      "cell_type": "code",
      "execution_count": 4,
      "metadata": {
        "id": "g9kP0SdxlrsY"
      },
      "outputs": [],
      "source": [
        "tokenizer = WordPunctTokenizer()\n",
        "def tokenize(x):\n",
        "    return ' '.join(tokenizer.tokenize(x.lower()))\n",
        "\n",
        "# split and tokenize the data\n",
        "with open('train.en', 'w') as f_src,  open('train.ru', 'w') as f_dst:\n",
        "    for line in open('data.txt'):\n",
        "        src_line, dst_line = line.strip().split('\\t')\n",
        "        f_src.write(tokenize(src_line) + '\\n')\n",
        "        f_dst.write(tokenize(dst_line) + '\\n')"
      ]
    },
    {
      "cell_type": "code",
      "source": [
        "# build and apply bpe vocs\n",
        "bpe = {}\n",
        "for lang in ['en', 'ru']:\n",
        "    learn_bpe(open('./train.' + lang), open('bpe_rules.' + lang, 'w'), num_symbols=8000)  # 1. learn_bpe rules\n",
        "    bpe[lang] = BPE(open('./bpe_rules.' + lang))  # 2. create instance of BPE class\n",
        "    \n",
        "    with open('train.bpe.' + lang, 'w') as f_out:\n",
        "        for line in open('train.' + lang):\n",
        "            f_out.write(bpe[lang].process_line(line.strip()) + '\\n')  # 3. apply BPE tokenization to our data"
      ],
      "metadata": {
        "colab": {
          "base_uri": "https://localhost:8080/"
        },
        "id": "ywAyL_AQOW0o",
        "outputId": "048fa074-dce0-4ba7-9c32-33279ccb8559"
      },
      "execution_count": 5,
      "outputs": [
        {
          "output_type": "stream",
          "name": "stderr",
          "text": [
            "100%|██████████| 8000/8000 [00:27<00:00, 294.36it/s]\n",
            "100%|██████████| 8000/8000 [00:24<00:00, 329.25it/s]\n"
          ]
        }
      ]
    },
    {
      "cell_type": "code",
      "source": [
        "# first 3 lines of our BPE tokenized English data:\n",
        "!head -n 3 /content/train.bpe.en "
      ],
      "metadata": {
        "colab": {
          "base_uri": "https://localhost:8080/"
        },
        "id": "fqkaxFIkPuqC",
        "outputId": "046c74bc-41fd-44e3-c52f-8233fcf9ecf9"
      },
      "execution_count": 1,
      "outputs": [
        {
          "output_type": "stream",
          "name": "stdout",
          "text": [
            "cor@@ del@@ ia hotel is situated in tbilisi , a 3 - minute walk away from saint trinity church .\n",
            "at tu@@ pi@@ r@@ mar@@ ka lodge you will find a 24 - hour front desk , room service , and a snack bar .\n",
            "featuring free wifi in all areas , nai@@ g@@ ao xiao@@ wo offers accommodation in shanghai .\n"
          ]
        }
      ]
    },
    {
      "cell_type": "code",
      "source": [
        "# first 3 lines of our BPE tokenized Russian data:\n",
        "!head -n 3 /content/train.bpe.ru "
      ],
      "metadata": {
        "colab": {
          "base_uri": "https://localhost:8080/"
        },
        "id": "IdTCjPSQbMdp",
        "outputId": "11f82a82-8360-4b86-866a-a6d2c439e9a4"
      },
      "execution_count": 9,
      "outputs": [
        {
          "output_type": "stream",
          "name": "stdout",
          "text": [
            "отель cor@@ del@@ ia расположен в тбилиси , в 3 минутах ходьбы от свя@@ то - тро@@ и@@ ц@@ кого собора .\n",
            "в числе удобств лоджа tu@@ p@@ ir@@ mar@@ ka круглосуточная стойка регистрации и снэк - бар . гости могут воспользоваться услугой доставки еды и напитков в номер .\n",
            "апартаменты na@@ i@@ ga@@ o xi@@ a@@ ow@@ o расположены в городе шан@@ хай . к услугам гостей бесплатный wi - fi во всех зонах .\n"
          ]
        }
      ]
    },
    {
      "cell_type": "markdown",
      "metadata": {
        "id": "0UPW3sV8lrsb"
      },
      "source": [
        "### Building vocabularies\n",
        "\n",
        "We now need to build vocabularies that map strings to token ids and vice versa.   \n",
        "We're gonna need these fellas when we feed training data into model or convert output matrices into words."
      ]
    },
    {
      "cell_type": "code",
      "execution_count": 6,
      "metadata": {
        "colab": {
          "base_uri": "https://localhost:8080/"
        },
        "id": "8PskgBSxlrsd",
        "outputId": "7de1b2ca-72d5-4921-f84e-50ad1e57de3e"
      },
      "outputs": [
        {
          "output_type": "stream",
          "name": "stdout",
          "text": [
            "inp: на территории обустроена бесплатная частная парковка .\n",
            "out: free private parking is available on site .\n",
            "\n",
            "inp: кроме того , в 5 минутах ходьбы работают многочисленные бары и рестораны .\n",
            "out: guests can find many bars and restaurants within a 5 - minute walk .\n",
            "\n",
            "inp: отель san mi@@ gu@@ el расположен в центре мор@@ ели@@ и , в 750 метрах от главной площади города и кафедрального собора .\n",
            "out: hotel san miguel is located in central more@@ lia , 750 metres from the city ’ s main square and cathedral .\n",
            "\n"
          ]
        }
      ],
      "source": [
        "data_inp = np.array(open('./train.bpe.ru').read().split('\\n'))\n",
        "data_out = np.array(open('./train.bpe.en').read().split('\\n'))\n",
        "\n",
        "train_inp, dev_inp, train_out, dev_out = train_test_split(data_inp, data_out, test_size=3000,\n",
        "                                                          random_state=42)\n",
        "for i in range(3):\n",
        "    print('inp:', train_inp[i])\n",
        "    print('out:', train_out[i], end='\\n\\n')"
      ]
    },
    {
      "cell_type": "code",
      "execution_count": 7,
      "metadata": {
        "id": "vipg4O61lrsg",
        "colab": {
          "base_uri": "https://localhost:8080/"
        },
        "outputId": "76def329-a63b-4c47-9ec1-c8f281edb383"
      },
      "outputs": [
        {
          "output_type": "stream",
          "name": "stdout",
          "text": [
            "Length of input (Russian) BPE vocabulary = 8048\n",
            "Length of output (English) BPE vocabulary = 7801\n"
          ]
        }
      ],
      "source": [
        "from vocab import Vocab\n",
        "\n",
        "inp_voc = Vocab.from_lines(train_inp) # creates an instance of Vocab class from input lines (ru (input) vocab here)\n",
        "out_voc = Vocab.from_lines(train_out) # en (output) vocab\n",
        "\n",
        "print(f'Length of input (Russian) BPE vocabulary = {len(inp_voc)}')\n",
        "print(f'Length of output (English) BPE vocabulary = {len(out_voc)}')"
      ]
    },
    {
      "cell_type": "code",
      "execution_count": 7,
      "metadata": {
        "colab": {
          "base_uri": "https://localhost:8080/"
        },
        "id": "cwOoHfuhlrsi",
        "outputId": "9ea2bb63-6fd7-4ec4-871f-203d54bb0c5a"
      },
      "outputs": [
        {
          "output_type": "stream",
          "name": "stdout",
          "text": [
            "lines\n",
            "['гостевой дом r .', 'до афин — 20 км .', 'работает боулинг .', 'оборудован балкон .', 'подключен wi - fi .']\n",
            "\n",
            "words to ids (0 = bos, 1 = eos):\n",
            "tensor([[   0, 2688, 2943, 1108,   29,    1,    1,    1],\n",
            "        [   0, 2922, 1834, 8035,   59, 3800,   29,    1],\n",
            "        [   0, 6030, 2083,   29,    1,    1,    1,    1],\n",
            "        [   0, 4927, 1870,   29,    1,    1,    1,    1],\n",
            "        [   0, 5549, 1453,   27,  592,   29,    1,    1]])\n",
            "\n",
            "back to words\n",
            "['гостевой дом r .', 'до афин — 20 км .', 'работает боулинг .', 'оборудован балкон .', 'подключен wi - fi .']\n"
          ]
        }
      ],
      "source": [
        "# Here's how you cast lines into ids and backwards.\n",
        "\n",
        "batch_lines = sorted(train_inp, key=len)[5:10]\n",
        "batch_ids = inp_voc.to_matrix(batch_lines)\n",
        "batch_lines_restored = inp_voc.to_lines(batch_ids)\n",
        "\n",
        "print(\"lines\")\n",
        "print(batch_lines)\n",
        "print(\"\\nwords to ids (0 = bos, 1 = eos):\")\n",
        "print(batch_ids)\n",
        "print(\"\\nback to words\")\n",
        "print(batch_lines_restored)"
      ]
    },
    {
      "cell_type": "markdown",
      "metadata": {
        "id": "gSYu-MkElrsk"
      },
      "source": [
        "Draw source and translation length distributions to estimate the scope of the task."
      ]
    },
    {
      "cell_type": "code",
      "execution_count": 8,
      "metadata": {
        "colab": {
          "base_uri": "https://localhost:8080/",
          "height": 336
        },
        "id": "TLLl9cSNlrsl",
        "outputId": "747aa993-c6df-4f62-b3c7-396fe827e172"
      },
      "outputs": [
        {
          "output_type": "display_data",
          "data": {
            "text/plain": [
              "<Figure size 864x360 with 2 Axes>"
            ],
            "image/png": "[encoded data removed]"
          },
          "metadata": {
            "needs_background": "light"
          }
        }
      ],
      "source": [
        "plt.figure(figsize=[12, 5])\n",
        "plt.subplot(1, 2, 1)\n",
        "plt.title(\"source length\")\n",
        "plt.hist(list(map(len, map(str.split, train_inp))), bins=20);\n",
        "\n",
        "plt.subplot(1, 2, 2)\n",
        "plt.title(\"translation length\")\n",
        "plt.hist(list(map(len, map(str.split, train_out))), bins=20);"
      ]
    },
    {
      "cell_type": "markdown",
      "metadata": {
        "id": "BHWgx34flrsn"
      },
      "source": [
        "### Encoder-decoder model\n",
        "\n",
        "The code below contains a simple encoder-decoder model: single GRU encoder/decoder, no attention or anything."
      ]
    },
    {
      "cell_type": "code",
      "execution_count": 8,
      "metadata": {
        "id": "pd_rDRm9lrso",
        "colab": {
          "base_uri": "https://localhost:8080/",
          "height": 36
        },
        "outputId": "7235329b-df7b-44b7-ed80-21ffc007c3e6"
      },
      "outputs": [
        {
          "output_type": "execute_result",
          "data": {
            "text/plain": [
              "'cpu'"
            ],
            "application/vnd.google.colaboratory.intrinsic+json": {
              "type": "string"
            }
          },
          "metadata": {},
          "execution_count": 8
        }
      ],
      "source": [
        "device = 'cuda' if torch.cuda.is_available() else 'cpu'\n",
        "device"
      ]
    },
    {
      "cell_type": "code",
      "execution_count": 10,
      "metadata": {
        "id": "8-IfANSLMrrG"
      },
      "outputs": [],
      "source": [
        "from models import BasicModel\n",
        "\n",
        "model = BasicModel(inp_voc, out_voc).to(device)\n",
        "\n",
        "# debugging area\n",
        "\n",
        "dummy_inp_tokens = inp_voc.to_matrix(train_inp[:5]).to(device)\n",
        "dummy_out_tokens = out_voc.to_matrix(train_out[:5]).to(device)\n",
        "\n",
        "h0 = model.encode(dummy_inp_tokens)\n",
        "h1, logits1 = model.decode_step(h0, torch.arange(len(dummy_inp_tokens), device=device))\n",
        "\n",
        "assert isinstance(h1, list) and len(h1) == len(h0)\n",
        "assert h1[0].shape == h0[0].shape and not torch.allclose(h1[0], h0[0])\n",
        "assert logits1.shape == (len(dummy_inp_tokens), len(out_voc))\n",
        "\n",
        "logits_seq = model.decode(h0, dummy_out_tokens)\n",
        "assert logits_seq.shape == (dummy_out_tokens.shape[0], dummy_out_tokens.shape[1], len(out_voc))\n",
        "\n",
        "# full forward\n",
        "logits_seq2 = model(dummy_inp_tokens, dummy_out_tokens)\n",
        "assert logits_seq2.shape == logits_seq.shape"
      ]
    },
    {
      "cell_type": "markdown",
      "source": [
        "## to delete"
      ],
      "metadata": {
        "id": "Mt3YBkgj2E8D"
      }
    },
    {
      "cell_type": "code",
      "source": [
        "h0[0].size()"
      ],
      "metadata": {
        "colab": {
          "base_uri": "https://localhost:8080/"
        },
        "id": "LjWnrwVYUxOw",
        "outputId": "c5c87b2c-b57a-454a-cd92-350ad3e9d6ba"
      },
      "execution_count": 153,
      "outputs": [
        {
          "output_type": "execute_result",
          "data": {
            "text/plain": [
              "torch.Size([7, 128])"
            ]
          },
          "metadata": {},
          "execution_count": 153
        }
      ]
    },
    {
      "cell_type": "code",
      "source": [
        "len(h0)"
      ],
      "metadata": {
        "colab": {
          "base_uri": "https://localhost:8080/"
        },
        "id": "74AL9eliVTyr",
        "outputId": "a344eccd-68d5-4e4c-bf73-4956951fecbb"
      },
      "execution_count": 54,
      "outputs": [
        {
          "output_type": "execute_result",
          "data": {
            "text/plain": [
              "1"
            ]
          },
          "metadata": {},
          "execution_count": 54
        }
      ]
    },
    {
      "cell_type": "code",
      "source": [
        "states = [deepcopy([h0[0].detach()]) for _ in range(2)]"
      ],
      "metadata": {
        "id": "0CxWjXUvVS_N"
      },
      "execution_count": 43,
      "outputs": []
    },
    {
      "cell_type": "code",
      "source": [
        "len(states[0])"
      ],
      "metadata": {
        "colab": {
          "base_uri": "https://localhost:8080/"
        },
        "id": "NuMxuX5-VhKT",
        "outputId": "253942be-42a2-4a18-c815-f74380e4e2a7"
      },
      "execution_count": 46,
      "outputs": [
        {
          "output_type": "execute_result",
          "data": {
            "text/plain": [
              "1"
            ]
          },
          "metadata": {},
          "execution_count": 46
        }
      ]
    },
    {
      "cell_type": "code",
      "source": [
        "inp_voc.bos_ix"
      ],
      "metadata": {
        "colab": {
          "base_uri": "https://localhost:8080/"
        },
        "id": "o2tMdMyceG7K",
        "outputId": "1162942b-bc6f-4d19-b4b2-50d601e976b0"
      },
      "execution_count": 70,
      "outputs": [
        {
          "output_type": "execute_result",
          "data": {
            "text/plain": [
              "0"
            ]
          },
          "metadata": {},
          "execution_count": 70
        }
      ]
    },
    {
      "cell_type": "code",
      "source": [
        "# Function in progress\n",
        "hypos, outputs, states = model.decode_inference_beam_search(h0, beam_size=4)"
      ],
      "metadata": {
        "colab": {
          "base_uri": "https://localhost:8080/"
        },
        "id": "DGLic_Nvmfzz",
        "outputId": "a20939d7-2b24-492a-d26e-f22dde023482"
      },
      "execution_count": 156,
      "outputs": [
        {
          "output_type": "stream",
          "name": "stdout",
          "text": [
            "4\n",
            "[(0, 7395, 7279, 673, 658, 6244, 5421, 5021, 4348, 5295, 1376, 5991, 6922, 2711, 921, 681, 6926, 3986, 5395, 2296, 1153, 5213, 114, 2711, 7387, 1405, 6969, 4447, 4472, 1845, 4049, 6820, 2330, 5091, 7083, 2943, 4308, 7758, 2403, 879, 3825, 4060, 1780, 33, 4330, 4290, 4017, 1866, 6325, 4216, 503, 4398, 2844, 3210, 5616, 2052, 6498, 2942, 5268, 409, 278, 3368, 2573, 5317, 166, 1132, 4551, 3052, 5471, 764, 3229, 6782, 2626, 5386, 6227, 858, 2942, 7071, 7282, 4839, 4143, 270, 7395, 1329, 4700, 2618, 70, 7031, 505, 2581, 5273, 7753, 1721, 4119, 2237, 6584, 3498, 3837, 2314, 7631, 2640), (0, 6819, 6249, 7523, 3675, 3675, 4839, 6604, 7127, 31, 3219, 1949, 658, 2325, 2229, 6371, 3486, 1139, 6724, 3586, 1253, 6533, 5399, 221, 2303, 7109, 6935, 5182, 3711, 858, 872, 7607, 919, 548, 7712, 2245, 7614, 1914, 5271, 1181, 5555, 6196, 3283, 1555, 5704, 1555, 592, 1301, 5571, 3575, 4197, 1062, 5644, 3180, 3180, 5740, 6069, 31, 1244, 3825, 6373, 3372, 4457, 2991, 5112, 2942, 2753, 5412, 764, 104, 6675, 3498, 6788, 6331, 3944, 6430, 3282, 7524, 210, 3835, 3835, 3871, 408, 879, 6371, 2562, 5844, 5343, 6125, 2244, 3903, 4694, 5662, 5662, 1138, 4347, 4347, 4486, 7443, 3372, 4612), (0, 6319, 5460, 6657, 4197, 1604, 4874, 245, 1154, 5447, 4839, 5164, 3703, 7398, 1138, 1275, 2386, 4685, 1074, 1143, 1006, 624, 3753, 5617, 3892, 5586, 7441, 6060, 5174, 5118, 2233, 3994, 6280, 3295, 5394, 1141, 1532, 5704, 764, 3458, 1500, 6344, 1531, 3158, 3825, 6373, 3486, 5175, 27, 6060, 461, 2403, 872, 3897, 1834, 2711, 1181, 7456, 5128, 7172, 2330, 450, 1361, 6247, 4146, 1784, 4227, 4213, 3188, 4862, 624, 2334, 6498, 5186, 3188, 2931, 1674, 4236, 6148, 5610, 6709, 6967, 4734, 6533, 5271, 946, 3982, 5459, 4839, 2174, 1238, 6148, 2492, 2207, 2530, 997, 2330, 450, 4472, 3854, 6129), (0, 3165, 1988, 6099, 4614, 7538, 4903, 304, 6521, 530, 3944, 160, 5704, 6470, 3442, 3150, 2660, 655, 5223, 2917, 6533, 5271, 6579, 6495, 5962, 6787, 3866, 3986, 7064, 4544, 921, 4716, 2710, 3886, 2984, 174, 1146, 2711, 6316, 5084, 2714, 1423, 1219, 6533, 2454, 2088, 879, 97, 5392, 2943, 27, 1491, 7762, 2943, 1491, 7190, 7753, 3994, 1361, 3638, 754, 3547, 2516, 6926, 496, 5207, 6537, 4700, 6532, 181, 6385, 3866, 428, 7374, 3888, 7346, 1409, 1409, 366, 4760, 2773, 4925, 6587, 4735, 4559, 5537, 698, 2330, 7258, 4429, 6650, 2413, 86, 6559, 1207, 2678, 245, 1181, 5102, 7034, 1109), (0, 2847, 907, 6935, 858, 660, 2938, 1991, 5458, 5479, 2562, 6482, 4183, 4913, 4943, 4577, 4925, 7240, 4933, 6520, 1653, 1045, 1409, 5221, 1825, 2021, 6481, 4053, 6087, 1132, 7415, 5149, 7395, 7279, 5081, 2206, 4791, 3973, 3222, 5094, 1651, 4047, 7775, 6436, 3368, 239, 3317, 4305, 6782, 6710, 1962, 2403, 879, 3177, 7245, 879, 6371, 3372, 4457, 5704, 5211, 4520, 5616, 5704, 5211, 3143, 3057, 2413, 2877, 7545, 7756, 5182, 2671, 3667, 4886, 6140, 6140, 3547, 6043, 5906, 5271, 6102, 1503, 5555, 6204, 2081, 1361, 6247, 4690, 6935, 2380, 3586, 7071, 7390, 2333, 6533, 1949, 2269, 7598, 3810, 4774)]\n",
            "5\n",
            "4\n",
            "[[-852.75937462 -851.73065662 -852.57489014 -852.49489498 -852.0017128 ]\n",
            " [-852.61531639 -851.71662998 -852.53137493 -852.48315716 -851.99851322]\n",
            " [-852.75713062 -851.71010685 -852.52132034 -852.45417118 -851.93000317]\n",
            " [-852.73375416 -851.72799778 -852.56490421 -852.46178913 -851.98884487]]\n"
          ]
        }
      ]
    },
    {
      "cell_type": "code",
      "source": [
        "outputs, states = model.decode_inference_beam_search(h0, beam_size=4)"
      ],
      "metadata": {
        "id": "Vac1HXYrpQ3K"
      },
      "execution_count": 178,
      "outputs": []
    },
    {
      "cell_type": "code",
      "source": [
        "out_voc.to_lines(out_ids)"
      ],
      "metadata": {
        "id": "UgcpUhWOqd4P"
      },
      "execution_count": null,
      "outputs": []
    },
    {
      "cell_type": "code",
      "source": [
        "out_voc.to_lines(outputs)"
      ],
      "metadata": {
        "colab": {
          "base_uri": "https://localhost:8080/"
        },
        "id": "3WlJXRx7juBF",
        "outputId": "ecb4c20a-d059-412e-b5e1-ce2690842aa5"
      },
      "execution_count": 180,
      "outputs": [
        {
          "output_type": "execute_result",
          "data": {
            "text/plain": [
              "['whe@@ wifi east@@ ü skiy 18@@ shopping tes@@ specialities english nier pin@@ riccione yar@@ classics bid@@ coloured świ@@ pier tera ise hai@@ possibil@@ riccione balaton excur@@ dar politan heath@@ rah lido fresco solo@@ garten vin composed ston stral@@ ved william brand@@ sa@@ stral@@ ever@@ ang@@ date laus@@ sund@@ serving designated mere k@@ reap basic bo@@ writing vene@@ east@@ 18@@ mand@@ pin@@ nier ambi@@ gau terrac@@ gau grac@@ chand@@ ë welsh connecting tsentral@@ abil@@ ast@@ ke@@ hamilton 6@@ 6@@ youth ami lug@@ hired raised northern break is@@ historical mma specialises nest@@ fort@@ can@@ reland cave deo vak@@ ek ec@@ ballet sils',\n",
              " 'imperial thos pian create sunbathing avignon plantation serving der@@ pico brindisi massage qingdao vari@@ quar@@ temp@@ featured ang@@ dishwasher ach@@ stays ental el@@ newspapers coo@@ bian lug@@ belo queenstown pin@@ braga ke@@ pin ham sundays backpackers split veg@@ umo@@ ma ova yad@@ skoy also politan sande interesting riccione 90 mary strong ining woodlands village spen@@ taksim hof@@ k@@ yong éri@@ eas@@ ö@@ ysk beira phu@@ katerin@@ 55 italia basic mark kawi roo@@ cyclists oaks wifi waff@@ ades bankment ň quick dong cat ning hat uk stown chal@@ date sundays cefalù strana ces@@ mbo@@ teas bazaar roy gado н@@ hof@@ tuscany',\n",
              " 'imperial thos create fans yong sult@@ dad salerno until 67 rette asak@@ technology ington 6@@ placed acio then fash@@ hr press far@@ date vil everything lights lights roof@@ local dona quick various approach lou@@ mid@@ mir minas paved a3 charming high@@ minigolf sing pean mma setting roun@@ between marine red homestay homestay ä garten garten flags pie@@ ore lina mé@@ thing costa benef@@ painted popular guangzhou locally necess@@ meralda ‘ riccione king@@ guangzhou delic@@ decor@@ delic@@ poster you decor@@ delic@@ reland sydney cereals 37 riverfront di@@ dit@@ nag@@ swit@@ cat kt of amsterdam nex@@ bow@@ featured press scott@@ ital bene@@',\n",
              " 'imperial ret alan@@ garten ot@@ armen@@ appartem@@ cinema fair costa lac@@ propos@@ reland cón than brook sandwi@@ reef bei fabric@@ berry ke@@ cathedral gîte press mystic necess@@ nag@@ thi@@ ing@@ cat anast@@ in@@ working contemporary al tay mum@@ break ą@@ glaz@@ nag@@ soundproofed ared ail@@ nag@@ vier azul usz@@ sco@@ food ate whit@@ rid brit@@ ary zar@@ oir round fall ash@@ cappuccino hol@@ sopot june fino slides combined phu@@ monday lodge lodge palmas 18@@ ents cathe@@ ret two yan ise yar@@ alay winter demand drum cathedral king@@ guangzhou ately ss four sat@@ plas@@ east@@ plas@@ ja@@ pan@@ anne@@ 71 antica',\n",
              " 'bathroom ample min hamilton karl@@ ira poggio riga lif@@ ade poo@@ weingut michel@@ cat pizz@@ bid@@ 18@@ sig@@ vis@@ you bathroom souk delic@@ delic@@ angkor nak@@ notre along ces@@ spacious ers fi@@ nest@@ 15 penang america ceramic deli@@ 9 cd bangla sainte most charac@@ specialises nest@@ nish@@ klong banks roug@@ kes ghtly ā featured bean bean sigi@@ june james fit@@ mum@@ avo@@ gher@@ exce@@ lay 18 can nicol@@ gat@@ gui@@ eat@@ о@@ rho@@ bathroom nin@@ michel@@ fash@@ produces vari@@ charac@@ swit@@ matic je exce@@ ente mini@@ scheduled mill@@ sse gro@@ plas@@ kas@@ basilica hé@@ august piano tor travelodge vityazevo oaks']"
            ]
          },
          "metadata": {},
          "execution_count": 180
        }
      ]
    },
    {
      "cell_type": "code",
      "source": [
        "len(out_ids)"
      ],
      "metadata": {
        "colab": {
          "base_uri": "https://localhost:8080/"
        },
        "id": "rvxLpJh8hdRX",
        "outputId": "4065b1d6-ebab-4c2b-f961-ac077c72f82b"
      },
      "execution_count": 114,
      "outputs": [
        {
          "output_type": "execute_result",
          "data": {
            "text/plain": [
              "3"
            ]
          },
          "metadata": {},
          "execution_count": 114
        }
      ]
    },
    {
      "cell_type": "code",
      "source": [
        "len(states)"
      ],
      "metadata": {
        "colab": {
          "base_uri": "https://localhost:8080/"
        },
        "id": "0MeQLN8Sh0Yf",
        "outputId": "bd25e9e4-537d-4cca-afc6-5d1b5699cffe"
      },
      "execution_count": 97,
      "outputs": [
        {
          "output_type": "execute_result",
          "data": {
            "text/plain": [
              "2"
            ]
          },
          "metadata": {},
          "execution_count": 97
        }
      ]
    },
    {
      "cell_type": "code",
      "source": [
        "states[0][0].size()"
      ],
      "metadata": {
        "colab": {
          "base_uri": "https://localhost:8080/"
        },
        "id": "CxodKvShh1on",
        "outputId": "fa6ea532-546c-4dc9-e1ad-fc3ae9c63c85"
      },
      "execution_count": 100,
      "outputs": [
        {
          "output_type": "execute_result",
          "data": {
            "text/plain": [
              "torch.Size([3, 128])"
            ]
          },
          "metadata": {},
          "execution_count": 100
        }
      ]
    },
    {
      "cell_type": "code",
      "source": [
        "train_inp[:3]"
      ],
      "metadata": {
        "colab": {
          "base_uri": "https://localhost:8080/"
        },
        "id": "hhFDmgMMq3tm",
        "outputId": "dc59b912-87aa-4318-8e1f-fd493c93ffb1"
      },
      "execution_count": 193,
      "outputs": [
        {
          "output_type": "execute_result",
          "data": {
            "text/plain": [
              "array(['на территории обустроена бесплатная частная парковка .',\n",
              "       'кроме того , в 5 минутах ходьбы работают многочисленные бары и рестораны .',\n",
              "       'отель san mi@@ gu@@ el расположен в центре мор@@ ели@@ и , в 750 метрах от главной площади города и кафедрального собора .'],\n",
              "      dtype='<U524')"
            ]
          },
          "metadata": {},
          "execution_count": 193
        }
      ]
    },
    {
      "cell_type": "code",
      "execution_count": 9,
      "metadata": {
        "id": "umDkOsViMrrI",
        "colab": {
          "base_uri": "https://localhost:8080/"
        },
        "outputId": "077a7946-468a-479c-c35b-ed12e4745a2a"
      },
      "outputs": [
        {
          "output_type": "stream",
          "name": "stdout",
          "text": [
            "Translations without training:\n",
            "reap authent@@ swimm@@ wenzhou nt@@ standing stroll 400 provin@@ serviced mother ). expo iz@@ smoking leis@@ pools bogota swa@@ uli ej ï@@ music swa@@ corner\n",
            "reap authent@@ swimm@@ yang@@ teguise das rou or@@ cook@@ cc@@ as vicent@@ vicent@@ universal qing alle perso@@ natural natural boasting entrance biał@@ biał@@ courtyard nature\n",
            "reap authent@@ swimm@@ yang@@ teguise das rou or@@ cook@@ cc@@ as vicent@@ vicent@@ universal qing alle perso@@ natural natural boasting entrance biał@@ biał@@ courtyard nature\n",
            "CPU times: user 15.2 ms, sys: 9 µs, total: 15.2 ms\n",
            "Wall time: 15 ms\n"
          ]
        }
      ],
      "source": [
        "%%time\n",
        "dummy_translations, dummy_states = model.translate_lines(train_inp[:3], max_len=25, device=device)\n",
        "print(\"Translations without training:\")\n",
        "print('\\n'.join([line for line in dummy_translations]))"
      ]
    },
    {
      "cell_type": "code",
      "source": [
        "%%time\n",
        "# older\n",
        "dummy_translations, dummy_states = model.translate_lines(train_inp[:3], max_len=25, beam_size=2, device=device)\n",
        "print(\"Translations with beam search:\")\n",
        "print('\\n'.join([line for line in dummy_translations]))"
      ],
      "metadata": {
        "colab": {
          "base_uri": "https://localhost:8080/"
        },
        "id": "t8Diq-4bp-tn",
        "outputId": "d0aa4675-0e9d-48f3-91e6-f79c3a22537b"
      },
      "execution_count": 16,
      "outputs": [
        {
          "output_type": "stream",
          "name": "stdout",
          "text": [
            "next_beams =  [[[(0, 6592), -1.5179758071899414, 0], [(0, 2667), -0.5517674088478088, 0]], [[(0, 5480), -1.7379578351974487, 0], [(0, 6609), -1.304376482963562, 0]], [[(0, 6592), -1.9853601455688477, 0], [(0, 3975), -1.874380111694336, 0]]]\n",
            "next_beams[0] after sort:  [[(0, 2667), -0.5517674088478088, 0], [(0, 6592), -1.5179758071899414, 0]]\n",
            "next_beams[1] after sort:  [[(0, 6609), -1.304376482963562, 0], [(0, 5480), -1.7379578351974487, 0]]\n",
            "next_beams[2] after sort:  [[(0, 3975), -1.874380111694336, 0], [(0, 6592), -1.9853601455688477, 0]]\n",
            "next_beams =  [[[(0, 2667, 4890), -3.841049015522003, 0], [(0, 2667, 5197), -0.6299894377589226, 0], [(0, 6592, 5197), -2.950856566429138, 1], [(0, 6592, 5216), -1.8911203444004059, 1]], [[(0, 6609, 624), -2.373724341392517, 0], [(0, 6609, 3434), -2.000521957874298, 0], [(0, 5480, 19), -3.50547993183136, 1], [(0, 5480, 503), -2.3689814805984497, 1]], [[(0, 3975, 4698), -4.136844158172607, 0], [(0, 3975, 3329), -2.6274094581604004, 0], [(0, 6592, 5216), -3.6281193494796753, 1], [(0, 6592, 3191), -3.3287466764450073, 1]]]\n",
            "next_beams[0] after sort:  [[(0, 2667, 5197), -0.6299894377589226, 0], [(0, 6592, 5216), -1.8911203444004059, 1], [(0, 6592, 5197), -2.950856566429138, 1], [(0, 2667, 4890), -3.841049015522003, 0]]\n",
            "next_beams[1] after sort:  [[(0, 6609, 3434), -2.000521957874298, 0], [(0, 5480, 503), -2.3689814805984497, 1], [(0, 6609, 624), -2.373724341392517, 0], [(0, 5480, 19), -3.50547993183136, 1]]\n",
            "next_beams[2] after sort:  [[(0, 3975, 3329), -2.6274094581604004, 0], [(0, 6592, 3191), -3.3287466764450073, 1], [(0, 6592, 5216), -3.6281193494796753, 1], [(0, 3975, 4698), -4.136844158172607, 0]]\n",
            "next_beams =  [[[(0, 2667, 5197, 5197), -5.928957276046276, 0], [(0, 2667, 5197, 4890), -0.6403269376605749, 0], [(0, 6592, 5216, 3049), -5.087328344583511, 1], [(0, 6592, 5216, 4663), -2.1121286302804947, 1]], [[(0, 6609, 3434, 440), -4.563418447971344, 0], [(0, 6609, 3434, 190), -2.3723345398902893, 0], [(0, 5480, 503, 891), -3.8537567853927612, 1], [(0, 5480, 503, 5480), -3.48714816570282, 1]], [[(0, 3975, 3329, 190), -4.796660423278809, 0], [(0, 3975, 3329, 6592), -3.479602873325348, 0], [(0, 6592, 3191, 3191), -7.187906861305237, 1], [(0, 6592, 3191, 3434), -3.6552607119083405, 1]]]\n",
            "next_beams[0] after sort:  [[(0, 2667, 5197, 4890), -0.6403269376605749, 0], [(0, 6592, 5216, 4663), -2.1121286302804947, 1], [(0, 6592, 5216, 3049), -5.087328344583511, 1], [(0, 2667, 5197, 5197), -5.928957276046276, 0]]\n",
            "next_beams[1] after sort:  [[(0, 6609, 3434, 190), -2.3723345398902893, 0], [(0, 5480, 503, 5480), -3.48714816570282, 1], [(0, 5480, 503, 891), -3.8537567853927612, 1], [(0, 6609, 3434, 440), -4.563418447971344, 0]]\n",
            "next_beams[2] after sort:  [[(0, 3975, 3329, 6592), -3.479602873325348, 0], [(0, 6592, 3191, 3434), -3.6552607119083405, 1], [(0, 3975, 3329, 190), -4.796660423278809, 0], [(0, 6592, 3191, 3191), -7.187906861305237, 1]]\n",
            "next_beams =  [[[(0, 2667, 5197, 4890, 6153), -3.828191241249442, 0], [(0, 2667, 5197, 4890, 3434), -0.7532696109265089, 0], [(0, 6592, 5216, 4663, 190), -7.114642038941383, 1], [(0, 6592, 5216, 4663, 2667), -2.128139514476061, 1]], [[(0, 6609, 3434, 190, 5949), -4.770402729511261, 0], [(0, 6609, 3434, 190, 123), -3.5497387051582336, 0], [(0, 5480, 503, 5480, 624), -4.3670055866241455, 1], [(0, 5480, 503, 5480, 1294), -4.336557626724243, 1]], [[(0, 3975, 3329, 6592, 1408), -5.00665408372879, 0], [(0, 3975, 3329, 6592, 3071), -4.800943672657013, 0], [(0, 6592, 3191, 3434, 190), -4.956536680459976, 1], [(0, 6592, 3191, 3434, 3975), -4.847210317850113, 1]]]\n",
            "next_beams[0] after sort:  [[(0, 2667, 5197, 4890, 3434), -0.7532696109265089, 0], [(0, 6592, 5216, 4663, 2667), -2.128139514476061, 1], [(0, 2667, 5197, 4890, 6153), -3.828191241249442, 0], [(0, 6592, 5216, 4663, 190), -7.114642038941383, 1]]\n",
            "next_beams[1] after sort:  [[(0, 6609, 3434, 190, 123), -3.5497387051582336, 0], [(0, 5480, 503, 5480, 1294), -4.336557626724243, 1], [(0, 5480, 503, 5480, 624), -4.3670055866241455, 1], [(0, 6609, 3434, 190, 5949), -4.770402729511261, 0]]\n",
            "next_beams[2] after sort:  [[(0, 3975, 3329, 6592, 3071), -4.800943672657013, 0], [(0, 6592, 3191, 3434, 3975), -4.847210317850113, 1], [(0, 6592, 3191, 3434, 190), -4.956536680459976, 1], [(0, 3975, 3329, 6592, 1408), -5.00665408372879, 0]]\n",
            "next_beams =  [[[(0, 2667, 5197, 4890, 3434, 5140), -2.8638312201946974, 0], [(0, 2667, 5197, 4890, 3434, 775), -1.0436580460518599, 0], [(0, 6592, 5216, 4663, 2667, 5197), -4.147889394313097, 1], [(0, 6592, 5216, 4663, 2667, 4890), -2.3721295930445194, 1]], [[(0, 6609, 3434, 190, 123, 5480), -8.532077133655548, 0], [(0, 6609, 3434, 190, 123, 21), -3.5912487879395485, 0], [(0, 5480, 503, 5480, 1294, 440), -8.174312591552734, 1], [(0, 5480, 503, 5480, 1294, 929), -4.3824729435145855, 1]], [[(0, 3975, 3329, 6592, 3071, 19), -7.81462699174881, 0], [(0, 3975, 3329, 6592, 3071, 4657), -4.9151758179068565, 0], [(0, 6592, 3191, 3434, 3975, 4698), -7.009701639413834, 1], [(0, 6592, 3191, 3434, 3975, 3329), -5.4808710515499115, 1]]]\n",
            "next_beams[0] after sort:  [[(0, 2667, 5197, 4890, 3434, 775), -1.0436580460518599, 0], [(0, 6592, 5216, 4663, 2667, 4890), -2.3721295930445194, 1], [(0, 2667, 5197, 4890, 3434, 5140), -2.8638312201946974, 0], [(0, 6592, 5216, 4663, 2667, 5197), -4.147889394313097, 1]]\n",
            "next_beams[1] after sort:  [[(0, 6609, 3434, 190, 123, 21), -3.5912487879395485, 0], [(0, 5480, 503, 5480, 1294, 929), -4.3824729435145855, 1], [(0, 5480, 503, 5480, 1294, 440), -8.174312591552734, 1], [(0, 6609, 3434, 190, 123, 5480), -8.532077133655548, 0]]\n",
            "next_beams[2] after sort:  [[(0, 3975, 3329, 6592, 3071, 4657), -4.9151758179068565, 0], [(0, 6592, 3191, 3434, 3975, 3329), -5.4808710515499115, 1], [(0, 6592, 3191, 3434, 3975, 4698), -7.009701639413834, 1], [(0, 3975, 3329, 6592, 3071, 19), -7.81462699174881, 0]]\n",
            "next_beams =  [[[(0, 2667, 5197, 4890, 3434, 775, 23), -3.221083192154765, 0], [(0, 2667, 5197, 4890, 3434, 775, 4698), -1.275368181988597, 0], [(0, 6592, 5216, 4663, 2667, 4890, 4698), -6.81579652801156, 1], [(0, 6592, 5216, 4663, 2667, 4890, 23), -2.411956448107958, 1]], [[(0, 6609, 3434, 190, 123, 21, 3198), -8.09361533075571, 0], [(0, 6609, 3434, 190, 123, 21, 4331), -3.627996139228344, 0], [(0, 5480, 503, 5480, 1294, 929, 5367), -7.8929826728999615, 1], [(0, 5480, 503, 5480, 1294, 929, 2651), -4.4376966543495655, 1]], [[(0, 3975, 3329, 6592, 3071, 4657, 3782), -9.05139722675085, 0], [(0, 3975, 3329, 6592, 3071, 4657, 6592), -5.961771748960018, 0], [(0, 6592, 3191, 3434, 3975, 3329, 190), -7.689597696065903, 1], [(0, 6592, 3191, 3434, 3975, 3329, 6592), -6.560713857412338, 1]]]\n",
            "next_beams[0] after sort:  [[(0, 2667, 5197, 4890, 3434, 775, 4698), -1.275368181988597, 0], [(0, 6592, 5216, 4663, 2667, 4890, 23), -2.411956448107958, 1], [(0, 2667, 5197, 4890, 3434, 775, 23), -3.221083192154765, 0], [(0, 6592, 5216, 4663, 2667, 4890, 4698), -6.81579652801156, 1]]\n",
            "next_beams[1] after sort:  [[(0, 6609, 3434, 190, 123, 21, 4331), -3.627996139228344, 0], [(0, 5480, 503, 5480, 1294, 929, 2651), -4.4376966543495655, 1], [(0, 5480, 503, 5480, 1294, 929, 5367), -7.8929826728999615, 1], [(0, 6609, 3434, 190, 123, 21, 3198), -8.09361533075571, 0]]\n",
            "next_beams[2] after sort:  [[(0, 3975, 3329, 6592, 3071, 4657, 6592), -5.961771748960018, 0], [(0, 6592, 3191, 3434, 3975, 3329, 6592), -6.560713857412338, 1], [(0, 6592, 3191, 3434, 3975, 3329, 190), -7.689597696065903, 1], [(0, 3975, 3329, 6592, 3071, 4657, 3782), -9.05139722675085, 0]]\n",
            "next_beams =  [[[(0, 2667, 5197, 4890, 3434, 775, 4698, 6592), -5.449793783947825, 0], [(0, 2667, 5197, 4890, 3434, 775, 4698, 6019), -1.3153494466096163, 0], [(0, 6592, 5216, 4663, 2667, 4890, 23, 2667), -8.768118519335985, 1], [(0, 6592, 5216, 4663, 2667, 4890, 23, 1), -2.4143970194272697, 1]], [[(0, 6609, 3434, 190, 123, 21, 4331, 2106), -7.7999874874949455, 0], [(0, 6609, 3434, 190, 123, 21, 4331, 7209), -3.665092062205076, 0], [(0, 5480, 503, 5480, 1294, 929, 2651, 3329), -7.195333678275347, 1], [(0, 5480, 503, 5480, 1294, 929, 2651, 7356), -4.746791053563356, 1]], [[(0, 3975, 3329, 6592, 3071, 4657, 6592, 3191), -8.957197688519955, 0], [(0, 3975, 3329, 6592, 3071, 4657, 6592, 1408), -8.441917441785336, 0], [(0, 6592, 3191, 3434, 3975, 3329, 6592, 1408), -8.412109106779099, 1], [(0, 6592, 3191, 3434, 3975, 3329, 6592, 3071), -7.865927428007126, 1]]]\n",
            "next_beams[0] after sort:  [[(0, 2667, 5197, 4890, 3434, 775, 4698, 6019), -1.3153494466096163, 0], [(0, 6592, 5216, 4663, 2667, 4890, 23, 1), -2.4143970194272697, 1], [(0, 2667, 5197, 4890, 3434, 775, 4698, 6592), -5.449793783947825, 0], [(0, 6592, 5216, 4663, 2667, 4890, 23, 2667), -8.768118519335985, 1]]\n",
            "next_beams[1] after sort:  [[(0, 6609, 3434, 190, 123, 21, 4331, 7209), -3.665092062205076, 0], [(0, 5480, 503, 5480, 1294, 929, 2651, 7356), -4.746791053563356, 1], [(0, 5480, 503, 5480, 1294, 929, 2651, 3329), -7.195333678275347, 1], [(0, 6609, 3434, 190, 123, 21, 4331, 2106), -7.7999874874949455, 0]]\n",
            "next_beams[2] after sort:  [[(0, 6592, 3191, 3434, 3975, 3329, 6592, 3071), -7.865927428007126, 1], [(0, 6592, 3191, 3434, 3975, 3329, 6592, 1408), -8.412109106779099, 1], [(0, 3975, 3329, 6592, 3071, 4657, 6592, 1408), -8.441917441785336, 0], [(0, 3975, 3329, 6592, 3071, 4657, 6592, 3191), -8.957197688519955, 0]]\n",
            "next_beams =  [[[(0, 2667, 5197, 4890, 3434, 775, 4698, 6019, 4734), -5.550792085006833, 0], [(0, 2667, 5197, 4890, 3434, 775, 4698, 6019, 23), -1.364239016547799, 0], [(0, 6592, 5216, 4663, 2667, 4890, 23, 1, 3699), -4.837139386218041, 1], [(0, 6592, 5216, 4663, 2667, 4890, 23, 1, 2467), -4.449922818224877, 1]], [[(0, 6609, 3434, 190, 123, 21, 4331, 7209, 794), -5.04017074033618, 0], [(0, 6609, 3434, 190, 123, 21, 4331, 7209, 2690), -4.543938707560301, 0], [(0, 5480, 503, 5480, 1294, 929, 2651, 7356, 7210), -6.444022584706545, 1], [(0, 5480, 503, 5480, 1294, 929, 2651, 7356, 190), -5.860401559621096, 1]], [[(0, 6592, 3191, 3434, 3975, 3329, 6592, 3071, 19), -10.87550875544548, 0], [(0, 6592, 3191, 3434, 3975, 3329, 6592, 3071, 4657), -7.972576551139355, 0], [(0, 6592, 3191, 3434, 3975, 3329, 6592, 1408, 19), -11.05175969004631, 1], [(0, 6592, 3191, 3434, 3975, 3329, 6592, 1408, 4657), -8.5209292024374, 1]]]\n",
            "next_beams[0] after sort:  [[(0, 2667, 5197, 4890, 3434, 775, 4698, 6019, 23), -1.364239016547799, 0], [(0, 6592, 5216, 4663, 2667, 4890, 23, 1, 2467), -4.449922818224877, 1], [(0, 6592, 5216, 4663, 2667, 4890, 23, 1, 3699), -4.837139386218041, 1], [(0, 2667, 5197, 4890, 3434, 775, 4698, 6019, 4734), -5.550792085006833, 0]]\n",
            "next_beams[1] after sort:  [[(0, 6609, 3434, 190, 123, 21, 4331, 7209, 2690), -4.543938707560301, 0], [(0, 6609, 3434, 190, 123, 21, 4331, 7209, 794), -5.04017074033618, 0], [(0, 5480, 503, 5480, 1294, 929, 2651, 7356, 190), -5.860401559621096, 1], [(0, 5480, 503, 5480, 1294, 929, 2651, 7356, 7210), -6.444022584706545, 1]]\n",
            "next_beams[2] after sort:  [[(0, 6592, 3191, 3434, 3975, 3329, 6592, 3071, 4657), -7.972576551139355, 0], [(0, 6592, 3191, 3434, 3975, 3329, 6592, 1408, 4657), -8.5209292024374, 1], [(0, 6592, 3191, 3434, 3975, 3329, 6592, 3071, 19), -10.87550875544548, 0], [(0, 6592, 3191, 3434, 3975, 3329, 6592, 1408, 19), -11.05175969004631, 1]]\n",
            "next_beams =  [[[(0, 2667, 5197, 4890, 3434, 775, 4698, 6019, 23, 2667), -8.00136641599238, 0], [(0, 2667, 5197, 4890, 3434, 775, 4698, 6019, 23, 1), -1.3659903354709968, 0], [(0, 6592, 5216, 4663, 2667, 4890, 23, 1, 2467, 624), -7.024589795153588, 1], [(0, 6592, 5216, 4663, 2667, 4890, 23, 1, 2467, 23), -4.942447799723595, 1]], [[(0, 6609, 3434, 190, 123, 21, 4331, 7209, 2690, 190), -8.22370870038867, 0], [(0, 6609, 3434, 190, 123, 21, 4331, 7209, 2690, 6592), -4.897385101765394, 0], [(0, 6609, 3434, 190, 123, 21, 4331, 7209, 794, 23), -6.463073562830687, 1], [(0, 6609, 3434, 190, 123, 21, 4331, 7209, 794, 503), -5.890977691859007, 1]], [[(0, 6592, 3191, 3434, 3975, 3329, 6592, 3071, 4657, 3782), -12.258683614432812, 0], [(0, 6592, 3191, 3434, 3975, 3329, 6592, 3071, 4657, 6592), -9.276459269225597, 0], [(0, 6592, 3191, 3434, 3975, 3329, 6592, 1408, 4657, 190), -12.821582660079002, 1], [(0, 6592, 3191, 3434, 3975, 3329, 6592, 1408, 4657, 6592), -10.02557061612606, 1]]]\n",
            "next_beams[0] after sort:  [[(0, 2667, 5197, 4890, 3434, 775, 4698, 6019, 23, 1), -1.3659903354709968, 0], [(0, 6592, 5216, 4663, 2667, 4890, 23, 1, 2467, 23), -4.942447799723595, 1], [(0, 6592, 5216, 4663, 2667, 4890, 23, 1, 2467, 624), -7.024589795153588, 1], [(0, 2667, 5197, 4890, 3434, 775, 4698, 6019, 23, 2667), -8.00136641599238, 0]]\n",
            "next_beams[1] after sort:  [[(0, 6609, 3434, 190, 123, 21, 4331, 7209, 2690, 6592), -4.897385101765394, 0], [(0, 6609, 3434, 190, 123, 21, 4331, 7209, 794, 503), -5.890977691859007, 1], [(0, 6609, 3434, 190, 123, 21, 4331, 7209, 794, 23), -6.463073562830687, 1], [(0, 6609, 3434, 190, 123, 21, 4331, 7209, 2690, 190), -8.22370870038867, 0]]\n",
            "next_beams[2] after sort:  [[(0, 6592, 3191, 3434, 3975, 3329, 6592, 3071, 4657, 6592), -9.276459269225597, 0], [(0, 6592, 3191, 3434, 3975, 3329, 6592, 1408, 4657, 6592), -10.02557061612606, 1], [(0, 6592, 3191, 3434, 3975, 3329, 6592, 3071, 4657, 3782), -12.258683614432812, 0], [(0, 6592, 3191, 3434, 3975, 3329, 6592, 1408, 4657, 190), -12.821582660079002, 1]]\n",
            "next_beams =  [[[(0, 2667, 5197, 4890, 3434, 775, 4698, 6019, 23, 1, 21), -3.3456556148594245, 0], [(0, 2667, 5197, 4890, 3434, 775, 4698, 6019, 23, 1, 3434), -3.343201334006153, 0], [(0, 6592, 5216, 4663, 2667, 4890, 23, 1, 2467, 23, 2667), -11.149004596751183, 1], [(0, 6592, 5216, 4663, 2667, 4890, 23, 1, 2467, 23, 1), -4.9455783371813595, 1]], [[(0, 6609, 3434, 190, 123, 21, 4331, 7209, 2690, 6592, 5949), -8.002050381153822, 0], [(0, 6609, 3434, 190, 123, 21, 4331, 7209, 2690, 6592, 5216), -5.7100930623710155, 0], [(0, 6609, 3434, 190, 123, 21, 4331, 7209, 794, 503, 190), -8.320204567164183, 1], [(0, 6609, 3434, 190, 123, 21, 4331, 7209, 794, 503, 5480), -6.948684524744749, 1]], [[(0, 6592, 3191, 3434, 3975, 3329, 6592, 3071, 4657, 6592, 2487), -12.530022911727428, 0], [(0, 6592, 3191, 3434, 3975, 3329, 6592, 3071, 4657, 6592, 1408), -11.989026360213757, 0], [(0, 6592, 3191, 3434, 3975, 3329, 6592, 1408, 4657, 6592, 1558), -13.382288917899132, 1], [(0, 6592, 3191, 3434, 3975, 3329, 6592, 1408, 4657, 6592, 1408), -12.394888862967491, 1]]]\n",
            "next_beams[0] after sort:  [[(0, 2667, 5197, 4890, 3434, 775, 4698, 6019, 23, 1, 3434), -3.343201334006153, 0], [(0, 2667, 5197, 4890, 3434, 775, 4698, 6019, 23, 1, 21), -3.3456556148594245, 0], [(0, 6592, 5216, 4663, 2667, 4890, 23, 1, 2467, 23, 1), -4.9455783371813595, 1], [(0, 6592, 5216, 4663, 2667, 4890, 23, 1, 2467, 23, 2667), -11.149004596751183, 1]]\n",
            "next_beams[1] after sort:  [[(0, 6609, 3434, 190, 123, 21, 4331, 7209, 2690, 6592, 5216), -5.7100930623710155, 0], [(0, 6609, 3434, 190, 123, 21, 4331, 7209, 794, 503, 5480), -6.948684524744749, 1], [(0, 6609, 3434, 190, 123, 21, 4331, 7209, 2690, 6592, 5949), -8.002050381153822, 0], [(0, 6609, 3434, 190, 123, 21, 4331, 7209, 794, 503, 190), -8.320204567164183, 1]]\n",
            "next_beams[2] after sort:  [[(0, 6592, 3191, 3434, 3975, 3329, 6592, 3071, 4657, 6592, 1408), -11.989026360213757, 0], [(0, 6592, 3191, 3434, 3975, 3329, 6592, 1408, 4657, 6592, 1408), -12.394888862967491, 1], [(0, 6592, 3191, 3434, 3975, 3329, 6592, 3071, 4657, 6592, 2487), -12.530022911727428, 0], [(0, 6592, 3191, 3434, 3975, 3329, 6592, 1408, 4657, 6592, 1558), -13.382288917899132, 1]]\n",
            "next_beams =  [[[(0, 2667, 5197, 4890, 3434, 775, 4698, 6019, 23, 1, 3434, 2667), -4.796611244208179, 0], [(0, 2667, 5197, 4890, 3434, 775, 4698, 6019, 23, 1, 3434, 775), -4.784461433417164, 0], [(0, 2667, 5197, 4890, 3434, 775, 4698, 6019, 23, 1, 21, 2667), -5.531499082571827, 1], [(0, 2667, 5197, 4890, 3434, 775, 4698, 6019, 23, 1, 21, 3198), -4.530999834067188, 1]], [[(0, 6609, 3434, 190, 123, 21, 4331, 7209, 2690, 6592, 5216, 503), -6.990878622978926, 0], [(0, 6609, 3434, 190, 123, 21, 4331, 7209, 2690, 6592, 5216, 23), -6.528055768460035, 0], [(0, 6609, 3434, 190, 123, 21, 4331, 7209, 794, 503, 5480, 1294), -8.58295078203082, 1], [(0, 6609, 3434, 190, 123, 21, 4331, 7209, 794, 503, 5480, 23), -8.393494796007872, 1]], [[(0, 6592, 3191, 3434, 3975, 3329, 6592, 3071, 4657, 6592, 1408, 19), -13.206716351211071, 0], [(0, 6592, 3191, 3434, 3975, 3329, 6592, 3071, 4657, 6592, 1408, 4657), -12.519323162734509, 0], [(0, 6592, 3191, 3434, 3975, 3329, 6592, 1408, 4657, 6592, 1408, 19), -13.67041264474392, 1], [(0, 6592, 3191, 3434, 3975, 3329, 6592, 1408, 4657, 6592, 1408, 4657), -12.868384972214699, 1]]]\n",
            "next_beams[0] after sort:  [[(0, 2667, 5197, 4890, 3434, 775, 4698, 6019, 23, 1, 21, 3198), -4.530999834067188, 1], [(0, 2667, 5197, 4890, 3434, 775, 4698, 6019, 23, 1, 3434, 775), -4.784461433417164, 0], [(0, 2667, 5197, 4890, 3434, 775, 4698, 6019, 23, 1, 3434, 2667), -4.796611244208179, 0], [(0, 2667, 5197, 4890, 3434, 775, 4698, 6019, 23, 1, 21, 2667), -5.531499082571827, 1]]\n",
            "next_beams[1] after sort:  [[(0, 6609, 3434, 190, 123, 21, 4331, 7209, 2690, 6592, 5216, 23), -6.528055768460035, 0], [(0, 6609, 3434, 190, 123, 21, 4331, 7209, 2690, 6592, 5216, 503), -6.990878622978926, 0], [(0, 6609, 3434, 190, 123, 21, 4331, 7209, 794, 503, 5480, 23), -8.393494796007872, 1], [(0, 6609, 3434, 190, 123, 21, 4331, 7209, 794, 503, 5480, 1294), -8.58295078203082, 1]]\n",
            "next_beams[2] after sort:  [[(0, 6592, 3191, 3434, 3975, 3329, 6592, 3071, 4657, 6592, 1408, 4657), -12.519323162734509, 0], [(0, 6592, 3191, 3434, 3975, 3329, 6592, 1408, 4657, 6592, 1408, 4657), -12.868384972214699, 1], [(0, 6592, 3191, 3434, 3975, 3329, 6592, 3071, 4657, 6592, 1408, 19), -13.206716351211071, 0], [(0, 6592, 3191, 3434, 3975, 3329, 6592, 1408, 4657, 6592, 1408, 19), -13.67041264474392, 1]]\n",
            "next_beams =  [[[(0, 2667, 5197, 4890, 3434, 775, 4698, 6019, 23, 1, 21, 3198, 5380), -5.76419883442577, 0], [(0, 2667, 5197, 4890, 3434, 775, 4698, 6019, 23, 1, 21, 3198, 2691), -5.1656375474995, 0], [(0, 2667, 5197, 4890, 3434, 775, 4698, 6019, 23, 1, 3434, 775, 4698), -6.330627138144337, 1], [(0, 2667, 5197, 4890, 3434, 775, 4698, 6019, 23, 1, 3434, 775, 23), -5.427747482783161, 1]], [[(0, 6609, 3434, 190, 123, 21, 4331, 7209, 2690, 6592, 5216, 23, 6609), -9.69132099673152, 0], [(0, 6609, 3434, 190, 123, 21, 4331, 7209, 2690, 6592, 5216, 23, 1), -6.7380120269954205, 0], [(0, 6609, 3434, 190, 123, 21, 4331, 7209, 2690, 6592, 5216, 503, 6592), -9.33276180550456, 1], [(0, 6609, 3434, 190, 123, 21, 4331, 7209, 2690, 6592, 5216, 503, 5480), -7.759891550987959, 1]], [[(0, 6592, 3191, 3434, 3975, 3329, 6592, 3071, 4657, 6592, 1408, 4657, 190), -16.56371098011732, 0], [(0, 6592, 3191, 3434, 3975, 3329, 6592, 3071, 4657, 6592, 1408, 4657, 6592), -14.035947851836681, 0], [(0, 6592, 3191, 3434, 3975, 3329, 6592, 1408, 4657, 6592, 1408, 4657, 190), -16.846583500504494, 1], [(0, 6592, 3191, 3434, 3975, 3329, 6592, 1408, 4657, 6592, 1408, 4657, 6592), -14.338563457131386, 1]]]\n",
            "next_beams[0] after sort:  [[(0, 2667, 5197, 4890, 3434, 775, 4698, 6019, 23, 1, 21, 3198, 2691), -5.1656375474995, 0], [(0, 2667, 5197, 4890, 3434, 775, 4698, 6019, 23, 1, 3434, 775, 23), -5.427747482783161, 1], [(0, 2667, 5197, 4890, 3434, 775, 4698, 6019, 23, 1, 21, 3198, 5380), -5.76419883442577, 0], [(0, 2667, 5197, 4890, 3434, 775, 4698, 6019, 23, 1, 3434, 775, 4698), -6.330627138144337, 1]]\n",
            "next_beams[1] after sort:  [[(0, 6609, 3434, 190, 123, 21, 4331, 7209, 2690, 6592, 5216, 23, 1), -6.7380120269954205, 0], [(0, 6609, 3434, 190, 123, 21, 4331, 7209, 2690, 6592, 5216, 503, 5480), -7.759891550987959, 1], [(0, 6609, 3434, 190, 123, 21, 4331, 7209, 2690, 6592, 5216, 503, 6592), -9.33276180550456, 1], [(0, 6609, 3434, 190, 123, 21, 4331, 7209, 2690, 6592, 5216, 23, 6609), -9.69132099673152, 0]]\n",
            "next_beams[2] after sort:  [[(0, 6592, 3191, 3434, 3975, 3329, 6592, 3071, 4657, 6592, 1408, 4657, 6592), -14.035947851836681, 0], [(0, 6592, 3191, 3434, 3975, 3329, 6592, 1408, 4657, 6592, 1408, 4657, 6592), -14.338563457131386, 1], [(0, 6592, 3191, 3434, 3975, 3329, 6592, 3071, 4657, 6592, 1408, 4657, 190), -16.56371098011732, 0], [(0, 6592, 3191, 3434, 3975, 3329, 6592, 1408, 4657, 6592, 1408, 4657, 190), -16.846583500504494, 1]]\n",
            "next_beams =  [[[(0, 2667, 5197, 4890, 3434, 775, 4698, 6019, 23, 1, 21, 3198, 2691, 3434), -8.092227274901234, 0], [(0, 2667, 5197, 4890, 3434, 775, 4698, 6019, 23, 1, 21, 3198, 2691, 1953), -5.34199544263538, 0], [(0, 2667, 5197, 4890, 3434, 775, 4698, 6019, 23, 1, 3434, 775, 23, 2667), -11.729490990168415, 1], [(0, 2667, 5197, 4890, 3434, 775, 4698, 6019, 23, 1, 3434, 775, 23, 1), -5.430456774425693, 1]], [[(0, 6609, 3434, 190, 123, 21, 4331, 7209, 2690, 6592, 5216, 23, 1, 5949), -9.81412048265338, 0], [(0, 6609, 3434, 190, 123, 21, 4331, 7209, 2690, 6592, 5216, 23, 1, 5480), -8.274178337305784, 0], [(0, 6609, 3434, 190, 123, 21, 4331, 7209, 2690, 6592, 5216, 503, 5480, 1294), -9.964676182717085, 1], [(0, 6609, 3434, 190, 123, 21, 4331, 7209, 2690, 6592, 5216, 503, 5480, 23), -8.703768949955702, 1]], [[(0, 6592, 3191, 3434, 3975, 3329, 6592, 3071, 4657, 6592, 1408, 4657, 6592, 2487), -17.386185221374035, 0], [(0, 6592, 3191, 3434, 3975, 3329, 6592, 3071, 4657, 6592, 1408, 4657, 6592, 1408), -16.862134508788586, 0], [(0, 6592, 3191, 3434, 3975, 3329, 6592, 1408, 4657, 6592, 1408, 4657, 6592, 2487), -17.705154672265053, 1], [(0, 6592, 3191, 3434, 3975, 3329, 6592, 1408, 4657, 6592, 1408, 4657, 6592, 1408), -17.03761698305607, 1]]]\n",
            "next_beams[0] after sort:  [[(0, 2667, 5197, 4890, 3434, 775, 4698, 6019, 23, 1, 21, 3198, 2691, 1953), -5.34199544263538, 0], [(0, 2667, 5197, 4890, 3434, 775, 4698, 6019, 23, 1, 3434, 775, 23, 1), -5.430456774425693, 1], [(0, 2667, 5197, 4890, 3434, 775, 4698, 6019, 23, 1, 21, 3198, 2691, 3434), -8.092227274901234, 0], [(0, 2667, 5197, 4890, 3434, 775, 4698, 6019, 23, 1, 3434, 775, 23, 2667), -11.729490990168415, 1]]\n",
            "next_beams[1] after sort:  [[(0, 6609, 3434, 190, 123, 21, 4331, 7209, 2690, 6592, 5216, 23, 1, 5480), -8.274178337305784, 0], [(0, 6609, 3434, 190, 123, 21, 4331, 7209, 2690, 6592, 5216, 503, 5480, 23), -8.703768949955702, 1], [(0, 6609, 3434, 190, 123, 21, 4331, 7209, 2690, 6592, 5216, 23, 1, 5949), -9.81412048265338, 0], [(0, 6609, 3434, 190, 123, 21, 4331, 7209, 2690, 6592, 5216, 503, 5480, 1294), -9.964676182717085, 1]]\n",
            "next_beams[2] after sort:  [[(0, 6592, 3191, 3434, 3975, 3329, 6592, 3071, 4657, 6592, 1408, 4657, 6592, 1408), -16.862134508788586, 0], [(0, 6592, 3191, 3434, 3975, 3329, 6592, 1408, 4657, 6592, 1408, 4657, 6592, 1408), -17.03761698305607, 1], [(0, 6592, 3191, 3434, 3975, 3329, 6592, 3071, 4657, 6592, 1408, 4657, 6592, 2487), -17.386185221374035, 0], [(0, 6592, 3191, 3434, 3975, 3329, 6592, 1408, 4657, 6592, 1408, 4657, 6592, 2487), -17.705154672265053, 1]]\n",
            "next_beams =  [[[(0, 2667, 5197, 4890, 3434, 775, 4698, 6019, 23, 1, 21, 3198, 2691, 1953, 23), -6.572731459862553, 0], [(0, 2667, 5197, 4890, 3434, 775, 4698, 6019, 23, 1, 21, 3198, 2691, 1953, 3434), -6.528128112084232, 0], [(0, 2667, 5197, 4890, 3434, 775, 4698, 6019, 23, 1, 3434, 775, 23, 1, 21), -7.322575824451633, 1], [(0, 2667, 5197, 4890, 3434, 775, 4698, 6019, 23, 1, 3434, 775, 23, 1, 3434), -7.13145424623508, 1]], [[(0, 6609, 3434, 190, 123, 21, 4331, 7209, 2690, 6592, 5216, 23, 1, 5480, 1294), -10.194741319864988, 0], [(0, 6609, 3434, 190, 123, 21, 4331, 7209, 2690, 6592, 5216, 23, 1, 5480, 503), -9.398107599467039, 0], [(0, 6609, 3434, 190, 123, 21, 4331, 7209, 2690, 6592, 5216, 503, 5480, 23, 123), -13.609556417912245, 1], [(0, 6609, 3434, 190, 123, 21, 4331, 7209, 2690, 6592, 5216, 503, 5480, 23, 1), -8.737527329474688, 1]], [[(0, 6592, 3191, 3434, 3975, 3329, 6592, 3071, 4657, 6592, 1408, 4657, 6592, 1408, 19), -17.95424859970808, 0], [(0, 6592, 3191, 3434, 3975, 3329, 6592, 3071, 4657, 6592, 1408, 4657, 6592, 1408, 4657), -17.512748889625072, 0], [(0, 6592, 3191, 3434, 3975, 3329, 6592, 1408, 4657, 6592, 1408, 4657, 6592, 1408, 19), -18.11948837339878, 1], [(0, 6592, 3191, 3434, 3975, 3329, 6592, 1408, 4657, 6592, 1408, 4657, 6592, 1408, 4657), -17.680938377976418, 1]]]\n",
            "next_beams[0] after sort:  [[(0, 2667, 5197, 4890, 3434, 775, 4698, 6019, 23, 1, 21, 3198, 2691, 1953, 3434), -6.528128112084232, 0], [(0, 2667, 5197, 4890, 3434, 775, 4698, 6019, 23, 1, 21, 3198, 2691, 1953, 23), -6.572731459862553, 0], [(0, 2667, 5197, 4890, 3434, 775, 4698, 6019, 23, 1, 3434, 775, 23, 1, 3434), -7.13145424623508, 1], [(0, 2667, 5197, 4890, 3434, 775, 4698, 6019, 23, 1, 3434, 775, 23, 1, 21), -7.322575824451633, 1]]\n",
            "next_beams[1] after sort:  [[(0, 6609, 3434, 190, 123, 21, 4331, 7209, 2690, 6592, 5216, 503, 5480, 23, 1), -8.737527329474688, 1], [(0, 6609, 3434, 190, 123, 21, 4331, 7209, 2690, 6592, 5216, 23, 1, 5480, 503), -9.398107599467039, 0], [(0, 6609, 3434, 190, 123, 21, 4331, 7209, 2690, 6592, 5216, 23, 1, 5480, 1294), -10.194741319864988, 0], [(0, 6609, 3434, 190, 123, 21, 4331, 7209, 2690, 6592, 5216, 503, 5480, 23, 123), -13.609556417912245, 1]]\n",
            "next_beams[2] after sort:  [[(0, 6592, 3191, 3434, 3975, 3329, 6592, 3071, 4657, 6592, 1408, 4657, 6592, 1408, 4657), -17.512748889625072, 0], [(0, 6592, 3191, 3434, 3975, 3329, 6592, 1408, 4657, 6592, 1408, 4657, 6592, 1408, 4657), -17.680938377976418, 1], [(0, 6592, 3191, 3434, 3975, 3329, 6592, 3071, 4657, 6592, 1408, 4657, 6592, 1408, 19), -17.95424859970808, 0], [(0, 6592, 3191, 3434, 3975, 3329, 6592, 1408, 4657, 6592, 1408, 4657, 6592, 1408, 19), -18.11948837339878, 1]]\n",
            "next_beams =  [[[(0, 2667, 5197, 4890, 3434, 775, 4698, 6019, 23, 1, 21, 3198, 2691, 1953, 3434, 2667), -8.499051535851322, 0], [(0, 2667, 5197, 4890, 3434, 775, 4698, 6019, 23, 1, 21, 3198, 2691, 1953, 3434, 775), -7.431396985775791, 0], [(0, 2667, 5197, 4890, 3434, 775, 4698, 6019, 23, 1, 21, 3198, 2691, 1953, 23, 2667), -12.798552478081547, 1], [(0, 2667, 5197, 4890, 3434, 775, 4698, 6019, 23, 1, 21, 3198, 2691, 1953, 23, 1), -6.575772152864374, 1]], [[(0, 6609, 3434, 190, 123, 21, 4331, 7209, 2690, 6592, 5216, 503, 5480, 23, 1, 5949), -11.841529566794634, 0], [(0, 6609, 3434, 190, 123, 21, 4331, 7209, 2690, 6592, 5216, 503, 5480, 23, 1, 5480), -10.602485377341509, 0], [(0, 6609, 3434, 190, 123, 21, 4331, 7209, 2690, 6592, 5216, 23, 1, 5480, 503, 891), -11.294877123087645, 1], [(0, 6609, 3434, 190, 123, 21, 4331, 7209, 2690, 6592, 5216, 23, 1, 5480, 503, 5480), -10.824660371989012, 1]], [[(0, 6592, 3191, 3434, 3975, 3329, 6592, 3071, 4657, 6592, 1408, 4657, 6592, 1408, 4657, 190), -21.416217021644115, 0], [(0, 6592, 3191, 3434, 3975, 3329, 6592, 3071, 4657, 6592, 1408, 4657, 6592, 1408, 4657, 6592), -19.019862703979015, 0], [(0, 6592, 3191, 3434, 3975, 3329, 6592, 1408, 4657, 6592, 1408, 4657, 6592, 1408, 4657, 190), -21.524266615509987, 1], [(0, 6592, 3191, 3434, 3975, 3329, 6592, 1408, 4657, 6592, 1408, 4657, 6592, 1408, 4657, 6592), -19.159924879670143, 1]]]\n",
            "next_beams[0] after sort:  [[(0, 2667, 5197, 4890, 3434, 775, 4698, 6019, 23, 1, 21, 3198, 2691, 1953, 23, 1), -6.575772152864374, 1], [(0, 2667, 5197, 4890, 3434, 775, 4698, 6019, 23, 1, 21, 3198, 2691, 1953, 3434, 775), -7.431396985775791, 0], [(0, 2667, 5197, 4890, 3434, 775, 4698, 6019, 23, 1, 21, 3198, 2691, 1953, 3434, 2667), -8.499051535851322, 0], [(0, 2667, 5197, 4890, 3434, 775, 4698, 6019, 23, 1, 21, 3198, 2691, 1953, 23, 2667), -12.798552478081547, 1]]\n",
            "next_beams[1] after sort:  [[(0, 6609, 3434, 190, 123, 21, 4331, 7209, 2690, 6592, 5216, 503, 5480, 23, 1, 5480), -10.602485377341509, 0], [(0, 6609, 3434, 190, 123, 21, 4331, 7209, 2690, 6592, 5216, 23, 1, 5480, 503, 5480), -10.824660371989012, 1], [(0, 6609, 3434, 190, 123, 21, 4331, 7209, 2690, 6592, 5216, 23, 1, 5480, 503, 891), -11.294877123087645, 1], [(0, 6609, 3434, 190, 123, 21, 4331, 7209, 2690, 6592, 5216, 503, 5480, 23, 1, 5949), -11.841529566794634, 0]]\n",
            "next_beams[2] after sort:  [[(0, 6592, 3191, 3434, 3975, 3329, 6592, 3071, 4657, 6592, 1408, 4657, 6592, 1408, 4657, 6592), -19.019862703979015, 0], [(0, 6592, 3191, 3434, 3975, 3329, 6592, 1408, 4657, 6592, 1408, 4657, 6592, 1408, 4657, 6592), -19.159924879670143, 1], [(0, 6592, 3191, 3434, 3975, 3329, 6592, 3071, 4657, 6592, 1408, 4657, 6592, 1408, 4657, 190), -21.416217021644115, 0], [(0, 6592, 3191, 3434, 3975, 3329, 6592, 1408, 4657, 6592, 1408, 4657, 6592, 1408, 4657, 190), -21.524266615509987, 1]]\n",
            "next_beams =  [[[(0, 2667, 5197, 4890, 3434, 775, 4698, 6019, 23, 1, 21, 3198, 2691, 1953, 23, 1, 3699), -8.602600918733515, 0], [(0, 2667, 5197, 4890, 3434, 775, 4698, 6019, 23, 1, 21, 3198, 2691, 1953, 23, 1, 3434), -8.136457787477411, 0], [(0, 2667, 5197, 4890, 3434, 775, 4698, 6019, 23, 1, 21, 3198, 2691, 1953, 3434, 775, 4698), -8.812171245343052, 1], [(0, 2667, 5197, 4890, 3434, 775, 4698, 6019, 23, 1, 21, 3198, 2691, 1953, 3434, 775, 23), -8.141229832894169, 1]], [[(0, 6609, 3434, 190, 123, 21, 4331, 7209, 2690, 6592, 5216, 503, 5480, 23, 1, 5480, 624), -12.479535300284624, 0], [(0, 6609, 3434, 190, 123, 21, 4331, 7209, 2690, 6592, 5216, 503, 5480, 23, 1, 5480, 1294), -11.852847296744585, 0], [(0, 6609, 3434, 190, 123, 21, 4331, 7209, 2690, 6592, 5216, 23, 1, 5480, 503, 5480, 23), -12.540921997278929, 1], [(0, 6609, 3434, 190, 123, 21, 4331, 7209, 2690, 6592, 5216, 23, 1, 5480, 503, 5480, 1294), -11.956296753138304, 1]], [[(0, 6592, 3191, 3434, 3975, 3329, 6592, 3071, 4657, 6592, 1408, 4657, 6592, 1408, 4657, 6592, 2487), -22.37732534855604, 0], [(0, 6592, 3191, 3434, 3975, 3329, 6592, 3071, 4657, 6592, 1408, 4657, 6592, 1408, 4657, 6592, 1408), -21.85328560322523, 0], [(0, 6592, 3191, 3434, 3975, 3329, 6592, 1408, 4657, 6592, 1408, 4657, 6592, 1408, 4657, 6592, 2487), -22.53153385221958, 1], [(0, 6592, 3191, 3434, 3975, 3329, 6592, 1408, 4657, 6592, 1408, 4657, 6592, 1408, 4657, 6592, 1408), -21.942771092057228, 1]]]\n",
            "next_beams[0] after sort:  [[(0, 2667, 5197, 4890, 3434, 775, 4698, 6019, 23, 1, 21, 3198, 2691, 1953, 23, 1, 3434), -8.136457787477411, 0], [(0, 2667, 5197, 4890, 3434, 775, 4698, 6019, 23, 1, 21, 3198, 2691, 1953, 3434, 775, 23), -8.141229832894169, 1], [(0, 2667, 5197, 4890, 3434, 775, 4698, 6019, 23, 1, 21, 3198, 2691, 1953, 23, 1, 3699), -8.602600918733515, 0], [(0, 2667, 5197, 4890, 3434, 775, 4698, 6019, 23, 1, 21, 3198, 2691, 1953, 3434, 775, 4698), -8.812171245343052, 1]]\n",
            "next_beams[1] after sort:  [[(0, 6609, 3434, 190, 123, 21, 4331, 7209, 2690, 6592, 5216, 503, 5480, 23, 1, 5480, 1294), -11.852847296744585, 0], [(0, 6609, 3434, 190, 123, 21, 4331, 7209, 2690, 6592, 5216, 23, 1, 5480, 503, 5480, 1294), -11.956296753138304, 1], [(0, 6609, 3434, 190, 123, 21, 4331, 7209, 2690, 6592, 5216, 503, 5480, 23, 1, 5480, 624), -12.479535300284624, 0], [(0, 6609, 3434, 190, 123, 21, 4331, 7209, 2690, 6592, 5216, 23, 1, 5480, 503, 5480, 23), -12.540921997278929, 1]]\n",
            "next_beams[2] after sort:  [[(0, 6592, 3191, 3434, 3975, 3329, 6592, 3071, 4657, 6592, 1408, 4657, 6592, 1408, 4657, 6592, 1408), -21.85328560322523, 0], [(0, 6592, 3191, 3434, 3975, 3329, 6592, 1408, 4657, 6592, 1408, 4657, 6592, 1408, 4657, 6592, 1408), -21.942771092057228, 1], [(0, 6592, 3191, 3434, 3975, 3329, 6592, 3071, 4657, 6592, 1408, 4657, 6592, 1408, 4657, 6592, 2487), -22.37732534855604, 0], [(0, 6592, 3191, 3434, 3975, 3329, 6592, 1408, 4657, 6592, 1408, 4657, 6592, 1408, 4657, 6592, 2487), -22.53153385221958, 1]]\n",
            "next_beams =  [[[(0, 2667, 5197, 4890, 3434, 775, 4698, 6019, 23, 1, 21, 3198, 2691, 1953, 23, 1, 3434, 190), -10.18342338653747, 0], [(0, 2667, 5197, 4890, 3434, 775, 4698, 6019, 23, 1, 21, 3198, 2691, 1953, 23, 1, 3434, 775), -9.484571920358576, 0], [(0, 2667, 5197, 4890, 3434, 775, 4698, 6019, 23, 1, 21, 3198, 2691, 1953, 3434, 775, 23, 2667), -14.502938473946415, 1], [(0, 2667, 5197, 4890, 3434, 775, 4698, 6019, 23, 1, 21, 3198, 2691, 1953, 3434, 775, 23, 1), -8.144309388124384, 1]], [[(0, 6609, 3434, 190, 123, 21, 4331, 7209, 2690, 6592, 5216, 503, 5480, 23, 1, 5480, 1294, 440), -14.942732531577349, 0], [(0, 6609, 3434, 190, 123, 21, 4331, 7209, 2690, 6592, 5216, 503, 5480, 23, 1, 5480, 1294, 929), -11.981212381273508, 0], [(0, 6609, 3434, 190, 123, 21, 4331, 7209, 2690, 6592, 5216, 23, 1, 5480, 503, 5480, 1294, 440), -15.09474403783679, 1], [(0, 6609, 3434, 190, 123, 21, 4331, 7209, 2690, 6592, 5216, 23, 1, 5480, 503, 5480, 1294, 929), -12.100400175899267, 1]], [[(0, 6592, 3191, 3434, 3975, 3329, 6592, 3071, 4657, 6592, 1408, 4657, 6592, 1408, 4657, 6592, 1408, 19), -23.002854637801647, 0], [(0, 6592, 3191, 3434, 3975, 3329, 6592, 3071, 4657, 6592, 1408, 4657, 6592, 1408, 4657, 6592, 1408, 4657), -22.49829225987196, 0], [(0, 6592, 3191, 3434, 3975, 3329, 6592, 1408, 4657, 6592, 1408, 4657, 6592, 1408, 4657, 6592, 1408, 19), -23.072582975029945, 1], [(0, 6592, 3191, 3434, 3975, 3329, 6592, 1408, 4657, 6592, 1408, 4657, 6592, 1408, 4657, 6592, 1408, 4657), -22.593326345086098, 1]]]\n",
            "next_beams[0] after sort:  [[(0, 2667, 5197, 4890, 3434, 775, 4698, 6019, 23, 1, 21, 3198, 2691, 1953, 3434, 775, 23, 1), -8.144309388124384, 1], [(0, 2667, 5197, 4890, 3434, 775, 4698, 6019, 23, 1, 21, 3198, 2691, 1953, 23, 1, 3434, 775), -9.484571920358576, 0], [(0, 2667, 5197, 4890, 3434, 775, 4698, 6019, 23, 1, 21, 3198, 2691, 1953, 23, 1, 3434, 190), -10.18342338653747, 0], [(0, 2667, 5197, 4890, 3434, 775, 4698, 6019, 23, 1, 21, 3198, 2691, 1953, 3434, 775, 23, 2667), -14.502938473946415, 1]]\n",
            "next_beams[1] after sort:  [[(0, 6609, 3434, 190, 123, 21, 4331, 7209, 2690, 6592, 5216, 503, 5480, 23, 1, 5480, 1294, 929), -11.981212381273508, 0], [(0, 6609, 3434, 190, 123, 21, 4331, 7209, 2690, 6592, 5216, 23, 1, 5480, 503, 5480, 1294, 929), -12.100400175899267, 1], [(0, 6609, 3434, 190, 123, 21, 4331, 7209, 2690, 6592, 5216, 503, 5480, 23, 1, 5480, 1294, 440), -14.942732531577349, 0], [(0, 6609, 3434, 190, 123, 21, 4331, 7209, 2690, 6592, 5216, 23, 1, 5480, 503, 5480, 1294, 440), -15.09474403783679, 1]]\n",
            "next_beams[2] after sort:  [[(0, 6592, 3191, 3434, 3975, 3329, 6592, 3071, 4657, 6592, 1408, 4657, 6592, 1408, 4657, 6592, 1408, 4657), -22.49829225987196, 0], [(0, 6592, 3191, 3434, 3975, 3329, 6592, 1408, 4657, 6592, 1408, 4657, 6592, 1408, 4657, 6592, 1408, 4657), -22.593326345086098, 1], [(0, 6592, 3191, 3434, 3975, 3329, 6592, 3071, 4657, 6592, 1408, 4657, 6592, 1408, 4657, 6592, 1408, 19), -23.002854637801647, 0], [(0, 6592, 3191, 3434, 3975, 3329, 6592, 1408, 4657, 6592, 1408, 4657, 6592, 1408, 4657, 6592, 1408, 19), -23.072582975029945, 1]]\n",
            "next_beams =  [[[(0, 2667, 5197, 4890, 3434, 775, 4698, 6019, 23, 1, 21, 3198, 2691, 1953, 3434, 775, 23, 1, 21), -9.974193678819574, 0], [(0, 2667, 5197, 4890, 3434, 775, 4698, 6019, 23, 1, 21, 3198, 2691, 1953, 3434, 775, 23, 1, 3434), -9.81779109092895, 0], [(0, 2667, 5197, 4890, 3434, 775, 4698, 6019, 23, 1, 21, 3198, 2691, 1953, 23, 1, 3434, 775, 4698), -11.211951242410578, 1], [(0, 2667, 5197, 4890, 3434, 775, 4698, 6019, 23, 1, 21, 3198, 2691, 1953, 23, 1, 3434, 775, 23), -10.198267923318781, 1]], [[(0, 6609, 3434, 190, 123, 21, 4331, 7209, 2690, 6592, 5216, 503, 5480, 23, 1, 5480, 1294, 929, 5367), -15.303863529115915, 0], [(0, 6609, 3434, 190, 123, 21, 4331, 7209, 2690, 6592, 5216, 503, 5480, 23, 1, 5480, 1294, 929, 2651), -12.054372858256102, 0], [(0, 6609, 3434, 190, 123, 21, 4331, 7209, 2690, 6592, 5216, 23, 1, 5480, 503, 5480, 1294, 929, 5367), -15.378699984401464, 1], [(0, 6609, 3434, 190, 123, 21, 4331, 7209, 2690, 6592, 5216, 23, 1, 5480, 503, 5480, 1294, 929, 2651), -12.174261655658484, 1]], [[(0, 6592, 3191, 3434, 3975, 3329, 6592, 3071, 4657, 6592, 1408, 4657, 6592, 1408, 4657, 6592, 1408, 4657, 190), -26.30527477711439, 0], [(0, 6592, 3191, 3434, 3975, 3329, 6592, 3071, 4657, 6592, 1408, 4657, 6592, 1408, 4657, 6592, 1408, 4657, 6592), -23.979234509170055, 0], [(0, 6592, 3191, 3434, 3975, 3329, 6592, 1408, 4657, 6592, 1408, 4657, 6592, 1408, 4657, 6592, 1408, 4657, 190), -26.356553569436073, 1], [(0, 6592, 3191, 3434, 3975, 3329, 6592, 1408, 4657, 6592, 1408, 4657, 6592, 1408, 4657, 6592, 1408, 4657, 6592), -24.059673324227333, 1]]]\n",
            "next_beams[0] after sort:  [[(0, 2667, 5197, 4890, 3434, 775, 4698, 6019, 23, 1, 21, 3198, 2691, 1953, 3434, 775, 23, 1, 3434), -9.81779109092895, 0], [(0, 2667, 5197, 4890, 3434, 775, 4698, 6019, 23, 1, 21, 3198, 2691, 1953, 3434, 775, 23, 1, 21), -9.974193678819574, 0], [(0, 2667, 5197, 4890, 3434, 775, 4698, 6019, 23, 1, 21, 3198, 2691, 1953, 23, 1, 3434, 775, 23), -10.198267923318781, 1], [(0, 2667, 5197, 4890, 3434, 775, 4698, 6019, 23, 1, 21, 3198, 2691, 1953, 23, 1, 3434, 775, 4698), -11.211951242410578, 1]]\n",
            "next_beams[1] after sort:  [[(0, 6609, 3434, 190, 123, 21, 4331, 7209, 2690, 6592, 5216, 503, 5480, 23, 1, 5480, 1294, 929, 2651), -12.054372858256102, 0], [(0, 6609, 3434, 190, 123, 21, 4331, 7209, 2690, 6592, 5216, 23, 1, 5480, 503, 5480, 1294, 929, 2651), -12.174261655658484, 1], [(0, 6609, 3434, 190, 123, 21, 4331, 7209, 2690, 6592, 5216, 503, 5480, 23, 1, 5480, 1294, 929, 5367), -15.303863529115915, 0], [(0, 6609, 3434, 190, 123, 21, 4331, 7209, 2690, 6592, 5216, 23, 1, 5480, 503, 5480, 1294, 929, 5367), -15.378699984401464, 1]]\n",
            "next_beams[2] after sort:  [[(0, 6592, 3191, 3434, 3975, 3329, 6592, 3071, 4657, 6592, 1408, 4657, 6592, 1408, 4657, 6592, 1408, 4657, 6592), -23.979234509170055, 0], [(0, 6592, 3191, 3434, 3975, 3329, 6592, 1408, 4657, 6592, 1408, 4657, 6592, 1408, 4657, 6592, 1408, 4657, 6592), -24.059673324227333, 1], [(0, 6592, 3191, 3434, 3975, 3329, 6592, 3071, 4657, 6592, 1408, 4657, 6592, 1408, 4657, 6592, 1408, 4657, 190), -26.30527477711439, 0], [(0, 6592, 3191, 3434, 3975, 3329, 6592, 1408, 4657, 6592, 1408, 4657, 6592, 1408, 4657, 6592, 1408, 4657, 190), -26.356553569436073, 1]]\n",
            "next_beams =  [[[(0, 2667, 5197, 4890, 3434, 775, 4698, 6019, 23, 1, 21, 3198, 2691, 1953, 3434, 775, 23, 1, 3434, 190), -11.817322479211725, 0], [(0, 2667, 5197, 4890, 3434, 775, 4698, 6019, 23, 1, 21, 3198, 2691, 1953, 3434, 775, 23, 1, 3434, 775), -11.10976193996612, 0], [(0, 2667, 5197, 4890, 3434, 775, 4698, 6019, 23, 1, 21, 3198, 2691, 1953, 3434, 775, 23, 1, 21, 2667), -12.856149302446283, 1], [(0, 2667, 5197, 4890, 3434, 775, 4698, 6019, 23, 1, 21, 3198, 2691, 1953, 3434, 775, 23, 1, 21, 3198), -10.862211929284967, 1]], [[(0, 6609, 3434, 190, 123, 21, 4331, 7209, 2690, 6592, 5216, 503, 5480, 23, 1, 5480, 1294, 929, 2651, 3329), -14.317630600184202, 0], [(0, 6609, 3434, 190, 123, 21, 4331, 7209, 2690, 6592, 5216, 503, 5480, 23, 1, 5480, 1294, 929, 2651, 7356), -12.605599295347929, 0], [(0, 6609, 3434, 190, 123, 21, 4331, 7209, 2690, 6592, 5216, 23, 1, 5480, 503, 5480, 1294, 929, 2651, 3329), -14.604575004428625, 1], [(0, 6609, 3434, 190, 123, 21, 4331, 7209, 2690, 6592, 5216, 23, 1, 5480, 503, 5480, 1294, 929, 2651, 7356), -12.66107251867652, 1]], [[(0, 6592, 3191, 3434, 3975, 3329, 6592, 3071, 4657, 6592, 1408, 4657, 6592, 1408, 4657, 6592, 1408, 4657, 6592, 2487), -27.332542471587658, 0], [(0, 6592, 3191, 3434, 3975, 3329, 6592, 3071, 4657, 6592, 1408, 4657, 6592, 1408, 4657, 6592, 1408, 4657, 6592, 1408), -26.795558981597424, 0], [(0, 6592, 3191, 3434, 3975, 3329, 6592, 1408, 4657, 6592, 1408, 4657, 6592, 1408, 4657, 6592, 1408, 4657, 6592, 2487), -27.423548713326454, 1], [(0, 6592, 3191, 3434, 3975, 3329, 6592, 1408, 4657, 6592, 1408, 4657, 6592, 1408, 4657, 6592, 1408, 4657, 6592, 1408), -26.855858340859413, 1]]]\n",
            "next_beams[0] after sort:  [[(0, 2667, 5197, 4890, 3434, 775, 4698, 6019, 23, 1, 21, 3198, 2691, 1953, 3434, 775, 23, 1, 21, 3198), -10.862211929284967, 1], [(0, 2667, 5197, 4890, 3434, 775, 4698, 6019, 23, 1, 21, 3198, 2691, 1953, 3434, 775, 23, 1, 3434, 775), -11.10976193996612, 0], [(0, 2667, 5197, 4890, 3434, 775, 4698, 6019, 23, 1, 21, 3198, 2691, 1953, 3434, 775, 23, 1, 3434, 190), -11.817322479211725, 0], [(0, 2667, 5197, 4890, 3434, 775, 4698, 6019, 23, 1, 21, 3198, 2691, 1953, 3434, 775, 23, 1, 21, 2667), -12.856149302446283, 1]]\n",
            "next_beams[1] after sort:  [[(0, 6609, 3434, 190, 123, 21, 4331, 7209, 2690, 6592, 5216, 503, 5480, 23, 1, 5480, 1294, 929, 2651, 7356), -12.605599295347929, 0], [(0, 6609, 3434, 190, 123, 21, 4331, 7209, 2690, 6592, 5216, 23, 1, 5480, 503, 5480, 1294, 929, 2651, 7356), -12.66107251867652, 1], [(0, 6609, 3434, 190, 123, 21, 4331, 7209, 2690, 6592, 5216, 503, 5480, 23, 1, 5480, 1294, 929, 2651, 3329), -14.317630600184202, 0], [(0, 6609, 3434, 190, 123, 21, 4331, 7209, 2690, 6592, 5216, 23, 1, 5480, 503, 5480, 1294, 929, 2651, 3329), -14.604575004428625, 1]]\n",
            "next_beams[2] after sort:  [[(0, 6592, 3191, 3434, 3975, 3329, 6592, 3071, 4657, 6592, 1408, 4657, 6592, 1408, 4657, 6592, 1408, 4657, 6592, 1408), -26.795558981597424, 0], [(0, 6592, 3191, 3434, 3975, 3329, 6592, 1408, 4657, 6592, 1408, 4657, 6592, 1408, 4657, 6592, 1408, 4657, 6592, 1408), -26.855858340859413, 1], [(0, 6592, 3191, 3434, 3975, 3329, 6592, 3071, 4657, 6592, 1408, 4657, 6592, 1408, 4657, 6592, 1408, 4657, 6592, 2487), -27.332542471587658, 0], [(0, 6592, 3191, 3434, 3975, 3329, 6592, 1408, 4657, 6592, 1408, 4657, 6592, 1408, 4657, 6592, 1408, 4657, 6592, 2487), -27.423548713326454, 1]]\n",
            "next_beams =  [[[(0, 2667, 5197, 4890, 3434, 775, 4698, 6019, 23, 1, 21, 3198, 2691, 1953, 3434, 775, 23, 1, 21, 3198, 5380), -11.92224584671203, 0], [(0, 2667, 5197, 4890, 3434, 775, 4698, 6019, 23, 1, 21, 3198, 2691, 1953, 3434, 775, 23, 1, 21, 3198, 2691), -11.716066227876581, 0], [(0, 2667, 5197, 4890, 3434, 775, 4698, 6019, 23, 1, 21, 3198, 2691, 1953, 3434, 775, 23, 1, 3434, 775, 4698), -12.887805090867914, 1], [(0, 2667, 5197, 4890, 3434, 775, 4698, 6019, 23, 1, 21, 3198, 2691, 1953, 3434, 775, 23, 1, 3434, 775, 23), -11.810146437608637, 1]], [[(0, 6609, 3434, 190, 123, 21, 4331, 7209, 2690, 6592, 5216, 503, 5480, 23, 1, 5480, 1294, 929, 2651, 7356, 7210), -14.403801809996367, 0], [(0, 6609, 3434, 190, 123, 21, 4331, 7209, 2690, 6592, 5216, 503, 5480, 23, 1, 5480, 1294, 929, 2651, 7356, 190), -13.615008246153593, 0], [(0, 6609, 3434, 190, 123, 21, 4331, 7209, 2690, 6592, 5216, 23, 1, 5480, 503, 5480, 1294, 929, 2651, 7356, 7210), -14.415261294692755, 1], [(0, 6609, 3434, 190, 123, 21, 4331, 7209, 2690, 6592, 5216, 23, 1, 5480, 503, 5480, 1294, 929, 2651, 7356, 190), -13.7014141343534, 1]], [[(0, 6592, 3191, 3434, 3975, 3329, 6592, 3071, 4657, 6592, 1408, 4657, 6592, 1408, 4657, 6592, 1408, 4657, 6592, 1408, 19), -28.03471975773573, 0], [(0, 6592, 3191, 3434, 3975, 3329, 6592, 3071, 4657, 6592, 1408, 4657, 6592, 1408, 4657, 6592, 1408, 4657, 6592, 1408, 4657), -27.42106842249632, 0], [(0, 6592, 3191, 3434, 3975, 3329, 6592, 1408, 4657, 6592, 1408, 4657, 6592, 1408, 4657, 6592, 1408, 4657, 6592, 1408, 19), -28.078656807541847, 1], [(0, 6592, 3191, 3434, 3975, 3329, 6592, 1408, 4657, 6592, 1408, 4657, 6592, 1408, 4657, 6592, 1408, 4657, 6592, 1408, 4657), -27.48609794676304, 1]]]\n",
            "next_beams[0] after sort:  [[(0, 2667, 5197, 4890, 3434, 775, 4698, 6019, 23, 1, 21, 3198, 2691, 1953, 3434, 775, 23, 1, 21, 3198, 2691), -11.716066227876581, 0], [(0, 2667, 5197, 4890, 3434, 775, 4698, 6019, 23, 1, 21, 3198, 2691, 1953, 3434, 775, 23, 1, 3434, 775, 23), -11.810146437608637, 1], [(0, 2667, 5197, 4890, 3434, 775, 4698, 6019, 23, 1, 21, 3198, 2691, 1953, 3434, 775, 23, 1, 21, 3198, 5380), -11.92224584671203, 0], [(0, 2667, 5197, 4890, 3434, 775, 4698, 6019, 23, 1, 21, 3198, 2691, 1953, 3434, 775, 23, 1, 3434, 775, 4698), -12.887805090867914, 1]]\n",
            "next_beams[1] after sort:  [[(0, 6609, 3434, 190, 123, 21, 4331, 7209, 2690, 6592, 5216, 503, 5480, 23, 1, 5480, 1294, 929, 2651, 7356, 190), -13.615008246153593, 0], [(0, 6609, 3434, 190, 123, 21, 4331, 7209, 2690, 6592, 5216, 23, 1, 5480, 503, 5480, 1294, 929, 2651, 7356, 190), -13.7014141343534, 1], [(0, 6609, 3434, 190, 123, 21, 4331, 7209, 2690, 6592, 5216, 503, 5480, 23, 1, 5480, 1294, 929, 2651, 7356, 7210), -14.403801809996367, 0], [(0, 6609, 3434, 190, 123, 21, 4331, 7209, 2690, 6592, 5216, 23, 1, 5480, 503, 5480, 1294, 929, 2651, 7356, 7210), -14.415261294692755, 1]]\n",
            "next_beams[2] after sort:  [[(0, 6592, 3191, 3434, 3975, 3329, 6592, 3071, 4657, 6592, 1408, 4657, 6592, 1408, 4657, 6592, 1408, 4657, 6592, 1408, 4657), -27.42106842249632, 0], [(0, 6592, 3191, 3434, 3975, 3329, 6592, 1408, 4657, 6592, 1408, 4657, 6592, 1408, 4657, 6592, 1408, 4657, 6592, 1408, 4657), -27.48609794676304, 1], [(0, 6592, 3191, 3434, 3975, 3329, 6592, 3071, 4657, 6592, 1408, 4657, 6592, 1408, 4657, 6592, 1408, 4657, 6592, 1408, 19), -28.03471975773573, 0], [(0, 6592, 3191, 3434, 3975, 3329, 6592, 1408, 4657, 6592, 1408, 4657, 6592, 1408, 4657, 6592, 1408, 4657, 6592, 1408, 19), -28.078656807541847, 1]]\n",
            "next_beams =  [[[(0, 2667, 5197, 4890, 3434, 775, 4698, 6019, 23, 1, 21, 3198, 2691, 1953, 3434, 775, 23, 1, 21, 3198, 2691, 3434), -14.531270132982172, 0], [(0, 2667, 5197, 4890, 3434, 775, 4698, 6019, 23, 1, 21, 3198, 2691, 1953, 3434, 775, 23, 1, 21, 3198, 2691, 1953), -11.881862850510515, 0], [(0, 2667, 5197, 4890, 3434, 775, 4698, 6019, 23, 1, 21, 3198, 2691, 1953, 3434, 775, 23, 1, 3434, 775, 23, 2667), -17.975856886827387, 1], [(0, 2667, 5197, 4890, 3434, 775, 4698, 6019, 23, 1, 21, 3198, 2691, 1953, 3434, 775, 23, 1, 3434, 775, 23, 1), -11.814141257316805, 1]], [[(0, 6609, 3434, 190, 123, 21, 4331, 7209, 2690, 6592, 5216, 503, 5480, 23, 1, 5480, 1294, 929, 2651, 7356, 190, 39), -16.024002205580473, 0], [(0, 6609, 3434, 190, 123, 21, 4331, 7209, 2690, 6592, 5216, 503, 5480, 23, 1, 5480, 1294, 929, 2651, 7356, 190, 123), -14.238535951822996, 0], [(0, 6609, 3434, 190, 123, 21, 4331, 7209, 2690, 6592, 5216, 23, 1, 5480, 503, 5480, 1294, 929, 2651, 7356, 190, 39), -16.050674702972174, 1], [(0, 6609, 3434, 190, 123, 21, 4331, 7209, 2690, 6592, 5216, 23, 1, 5480, 503, 5480, 1294, 929, 2651, 7356, 190, 123), -14.35318299755454, 1]], [[(0, 6592, 3191, 3434, 3975, 3329, 6592, 3071, 4657, 6592, 1408, 4657, 6592, 1408, 4657, 6592, 1408, 4657, 6592, 1408, 4657, 190), -31.156453125178814, 0], [(0, 6592, 3191, 3434, 3975, 3329, 6592, 3071, 4657, 6592, 1408, 4657, 6592, 1408, 4657, 6592, 1408, 4657, 6592, 1408, 4657, 6592), -28.878231041133404, 0], [(0, 6592, 3191, 3434, 3975, 3329, 6592, 1408, 4657, 6592, 1408, 4657, 6592, 1408, 4657, 6592, 1408, 4657, 6592, 1408, 4657, 190), -31.190620556473732, 1], [(0, 6592, 3191, 3434, 3975, 3329, 6592, 1408, 4657, 6592, 1408, 4657, 6592, 1408, 4657, 6592, 1408, 4657, 6592, 1408, 4657, 6592), -28.93582357466221, 1]]]\n",
            "next_beams[0] after sort:  [[(0, 2667, 5197, 4890, 3434, 775, 4698, 6019, 23, 1, 21, 3198, 2691, 1953, 3434, 775, 23, 1, 3434, 775, 23, 1), -11.814141257316805, 1], [(0, 2667, 5197, 4890, 3434, 775, 4698, 6019, 23, 1, 21, 3198, 2691, 1953, 3434, 775, 23, 1, 21, 3198, 2691, 1953), -11.881862850510515, 0], [(0, 2667, 5197, 4890, 3434, 775, 4698, 6019, 23, 1, 21, 3198, 2691, 1953, 3434, 775, 23, 1, 21, 3198, 2691, 3434), -14.531270132982172, 0], [(0, 2667, 5197, 4890, 3434, 775, 4698, 6019, 23, 1, 21, 3198, 2691, 1953, 3434, 775, 23, 1, 3434, 775, 23, 2667), -17.975856886827387, 1]]\n",
            "next_beams[1] after sort:  [[(0, 6609, 3434, 190, 123, 21, 4331, 7209, 2690, 6592, 5216, 503, 5480, 23, 1, 5480, 1294, 929, 2651, 7356, 190, 123), -14.238535951822996, 0], [(0, 6609, 3434, 190, 123, 21, 4331, 7209, 2690, 6592, 5216, 23, 1, 5480, 503, 5480, 1294, 929, 2651, 7356, 190, 123), -14.35318299755454, 1], [(0, 6609, 3434, 190, 123, 21, 4331, 7209, 2690, 6592, 5216, 503, 5480, 23, 1, 5480, 1294, 929, 2651, 7356, 190, 39), -16.024002205580473, 0], [(0, 6609, 3434, 190, 123, 21, 4331, 7209, 2690, 6592, 5216, 23, 1, 5480, 503, 5480, 1294, 929, 2651, 7356, 190, 39), -16.050674702972174, 1]]\n",
            "next_beams[2] after sort:  [[(0, 6592, 3191, 3434, 3975, 3329, 6592, 3071, 4657, 6592, 1408, 4657, 6592, 1408, 4657, 6592, 1408, 4657, 6592, 1408, 4657, 6592), -28.878231041133404, 0], [(0, 6592, 3191, 3434, 3975, 3329, 6592, 1408, 4657, 6592, 1408, 4657, 6592, 1408, 4657, 6592, 1408, 4657, 6592, 1408, 4657, 6592), -28.93582357466221, 1], [(0, 6592, 3191, 3434, 3975, 3329, 6592, 3071, 4657, 6592, 1408, 4657, 6592, 1408, 4657, 6592, 1408, 4657, 6592, 1408, 4657, 190), -31.156453125178814, 0], [(0, 6592, 3191, 3434, 3975, 3329, 6592, 1408, 4657, 6592, 1408, 4657, 6592, 1408, 4657, 6592, 1408, 4657, 6592, 1408, 4657, 190), -31.190620556473732, 1]]\n",
            "next_beams =  [[[(0, 2667, 5197, 4890, 3434, 775, 4698, 6019, 23, 1, 21, 3198, 2691, 1953, 3434, 775, 23, 1, 3434, 775, 23, 1, 3699), -13.584222777397372, 0], [(0, 2667, 5197, 4890, 3434, 775, 4698, 6019, 23, 1, 21, 3198, 2691, 1953, 3434, 775, 23, 1, 3434, 775, 23, 1, 3434), -13.426143630058505, 0], [(0, 2667, 5197, 4890, 3434, 775, 4698, 6019, 23, 1, 21, 3198, 2691, 1953, 3434, 775, 23, 1, 21, 3198, 2691, 1953, 23), -13.225728841149248, 1], [(0, 2667, 5197, 4890, 3434, 775, 4698, 6019, 23, 1, 21, 3198, 2691, 1953, 3434, 775, 23, 1, 21, 3198, 2691, 1953, 3434), -13.08609566243831, 1]], [[(0, 6609, 3434, 190, 123, 21, 4331, 7209, 2690, 6592, 5216, 503, 5480, 23, 1, 5480, 1294, 929, 2651, 7356, 190, 123, 4332), -18.12125165387988, 0], [(0, 6609, 3434, 190, 123, 21, 4331, 7209, 2690, 6592, 5216, 503, 5480, 23, 1, 5480, 1294, 929, 2651, 7356, 190, 123, 21), -14.306581165641546, 0], [(0, 6609, 3434, 190, 123, 21, 4331, 7209, 2690, 6592, 5216, 23, 1, 5480, 503, 5480, 1294, 929, 2651, 7356, 190, 123, 4332), -18.116065230220556, 1], [(0, 6609, 3434, 190, 123, 21, 4331, 7209, 2690, 6592, 5216, 23, 1, 5480, 503, 5480, 1294, 929, 2651, 7356, 190, 123, 21), -14.426522504538298, 1]], [[(0, 6592, 3191, 3434, 3975, 3329, 6592, 3071, 4657, 6592, 1408, 4657, 6592, 1408, 4657, 6592, 1408, 4657, 6592, 1408, 4657, 6592, 2487), -32.22837137430906, 0], [(0, 6592, 3191, 3434, 3975, 3329, 6592, 3071, 4657, 6592, 1408, 4657, 6592, 1408, 4657, 6592, 1408, 4657, 6592, 1408, 4657, 6592, 1408), -31.682568304240704, 0], [(0, 6592, 3191, 3434, 3975, 3329, 6592, 1408, 4657, 6592, 1408, 4657, 6592, 1408, 4657, 6592, 1408, 4657, 6592, 1408, 4657, 6592, 2487), -32.292981281876564, 1], [(0, 6592, 3191, 3434, 3975, 3329, 6592, 1408, 4657, 6592, 1408, 4657, 6592, 1408, 4657, 6592, 1408, 4657, 6592, 1408, 4657, 6592, 1408), -31.735692158341408, 1]]]\n",
            "next_beams[0] after sort:  [[(0, 2667, 5197, 4890, 3434, 775, 4698, 6019, 23, 1, 21, 3198, 2691, 1953, 3434, 775, 23, 1, 21, 3198, 2691, 1953, 3434), -13.08609566243831, 1], [(0, 2667, 5197, 4890, 3434, 775, 4698, 6019, 23, 1, 21, 3198, 2691, 1953, 3434, 775, 23, 1, 21, 3198, 2691, 1953, 23), -13.225728841149248, 1], [(0, 2667, 5197, 4890, 3434, 775, 4698, 6019, 23, 1, 21, 3198, 2691, 1953, 3434, 775, 23, 1, 3434, 775, 23, 1, 3434), -13.426143630058505, 0], [(0, 2667, 5197, 4890, 3434, 775, 4698, 6019, 23, 1, 21, 3198, 2691, 1953, 3434, 775, 23, 1, 3434, 775, 23, 1, 3699), -13.584222777397372, 0]]\n",
            "next_beams[1] after sort:  [[(0, 6609, 3434, 190, 123, 21, 4331, 7209, 2690, 6592, 5216, 503, 5480, 23, 1, 5480, 1294, 929, 2651, 7356, 190, 123, 21), -14.306581165641546, 0], [(0, 6609, 3434, 190, 123, 21, 4331, 7209, 2690, 6592, 5216, 23, 1, 5480, 503, 5480, 1294, 929, 2651, 7356, 190, 123, 21), -14.426522504538298, 1], [(0, 6609, 3434, 190, 123, 21, 4331, 7209, 2690, 6592, 5216, 23, 1, 5480, 503, 5480, 1294, 929, 2651, 7356, 190, 123, 4332), -18.116065230220556, 1], [(0, 6609, 3434, 190, 123, 21, 4331, 7209, 2690, 6592, 5216, 503, 5480, 23, 1, 5480, 1294, 929, 2651, 7356, 190, 123, 4332), -18.12125165387988, 0]]\n",
            "next_beams[2] after sort:  [[(0, 6592, 3191, 3434, 3975, 3329, 6592, 3071, 4657, 6592, 1408, 4657, 6592, 1408, 4657, 6592, 1408, 4657, 6592, 1408, 4657, 6592, 1408), -31.682568304240704, 0], [(0, 6592, 3191, 3434, 3975, 3329, 6592, 1408, 4657, 6592, 1408, 4657, 6592, 1408, 4657, 6592, 1408, 4657, 6592, 1408, 4657, 6592, 1408), -31.735692158341408, 1], [(0, 6592, 3191, 3434, 3975, 3329, 6592, 3071, 4657, 6592, 1408, 4657, 6592, 1408, 4657, 6592, 1408, 4657, 6592, 1408, 4657, 6592, 2487), -32.22837137430906, 0], [(0, 6592, 3191, 3434, 3975, 3329, 6592, 1408, 4657, 6592, 1408, 4657, 6592, 1408, 4657, 6592, 1408, 4657, 6592, 1408, 4657, 6592, 2487), -32.292981281876564, 1]]\n",
            "next_beams =  [[[(0, 2667, 5197, 4890, 3434, 775, 4698, 6019, 23, 1, 21, 3198, 2691, 1953, 3434, 775, 23, 1, 21, 3198, 2691, 1953, 3434, 5140), -15.426452012383379, 0], [(0, 2667, 5197, 4890, 3434, 775, 4698, 6019, 23, 1, 21, 3198, 2691, 1953, 3434, 775, 23, 1, 21, 3198, 2691, 1953, 3434, 775), -13.873618574463762, 0], [(0, 2667, 5197, 4890, 3434, 775, 4698, 6019, 23, 1, 21, 3198, 2691, 1953, 3434, 775, 23, 1, 21, 3198, 2691, 1953, 23, 2667), -19.407736153923906, 1], [(0, 2667, 5197, 4890, 3434, 775, 4698, 6019, 23, 1, 21, 3198, 2691, 1953, 3434, 775, 23, 1, 21, 3198, 2691, 1953, 23, 1), -13.229368701693602, 1]], [[(0, 6609, 3434, 190, 123, 21, 4331, 7209, 2690, 6592, 5216, 503, 5480, 23, 1, 5480, 1294, 929, 2651, 7356, 190, 123, 21, 3198), -18.779433395713568, 0], [(0, 6609, 3434, 190, 123, 21, 4331, 7209, 2690, 6592, 5216, 503, 5480, 23, 1, 5480, 1294, 929, 2651, 7356, 190, 123, 21, 4331), -14.338922552764416, 0], [(0, 6609, 3434, 190, 123, 21, 4331, 7209, 2690, 6592, 5216, 23, 1, 5480, 503, 5480, 1294, 929, 2651, 7356, 190, 123, 21, 3198), -18.93325973674655, 1], [(0, 6609, 3434, 190, 123, 21, 4331, 7209, 2690, 6592, 5216, 23, 1, 5480, 503, 5480, 1294, 929, 2651, 7356, 190, 123, 21, 4331), -14.459316104650497, 1]], [[(0, 6592, 3191, 3434, 3975, 3329, 6592, 3071, 4657, 6592, 1408, 4657, 6592, 1408, 4657, 6592, 1408, 4657, 6592, 1408, 4657, 6592, 1408, 19), -33.03207778185606, 0], [(0, 6592, 3191, 3434, 3975, 3329, 6592, 3071, 4657, 6592, 1408, 4657, 6592, 1408, 4657, 6592, 1408, 4657, 6592, 1408, 4657, 6592, 1408, 4657), -32.28808396309614, 0], [(0, 6592, 3191, 3434, 3975, 3329, 6592, 1408, 4657, 6592, 1408, 4657, 6592, 1408, 4657, 6592, 1408, 4657, 6592, 1408, 4657, 6592, 1408, 19), -33.07173778116703, 1], [(0, 6592, 3191, 3434, 3975, 3329, 6592, 1408, 4657, 6592, 1408, 4657, 6592, 1408, 4657, 6592, 1408, 4657, 6592, 1408, 4657, 6592, 1408, 4657), -32.34423018991947, 1]]]\n",
            "next_beams[0] after sort:  [[(0, 2667, 5197, 4890, 3434, 775, 4698, 6019, 23, 1, 21, 3198, 2691, 1953, 3434, 775, 23, 1, 21, 3198, 2691, 1953, 23, 1), -13.229368701693602, 1], [(0, 2667, 5197, 4890, 3434, 775, 4698, 6019, 23, 1, 21, 3198, 2691, 1953, 3434, 775, 23, 1, 21, 3198, 2691, 1953, 3434, 775), -13.873618574463762, 0], [(0, 2667, 5197, 4890, 3434, 775, 4698, 6019, 23, 1, 21, 3198, 2691, 1953, 3434, 775, 23, 1, 21, 3198, 2691, 1953, 3434, 5140), -15.426452012383379, 0], [(0, 2667, 5197, 4890, 3434, 775, 4698, 6019, 23, 1, 21, 3198, 2691, 1953, 3434, 775, 23, 1, 21, 3198, 2691, 1953, 23, 2667), -19.407736153923906, 1]]\n",
            "next_beams[1] after sort:  [[(0, 6609, 3434, 190, 123, 21, 4331, 7209, 2690, 6592, 5216, 503, 5480, 23, 1, 5480, 1294, 929, 2651, 7356, 190, 123, 21, 4331), -14.338922552764416, 0], [(0, 6609, 3434, 190, 123, 21, 4331, 7209, 2690, 6592, 5216, 23, 1, 5480, 503, 5480, 1294, 929, 2651, 7356, 190, 123, 21, 4331), -14.459316104650497, 1], [(0, 6609, 3434, 190, 123, 21, 4331, 7209, 2690, 6592, 5216, 503, 5480, 23, 1, 5480, 1294, 929, 2651, 7356, 190, 123, 21, 3198), -18.779433395713568, 0], [(0, 6609, 3434, 190, 123, 21, 4331, 7209, 2690, 6592, 5216, 23, 1, 5480, 503, 5480, 1294, 929, 2651, 7356, 190, 123, 21, 3198), -18.93325973674655, 1]]\n",
            "next_beams[2] after sort:  [[(0, 6592, 3191, 3434, 3975, 3329, 6592, 3071, 4657, 6592, 1408, 4657, 6592, 1408, 4657, 6592, 1408, 4657, 6592, 1408, 4657, 6592, 1408, 4657), -32.28808396309614, 0], [(0, 6592, 3191, 3434, 3975, 3329, 6592, 1408, 4657, 6592, 1408, 4657, 6592, 1408, 4657, 6592, 1408, 4657, 6592, 1408, 4657, 6592, 1408, 4657), -32.34423018991947, 1], [(0, 6592, 3191, 3434, 3975, 3329, 6592, 3071, 4657, 6592, 1408, 4657, 6592, 1408, 4657, 6592, 1408, 4657, 6592, 1408, 4657, 6592, 1408, 19), -33.03207778185606, 0], [(0, 6592, 3191, 3434, 3975, 3329, 6592, 1408, 4657, 6592, 1408, 4657, 6592, 1408, 4657, 6592, 1408, 4657, 6592, 1408, 4657, 6592, 1408, 19), -33.07173778116703, 1]]\n",
            "next_beams =  [[[(0, 2667, 5197, 4890, 3434, 775, 4698, 6019, 23, 1, 21, 3198, 2691, 1953, 3434, 775, 23, 1, 21, 3198, 2691, 1953, 23, 1, 3699), -15.061595693347044, 0], [(0, 2667, 5197, 4890, 3434, 775, 4698, 6019, 23, 1, 21, 3198, 2691, 1953, 3434, 775, 23, 1, 21, 3198, 2691, 1953, 23, 1, 3434), -14.820925489184447, 0], [(0, 2667, 5197, 4890, 3434, 775, 4698, 6019, 23, 1, 21, 3198, 2691, 1953, 3434, 775, 23, 1, 21, 3198, 2691, 1953, 3434, 775, 4698), -15.273005099617876, 1], [(0, 2667, 5197, 4890, 3434, 775, 4698, 6019, 23, 1, 21, 3198, 2691, 1953, 3434, 775, 23, 1, 21, 3198, 2691, 1953, 3434, 775, 23), -14.62226829084102, 1]], [[(0, 6609, 3434, 190, 123, 21, 4331, 7209, 2690, 6592, 5216, 503, 5480, 23, 1, 5480, 1294, 929, 2651, 7356, 190, 123, 21, 4331, 2106), -18.26749186962843, 0], [(0, 6609, 3434, 190, 123, 21, 4331, 7209, 2690, 6592, 5216, 503, 5480, 23, 1, 5480, 1294, 929, 2651, 7356, 190, 123, 21, 4331, 7209), -14.388139348477125, 0], [(0, 6609, 3434, 190, 123, 21, 4331, 7209, 2690, 6592, 5216, 23, 1, 5480, 503, 5480, 1294, 929, 2651, 7356, 190, 123, 21, 4331, 2106), -18.41214570403099, 1], [(0, 6609, 3434, 190, 123, 21, 4331, 7209, 2690, 6592, 5216, 23, 1, 5480, 503, 5480, 1294, 929, 2651, 7356, 190, 123, 21, 4331, 7209), -14.509857181459665, 1]], [[(0, 6592, 3191, 3434, 3975, 3329, 6592, 3071, 4657, 6592, 1408, 4657, 6592, 1408, 4657, 6592, 1408, 4657, 6592, 1408, 4657, 6592, 1408, 4657, 190), -35.97106521576643, 0], [(0, 6592, 3191, 3434, 3975, 3329, 6592, 3071, 4657, 6592, 1408, 4657, 6592, 1408, 4657, 6592, 1408, 4657, 6592, 1408, 4657, 6592, 1408, 4657, 6592), -33.72392242401838, 0], [(0, 6592, 3191, 3434, 3975, 3329, 6592, 1408, 4657, 6592, 1408, 4657, 6592, 1408, 4657, 6592, 1408, 4657, 6592, 1408, 4657, 6592, 1408, 4657, 190), -36.00507642328739, 1], [(0, 6592, 3191, 3434, 3975, 3329, 6592, 1408, 4657, 6592, 1408, 4657, 6592, 1408, 4657, 6592, 1408, 4657, 6592, 1408, 4657, 6592, 1408, 4657, 6592), -33.77652885019779, 1]]]\n",
            "next_beams[0] after sort:  [[(0, 2667, 5197, 4890, 3434, 775, 4698, 6019, 23, 1, 21, 3198, 2691, 1953, 3434, 775, 23, 1, 21, 3198, 2691, 1953, 3434, 775, 23), -14.62226829084102, 1], [(0, 2667, 5197, 4890, 3434, 775, 4698, 6019, 23, 1, 21, 3198, 2691, 1953, 3434, 775, 23, 1, 21, 3198, 2691, 1953, 23, 1, 3434), -14.820925489184447, 0], [(0, 2667, 5197, 4890, 3434, 775, 4698, 6019, 23, 1, 21, 3198, 2691, 1953, 3434, 775, 23, 1, 21, 3198, 2691, 1953, 23, 1, 3699), -15.061595693347044, 0], [(0, 2667, 5197, 4890, 3434, 775, 4698, 6019, 23, 1, 21, 3198, 2691, 1953, 3434, 775, 23, 1, 21, 3198, 2691, 1953, 3434, 775, 4698), -15.273005099617876, 1]]\n",
            "next_beams[1] after sort:  [[(0, 6609, 3434, 190, 123, 21, 4331, 7209, 2690, 6592, 5216, 503, 5480, 23, 1, 5480, 1294, 929, 2651, 7356, 190, 123, 21, 4331, 7209), -14.388139348477125, 0], [(0, 6609, 3434, 190, 123, 21, 4331, 7209, 2690, 6592, 5216, 23, 1, 5480, 503, 5480, 1294, 929, 2651, 7356, 190, 123, 21, 4331, 7209), -14.509857181459665, 1], [(0, 6609, 3434, 190, 123, 21, 4331, 7209, 2690, 6592, 5216, 503, 5480, 23, 1, 5480, 1294, 929, 2651, 7356, 190, 123, 21, 4331, 2106), -18.26749186962843, 0], [(0, 6609, 3434, 190, 123, 21, 4331, 7209, 2690, 6592, 5216, 23, 1, 5480, 503, 5480, 1294, 929, 2651, 7356, 190, 123, 21, 4331, 2106), -18.41214570403099, 1]]\n",
            "next_beams[2] after sort:  [[(0, 6592, 3191, 3434, 3975, 3329, 6592, 3071, 4657, 6592, 1408, 4657, 6592, 1408, 4657, 6592, 1408, 4657, 6592, 1408, 4657, 6592, 1408, 4657, 6592), -33.72392242401838, 0], [(0, 6592, 3191, 3434, 3975, 3329, 6592, 1408, 4657, 6592, 1408, 4657, 6592, 1408, 4657, 6592, 1408, 4657, 6592, 1408, 4657, 6592, 1408, 4657, 6592), -33.77652885019779, 1], [(0, 6592, 3191, 3434, 3975, 3329, 6592, 3071, 4657, 6592, 1408, 4657, 6592, 1408, 4657, 6592, 1408, 4657, 6592, 1408, 4657, 6592, 1408, 4657, 190), -35.97106521576643, 0], [(0, 6592, 3191, 3434, 3975, 3329, 6592, 1408, 4657, 6592, 1408, 4657, 6592, 1408, 4657, 6592, 1408, 4657, 6592, 1408, 4657, 6592, 1408, 4657, 190), -36.00507642328739, 1]]\n",
            "next_beams =  [[[(0, 2667, 5197, 4890, 3434, 775, 4698, 6019, 23, 1, 21, 3198, 2691, 1953, 3434, 775, 23, 1, 21, 3198, 2691, 1953, 3434, 775, 23, 2667), -21.01996573957149, 0], [(0, 2667, 5197, 4890, 3434, 775, 4698, 6019, 23, 1, 21, 3198, 2691, 1953, 3434, 775, 23, 1, 21, 3198, 2691, 1953, 3434, 775, 23, 1), -14.625628869631328, 0], [(0, 2667, 5197, 4890, 3434, 775, 4698, 6019, 23, 1, 21, 3198, 2691, 1953, 3434, 775, 23, 1, 21, 3198, 2691, 1953, 23, 1, 3434, 190), -16.74252118181903, 1], [(0, 2667, 5197, 4890, 3434, 775, 4698, 6019, 23, 1, 21, 3198, 2691, 1953, 3434, 775, 23, 1, 21, 3198, 2691, 1953, 23, 1, 3434, 775), -16.133428469416685, 1]], [[(0, 6609, 3434, 190, 123, 21, 4331, 7209, 2690, 6592, 5216, 503, 5480, 23, 1, 5480, 1294, 929, 2651, 7356, 190, 123, 21, 4331, 7209, 2690), -16.223124843090773, 0], [(0, 6609, 3434, 190, 123, 21, 4331, 7209, 2690, 6592, 5216, 503, 5480, 23, 1, 5480, 1294, 929, 2651, 7356, 190, 123, 21, 4331, 7209, 23), -14.973247926682234, 0], [(0, 6609, 3434, 190, 123, 21, 4331, 7209, 2690, 6592, 5216, 23, 1, 5480, 503, 5480, 1294, 929, 2651, 7356, 190, 123, 21, 4331, 7209, 2690), -16.363483551889658, 1], [(0, 6609, 3434, 190, 123, 21, 4331, 7209, 2690, 6592, 5216, 23, 1, 5480, 503, 5480, 1294, 929, 2651, 7356, 190, 123, 21, 4331, 7209, 23), -15.040305260568857, 1]], [[(0, 6592, 3191, 3434, 3975, 3329, 6592, 3071, 4657, 6592, 1408, 4657, 6592, 1408, 4657, 6592, 1408, 4657, 6592, 1408, 4657, 6592, 1408, 4657, 6592, 1558), -37.0712932869792, 0], [(0, 6592, 3191, 3434, 3975, 3329, 6592, 3071, 4657, 6592, 1408, 4657, 6592, 1408, 4657, 6592, 1408, 4657, 6592, 1408, 4657, 6592, 1408, 4657, 6592, 1408), -36.52433007210493, 0], [(0, 6592, 3191, 3434, 3975, 3329, 6592, 1408, 4657, 6592, 1408, 4657, 6592, 1408, 4657, 6592, 1408, 4657, 6592, 1408, 4657, 6592, 1408, 4657, 6592, 1558), -37.12230969965458, 1], [(0, 6592, 3191, 3434, 3975, 3329, 6592, 1408, 4657, 6592, 1408, 4657, 6592, 1408, 4657, 6592, 1408, 4657, 6592, 1408, 4657, 6592, 1408, 4657, 6592, 1408), -36.580910697579384, 1]]]\n",
            "next_beams[0] after sort:  [[(0, 2667, 5197, 4890, 3434, 775, 4698, 6019, 23, 1, 21, 3198, 2691, 1953, 3434, 775, 23, 1, 21, 3198, 2691, 1953, 3434, 775, 23, 1), -14.625628869631328, 0], [(0, 2667, 5197, 4890, 3434, 775, 4698, 6019, 23, 1, 21, 3198, 2691, 1953, 3434, 775, 23, 1, 21, 3198, 2691, 1953, 23, 1, 3434, 775), -16.133428469416685, 1], [(0, 2667, 5197, 4890, 3434, 775, 4698, 6019, 23, 1, 21, 3198, 2691, 1953, 3434, 775, 23, 1, 21, 3198, 2691, 1953, 23, 1, 3434, 190), -16.74252118181903, 1], [(0, 2667, 5197, 4890, 3434, 775, 4698, 6019, 23, 1, 21, 3198, 2691, 1953, 3434, 775, 23, 1, 21, 3198, 2691, 1953, 3434, 775, 23, 2667), -21.01996573957149, 0]]\n",
            "next_beams[1] after sort:  [[(0, 6609, 3434, 190, 123, 21, 4331, 7209, 2690, 6592, 5216, 503, 5480, 23, 1, 5480, 1294, 929, 2651, 7356, 190, 123, 21, 4331, 7209, 23), -14.973247926682234, 0], [(0, 6609, 3434, 190, 123, 21, 4331, 7209, 2690, 6592, 5216, 23, 1, 5480, 503, 5480, 1294, 929, 2651, 7356, 190, 123, 21, 4331, 7209, 23), -15.040305260568857, 1], [(0, 6609, 3434, 190, 123, 21, 4331, 7209, 2690, 6592, 5216, 503, 5480, 23, 1, 5480, 1294, 929, 2651, 7356, 190, 123, 21, 4331, 7209, 2690), -16.223124843090773, 0], [(0, 6609, 3434, 190, 123, 21, 4331, 7209, 2690, 6592, 5216, 23, 1, 5480, 503, 5480, 1294, 929, 2651, 7356, 190, 123, 21, 4331, 7209, 2690), -16.363483551889658, 1]]\n",
            "next_beams[2] after sort:  [[(0, 6592, 3191, 3434, 3975, 3329, 6592, 3071, 4657, 6592, 1408, 4657, 6592, 1408, 4657, 6592, 1408, 4657, 6592, 1408, 4657, 6592, 1408, 4657, 6592, 1408), -36.52433007210493, 0], [(0, 6592, 3191, 3434, 3975, 3329, 6592, 1408, 4657, 6592, 1408, 4657, 6592, 1408, 4657, 6592, 1408, 4657, 6592, 1408, 4657, 6592, 1408, 4657, 6592, 1408), -36.580910697579384, 1], [(0, 6592, 3191, 3434, 3975, 3329, 6592, 3071, 4657, 6592, 1408, 4657, 6592, 1408, 4657, 6592, 1408, 4657, 6592, 1408, 4657, 6592, 1408, 4657, 6592, 1558), -37.0712932869792, 0], [(0, 6592, 3191, 3434, 3975, 3329, 6592, 1408, 4657, 6592, 1408, 4657, 6592, 1408, 4657, 6592, 1408, 4657, 6592, 1408, 4657, 6592, 1408, 4657, 6592, 1558), -37.12230969965458, 1]]\n",
            "outputs = \n",
            " [[(0, 2667, 5197, 4890, 3434, 775, 4698, 6019, 23, 1, 21, 3198, 2691, 1953, 3434, 775, 23, 1, 21, 3198, 2691, 1953, 3434, 775, 23, 1), (0, 6609, 3434, 190, 123, 21, 4331, 7209, 2690, 6592, 5216, 503, 5480, 23, 1, 5480, 1294, 929, 2651, 7356, 190, 123, 21, 4331, 7209, 23), (0, 6592, 3191, 3434, 3975, 3329, 6592, 3071, 4657, 6592, 1408, 4657, 6592, 1408, 4657, 6592, 1408, 4657, 6592, 1408, 4657, 6592, 1408, 4657, 6592, 1408)], [(0, 2667, 5197, 4890, 3434, 775, 4698, 6019, 23, 1, 21, 3198, 2691, 1953, 3434, 775, 23, 1, 21, 3198, 2691, 1953, 23, 1, 3434, 775), (0, 6609, 3434, 190, 123, 21, 4331, 7209, 2690, 6592, 5216, 23, 1, 5480, 503, 5480, 1294, 929, 2651, 7356, 190, 123, 21, 4331, 7209, 23), (0, 6592, 3191, 3434, 3975, 3329, 6592, 1408, 4657, 6592, 1408, 4657, 6592, 1408, 4657, 6592, 1408, 4657, 6592, 1408, 4657, 6592, 1408, 4657, 6592, 1408)]]\n",
            "hypos = \n",
            " [[[-1.8143970194272696, (0, 6592, 5216, 4663, 2667, 4890, 23, 1)], [-0.5659903354709968, (0, 2667, 5197, 4890, 3434, 775, 4698, 6019, 23, 1)], [-4.230456774425693, (0, 2667, 5197, 4890, 3434, 775, 4698, 6019, 23, 1, 3434, 775, 23, 1)], [-5.175772152864374, (0, 2667, 5197, 4890, 3434, 775, 4698, 6019, 23, 1, 21, 3198, 2691, 1953, 23, 1)], [-6.544309388124384, (0, 2667, 5197, 4890, 3434, 775, 4698, 6019, 23, 1, 21, 3198, 2691, 1953, 3434, 775, 23, 1)], [-9.814141257316805, (0, 2667, 5197, 4890, 3434, 775, 4698, 6019, 23, 1, 21, 3198, 2691, 1953, 3434, 775, 23, 1, 3434, 775, 23, 1)], [-11.029368701693603, (0, 2667, 5197, 4890, 3434, 775, 4698, 6019, 23, 1, 21, 3198, 2691, 1953, 3434, 775, 23, 1, 21, 3198, 2691, 1953, 23, 1)], [-12.225628869631327, (0, 2667, 5197, 4890, 3434, 775, 4698, 6019, 23, 1, 21, 3198, 2691, 1953, 3434, 775, 23, 1, 21, 3198, 2691, 1953, 3434, 775, 23, 1)]], [[-5.638012026995421, (0, 6609, 3434, 190, 123, 21, 4331, 7209, 2690, 6592, 5216, 23, 1)], [-7.437527329474688, (0, 6609, 3434, 190, 123, 21, 4331, 7209, 2690, 6592, 5216, 503, 5480, 23, 1)]], []]\n",
            "Translations with beam search:\n",
            "free private parking is available on site .\n",
            "there is a 5 - minute walk from the property .\n",
            "the hotel is located in the heart of the centre of the centre of the centre of the centre of the centre of the centre\n",
            "CPU times: user 185 ms, sys: 24.3 ms, total: 209 ms\n",
            "Wall time: 173 ms\n"
          ]
        }
      ]
    },
    {
      "cell_type": "code",
      "source": [
        "%%time\n",
        "# newer\n",
        "dummy_translations, dummy_states = model.translate_lines(train_inp[:3], max_len=25, beam_size=2, device=device)\n",
        "print(\"Translations with beam search:\")\n",
        "print('\\n'.join([line for line in dummy_translations]))"
      ],
      "metadata": {
        "colab": {
          "base_uri": "https://localhost:8080/"
        },
        "id": "PM6RSXqVGnHj",
        "outputId": "8f3ad1a9-efd9-425c-c9f9-18d5e4caeb72"
      },
      "execution_count": 16,
      "outputs": [
        {
          "output_type": "stream",
          "name": "stdout",
          "text": [
            "next_beams =  [[[(0, 6592), -2.2540624141693115, 0], [(0, 2667), -0.31296905875205994, 0]], [[(0, 6609), -1.71602463722229, 0], [(0, 190), -1.6703579425811768, 0]], [[(0, 6592), -2.4920153617858887, 0], [(0, 3975), -1.6572065353393555, 0]]]\n",
            "next_beams[0] after sort:  [[(0, 2667), -0.31296905875205994, 0], [(0, 6592), -2.2540624141693115, 0]]\n",
            "next_beams[1] after sort:  [[(0, 190), -1.6703579425811768, 0], [(0, 6609), -1.71602463722229, 0]]\n",
            "next_beams[2] after sort:  [[(0, 3975), -1.6572065353393555, 0], [(0, 6592), -2.4920153617858887, 0]]\n",
            "next_beams =  [[[(0, 2667, 7323), -3.5353043973445892, 0], [(0, 2667, 5197), -0.47367119789123535, 0], [(0, 6592, 5197), -3.5201752185821533, 1], [(0, 6592, 5216), -2.826082468032837, 1]], [[(0, 190, 7042), -3.891404867172241, 0], [(0, 190, 2942), -3.798112630844116, 0], [(0, 6609, 624), -3.364512801170349, 1], [(0, 6609, 3434), -2.0161117613315582, 1]], [[(0, 3975, 3578), -3.875696897506714, 0], [(0, 3975, 3329), -2.8649423122406006, 0], [(0, 6592, 5216), -4.5190112590789795, 1], [(0, 6592, 3191), -4.425436735153198, 1]]]\n",
            "next_beams[0] after sort:  [[(0, 2667, 5197), -0.47367119789123535, 0], [(0, 6592, 5216), -2.826082468032837, 1], [(0, 6592, 5197), -3.5201752185821533, 1], [(0, 2667, 7323), -3.5353043973445892, 0]]\n",
            "next_beams[1] after sort:  [[(0, 6609, 3434), -2.0161117613315582, 1], [(0, 6609, 624), -3.364512801170349, 1], [(0, 190, 2942), -3.798112630844116, 0], [(0, 190, 7042), -3.891404867172241, 0]]\n",
            "next_beams[2] after sort:  [[(0, 3975, 3329), -2.8649423122406006, 0], [(0, 3975, 3578), -3.875696897506714, 0], [(0, 6592, 3191), -4.425436735153198, 1], [(0, 6592, 5216), -4.5190112590789795, 1]]\n",
            "next_beams =  [[[(0, 2667, 5197, 228), -5.620063543319702, 0], [(0, 2667, 5197, 4890), -0.49142622016370296, 0], [(0, 6592, 5216, 2515), -5.978203535079956, 1], [(0, 6592, 5216, 4663), -2.998089626431465, 1]], [[(0, 6609, 3434, 440), -5.706009775400162, 0], [(0, 6609, 3434, 190), -2.1660709232091904, 0], [(0, 6609, 624, 440), -5.7980204820632935, 1], [(0, 6609, 624, 190), -4.214548170566559, 1]], [[(0, 3975, 3329, 190), -5.245636224746704, 0], [(0, 3975, 3329, 6592), -4.618951916694641, 0], [(0, 3975, 3578, 190), -5.7842137813568115, 1], [(0, 3975, 3578, 40), -5.623100996017456, 1]]]\n",
            "next_beams[0] after sort:  [[(0, 2667, 5197, 4890), -0.49142622016370296, 0], [(0, 6592, 5216, 4663), -2.998089626431465, 1], [(0, 2667, 5197, 228), -5.620063543319702, 0], [(0, 6592, 5216, 2515), -5.978203535079956, 1]]\n",
            "next_beams[1] after sort:  [[(0, 6609, 3434, 190), -2.1660709232091904, 0], [(0, 6609, 624, 190), -4.214548170566559, 1], [(0, 6609, 3434, 440), -5.706009775400162, 0], [(0, 6609, 624, 440), -5.7980204820632935, 1]]\n",
            "next_beams[2] after sort:  [[(0, 3975, 3329, 6592), -4.618951916694641, 0], [(0, 3975, 3329, 190), -5.245636224746704, 0], [(0, 3975, 3578, 40), -5.623100996017456, 1], [(0, 3975, 3578, 190), -5.7842137813568115, 1]]\n",
            "next_beams =  [[[(0, 2667, 5197, 4890, 4698), -5.5835740473121405, 0], [(0, 2667, 5197, 4890, 3434), -0.512190805748105, 0], [(0, 6592, 5216, 4663, 190), -7.348660781979561, 1], [(0, 6592, 5216, 4663, 2667), -3.029427897185087, 1]], [[(0, 6609, 3434, 190, 2942), -4.830036386847496, 0], [(0, 6609, 3434, 190, 123), -4.19062827527523, 0], [(0, 6609, 624, 190, 2942), -6.473715126514435, 1], [(0, 6609, 624, 190, 123), -6.4435160756111145, 1]], [[(0, 3975, 3329, 6592, 3071), -6.833603501319885, 0], [(0, 3975, 3329, 6592, 1408), -6.030152320861816, 0], [(0, 3975, 3329, 190, 3129), -8.432212114334106, 1], [(0, 3975, 3329, 190, 5290), -7.307217836380005, 1]]]\n",
            "next_beams[0] after sort:  [[(0, 2667, 5197, 4890, 3434), -0.512190805748105, 0], [(0, 6592, 5216, 4663, 2667), -3.029427897185087, 1], [(0, 2667, 5197, 4890, 4698), -5.5835740473121405, 0], [(0, 6592, 5216, 4663, 190), -7.348660781979561, 1]]\n",
            "next_beams[1] after sort:  [[(0, 6609, 3434, 190, 123), -4.19062827527523, 0], [(0, 6609, 3434, 190, 2942), -4.830036386847496, 0], [(0, 6609, 624, 190, 123), -6.4435160756111145, 1], [(0, 6609, 624, 190, 2942), -6.473715126514435, 1]]\n",
            "next_beams[2] after sort:  [[(0, 3975, 3329, 6592, 1408), -6.030152320861816, 0], [(0, 3975, 3329, 6592, 3071), -6.833603501319885, 0], [(0, 3975, 3329, 190, 5290), -7.307217836380005, 1], [(0, 3975, 3329, 190, 3129), -8.432212114334106, 1]]\n",
            "next_beams =  [[[(0, 2667, 5197, 4890, 3434, 5226), -2.0414085257798433, 0], [(0, 2667, 5197, 4890, 3434, 775), -1.2113866675645113, 0], [(0, 6592, 5216, 4663, 2667, 5197), -4.138053309172392, 1], [(0, 6592, 5216, 4663, 2667, 4890), -3.70959896966815, 1]], [[(0, 6609, 3434, 190, 123, 4332), -10.81886075437069, 0], [(0, 6609, 3434, 190, 123, 21), -4.208551455289125, 0], [(0, 6609, 3434, 190, 2942, 6301), -6.335483178496361, 1], [(0, 6609, 3434, 190, 2942, 5947), -5.330316171050072, 1]], [[(0, 3975, 3329, 6592, 1408, 19), -9.118496417999268, 0], [(0, 3975, 3329, 6592, 1408, 4657), -6.1159214824438095, 0], [(0, 3975, 3329, 6592, 3071, 19), -10.779965996742249, 1], [(0, 3975, 3329, 6592, 3071, 4657), -6.899758026003838, 1]]]\n",
            "next_beams[0] after sort:  [[(0, 2667, 5197, 4890, 3434, 775), -1.2113866675645113, 0], [(0, 2667, 5197, 4890, 3434, 5226), -2.0414085257798433, 0], [(0, 6592, 5216, 4663, 2667, 4890), -3.70959896966815, 1], [(0, 6592, 5216, 4663, 2667, 5197), -4.138053309172392, 1]]\n",
            "next_beams[1] after sort:  [[(0, 6609, 3434, 190, 123, 21), -4.208551455289125, 0], [(0, 6609, 3434, 190, 2942, 5947), -5.330316171050072, 1], [(0, 6609, 3434, 190, 2942, 6301), -6.335483178496361, 1], [(0, 6609, 3434, 190, 123, 4332), -10.81886075437069, 0]]\n",
            "next_beams[2] after sort:  [[(0, 3975, 3329, 6592, 1408, 4657), -6.1159214824438095, 0], [(0, 3975, 3329, 6592, 3071, 4657), -6.899758026003838, 1], [(0, 3975, 3329, 6592, 1408, 19), -9.118496417999268, 0], [(0, 3975, 3329, 6592, 3071, 19), -10.779965996742249, 1]]\n",
            "next_beams =  [[[(0, 2667, 5197, 4890, 3434, 775, 23), -3.012464391067624, 0], [(0, 2667, 5197, 4890, 3434, 775, 4698), -1.5097454953938723, 0], [(0, 2667, 5197, 4890, 3434, 5226, 4698), -2.958597408607602, 1], [(0, 2667, 5197, 4890, 3434, 5226, 23), -2.9342357981950045, 1]], [[(0, 6609, 3434, 190, 123, 21, 3198), -7.580765295773745, 0], [(0, 6609, 3434, 190, 123, 21, 4331), -4.274063754826784, 0], [(0, 6609, 3434, 190, 2942, 5947, 19), -6.546382293105125, 1], [(0, 6609, 3434, 190, 2942, 5947, 503), -6.033249244093895, 1]], [[(0, 3975, 3329, 6592, 1408, 4657, 5686), -10.468744739890099, 0], [(0, 3975, 3329, 6592, 1408, 4657, 6592), -8.04773162305355, 0], [(0, 3975, 3329, 6592, 3071, 4657, 190), -11.330249950289726, 1], [(0, 3975, 3329, 6592, 3071, 4657, 6592), -8.203286454081535, 1]]]\n",
            "next_beams[0] after sort:  [[(0, 2667, 5197, 4890, 3434, 775, 4698), -1.5097454953938723, 0], [(0, 2667, 5197, 4890, 3434, 5226, 23), -2.9342357981950045, 1], [(0, 2667, 5197, 4890, 3434, 5226, 4698), -2.958597408607602, 1], [(0, 2667, 5197, 4890, 3434, 775, 23), -3.012464391067624, 0]]\n",
            "next_beams[1] after sort:  [[(0, 6609, 3434, 190, 123, 21, 4331), -4.274063754826784, 0], [(0, 6609, 3434, 190, 2942, 5947, 503), -6.033249244093895, 1], [(0, 6609, 3434, 190, 2942, 5947, 19), -6.546382293105125, 1], [(0, 6609, 3434, 190, 123, 21, 3198), -7.580765295773745, 0]]\n",
            "next_beams[2] after sort:  [[(0, 3975, 3329, 6592, 1408, 4657, 6592), -8.04773162305355, 0], [(0, 3975, 3329, 6592, 3071, 4657, 6592), -8.203286454081535, 1], [(0, 3975, 3329, 6592, 1408, 4657, 5686), -10.468744739890099, 0], [(0, 3975, 3329, 6592, 3071, 4657, 190), -11.330249950289726, 1]]\n",
            "next_beams =  [[[(0, 2667, 5197, 4890, 3434, 775, 4698, 6592), -5.830927746370435, 0], [(0, 2667, 5197, 4890, 3434, 775, 4698, 6019), -1.5395231042057276, 0], [(0, 2667, 5197, 4890, 3434, 5226, 23, 2667), -7.782223926857114, 1], [(0, 2667, 5197, 4890, 3434, 5226, 23, 1), -2.9480822114273906, 1]], [[(0, 6609, 3434, 190, 123, 21, 4331, 2106), -7.585778880864382, 0], [(0, 6609, 3434, 190, 123, 21, 4331, 7209), -4.378336679190397, 0], [(0, 6609, 3434, 190, 2942, 5947, 503, 190), -7.808958873152733, 1], [(0, 6609, 3434, 190, 2942, 5947, 503, 5480), -7.329969272017479, 1]], [[(0, 3975, 3329, 6592, 1408, 4657, 6592, 1408), -11.429157480597496, 0], [(0, 3975, 3329, 6592, 1408, 4657, 6592, 1558), -10.994248613715172, 0], [(0, 3975, 3329, 6592, 3071, 4657, 6592, 1408), -11.438875004649162, 1], [(0, 3975, 3329, 6592, 3071, 4657, 6592, 1558), -11.091882511973381, 1]]]\n",
            "next_beams[0] after sort:  [[(0, 2667, 5197, 4890, 3434, 775, 4698, 6019), -1.5395231042057276, 0], [(0, 2667, 5197, 4890, 3434, 5226, 23, 1), -2.9480822114273906, 1], [(0, 2667, 5197, 4890, 3434, 775, 4698, 6592), -5.830927746370435, 0], [(0, 2667, 5197, 4890, 3434, 5226, 23, 2667), -7.782223926857114, 1]]\n",
            "next_beams[1] after sort:  [[(0, 6609, 3434, 190, 123, 21, 4331, 7209), -4.378336679190397, 0], [(0, 6609, 3434, 190, 2942, 5947, 503, 5480), -7.329969272017479, 1], [(0, 6609, 3434, 190, 123, 21, 4331, 2106), -7.585778880864382, 0], [(0, 6609, 3434, 190, 2942, 5947, 503, 190), -7.808958873152733, 1]]\n",
            "next_beams[2] after sort:  [[(0, 3975, 3329, 6592, 1408, 4657, 6592, 1558), -10.994248613715172, 0], [(0, 3975, 3329, 6592, 3071, 4657, 6592, 1558), -11.091882511973381, 1], [(0, 3975, 3329, 6592, 1408, 4657, 6592, 1408), -11.429157480597496, 0], [(0, 3975, 3329, 6592, 3071, 4657, 6592, 1408), -11.438875004649162, 1]]\n",
            "next_beams =  [[[(0, 2667, 5197, 4890, 3434, 775, 4698, 6019, 19), -6.481225470080972, 0], [(0, 2667, 5197, 4890, 3434, 775, 4698, 6019, 23), -1.5663838814944029, 0], [(0, 2667, 5197, 4890, 3434, 5226, 23, 1), -2.9480822114273906, 1]], [[(0, 6609, 3434, 190, 123, 21, 4331, 7209, 794), -6.116424810141325, 0], [(0, 6609, 3434, 190, 123, 21, 4331, 7209, 2690), -5.155978452414274, 0], [(0, 6609, 3434, 190, 2942, 5947, 503, 5480, 1294), -9.138913974165916, 1], [(0, 6609, 3434, 190, 2942, 5947, 503, 5480, 624), -8.782211169600487, 1]], [[(0, 3975, 3329, 6592, 1408, 4657, 6592, 1558, 19), -12.722908481955528, 0], [(0, 3975, 3329, 6592, 1408, 4657, 6592, 1558, 1408), -11.706528171896935, 0], [(0, 3975, 3329, 6592, 3071, 4657, 6592, 1558, 19), -12.902873560786247, 1], [(0, 3975, 3329, 6592, 3071, 4657, 6592, 1558, 1408), -11.735081300139427, 1]]]\n",
            "next_beams[0] after sort:  [[(0, 2667, 5197, 4890, 3434, 775, 4698, 6019, 23), -1.5663838814944029, 0], [(0, 2667, 5197, 4890, 3434, 5226, 23, 1), -2.9480822114273906, 1], [(0, 2667, 5197, 4890, 3434, 775, 4698, 6019, 19), -6.481225470080972, 0]]\n",
            "next_beams[1] after sort:  [[(0, 6609, 3434, 190, 123, 21, 4331, 7209, 2690), -5.155978452414274, 0], [(0, 6609, 3434, 190, 123, 21, 4331, 7209, 794), -6.116424810141325, 0], [(0, 6609, 3434, 190, 2942, 5947, 503, 5480, 624), -8.782211169600487, 1], [(0, 6609, 3434, 190, 2942, 5947, 503, 5480, 1294), -9.138913974165916, 1]]\n",
            "next_beams[2] after sort:  [[(0, 3975, 3329, 6592, 1408, 4657, 6592, 1558, 1408), -11.706528171896935, 0], [(0, 3975, 3329, 6592, 3071, 4657, 6592, 1558, 1408), -11.735081300139427, 1], [(0, 3975, 3329, 6592, 1408, 4657, 6592, 1558, 19), -12.722908481955528, 0], [(0, 3975, 3329, 6592, 3071, 4657, 6592, 1558, 19), -12.902873560786247, 1]]\n",
            "next_beams =  [[[(0, 2667, 5197, 4890, 3434, 775, 4698, 6019, 23, 2667), -7.456031842157245, 0], [(0, 2667, 5197, 4890, 3434, 775, 4698, 6019, 23, 1), -1.5714244381524622, 0], [(0, 2667, 5197, 4890, 3434, 5226, 23, 1), -2.9480822114273906, 1]], [[(0, 6609, 3434, 190, 123, 21, 4331, 7209, 2690, 190), -9.20406747981906, 0], [(0, 6609, 3434, 190, 123, 21, 4331, 7209, 2690, 6592), -5.430935721844435, 0], [(0, 6609, 3434, 190, 123, 21, 4331, 7209, 794, 503), -7.5789034478366375, 1], [(0, 6609, 3434, 190, 123, 21, 4331, 7209, 794, 23), -6.865698050707579, 1]], [[(0, 3975, 3329, 6592, 1408, 4657, 6592, 1558, 1408, 503), -13.565515980124474, 0], [(0, 3975, 3329, 6592, 1408, 4657, 6592, 1558, 1408, 19), -12.185626462101936, 0], [(0, 3975, 3329, 6592, 3071, 4657, 6592, 1558, 1408, 503), -13.67190895974636, 1], [(0, 3975, 3329, 6592, 3071, 4657, 6592, 1558, 1408, 19), -12.19989649951458, 1]]]\n",
            "next_beams[0] after sort:  [[(0, 2667, 5197, 4890, 3434, 775, 4698, 6019, 23, 1), -1.5714244381524622, 0], [(0, 2667, 5197, 4890, 3434, 5226, 23, 1), -2.9480822114273906, 1], [(0, 2667, 5197, 4890, 3434, 775, 4698, 6019, 23, 2667), -7.456031842157245, 0]]\n",
            "next_beams[1] after sort:  [[(0, 6609, 3434, 190, 123, 21, 4331, 7209, 2690, 6592), -5.430935721844435, 0], [(0, 6609, 3434, 190, 123, 21, 4331, 7209, 794, 23), -6.865698050707579, 1], [(0, 6609, 3434, 190, 123, 21, 4331, 7209, 794, 503), -7.5789034478366375, 1], [(0, 6609, 3434, 190, 123, 21, 4331, 7209, 2690, 190), -9.20406747981906, 0]]\n",
            "next_beams[2] after sort:  [[(0, 3975, 3329, 6592, 1408, 4657, 6592, 1558, 1408, 19), -12.185626462101936, 0], [(0, 3975, 3329, 6592, 3071, 4657, 6592, 1558, 1408, 19), -12.19989649951458, 1], [(0, 3975, 3329, 6592, 1408, 4657, 6592, 1558, 1408, 503), -13.565515980124474, 0], [(0, 3975, 3329, 6592, 3071, 4657, 6592, 1558, 1408, 503), -13.67190895974636, 1]]\n",
            "next_beams =  [[[(0, 2667, 5197, 4890, 3434, 775, 4698, 6019, 23, 1), -1.5714244381524622, 0], [(0, 2667, 5197, 4890, 3434, 5226, 23, 1), -2.9480822114273906, 1]], [[(0, 6609, 3434, 190, 123, 21, 4331, 7209, 2690, 6592, 5216), -7.050624590367079, 0], [(0, 6609, 3434, 190, 123, 21, 4331, 7209, 2690, 6592, 3191), -7.018839579075575, 0], [(0, 6609, 3434, 190, 123, 21, 4331, 7209, 794, 23, 6592), -10.014001321047544, 1], [(0, 6609, 3434, 190, 123, 21, 4331, 7209, 794, 23, 1), -6.989384148269892, 1]], [[(0, 3975, 3329, 6592, 1408, 4657, 6592, 1558, 1408, 19, 6592), -14.94445963203907, 0], [(0, 3975, 3329, 6592, 1408, 4657, 6592, 1558, 1408, 19, 6622), -14.690004542469978, 0], [(0, 3975, 3329, 6592, 3071, 4657, 6592, 1558, 1408, 19, 6592), -15.031890079379082, 1], [(0, 3975, 3329, 6592, 3071, 4657, 6592, 1558, 1408, 19, 6622), -14.725627109408379, 1]]]\n",
            "next_beams[0] after sort:  [[(0, 2667, 5197, 4890, 3434, 775, 4698, 6019, 23, 1), -1.5714244381524622, 0], [(0, 2667, 5197, 4890, 3434, 5226, 23, 1), -2.9480822114273906, 1]]\n",
            "next_beams[1] after sort:  [[(0, 6609, 3434, 190, 123, 21, 4331, 7209, 794, 23, 1), -6.989384148269892, 1], [(0, 6609, 3434, 190, 123, 21, 4331, 7209, 2690, 6592, 3191), -7.018839579075575, 0], [(0, 6609, 3434, 190, 123, 21, 4331, 7209, 2690, 6592, 5216), -7.050624590367079, 0], [(0, 6609, 3434, 190, 123, 21, 4331, 7209, 794, 23, 6592), -10.014001321047544, 1]]\n",
            "next_beams[2] after sort:  [[(0, 3975, 3329, 6592, 1408, 4657, 6592, 1558, 1408, 19, 6622), -14.690004542469978, 0], [(0, 3975, 3329, 6592, 3071, 4657, 6592, 1558, 1408, 19, 6622), -14.725627109408379, 1], [(0, 3975, 3329, 6592, 1408, 4657, 6592, 1558, 1408, 19, 6592), -14.94445963203907, 0], [(0, 3975, 3329, 6592, 3071, 4657, 6592, 1558, 1408, 19, 6592), -15.031890079379082, 1]]\n",
            "next_beams =  [[[(0, 2667, 5197, 4890, 3434, 775, 4698, 6019, 23, 1), -1.5714244381524622, 0], [(0, 2667, 5197, 4890, 3434, 5226, 23, 1), -2.9480822114273906, 1]], [[(0, 6609, 3434, 190, 123, 21, 4331, 7209, 794, 23, 1), -6.989384148269892, 0], [(0, 6609, 3434, 190, 123, 21, 4331, 7209, 2690, 6592, 3191, 503), -9.007999639958143, 1], [(0, 6609, 3434, 190, 123, 21, 4331, 7209, 2690, 6592, 3191, 23), -7.615041892975569, 1]], [[(0, 3975, 3329, 6592, 1408, 4657, 6592, 1558, 1408, 19, 6622, 575), -17.116813376545906, 0], [(0, 3975, 3329, 6592, 1408, 4657, 6592, 1558, 1408, 19, 6622, 3191), -16.42634327709675, 0], [(0, 3975, 3329, 6592, 3071, 4657, 6592, 1558, 1408, 19, 6622, 575), -17.19798843562603, 1], [(0, 3975, 3329, 6592, 3071, 4657, 6592, 1558, 1408, 19, 6622, 3191), -16.504592821002007, 1]]]\n",
            "next_beams[0] after sort:  [[(0, 2667, 5197, 4890, 3434, 775, 4698, 6019, 23, 1), -1.5714244381524622, 0], [(0, 2667, 5197, 4890, 3434, 5226, 23, 1), -2.9480822114273906, 1]]\n",
            "next_beams[1] after sort:  [[(0, 6609, 3434, 190, 123, 21, 4331, 7209, 794, 23, 1), -6.989384148269892, 0], [(0, 6609, 3434, 190, 123, 21, 4331, 7209, 2690, 6592, 3191, 23), -7.615041892975569, 1], [(0, 6609, 3434, 190, 123, 21, 4331, 7209, 2690, 6592, 3191, 503), -9.007999639958143, 1]]\n",
            "next_beams[2] after sort:  [[(0, 3975, 3329, 6592, 1408, 4657, 6592, 1558, 1408, 19, 6622, 3191), -16.42634327709675, 0], [(0, 3975, 3329, 6592, 3071, 4657, 6592, 1558, 1408, 19, 6622, 3191), -16.504592821002007, 1], [(0, 3975, 3329, 6592, 1408, 4657, 6592, 1558, 1408, 19, 6622, 575), -17.116813376545906, 0], [(0, 3975, 3329, 6592, 3071, 4657, 6592, 1558, 1408, 19, 6622, 575), -17.19798843562603, 1]]\n",
            "next_beams =  [[[(0, 2667, 5197, 4890, 3434, 775, 4698, 6019, 23, 1), -1.5714244381524622, 0], [(0, 2667, 5197, 4890, 3434, 5226, 23, 1), -2.9480822114273906, 1]], [[(0, 6609, 3434, 190, 123, 21, 4331, 7209, 794, 23, 1), -6.989384148269892, 0], [(0, 6609, 3434, 190, 123, 21, 4331, 7209, 2690, 6592, 3191, 23, 6592), -11.723290126770735, 1], [(0, 6609, 3434, 190, 123, 21, 4331, 7209, 2690, 6592, 3191, 23, 1), -7.683591481298208, 1]], [[(0, 3975, 3329, 6592, 1408, 4657, 6592, 1558, 1408, 19, 6622, 3191, 4663), -18.32593233883381, 0], [(0, 3975, 3329, 6592, 1408, 4657, 6592, 1558, 1408, 19, 6622, 3191, 3434), -17.06972385942936, 0], [(0, 3975, 3329, 6592, 3071, 4657, 6592, 1558, 1408, 19, 6622, 3191, 4663), -18.41735403239727, 1], [(0, 3975, 3329, 6592, 3071, 4657, 6592, 1558, 1408, 19, 6622, 3191, 3434), -17.171418592333794, 1]]]\n",
            "next_beams[0] after sort:  [[(0, 2667, 5197, 4890, 3434, 775, 4698, 6019, 23, 1), -1.5714244381524622, 0], [(0, 2667, 5197, 4890, 3434, 5226, 23, 1), -2.9480822114273906, 1]]\n",
            "next_beams[1] after sort:  [[(0, 6609, 3434, 190, 123, 21, 4331, 7209, 794, 23, 1), -6.989384148269892, 0], [(0, 6609, 3434, 190, 123, 21, 4331, 7209, 2690, 6592, 3191, 23, 1), -7.683591481298208, 1], [(0, 6609, 3434, 190, 123, 21, 4331, 7209, 2690, 6592, 3191, 23, 6592), -11.723290126770735, 1]]\n",
            "next_beams[2] after sort:  [[(0, 3975, 3329, 6592, 1408, 4657, 6592, 1558, 1408, 19, 6622, 3191, 3434), -17.06972385942936, 0], [(0, 3975, 3329, 6592, 3071, 4657, 6592, 1558, 1408, 19, 6622, 3191, 3434), -17.171418592333794, 1], [(0, 3975, 3329, 6592, 1408, 4657, 6592, 1558, 1408, 19, 6622, 3191, 4663), -18.32593233883381, 0], [(0, 3975, 3329, 6592, 3071, 4657, 6592, 1558, 1408, 19, 6622, 3191, 4663), -18.41735403239727, 1]]\n",
            "next_beams =  [[[(0, 2667, 5197, 4890, 3434, 775, 4698, 6019, 23, 1), -1.5714244381524622, 0], [(0, 2667, 5197, 4890, 3434, 5226, 23, 1), -2.9480822114273906, 1]], [[(0, 6609, 3434, 190, 123, 21, 4331, 7209, 794, 23, 1), -6.989384148269892, 0], [(0, 6609, 3434, 190, 123, 21, 4331, 7209, 2690, 6592, 3191, 23, 1), -7.683591481298208, 1]], [[(0, 3975, 3329, 6592, 1408, 4657, 6592, 1558, 1408, 19, 6622, 3191, 3434, 190), -19.046062007546425, 0], [(0, 3975, 3329, 6592, 1408, 4657, 6592, 1558, 1408, 19, 6622, 3191, 3434, 3975), -18.25797225534916, 0], [(0, 3975, 3329, 6592, 3071, 4657, 6592, 1558, 1408, 19, 6622, 3191, 3434, 190), -19.165749356150627, 1], [(0, 3975, 3329, 6592, 3071, 4657, 6592, 1558, 1408, 19, 6622, 3191, 3434, 3975), -18.349938198924065, 1]]]\n",
            "next_beams[0] after sort:  [[(0, 2667, 5197, 4890, 3434, 775, 4698, 6019, 23, 1), -1.5714244381524622, 0], [(0, 2667, 5197, 4890, 3434, 5226, 23, 1), -2.9480822114273906, 1]]\n",
            "next_beams[1] after sort:  [[(0, 6609, 3434, 190, 123, 21, 4331, 7209, 794, 23, 1), -6.989384148269892, 0], [(0, 6609, 3434, 190, 123, 21, 4331, 7209, 2690, 6592, 3191, 23, 1), -7.683591481298208, 1]]\n",
            "next_beams[2] after sort:  [[(0, 3975, 3329, 6592, 1408, 4657, 6592, 1558, 1408, 19, 6622, 3191, 3434, 3975), -18.25797225534916, 0], [(0, 3975, 3329, 6592, 3071, 4657, 6592, 1558, 1408, 19, 6622, 3191, 3434, 3975), -18.349938198924065, 1], [(0, 3975, 3329, 6592, 1408, 4657, 6592, 1558, 1408, 19, 6622, 3191, 3434, 190), -19.046062007546425, 0], [(0, 3975, 3329, 6592, 3071, 4657, 6592, 1558, 1408, 19, 6622, 3191, 3434, 190), -19.165749356150627, 1]]\n",
            "next_beams =  [[[(0, 2667, 5197, 4890, 3434, 775, 4698, 6019, 23, 1), -1.5714244381524622, 0], [(0, 2667, 5197, 4890, 3434, 5226, 23, 1), -2.9480822114273906, 1]], [[(0, 6609, 3434, 190, 123, 21, 4331, 7209, 794, 23, 1), -6.989384148269892, 0], [(0, 6609, 3434, 190, 123, 21, 4331, 7209, 2690, 6592, 3191, 23, 1), -7.683591481298208, 1]], [[(0, 3975, 3329, 6592, 1408, 4657, 6592, 1558, 1408, 19, 6622, 3191, 3434, 3975, 4698), -20.903298154473305, 0], [(0, 3975, 3329, 6592, 1408, 4657, 6592, 1558, 1408, 19, 6622, 3191, 3434, 3975, 3329), -18.94802887737751, 0], [(0, 3975, 3329, 6592, 3071, 4657, 6592, 1558, 1408, 19, 6622, 3191, 3434, 3975, 4698), -21.03253035247326, 1], [(0, 3975, 3329, 6592, 3071, 4657, 6592, 1558, 1408, 19, 6622, 3191, 3434, 3975, 3329), -19.06432108581066, 1]]]\n",
            "next_beams[0] after sort:  [[(0, 2667, 5197, 4890, 3434, 775, 4698, 6019, 23, 1), -1.5714244381524622, 0], [(0, 2667, 5197, 4890, 3434, 5226, 23, 1), -2.9480822114273906, 1]]\n",
            "next_beams[1] after sort:  [[(0, 6609, 3434, 190, 123, 21, 4331, 7209, 794, 23, 1), -6.989384148269892, 0], [(0, 6609, 3434, 190, 123, 21, 4331, 7209, 2690, 6592, 3191, 23, 1), -7.683591481298208, 1]]\n",
            "next_beams[2] after sort:  [[(0, 3975, 3329, 6592, 1408, 4657, 6592, 1558, 1408, 19, 6622, 3191, 3434, 3975, 3329), -18.94802887737751, 0], [(0, 3975, 3329, 6592, 3071, 4657, 6592, 1558, 1408, 19, 6622, 3191, 3434, 3975, 3329), -19.06432108581066, 1], [(0, 3975, 3329, 6592, 1408, 4657, 6592, 1558, 1408, 19, 6622, 3191, 3434, 3975, 4698), -20.903298154473305, 0], [(0, 3975, 3329, 6592, 3071, 4657, 6592, 1558, 1408, 19, 6622, 3191, 3434, 3975, 4698), -21.03253035247326, 1]]\n",
            "next_beams =  [[[(0, 2667, 5197, 4890, 3434, 775, 4698, 6019, 23, 1), -1.5714244381524622, 0], [(0, 2667, 5197, 4890, 3434, 5226, 23, 1), -2.9480822114273906, 1]], [[(0, 6609, 3434, 190, 123, 21, 4331, 7209, 794, 23, 1), -6.989384148269892, 0], [(0, 6609, 3434, 190, 123, 21, 4331, 7209, 2690, 6592, 3191, 23, 1), -7.683591481298208, 1]], [[(0, 3975, 3329, 6592, 1408, 4657, 6592, 1558, 1408, 19, 6622, 3191, 3434, 3975, 3329, 190), -21.95146258175373, 0], [(0, 3975, 3329, 6592, 1408, 4657, 6592, 1558, 1408, 19, 6622, 3191, 3434, 3975, 3329, 6592), -20.431452587246895, 0], [(0, 3975, 3329, 6592, 3071, 4657, 6592, 1558, 1408, 19, 6622, 3191, 3434, 3975, 3329, 190), -22.079319044947624, 1], [(0, 3975, 3329, 6592, 3071, 4657, 6592, 1558, 1408, 19, 6622, 3191, 3434, 3975, 3329, 6592), -20.57818739116192, 1]]]\n",
            "next_beams[0] after sort:  [[(0, 2667, 5197, 4890, 3434, 775, 4698, 6019, 23, 1), -1.5714244381524622, 0], [(0, 2667, 5197, 4890, 3434, 5226, 23, 1), -2.9480822114273906, 1]]\n",
            "next_beams[1] after sort:  [[(0, 6609, 3434, 190, 123, 21, 4331, 7209, 794, 23, 1), -6.989384148269892, 0], [(0, 6609, 3434, 190, 123, 21, 4331, 7209, 2690, 6592, 3191, 23, 1), -7.683591481298208, 1]]\n",
            "next_beams[2] after sort:  [[(0, 3975, 3329, 6592, 1408, 4657, 6592, 1558, 1408, 19, 6622, 3191, 3434, 3975, 3329, 6592), -20.431452587246895, 0], [(0, 3975, 3329, 6592, 3071, 4657, 6592, 1558, 1408, 19, 6622, 3191, 3434, 3975, 3329, 6592), -20.57818739116192, 1], [(0, 3975, 3329, 6592, 1408, 4657, 6592, 1558, 1408, 19, 6622, 3191, 3434, 3975, 3329, 190), -21.95146258175373, 0], [(0, 3975, 3329, 6592, 3071, 4657, 6592, 1558, 1408, 19, 6622, 3191, 3434, 3975, 3329, 190), -22.079319044947624, 1]]\n",
            "next_beams =  [[[(0, 2667, 5197, 4890, 3434, 775, 4698, 6019, 23, 1), -1.5714244381524622, 0], [(0, 2667, 5197, 4890, 3434, 5226, 23, 1), -2.9480822114273906, 1]], [[(0, 6609, 3434, 190, 123, 21, 4331, 7209, 794, 23, 1), -6.989384148269892, 0], [(0, 6609, 3434, 190, 123, 21, 4331, 7209, 2690, 6592, 3191, 23, 1), -7.683591481298208, 1]], [[(0, 3975, 3329, 6592, 1408, 4657, 6592, 1558, 1408, 19, 6622, 3191, 3434, 3975, 3329, 6592, 3071), -22.414913848042488, 0], [(0, 3975, 3329, 6592, 1408, 4657, 6592, 1558, 1408, 19, 6622, 3191, 3434, 3975, 3329, 6592, 1408), -21.86562366783619, 0], [(0, 3975, 3329, 6592, 3071, 4657, 6592, 1558, 1408, 19, 6622, 3191, 3434, 3975, 3329, 6592, 3071), -22.539308711886406, 1], [(0, 3975, 3329, 6592, 3071, 4657, 6592, 1558, 1408, 19, 6622, 3191, 3434, 3975, 3329, 6592, 1408), -22.0200068205595, 1]]]\n",
            "next_beams[0] after sort:  [[(0, 2667, 5197, 4890, 3434, 775, 4698, 6019, 23, 1), -1.5714244381524622, 0], [(0, 2667, 5197, 4890, 3434, 5226, 23, 1), -2.9480822114273906, 1]]\n",
            "next_beams[1] after sort:  [[(0, 6609, 3434, 190, 123, 21, 4331, 7209, 794, 23, 1), -6.989384148269892, 0], [(0, 6609, 3434, 190, 123, 21, 4331, 7209, 2690, 6592, 3191, 23, 1), -7.683591481298208, 1]]\n",
            "next_beams[2] after sort:  [[(0, 3975, 3329, 6592, 1408, 4657, 6592, 1558, 1408, 19, 6622, 3191, 3434, 3975, 3329, 6592, 1408), -21.86562366783619, 0], [(0, 3975, 3329, 6592, 3071, 4657, 6592, 1558, 1408, 19, 6622, 3191, 3434, 3975, 3329, 6592, 1408), -22.0200068205595, 1], [(0, 3975, 3329, 6592, 1408, 4657, 6592, 1558, 1408, 19, 6622, 3191, 3434, 3975, 3329, 6592, 3071), -22.414913848042488, 0], [(0, 3975, 3329, 6592, 3071, 4657, 6592, 1558, 1408, 19, 6622, 3191, 3434, 3975, 3329, 6592, 3071), -22.539308711886406, 1]]\n",
            "next_beams =  [[[(0, 2667, 5197, 4890, 3434, 775, 4698, 6019, 23, 1), -1.5714244381524622, 0], [(0, 2667, 5197, 4890, 3434, 5226, 23, 1), -2.9480822114273906, 1]], [[(0, 6609, 3434, 190, 123, 21, 4331, 7209, 794, 23, 1), -6.989384148269892, 0], [(0, 6609, 3434, 190, 123, 21, 4331, 7209, 2690, 6592, 3191, 23, 1), -7.683591481298208, 1]], [[(0, 3975, 3329, 6592, 1408, 4657, 6592, 1558, 1408, 19, 6622, 3191, 3434, 3975, 3329, 6592, 1408, 503), -25.306009724736214, 0], [(0, 3975, 3329, 6592, 1408, 4657, 6592, 1558, 1408, 19, 6622, 3191, 3434, 3975, 3329, 6592, 1408, 4657), -21.977072298526764, 0], [(0, 3975, 3329, 6592, 3071, 4657, 6592, 1558, 1408, 19, 6622, 3191, 3434, 3975, 3329, 6592, 1408, 503), -25.488506957888603, 1], [(0, 3975, 3329, 6592, 3071, 4657, 6592, 1558, 1408, 19, 6622, 3191, 3434, 3975, 3329, 6592, 1408, 4657), -22.129513517022133, 1]]]\n",
            "next_beams[0] after sort:  [[(0, 2667, 5197, 4890, 3434, 775, 4698, 6019, 23, 1), -1.5714244381524622, 0], [(0, 2667, 5197, 4890, 3434, 5226, 23, 1), -2.9480822114273906, 1]]\n",
            "next_beams[1] after sort:  [[(0, 6609, 3434, 190, 123, 21, 4331, 7209, 794, 23, 1), -6.989384148269892, 0], [(0, 6609, 3434, 190, 123, 21, 4331, 7209, 2690, 6592, 3191, 23, 1), -7.683591481298208, 1]]\n",
            "next_beams[2] after sort:  [[(0, 3975, 3329, 6592, 1408, 4657, 6592, 1558, 1408, 19, 6622, 3191, 3434, 3975, 3329, 6592, 1408, 4657), -21.977072298526764, 0], [(0, 3975, 3329, 6592, 3071, 4657, 6592, 1558, 1408, 19, 6622, 3191, 3434, 3975, 3329, 6592, 1408, 4657), -22.129513517022133, 1], [(0, 3975, 3329, 6592, 1408, 4657, 6592, 1558, 1408, 19, 6622, 3191, 3434, 3975, 3329, 6592, 1408, 503), -25.306009724736214, 0], [(0, 3975, 3329, 6592, 3071, 4657, 6592, 1558, 1408, 19, 6622, 3191, 3434, 3975, 3329, 6592, 1408, 503), -25.488506957888603, 1]]\n",
            "next_beams =  [[[(0, 2667, 5197, 4890, 3434, 775, 4698, 6019, 23, 1), -1.5714244381524622, 0], [(0, 2667, 5197, 4890, 3434, 5226, 23, 1), -2.9480822114273906, 1]], [[(0, 6609, 3434, 190, 123, 21, 4331, 7209, 794, 23, 1), -6.989384148269892, 0], [(0, 6609, 3434, 190, 123, 21, 4331, 7209, 2690, 6592, 3191, 23, 1), -7.683591481298208, 1]], [[(0, 3975, 3329, 6592, 1408, 4657, 6592, 1558, 1408, 19, 6622, 3191, 3434, 3975, 3329, 6592, 1408, 4657, 1605), -26.371187269687653, 0], [(0, 3975, 3329, 6592, 1408, 4657, 6592, 1558, 1408, 19, 6622, 3191, 3434, 3975, 3329, 6592, 1408, 4657, 6592), -24.13226991891861, 0], [(0, 3975, 3329, 6592, 3071, 4657, 6592, 1558, 1408, 19, 6622, 3191, 3434, 3975, 3329, 6592, 1408, 4657, 1605), -26.528237119317055, 1], [(0, 3975, 3329, 6592, 3071, 4657, 6592, 1558, 1408, 19, 6622, 3191, 3434, 3975, 3329, 6592, 1408, 4657, 6592), -24.32382918894291, 1]]]\n",
            "next_beams[0] after sort:  [[(0, 2667, 5197, 4890, 3434, 775, 4698, 6019, 23, 1), -1.5714244381524622, 0], [(0, 2667, 5197, 4890, 3434, 5226, 23, 1), -2.9480822114273906, 1]]\n",
            "next_beams[1] after sort:  [[(0, 6609, 3434, 190, 123, 21, 4331, 7209, 794, 23, 1), -6.989384148269892, 0], [(0, 6609, 3434, 190, 123, 21, 4331, 7209, 2690, 6592, 3191, 23, 1), -7.683591481298208, 1]]\n",
            "next_beams[2] after sort:  [[(0, 3975, 3329, 6592, 1408, 4657, 6592, 1558, 1408, 19, 6622, 3191, 3434, 3975, 3329, 6592, 1408, 4657, 6592), -24.13226991891861, 0], [(0, 3975, 3329, 6592, 3071, 4657, 6592, 1558, 1408, 19, 6622, 3191, 3434, 3975, 3329, 6592, 1408, 4657, 6592), -24.32382918894291, 1], [(0, 3975, 3329, 6592, 1408, 4657, 6592, 1558, 1408, 19, 6622, 3191, 3434, 3975, 3329, 6592, 1408, 4657, 1605), -26.371187269687653, 0], [(0, 3975, 3329, 6592, 3071, 4657, 6592, 1558, 1408, 19, 6622, 3191, 3434, 3975, 3329, 6592, 1408, 4657, 1605), -26.528237119317055, 1]]\n",
            "next_beams =  [[[(0, 2667, 5197, 4890, 3434, 775, 4698, 6019, 23, 1), -1.5714244381524622, 0], [(0, 2667, 5197, 4890, 3434, 5226, 23, 1), -2.9480822114273906, 1]], [[(0, 6609, 3434, 190, 123, 21, 4331, 7209, 794, 23, 1), -6.989384148269892, 0], [(0, 6609, 3434, 190, 123, 21, 4331, 7209, 2690, 6592, 3191, 23, 1), -7.683591481298208, 1]], [[(0, 3975, 3329, 6592, 1408, 4657, 6592, 1558, 1408, 19, 6622, 3191, 3434, 3975, 3329, 6592, 1408, 4657, 6592, 1408), -27.468423426151276, 0], [(0, 3975, 3329, 6592, 1408, 4657, 6592, 1558, 1408, 19, 6622, 3191, 3434, 3975, 3329, 6592, 1408, 4657, 6592, 1558), -27.17774111032486, 0], [(0, 3975, 3329, 6592, 3071, 4657, 6592, 1558, 1408, 19, 6622, 3191, 3434, 3975, 3329, 6592, 1408, 4657, 6592, 1408), -27.64805842936039, 1], [(0, 3975, 3329, 6592, 3071, 4657, 6592, 1558, 1408, 19, 6622, 3191, 3434, 3975, 3329, 6592, 1408, 4657, 6592, 1558), -27.3891391903162, 1]]]\n",
            "next_beams[0] after sort:  [[(0, 2667, 5197, 4890, 3434, 775, 4698, 6019, 23, 1), -1.5714244381524622, 0], [(0, 2667, 5197, 4890, 3434, 5226, 23, 1), -2.9480822114273906, 1]]\n",
            "next_beams[1] after sort:  [[(0, 6609, 3434, 190, 123, 21, 4331, 7209, 794, 23, 1), -6.989384148269892, 0], [(0, 6609, 3434, 190, 123, 21, 4331, 7209, 2690, 6592, 3191, 23, 1), -7.683591481298208, 1]]\n",
            "next_beams[2] after sort:  [[(0, 3975, 3329, 6592, 1408, 4657, 6592, 1558, 1408, 19, 6622, 3191, 3434, 3975, 3329, 6592, 1408, 4657, 6592, 1558), -27.17774111032486, 0], [(0, 3975, 3329, 6592, 3071, 4657, 6592, 1558, 1408, 19, 6622, 3191, 3434, 3975, 3329, 6592, 1408, 4657, 6592, 1558), -27.3891391903162, 1], [(0, 3975, 3329, 6592, 1408, 4657, 6592, 1558, 1408, 19, 6622, 3191, 3434, 3975, 3329, 6592, 1408, 4657, 6592, 1408), -27.468423426151276, 0], [(0, 3975, 3329, 6592, 3071, 4657, 6592, 1558, 1408, 19, 6622, 3191, 3434, 3975, 3329, 6592, 1408, 4657, 6592, 1408), -27.64805842936039, 1]]\n",
            "next_beams =  [[[(0, 2667, 5197, 4890, 3434, 775, 4698, 6019, 23, 1), -1.5714244381524622, 0], [(0, 2667, 5197, 4890, 3434, 5226, 23, 1), -2.9480822114273906, 1]], [[(0, 6609, 3434, 190, 123, 21, 4331, 7209, 794, 23, 1), -6.989384148269892, 0], [(0, 6609, 3434, 190, 123, 21, 4331, 7209, 2690, 6592, 3191, 23, 1), -7.683591481298208, 1]], [[(0, 3975, 3329, 6592, 1408, 4657, 6592, 1558, 1408, 19, 6622, 3191, 3434, 3975, 3329, 6592, 1408, 4657, 6592, 1558, 19), -29.23074561357498, 0], [(0, 3975, 3329, 6592, 1408, 4657, 6592, 1558, 1408, 19, 6622, 3191, 3434, 3975, 3329, 6592, 1408, 4657, 6592, 1558, 1408), -28.302453339099884, 0], [(0, 3975, 3329, 6592, 3071, 4657, 6592, 1558, 1408, 19, 6622, 3191, 3434, 3975, 3329, 6592, 1408, 4657, 6592, 1558, 19), -29.41922952234745, 1], [(0, 3975, 3329, 6592, 3071, 4657, 6592, 1558, 1408, 19, 6622, 3191, 3434, 3975, 3329, 6592, 1408, 4657, 6592, 1558, 1408), -28.4874696880579, 1]]]\n",
            "next_beams[0] after sort:  [[(0, 2667, 5197, 4890, 3434, 775, 4698, 6019, 23, 1), -1.5714244381524622, 0], [(0, 2667, 5197, 4890, 3434, 5226, 23, 1), -2.9480822114273906, 1]]\n",
            "next_beams[1] after sort:  [[(0, 6609, 3434, 190, 123, 21, 4331, 7209, 794, 23, 1), -6.989384148269892, 0], [(0, 6609, 3434, 190, 123, 21, 4331, 7209, 2690, 6592, 3191, 23, 1), -7.683591481298208, 1]]\n",
            "next_beams[2] after sort:  [[(0, 3975, 3329, 6592, 1408, 4657, 6592, 1558, 1408, 19, 6622, 3191, 3434, 3975, 3329, 6592, 1408, 4657, 6592, 1558, 1408), -28.302453339099884, 0], [(0, 3975, 3329, 6592, 3071, 4657, 6592, 1558, 1408, 19, 6622, 3191, 3434, 3975, 3329, 6592, 1408, 4657, 6592, 1558, 1408), -28.4874696880579, 1], [(0, 3975, 3329, 6592, 1408, 4657, 6592, 1558, 1408, 19, 6622, 3191, 3434, 3975, 3329, 6592, 1408, 4657, 6592, 1558, 19), -29.23074561357498, 0], [(0, 3975, 3329, 6592, 3071, 4657, 6592, 1558, 1408, 19, 6622, 3191, 3434, 3975, 3329, 6592, 1408, 4657, 6592, 1558, 19), -29.41922952234745, 1]]\n",
            "next_beams =  [[[(0, 2667, 5197, 4890, 3434, 775, 4698, 6019, 23, 1), -1.5714244381524622, 0], [(0, 2667, 5197, 4890, 3434, 5226, 23, 1), -2.9480822114273906, 1]], [[(0, 6609, 3434, 190, 123, 21, 4331, 7209, 794, 23, 1), -6.989384148269892, 0], [(0, 6609, 3434, 190, 123, 21, 4331, 7209, 2690, 6592, 3191, 23, 1), -7.683591481298208, 1]], [[(0, 3975, 3329, 6592, 1408, 4657, 6592, 1558, 1408, 19, 6622, 3191, 3434, 3975, 3329, 6592, 1408, 4657, 6592, 1558, 1408, 19), -29.543868362903595, 0], [(0, 3975, 3329, 6592, 1408, 4657, 6592, 1558, 1408, 19, 6622, 3191, 3434, 3975, 3329, 6592, 1408, 4657, 6592, 1558, 1408, 23), -29.43812209367752, 0], [(0, 3975, 3329, 6592, 3071, 4657, 6592, 1558, 1408, 19, 6622, 3191, 3434, 3975, 3329, 6592, 1408, 4657, 6592, 1558, 1408, 23), -29.707038298249245, 1], [(0, 3975, 3329, 6592, 3071, 4657, 6592, 1558, 1408, 19, 6622, 3191, 3434, 3975, 3329, 6592, 1408, 4657, 6592, 1558, 1408, 19), -29.678190603852272, 1]]]\n",
            "next_beams[0] after sort:  [[(0, 2667, 5197, 4890, 3434, 775, 4698, 6019, 23, 1), -1.5714244381524622, 0], [(0, 2667, 5197, 4890, 3434, 5226, 23, 1), -2.9480822114273906, 1]]\n",
            "next_beams[1] after sort:  [[(0, 6609, 3434, 190, 123, 21, 4331, 7209, 794, 23, 1), -6.989384148269892, 0], [(0, 6609, 3434, 190, 123, 21, 4331, 7209, 2690, 6592, 3191, 23, 1), -7.683591481298208, 1]]\n",
            "next_beams[2] after sort:  [[(0, 3975, 3329, 6592, 1408, 4657, 6592, 1558, 1408, 19, 6622, 3191, 3434, 3975, 3329, 6592, 1408, 4657, 6592, 1558, 1408, 23), -29.43812209367752, 0], [(0, 3975, 3329, 6592, 1408, 4657, 6592, 1558, 1408, 19, 6622, 3191, 3434, 3975, 3329, 6592, 1408, 4657, 6592, 1558, 1408, 19), -29.543868362903595, 0], [(0, 3975, 3329, 6592, 3071, 4657, 6592, 1558, 1408, 19, 6622, 3191, 3434, 3975, 3329, 6592, 1408, 4657, 6592, 1558, 1408, 19), -29.678190603852272, 1], [(0, 3975, 3329, 6592, 3071, 4657, 6592, 1558, 1408, 19, 6622, 3191, 3434, 3975, 3329, 6592, 1408, 4657, 6592, 1558, 1408, 23), -29.707038298249245, 1]]\n",
            "next_beams =  [[[(0, 2667, 5197, 4890, 3434, 775, 4698, 6019, 23, 1), -1.5714244381524622, 0], [(0, 2667, 5197, 4890, 3434, 5226, 23, 1), -2.9480822114273906, 1]], [[(0, 6609, 3434, 190, 123, 21, 4331, 7209, 794, 23, 1), -6.989384148269892, 0], [(0, 6609, 3434, 190, 123, 21, 4331, 7209, 2690, 6592, 3191, 23, 1), -7.683591481298208, 1]], [[(0, 3975, 3329, 6592, 1408, 4657, 6592, 1558, 1408, 19, 6622, 3191, 3434, 3975, 3329, 6592, 1408, 4657, 6592, 1558, 1408, 23, 6592), -32.296609699726105, 0], [(0, 3975, 3329, 6592, 1408, 4657, 6592, 1558, 1408, 19, 6622, 3191, 3434, 3975, 3329, 6592, 1408, 4657, 6592, 1558, 1408, 23, 1), -29.669763296842575, 0], [(0, 3975, 3329, 6592, 1408, 4657, 6592, 1558, 1408, 19, 6622, 3191, 3434, 3975, 3329, 6592, 1408, 4657, 6592, 1558, 1408, 19, 3578), -32.636296570301056, 1], [(0, 3975, 3329, 6592, 1408, 4657, 6592, 1558, 1408, 19, 6622, 3191, 3434, 3975, 3329, 6592, 1408, 4657, 6592, 1558, 1408, 19, 503), -31.30765277147293, 1]]]\n",
            "next_beams[0] after sort:  [[(0, 2667, 5197, 4890, 3434, 775, 4698, 6019, 23, 1), -1.5714244381524622, 0], [(0, 2667, 5197, 4890, 3434, 5226, 23, 1), -2.9480822114273906, 1]]\n",
            "next_beams[1] after sort:  [[(0, 6609, 3434, 190, 123, 21, 4331, 7209, 794, 23, 1), -6.989384148269892, 0], [(0, 6609, 3434, 190, 123, 21, 4331, 7209, 2690, 6592, 3191, 23, 1), -7.683591481298208, 1]]\n",
            "next_beams[2] after sort:  [[(0, 3975, 3329, 6592, 1408, 4657, 6592, 1558, 1408, 19, 6622, 3191, 3434, 3975, 3329, 6592, 1408, 4657, 6592, 1558, 1408, 23, 1), -29.669763296842575, 0], [(0, 3975, 3329, 6592, 1408, 4657, 6592, 1558, 1408, 19, 6622, 3191, 3434, 3975, 3329, 6592, 1408, 4657, 6592, 1558, 1408, 19, 503), -31.30765277147293, 1], [(0, 3975, 3329, 6592, 1408, 4657, 6592, 1558, 1408, 19, 6622, 3191, 3434, 3975, 3329, 6592, 1408, 4657, 6592, 1558, 1408, 23, 6592), -32.296609699726105, 0], [(0, 3975, 3329, 6592, 1408, 4657, 6592, 1558, 1408, 19, 6622, 3191, 3434, 3975, 3329, 6592, 1408, 4657, 6592, 1558, 1408, 19, 3578), -32.636296570301056, 1]]\n",
            "next_beams =  [[[(0, 2667, 5197, 4890, 3434, 775, 4698, 6019, 23, 1), -1.5714244381524622, 0], [(0, 2667, 5197, 4890, 3434, 5226, 23, 1), -2.9480822114273906, 1]], [[(0, 6609, 3434, 190, 123, 21, 4331, 7209, 794, 23, 1), -6.989384148269892, 0], [(0, 6609, 3434, 190, 123, 21, 4331, 7209, 2690, 6592, 3191, 23, 1), -7.683591481298208, 1]], [[(0, 3975, 3329, 6592, 1408, 4657, 6592, 1558, 1408, 19, 6622, 3191, 3434, 3975, 3329, 6592, 1408, 4657, 6592, 1558, 1408, 23, 1), -29.669763296842575, 0], [(0, 3975, 3329, 6592, 1408, 4657, 6592, 1558, 1408, 19, 6622, 3191, 3434, 3975, 3329, 6592, 1408, 4657, 6592, 1558, 1408, 19, 503, 190), -33.72319060564041, 1], [(0, 3975, 3329, 6592, 1408, 4657, 6592, 1558, 1408, 19, 6622, 3191, 3434, 3975, 3329, 6592, 1408, 4657, 6592, 1558, 1408, 19, 503, 6592), -33.538367569446564, 1]]]\n",
            "next_beams[0] after sort:  [[(0, 2667, 5197, 4890, 3434, 775, 4698, 6019, 23, 1), -1.5714244381524622, 0], [(0, 2667, 5197, 4890, 3434, 5226, 23, 1), -2.9480822114273906, 1]]\n",
            "next_beams[1] after sort:  [[(0, 6609, 3434, 190, 123, 21, 4331, 7209, 794, 23, 1), -6.989384148269892, 0], [(0, 6609, 3434, 190, 123, 21, 4331, 7209, 2690, 6592, 3191, 23, 1), -7.683591481298208, 1]]\n",
            "next_beams[2] after sort:  [[(0, 3975, 3329, 6592, 1408, 4657, 6592, 1558, 1408, 19, 6622, 3191, 3434, 3975, 3329, 6592, 1408, 4657, 6592, 1558, 1408, 23, 1), -29.669763296842575, 0], [(0, 3975, 3329, 6592, 1408, 4657, 6592, 1558, 1408, 19, 6622, 3191, 3434, 3975, 3329, 6592, 1408, 4657, 6592, 1558, 1408, 19, 503, 6592), -33.538367569446564, 1], [(0, 3975, 3329, 6592, 1408, 4657, 6592, 1558, 1408, 19, 6622, 3191, 3434, 3975, 3329, 6592, 1408, 4657, 6592, 1558, 1408, 19, 503, 190), -33.72319060564041, 1]]\n",
            "next_beams =  [[[(0, 2667, 5197, 4890, 3434, 775, 4698, 6019, 23, 1), -1.5714244381524622, 0], [(0, 2667, 5197, 4890, 3434, 5226, 23, 1), -2.9480822114273906, 1]], [[(0, 6609, 3434, 190, 123, 21, 4331, 7209, 794, 23, 1), -6.989384148269892, 0], [(0, 6609, 3434, 190, 123, 21, 4331, 7209, 2690, 6592, 3191, 23, 1), -7.683591481298208, 1]], [[(0, 3975, 3329, 6592, 1408, 4657, 6592, 1558, 1408, 19, 6622, 3191, 3434, 3975, 3329, 6592, 1408, 4657, 6592, 1558, 1408, 23, 1), -29.669763296842575, 0], [(0, 3975, 3329, 6592, 1408, 4657, 6592, 1558, 1408, 19, 6622, 3191, 3434, 3975, 3329, 6592, 1408, 4657, 6592, 1558, 1408, 19, 503, 6592, 1408), -37.028437435626984, 1], [(0, 3975, 3329, 6592, 1408, 4657, 6592, 1558, 1408, 19, 6622, 3191, 3434, 3975, 3329, 6592, 1408, 4657, 6592, 1558, 1408, 19, 503, 6592, 4514), -36.95717936754227, 1]]]\n",
            "next_beams[0] after sort:  [[(0, 2667, 5197, 4890, 3434, 775, 4698, 6019, 23, 1), -1.5714244381524622, 0], [(0, 2667, 5197, 4890, 3434, 5226, 23, 1), -2.9480822114273906, 1]]\n",
            "next_beams[1] after sort:  [[(0, 6609, 3434, 190, 123, 21, 4331, 7209, 794, 23, 1), -6.989384148269892, 0], [(0, 6609, 3434, 190, 123, 21, 4331, 7209, 2690, 6592, 3191, 23, 1), -7.683591481298208, 1]]\n",
            "next_beams[2] after sort:  [[(0, 3975, 3329, 6592, 1408, 4657, 6592, 1558, 1408, 19, 6622, 3191, 3434, 3975, 3329, 6592, 1408, 4657, 6592, 1558, 1408, 23, 1), -29.669763296842575, 0], [(0, 3975, 3329, 6592, 1408, 4657, 6592, 1558, 1408, 19, 6622, 3191, 3434, 3975, 3329, 6592, 1408, 4657, 6592, 1558, 1408, 19, 503, 6592, 4514), -36.95717936754227, 1], [(0, 3975, 3329, 6592, 1408, 4657, 6592, 1558, 1408, 19, 6622, 3191, 3434, 3975, 3329, 6592, 1408, 4657, 6592, 1558, 1408, 19, 503, 6592, 1408), -37.028437435626984, 1]]\n",
            "next_beams =  [[[(0, 2667, 5197, 4890, 3434, 775, 4698, 6019, 23, 1), -1.5714244381524622, 0], [(0, 2667, 5197, 4890, 3434, 5226, 23, 1), -2.9480822114273906, 1]], [[(0, 6609, 3434, 190, 123, 21, 4331, 7209, 794, 23, 1), -6.989384148269892, 0], [(0, 6609, 3434, 190, 123, 21, 4331, 7209, 2690, 6592, 3191, 23, 1), -7.683591481298208, 1]], [[(0, 3975, 3329, 6592, 1408, 4657, 6592, 1558, 1408, 19, 6622, 3191, 3434, 3975, 3329, 6592, 1408, 4657, 6592, 1558, 1408, 23, 1), -29.669763296842575, 0], [(0, 3975, 3329, 6592, 1408, 4657, 6592, 1558, 1408, 19, 6622, 3191, 3434, 3975, 3329, 6592, 1408, 4657, 6592, 1558, 1408, 19, 503, 6592, 4514, 932), -39.23247319459915, 1], [(0, 3975, 3329, 6592, 1408, 4657, 6592, 1558, 1408, 19, 6622, 3191, 3434, 3975, 3329, 6592, 1408, 4657, 6592, 1558, 1408, 19, 503, 6592, 4514, 361), -38.62672060728073, 1]]]\n",
            "next_beams[0] after sort:  [[(0, 2667, 5197, 4890, 3434, 775, 4698, 6019, 23, 1), -1.5714244381524622, 0], [(0, 2667, 5197, 4890, 3434, 5226, 23, 1), -2.9480822114273906, 1]]\n",
            "next_beams[1] after sort:  [[(0, 6609, 3434, 190, 123, 21, 4331, 7209, 794, 23, 1), -6.989384148269892, 0], [(0, 6609, 3434, 190, 123, 21, 4331, 7209, 2690, 6592, 3191, 23, 1), -7.683591481298208, 1]]\n",
            "next_beams[2] after sort:  [[(0, 3975, 3329, 6592, 1408, 4657, 6592, 1558, 1408, 19, 6622, 3191, 3434, 3975, 3329, 6592, 1408, 4657, 6592, 1558, 1408, 23, 1), -29.669763296842575, 0], [(0, 3975, 3329, 6592, 1408, 4657, 6592, 1558, 1408, 19, 6622, 3191, 3434, 3975, 3329, 6592, 1408, 4657, 6592, 1558, 1408, 19, 503, 6592, 4514, 361), -38.62672060728073, 1], [(0, 3975, 3329, 6592, 1408, 4657, 6592, 1558, 1408, 19, 6622, 3191, 3434, 3975, 3329, 6592, 1408, 4657, 6592, 1558, 1408, 19, 503, 6592, 4514, 932), -39.23247319459915, 1]]\n",
            "outputs = \n",
            " [[(0, 2667, 5197, 4890, 3434, 775, 4698, 6019, 23, 1), (0, 6609, 3434, 190, 123, 21, 4331, 7209, 794, 23, 1), (0, 3975, 3329, 6592, 1408, 4657, 6592, 1558, 1408, 19, 6622, 3191, 3434, 3975, 3329, 6592, 1408, 4657, 6592, 1558, 1408, 23, 1)], [(0, 2667, 5197, 4890, 3434, 5226, 23, 1), (0, 6609, 3434, 190, 123, 21, 4331, 7209, 2690, 6592, 3191, 23, 1), (0, 3975, 3329, 6592, 1408, 4657, 6592, 1558, 1408, 19, 6622, 3191, 3434, 3975, 3329, 6592, 1408, 4657, 6592, 1558, 1408, 19, 503, 6592, 4514, 361)]]\n",
            "hypos = \n",
            " [[[-2.3480822114273905, (0, 2667, 5197, 4890, 3434, 5226, 23, 1)], [-2.2480822114273904, (0, 2667, 5197, 4890, 3434, 5226, 23, 1)], [-0.7714244381524622, (0, 2667, 5197, 4890, 3434, 775, 4698, 6019, 23, 1)], [-2.1480822114273908, (0, 2667, 5197, 4890, 3434, 5226, 23, 1)], [-0.6714244381524622, (0, 2667, 5197, 4890, 3434, 775, 4698, 6019, 23, 1)], [-2.0480822114273907, (0, 2667, 5197, 4890, 3434, 5226, 23, 1)], [-0.5714244381524622, (0, 2667, 5197, 4890, 3434, 775, 4698, 6019, 23, 1)], [-1.9480822114273906, (0, 2667, 5197, 4890, 3434, 5226, 23, 1)], [-0.47142443815246216, (0, 2667, 5197, 4890, 3434, 775, 4698, 6019, 23, 1)], [-1.8480822114273905, (0, 2667, 5197, 4890, 3434, 5226, 23, 1)], [-0.37142443815246207, (0, 2667, 5197, 4890, 3434, 775, 4698, 6019, 23, 1)], [-1.7480822114273904, (0, 2667, 5197, 4890, 3434, 5226, 23, 1)], [-0.2714244381524622, (0, 2667, 5197, 4890, 3434, 775, 4698, 6019, 23, 1)], [-1.6480822114273905, (0, 2667, 5197, 4890, 3434, 5226, 23, 1)], [-0.1714244381524621, (0, 2667, 5197, 4890, 3434, 775, 4698, 6019, 23, 1)], [-1.5480822114273904, (0, 2667, 5197, 4890, 3434, 5226, 23, 1)], [-0.07142443815246224, (0, 2667, 5197, 4890, 3434, 775, 4698, 6019, 23, 1)], [-1.4480822114273906, (0, 2667, 5197, 4890, 3434, 5226, 23, 1)], [0.028575561847537845, (0, 2667, 5197, 4890, 3434, 775, 4698, 6019, 23, 1)], [-1.3480822114273905, (0, 2667, 5197, 4890, 3434, 5226, 23, 1)], [0.12857556184753793, (0, 2667, 5197, 4890, 3434, 775, 4698, 6019, 23, 1)], [-1.2480822114273904, (0, 2667, 5197, 4890, 3434, 5226, 23, 1)], [0.2285755618475378, (0, 2667, 5197, 4890, 3434, 775, 4698, 6019, 23, 1)], [-1.1480822114273905, (0, 2667, 5197, 4890, 3434, 5226, 23, 1)], [0.3285755618475379, (0, 2667, 5197, 4890, 3434, 775, 4698, 6019, 23, 1)], [-1.0480822114273904, (0, 2667, 5197, 4890, 3434, 5226, 23, 1)], [0.42857556184753776, (0, 2667, 5197, 4890, 3434, 775, 4698, 6019, 23, 1)], [-0.9480822114273906, (0, 2667, 5197, 4890, 3434, 5226, 23, 1)], [0.5285755618475378, (0, 2667, 5197, 4890, 3434, 775, 4698, 6019, 23, 1)], [-0.8480822114273905, (0, 2667, 5197, 4890, 3434, 5226, 23, 1)], [0.6285755618475379, (0, 2667, 5197, 4890, 3434, 775, 4698, 6019, 23, 1)], [-0.7480822114273904, (0, 2667, 5197, 4890, 3434, 5226, 23, 1)], [0.728575561847538, (0, 2667, 5197, 4890, 3434, 775, 4698, 6019, 23, 1)], [-0.6480822114273903, (0, 2667, 5197, 4890, 3434, 5226, 23, 1)], [0.8285755618475381, (0, 2667, 5197, 4890, 3434, 775, 4698, 6019, 23, 1)], [-0.5480822114273902, (0, 2667, 5197, 4890, 3434, 5226, 23, 1)]], [[-6.089384148269891, (0, 6609, 3434, 190, 123, 21, 4331, 7209, 794, 23, 1)], [-5.989384148269892, (0, 6609, 3434, 190, 123, 21, 4331, 7209, 794, 23, 1)], [-5.889384148269892, (0, 6609, 3434, 190, 123, 21, 4331, 7209, 794, 23, 1)], [-6.583591481298209, (0, 6609, 3434, 190, 123, 21, 4331, 7209, 2690, 6592, 3191, 23, 1)], [-5.789384148269892, (0, 6609, 3434, 190, 123, 21, 4331, 7209, 794, 23, 1)], [-6.483591481298208, (0, 6609, 3434, 190, 123, 21, 4331, 7209, 2690, 6592, 3191, 23, 1)], [-5.689384148269892, (0, 6609, 3434, 190, 123, 21, 4331, 7209, 794, 23, 1)], [-6.383591481298208, (0, 6609, 3434, 190, 123, 21, 4331, 7209, 2690, 6592, 3191, 23, 1)], [-5.589384148269891, (0, 6609, 3434, 190, 123, 21, 4331, 7209, 794, 23, 1)], [-6.283591481298208, (0, 6609, 3434, 190, 123, 21, 4331, 7209, 2690, 6592, 3191, 23, 1)], [-5.489384148269892, (0, 6609, 3434, 190, 123, 21, 4331, 7209, 794, 23, 1)], [-6.183591481298208, (0, 6609, 3434, 190, 123, 21, 4331, 7209, 2690, 6592, 3191, 23, 1)], [-5.389384148269892, (0, 6609, 3434, 190, 123, 21, 4331, 7209, 794, 23, 1)], [-6.083591481298209, (0, 6609, 3434, 190, 123, 21, 4331, 7209, 2690, 6592, 3191, 23, 1)], [-5.289384148269892, (0, 6609, 3434, 190, 123, 21, 4331, 7209, 794, 23, 1)], [-5.983591481298208, (0, 6609, 3434, 190, 123, 21, 4331, 7209, 2690, 6592, 3191, 23, 1)], [-5.189384148269892, (0, 6609, 3434, 190, 123, 21, 4331, 7209, 794, 23, 1)], [-5.883591481298208, (0, 6609, 3434, 190, 123, 21, 4331, 7209, 2690, 6592, 3191, 23, 1)], [-5.089384148269891, (0, 6609, 3434, 190, 123, 21, 4331, 7209, 794, 23, 1)], [-5.783591481298208, (0, 6609, 3434, 190, 123, 21, 4331, 7209, 2690, 6592, 3191, 23, 1)], [-4.989384148269892, (0, 6609, 3434, 190, 123, 21, 4331, 7209, 794, 23, 1)], [-5.683591481298208, (0, 6609, 3434, 190, 123, 21, 4331, 7209, 2690, 6592, 3191, 23, 1)], [-4.889384148269892, (0, 6609, 3434, 190, 123, 21, 4331, 7209, 794, 23, 1)], [-5.583591481298209, (0, 6609, 3434, 190, 123, 21, 4331, 7209, 2690, 6592, 3191, 23, 1)], [-4.789384148269892, (0, 6609, 3434, 190, 123, 21, 4331, 7209, 794, 23, 1)], [-5.483591481298208, (0, 6609, 3434, 190, 123, 21, 4331, 7209, 2690, 6592, 3191, 23, 1)], [-4.689384148269891, (0, 6609, 3434, 190, 123, 21, 4331, 7209, 794, 23, 1)], [-5.3835914812982075, (0, 6609, 3434, 190, 123, 21, 4331, 7209, 2690, 6592, 3191, 23, 1)], [-4.589384148269891, (0, 6609, 3434, 190, 123, 21, 4331, 7209, 794, 23, 1)], [-5.283591481298208, (0, 6609, 3434, 190, 123, 21, 4331, 7209, 2690, 6592, 3191, 23, 1)]], [[-27.569763296842574, (0, 3975, 3329, 6592, 1408, 4657, 6592, 1558, 1408, 19, 6622, 3191, 3434, 3975, 3329, 6592, 1408, 4657, 6592, 1558, 1408, 23, 1)], [-27.469763296842576, (0, 3975, 3329, 6592, 1408, 4657, 6592, 1558, 1408, 19, 6622, 3191, 3434, 3975, 3329, 6592, 1408, 4657, 6592, 1558, 1408, 23, 1)], [-27.369763296842574, (0, 3975, 3329, 6592, 1408, 4657, 6592, 1558, 1408, 19, 6622, 3191, 3434, 3975, 3329, 6592, 1408, 4657, 6592, 1558, 1408, 23, 1)], [-27.269763296842576, (0, 3975, 3329, 6592, 1408, 4657, 6592, 1558, 1408, 19, 6622, 3191, 3434, 3975, 3329, 6592, 1408, 4657, 6592, 1558, 1408, 23, 1)]]]\n",
            "hypos after sort = \n",
            " [[[-2.3480822114273905, (0, 2667, 5197, 4890, 3434, 5226, 23, 1)], [-2.2480822114273904, (0, 2667, 5197, 4890, 3434, 5226, 23, 1)], [-2.1480822114273908, (0, 2667, 5197, 4890, 3434, 5226, 23, 1)], [-2.0480822114273907, (0, 2667, 5197, 4890, 3434, 5226, 23, 1)], [-1.9480822114273906, (0, 2667, 5197, 4890, 3434, 5226, 23, 1)], [-1.8480822114273905, (0, 2667, 5197, 4890, 3434, 5226, 23, 1)], [-1.7480822114273904, (0, 2667, 5197, 4890, 3434, 5226, 23, 1)], [-1.6480822114273905, (0, 2667, 5197, 4890, 3434, 5226, 23, 1)], [-1.5480822114273904, (0, 2667, 5197, 4890, 3434, 5226, 23, 1)], [-1.4480822114273906, (0, 2667, 5197, 4890, 3434, 5226, 23, 1)], [-1.3480822114273905, (0, 2667, 5197, 4890, 3434, 5226, 23, 1)], [-1.2480822114273904, (0, 2667, 5197, 4890, 3434, 5226, 23, 1)], [-1.1480822114273905, (0, 2667, 5197, 4890, 3434, 5226, 23, 1)], [-1.0480822114273904, (0, 2667, 5197, 4890, 3434, 5226, 23, 1)], [-0.9480822114273906, (0, 2667, 5197, 4890, 3434, 5226, 23, 1)], [-0.8480822114273905, (0, 2667, 5197, 4890, 3434, 5226, 23, 1)], [-0.7714244381524622, (0, 2667, 5197, 4890, 3434, 775, 4698, 6019, 23, 1)], [-0.7480822114273904, (0, 2667, 5197, 4890, 3434, 5226, 23, 1)], [-0.6714244381524622, (0, 2667, 5197, 4890, 3434, 775, 4698, 6019, 23, 1)], [-0.6480822114273903, (0, 2667, 5197, 4890, 3434, 5226, 23, 1)], [-0.5714244381524622, (0, 2667, 5197, 4890, 3434, 775, 4698, 6019, 23, 1)], [-0.5480822114273902, (0, 2667, 5197, 4890, 3434, 5226, 23, 1)], [-0.47142443815246216, (0, 2667, 5197, 4890, 3434, 775, 4698, 6019, 23, 1)], [-0.37142443815246207, (0, 2667, 5197, 4890, 3434, 775, 4698, 6019, 23, 1)], [-0.2714244381524622, (0, 2667, 5197, 4890, 3434, 775, 4698, 6019, 23, 1)], [-0.1714244381524621, (0, 2667, 5197, 4890, 3434, 775, 4698, 6019, 23, 1)], [-0.07142443815246224, (0, 2667, 5197, 4890, 3434, 775, 4698, 6019, 23, 1)], [0.028575561847537845, (0, 2667, 5197, 4890, 3434, 775, 4698, 6019, 23, 1)], [0.12857556184753793, (0, 2667, 5197, 4890, 3434, 775, 4698, 6019, 23, 1)], [0.2285755618475378, (0, 2667, 5197, 4890, 3434, 775, 4698, 6019, 23, 1)], [0.3285755618475379, (0, 2667, 5197, 4890, 3434, 775, 4698, 6019, 23, 1)], [0.42857556184753776, (0, 2667, 5197, 4890, 3434, 775, 4698, 6019, 23, 1)], [0.5285755618475378, (0, 2667, 5197, 4890, 3434, 775, 4698, 6019, 23, 1)], [0.6285755618475379, (0, 2667, 5197, 4890, 3434, 775, 4698, 6019, 23, 1)], [0.728575561847538, (0, 2667, 5197, 4890, 3434, 775, 4698, 6019, 23, 1)], [0.8285755618475381, (0, 2667, 5197, 4890, 3434, 775, 4698, 6019, 23, 1)]], [[-6.583591481298209, (0, 6609, 3434, 190, 123, 21, 4331, 7209, 2690, 6592, 3191, 23, 1)], [-6.483591481298208, (0, 6609, 3434, 190, 123, 21, 4331, 7209, 2690, 6592, 3191, 23, 1)], [-6.383591481298208, (0, 6609, 3434, 190, 123, 21, 4331, 7209, 2690, 6592, 3191, 23, 1)], [-6.283591481298208, (0, 6609, 3434, 190, 123, 21, 4331, 7209, 2690, 6592, 3191, 23, 1)], [-6.183591481298208, (0, 6609, 3434, 190, 123, 21, 4331, 7209, 2690, 6592, 3191, 23, 1)], [-6.089384148269891, (0, 6609, 3434, 190, 123, 21, 4331, 7209, 794, 23, 1)], [-6.083591481298209, (0, 6609, 3434, 190, 123, 21, 4331, 7209, 2690, 6592, 3191, 23, 1)], [-5.989384148269892, (0, 6609, 3434, 190, 123, 21, 4331, 7209, 794, 23, 1)], [-5.983591481298208, (0, 6609, 3434, 190, 123, 21, 4331, 7209, 2690, 6592, 3191, 23, 1)], [-5.889384148269892, (0, 6609, 3434, 190, 123, 21, 4331, 7209, 794, 23, 1)], [-5.883591481298208, (0, 6609, 3434, 190, 123, 21, 4331, 7209, 2690, 6592, 3191, 23, 1)], [-5.789384148269892, (0, 6609, 3434, 190, 123, 21, 4331, 7209, 794, 23, 1)], [-5.783591481298208, (0, 6609, 3434, 190, 123, 21, 4331, 7209, 2690, 6592, 3191, 23, 1)], [-5.689384148269892, (0, 6609, 3434, 190, 123, 21, 4331, 7209, 794, 23, 1)], [-5.683591481298208, (0, 6609, 3434, 190, 123, 21, 4331, 7209, 2690, 6592, 3191, 23, 1)], [-5.589384148269891, (0, 6609, 3434, 190, 123, 21, 4331, 7209, 794, 23, 1)], [-5.583591481298209, (0, 6609, 3434, 190, 123, 21, 4331, 7209, 2690, 6592, 3191, 23, 1)], [-5.489384148269892, (0, 6609, 3434, 190, 123, 21, 4331, 7209, 794, 23, 1)], [-5.483591481298208, (0, 6609, 3434, 190, 123, 21, 4331, 7209, 2690, 6592, 3191, 23, 1)], [-5.389384148269892, (0, 6609, 3434, 190, 123, 21, 4331, 7209, 794, 23, 1)], [-5.3835914812982075, (0, 6609, 3434, 190, 123, 21, 4331, 7209, 2690, 6592, 3191, 23, 1)], [-5.289384148269892, (0, 6609, 3434, 190, 123, 21, 4331, 7209, 794, 23, 1)], [-5.283591481298208, (0, 6609, 3434, 190, 123, 21, 4331, 7209, 2690, 6592, 3191, 23, 1)], [-5.189384148269892, (0, 6609, 3434, 190, 123, 21, 4331, 7209, 794, 23, 1)], [-5.089384148269891, (0, 6609, 3434, 190, 123, 21, 4331, 7209, 794, 23, 1)], [-4.989384148269892, (0, 6609, 3434, 190, 123, 21, 4331, 7209, 794, 23, 1)], [-4.889384148269892, (0, 6609, 3434, 190, 123, 21, 4331, 7209, 794, 23, 1)], [-4.789384148269892, (0, 6609, 3434, 190, 123, 21, 4331, 7209, 794, 23, 1)], [-4.689384148269891, (0, 6609, 3434, 190, 123, 21, 4331, 7209, 794, 23, 1)], [-4.589384148269891, (0, 6609, 3434, 190, 123, 21, 4331, 7209, 794, 23, 1)]], [[-27.569763296842574, (0, 3975, 3329, 6592, 1408, 4657, 6592, 1558, 1408, 19, 6622, 3191, 3434, 3975, 3329, 6592, 1408, 4657, 6592, 1558, 1408, 23, 1)], [-27.469763296842576, (0, 3975, 3329, 6592, 1408, 4657, 6592, 1558, 1408, 19, 6622, 3191, 3434, 3975, 3329, 6592, 1408, 4657, 6592, 1558, 1408, 23, 1)], [-27.369763296842574, (0, 3975, 3329, 6592, 1408, 4657, 6592, 1558, 1408, 19, 6622, 3191, 3434, 3975, 3329, 6592, 1408, 4657, 6592, 1558, 1408, 23, 1)], [-27.269763296842576, (0, 3975, 3329, 6592, 1408, 4657, 6592, 1558, 1408, 19, 6622, 3191, 3434, 3975, 3329, 6592, 1408, 4657, 6592, 1558, 1408, 23, 1)]]]\n",
            "Translations with beam search:\n",
            "free private parking is available on site .\n",
            "there is a 5 - minute walk away .\n",
            "located in the centre of the city centre , this hotel is located in the centre of the city centre .\n",
            "CPU times: user 172 ms, sys: 26.5 ms, total: 199 ms\n",
            "Wall time: 168 ms\n"
          ]
        }
      ]
    },
    {
      "cell_type": "code",
      "source": [
        "%%time\n",
        "# newer-newer\n",
        "dummy_translations, dummy_states = model.translate_lines(train_inp[:3], max_len=25, beam_size=2, device=device)\n",
        "print(\"Translations with beam search:\")\n",
        "print('\\n'.join([line for line in dummy_translations]))"
      ],
      "metadata": {
        "colab": {
          "base_uri": "https://localhost:8080/"
        },
        "id": "t_RTvRqcVkRj",
        "outputId": "361963b7-0021-4aa9-8472-bed711897ebc"
      },
      "execution_count": 14,
      "outputs": [
        {
          "output_type": "stream",
          "name": "stdout",
          "text": [
            "outputs[0][0] = \n",
            " (0,)\n",
            "outputs[0][1] = \n",
            " (0,)\n",
            "outputs[0][2] = \n",
            " (0,)\n",
            "next_beams =  [[[(0, 5197), -2.3763108253479004, 0], [(0, 2667), -0.19116270542144775, 0]], [[(0, 5949), -2.5382914543151855, 0], [(0, 190), -1.59170401096344, 0]], [[(0, 6622), -2.294542074203491, 0], [(0, 3975), -1.5750291347503662, 0]]]\n",
            "next_beams[0] after sort:  [[(0, 2667), -0.19116270542144775, 0], [(0, 5197), -2.3763108253479004, 0]]\n",
            "next_beams[1] after sort:  [[(0, 190), -1.59170401096344, 0], [(0, 5949), -2.5382914543151855, 0]]\n",
            "next_beams[2] after sort:  [[(0, 3975), -1.5750291347503662, 0], [(0, 6622), -2.294542074203491, 0]]\n",
            "outputs[0][0] = \n",
            " (0, 2667)\n",
            "outputs[0][1] = \n",
            " (0, 190)\n",
            "outputs[0][2] = \n",
            " (0, 3975)\n",
            "outputs[1][0] = \n",
            " (0, 5197)\n",
            "outputs[1][1] = \n",
            " (0, 5949)\n",
            "outputs[1][2] = \n",
            " (0, 6622)\n",
            "next_beams =  [[[(0, 2667, 4890), -4.98753035068512, 0], [(0, 2667, 5197), -0.22283977270126343, 0], [(0, 5197, 916), -5.299590826034546, 1], [(0, 5197, 4890), -2.573086589574814, 1]], [[(0, 190, 2942), -3.9023648500442505, 0], [(0, 190, 7042), -3.6238900423049927, 0], [(0, 5949, 1294), -4.671253681182861, 1], [(0, 5949, 503), -3.118584156036377, 1]], [[(0, 3975, 3578), -4.28911828994751, 0], [(0, 3975, 3329), -2.396569311618805, 0], [(0, 6622, 3147), -4.701088190078735, 1], [(0, 6622, 3191), -3.903248429298401, 1]]]\n",
            "next_beams[0] after sort:  [[(0, 2667, 5197), -0.22283977270126343, 0], [(0, 5197, 4890), -2.573086589574814, 1], [(0, 2667, 4890), -4.98753035068512, 0], [(0, 5197, 916), -5.299590826034546, 1]]\n",
            "next_beams[1] after sort:  [[(0, 5949, 503), -3.118584156036377, 1], [(0, 190, 7042), -3.6238900423049927, 0], [(0, 190, 2942), -3.9023648500442505, 0], [(0, 5949, 1294), -4.671253681182861, 1]]\n",
            "next_beams[2] after sort:  [[(0, 3975, 3329), -2.396569311618805, 0], [(0, 6622, 3191), -3.903248429298401, 1], [(0, 3975, 3578), -4.28911828994751, 0], [(0, 6622, 3147), -4.701088190078735, 1]]\n",
            "outputs[0][0] = \n",
            " (0, 2667, 5197)\n",
            "outputs[0][1] = \n",
            " (0, 5949, 503)\n",
            "outputs[0][2] = \n",
            " (0, 3975, 3329)\n",
            "outputs[1][0] = \n",
            " (0, 5197, 4890)\n",
            "outputs[1][1] = \n",
            " (0, 190, 7042)\n",
            "outputs[1][2] = \n",
            " (0, 6622, 3191)\n",
            "next_beams =  [[[(0, 2667, 5197, 5197), -6.6562551856040955, 0], [(0, 2667, 5197, 4890), -0.2302174144424498, 0], [(0, 5197, 4890, 6153), -5.144405692815781, 1], [(0, 5197, 4890, 3434), -2.812268480658531, 1]], [[(0, 5949, 503, 891), -5.2231645584106445, 0], [(0, 5949, 503, 5480), -3.8216257095336914, 0], [(0, 190, 7042, 503), -8.970064282417297, 1], [(0, 190, 7042, 4657), -3.6689036414027214, 1]], [[(0, 3975, 3329, 190), -4.922761499881744, 0], [(0, 3975, 3329, 6592), -3.4369460940361023, 0], [(0, 6622, 3191, 3191), -6.757337689399719, 1], [(0, 6622, 3191, 3434), -4.891369104385376, 1]]]\n",
            "next_beams[0] after sort:  [[(0, 2667, 5197, 4890), -0.2302174144424498, 0], [(0, 5197, 4890, 3434), -2.812268480658531, 1], [(0, 5197, 4890, 6153), -5.144405692815781, 1], [(0, 2667, 5197, 5197), -6.6562551856040955, 0]]\n",
            "next_beams[1] after sort:  [[(0, 190, 7042, 4657), -3.6689036414027214, 1], [(0, 5949, 503, 5480), -3.8216257095336914, 0], [(0, 5949, 503, 891), -5.2231645584106445, 0], [(0, 190, 7042, 503), -8.970064282417297, 1]]\n",
            "next_beams[2] after sort:  [[(0, 3975, 3329, 6592), -3.4369460940361023, 0], [(0, 6622, 3191, 3434), -4.891369104385376, 1], [(0, 3975, 3329, 190), -4.922761499881744, 0], [(0, 6622, 3191, 3191), -6.757337689399719, 1]]\n",
            "outputs[0][0] = \n",
            " (0, 2667, 5197, 4890)\n",
            "outputs[0][1] = \n",
            " (0, 190, 7042, 4657)\n",
            "outputs[0][2] = \n",
            " (0, 3975, 3329, 6592)\n",
            "outputs[1][0] = \n",
            " (0, 5197, 4890, 3434)\n",
            "outputs[1][1] = \n",
            " (0, 5949, 503, 5480)\n",
            "outputs[1][2] = \n",
            " (0, 6622, 3191, 3434)\n",
            "next_beams =  [[[(0, 2667, 5197, 4890, 6153), -3.969588237348944, 0], [(0, 2667, 5197, 4890, 3434), -0.3257226669229567, 0], [(0, 5197, 4890, 3434, 5140), -4.71498142182827, 1], [(0, 5197, 4890, 3434, 775), -3.3242963403463364, 1]], [[(0, 190, 7042, 4657, 5949), -5.91603546589613, 0], [(0, 190, 7042, 4657, 5480), -4.609574131667614, 0], [(0, 5949, 503, 5480, 624), -5.0151526927948, 1], [(0, 5949, 503, 5480, 1294), -4.42221611738205, 1]], [[(0, 3975, 3329, 6592, 3071), -5.867904841899872, 0], [(0, 3975, 3329, 6592, 1408), -5.195466101169586, 0], [(0, 6622, 3191, 3434, 6025), -6.8423967361450195, 1], [(0, 6622, 3191, 3434, 3975), -5.9064226150512695, 1]]]\n",
            "next_beams[0] after sort:  [[(0, 2667, 5197, 4890, 3434), -0.3257226669229567, 0], [(0, 5197, 4890, 3434, 775), -3.3242963403463364, 1], [(0, 2667, 5197, 4890, 6153), -3.969588237348944, 0], [(0, 5197, 4890, 3434, 5140), -4.71498142182827, 1]]\n",
            "next_beams[1] after sort:  [[(0, 5949, 503, 5480, 1294), -4.42221611738205, 1], [(0, 190, 7042, 4657, 5480), -4.609574131667614, 0], [(0, 5949, 503, 5480, 624), -5.0151526927948, 1], [(0, 190, 7042, 4657, 5949), -5.91603546589613, 0]]\n",
            "next_beams[2] after sort:  [[(0, 3975, 3329, 6592, 1408), -5.195466101169586, 0], [(0, 3975, 3329, 6592, 3071), -5.867904841899872, 0], [(0, 6622, 3191, 3434, 3975), -5.9064226150512695, 1], [(0, 6622, 3191, 3434, 6025), -6.8423967361450195, 1]]\n",
            "outputs[0][0] = \n",
            " (0, 2667, 5197, 4890, 3434)\n",
            "outputs[0][1] = \n",
            " (0, 5949, 503, 5480, 1294)\n",
            "outputs[0][2] = \n",
            " (0, 3975, 3329, 6592, 1408)\n",
            "outputs[1][0] = \n",
            " (0, 5197, 4890, 3434, 775)\n",
            "outputs[1][1] = \n",
            " (0, 190, 7042, 4657, 5480)\n",
            "outputs[1][2] = \n",
            " (0, 3975, 3329, 6592, 3071)\n",
            "next_beams =  [[[(0, 2667, 5197, 4890, 3434, 5226), -2.4143848144449294, 0], [(0, 2667, 5197, 4890, 3434, 775), -0.7159718000330031, 0], [(0, 5197, 4890, 3434, 775, 3329), -5.695829972624779, 1], [(0, 5197, 4890, 3434, 775, 4698), -3.544494330883026, 1]], [[(0, 5949, 503, 5480, 1294, 440), -8.563113391399384, 0], [(0, 5949, 503, 5480, 1294, 929), -4.501475512981415, 0], [(0, 190, 7042, 4657, 5480, 1294), -6.506760887801647, 1], [(0, 190, 7042, 4657, 5480, 503), -5.247160188853741, 1]], [[(0, 3975, 3329, 6592, 1408, 19), -9.031825363636017, 0], [(0, 3975, 3329, 6592, 1408, 4657), -5.236924488097429, 0], [(0, 3975, 3329, 6592, 3071, 19), -11.223535716533661, 1], [(0, 3975, 3329, 6592, 3071, 4657), -5.885320417582989, 1]]]\n",
            "next_beams[0] after sort:  [[(0, 2667, 5197, 4890, 3434, 775), -0.7159718000330031, 0], [(0, 2667, 5197, 4890, 3434, 5226), -2.4143848144449294, 0], [(0, 5197, 4890, 3434, 775, 4698), -3.544494330883026, 1], [(0, 5197, 4890, 3434, 775, 3329), -5.695829972624779, 1]]\n",
            "next_beams[1] after sort:  [[(0, 5949, 503, 5480, 1294, 929), -4.501475512981415, 0], [(0, 190, 7042, 4657, 5480, 503), -5.247160188853741, 1], [(0, 190, 7042, 4657, 5480, 1294), -6.506760887801647, 1], [(0, 5949, 503, 5480, 1294, 440), -8.563113391399384, 0]]\n",
            "next_beams[2] after sort:  [[(0, 3975, 3329, 6592, 1408, 4657), -5.236924488097429, 0], [(0, 3975, 3329, 6592, 3071, 4657), -5.885320417582989, 1], [(0, 3975, 3329, 6592, 1408, 19), -9.031825363636017, 0], [(0, 3975, 3329, 6592, 3071, 19), -11.223535716533661, 1]]\n",
            "outputs[0][0] = \n",
            " (0, 2667, 5197, 4890, 3434, 775)\n",
            "outputs[0][1] = \n",
            " (0, 5949, 503, 5480, 1294, 929)\n",
            "outputs[0][2] = \n",
            " (0, 3975, 3329, 6592, 1408, 4657)\n",
            "outputs[1][0] = \n",
            " (0, 2667, 5197, 4890, 3434, 5226)\n",
            "outputs[1][1] = \n",
            " (0, 190, 7042, 4657, 5480, 503)\n",
            "outputs[1][2] = \n",
            " (0, 3975, 3329, 6592, 3071, 4657)\n",
            "next_beams =  [[[(0, 2667, 5197, 4890, 3434, 775, 3329), -3.508414837066084, 0], [(0, 2667, 5197, 4890, 3434, 775, 4698), -0.8598228269256651, 0], [(0, 2667, 5197, 4890, 3434, 5226, 23), -3.866794439498335, 1], [(0, 2667, 5197, 4890, 3434, 5226, 4698), -3.144133421126753, 1]], [[(0, 5949, 503, 5480, 1294, 929, 5367), -7.81841653585434, 0], [(0, 5949, 503, 5480, 1294, 929, 2651), -4.690032929182053, 0], [(0, 190, 7042, 4657, 5480, 503, 1267), -6.874208681285381, 1], [(0, 190, 7042, 4657, 5480, 503, 891), -6.5346329137682915, 1]], [[(0, 3975, 3329, 6592, 1408, 4657, 5745), -9.391370136290789, 0], [(0, 3975, 3329, 6592, 1408, 4657, 6592), -7.974399644881487, 0], [(0, 3975, 3329, 6592, 3071, 4657, 3782), -10.337330095469952, 1], [(0, 3975, 3329, 6592, 3071, 4657, 6592), -8.11648964136839, 1]]]\n",
            "next_beams[0] after sort:  [[(0, 2667, 5197, 4890, 3434, 775, 4698), -0.8598228269256651, 0], [(0, 2667, 5197, 4890, 3434, 5226, 4698), -3.144133421126753, 1], [(0, 2667, 5197, 4890, 3434, 775, 3329), -3.508414837066084, 0], [(0, 2667, 5197, 4890, 3434, 5226, 23), -3.866794439498335, 1]]\n",
            "next_beams[1] after sort:  [[(0, 5949, 503, 5480, 1294, 929, 2651), -4.690032929182053, 0], [(0, 190, 7042, 4657, 5480, 503, 891), -6.5346329137682915, 1], [(0, 190, 7042, 4657, 5480, 503, 1267), -6.874208681285381, 1], [(0, 5949, 503, 5480, 1294, 929, 5367), -7.81841653585434, 0]]\n",
            "next_beams[2] after sort:  [[(0, 3975, 3329, 6592, 1408, 4657, 6592), -7.974399644881487, 0], [(0, 3975, 3329, 6592, 3071, 4657, 6592), -8.11648964136839, 1], [(0, 3975, 3329, 6592, 1408, 4657, 5745), -9.391370136290789, 0], [(0, 3975, 3329, 6592, 3071, 4657, 3782), -10.337330095469952, 1]]\n",
            "outputs[0][0] = \n",
            " (0, 2667, 5197, 4890, 3434, 775, 4698)\n",
            "outputs[0][1] = \n",
            " (0, 5949, 503, 5480, 1294, 929, 2651)\n",
            "outputs[0][2] = \n",
            " (0, 3975, 3329, 6592, 1408, 4657, 6592)\n",
            "outputs[1][0] = \n",
            " (0, 2667, 5197, 4890, 3434, 5226, 4698)\n",
            "outputs[1][1] = \n",
            " (0, 190, 7042, 4657, 5480, 503, 891)\n",
            "outputs[1][2] = \n",
            " (0, 3975, 3329, 6592, 3071, 4657, 6592)\n",
            "next_beams =  [[[(0, 2667, 5197, 4890, 3434, 775, 4698, 5447), -6.968232708517462, 0], [(0, 2667, 5197, 4890, 3434, 775, 4698, 6019), -0.8697485984303057, 0], [(0, 2667, 5197, 4890, 3434, 5226, 4698, 6592), -8.168774458114058, 1], [(0, 2667, 5197, 4890, 3434, 5226, 4698, 6019), -3.1679515042342246, 1]], [[(0, 5949, 503, 5480, 1294, 929, 2651, 3329), -6.601520150899887, 0], [(0, 5949, 503, 5480, 1294, 929, 2651, 7356), -5.123150408267975, 0], [(0, 190, 7042, 4657, 5480, 503, 891, 624), -7.916732303798199, 1], [(0, 190, 7042, 4657, 5480, 503, 891, 1294), -7.4007705971598625, 1]], [[(0, 3975, 3329, 6592, 1408, 4657, 6592, 4676), -11.482026655226946, 0], [(0, 3975, 3329, 6592, 1408, 4657, 6592, 1408), -11.317904073745012, 0], [(0, 3975, 3329, 6592, 3071, 4657, 6592, 3129), -11.71096133440733, 1], [(0, 3975, 3329, 6592, 3071, 4657, 6592, 1558), -11.44024895876646, 1]]]\n",
            "next_beams[0] after sort:  [[(0, 2667, 5197, 4890, 3434, 775, 4698, 6019), -0.8697485984303057, 0], [(0, 2667, 5197, 4890, 3434, 5226, 4698, 6019), -3.1679515042342246, 1], [(0, 2667, 5197, 4890, 3434, 775, 4698, 5447), -6.968232708517462, 0], [(0, 2667, 5197, 4890, 3434, 5226, 4698, 6592), -8.168774458114058, 1]]\n",
            "next_beams[1] after sort:  [[(0, 5949, 503, 5480, 1294, 929, 2651, 7356), -5.123150408267975, 0], [(0, 5949, 503, 5480, 1294, 929, 2651, 3329), -6.601520150899887, 0], [(0, 190, 7042, 4657, 5480, 503, 891, 1294), -7.4007705971598625, 1], [(0, 190, 7042, 4657, 5480, 503, 891, 624), -7.916732303798199, 1]]\n",
            "next_beams[2] after sort:  [[(0, 3975, 3329, 6592, 1408, 4657, 6592, 1408), -11.317904073745012, 0], [(0, 3975, 3329, 6592, 3071, 4657, 6592, 1558), -11.44024895876646, 1], [(0, 3975, 3329, 6592, 1408, 4657, 6592, 4676), -11.482026655226946, 0], [(0, 3975, 3329, 6592, 3071, 4657, 6592, 3129), -11.71096133440733, 1]]\n",
            "outputs[0][0] = \n",
            " (0, 2667, 5197, 4890, 3434, 775, 4698, 6019)\n",
            "outputs[0][1] = \n",
            " (0, 5949, 503, 5480, 1294, 929, 2651, 7356)\n",
            "outputs[0][2] = \n",
            " (0, 3975, 3329, 6592, 1408, 4657, 6592, 1408)\n",
            "outputs[1][0] = \n",
            " (0, 2667, 5197, 4890, 3434, 5226, 4698, 6019)\n",
            "outputs[1][1] = \n",
            " (0, 5949, 503, 5480, 1294, 929, 2651, 3329)\n",
            "outputs[1][2] = \n",
            " (0, 3975, 3329, 6592, 3071, 4657, 6592, 1558)\n",
            "next_beams =  [[[(0, 2667, 5197, 4890, 3434, 775, 4698, 6019, 4734), -4.835069185588509, 0], [(0, 2667, 5197, 4890, 3434, 775, 4698, 6019, 23), -0.9443421200849116, 0], [(0, 2667, 5197, 4890, 3434, 5226, 4698, 6019, 503), -7.452121178153902, 1], [(0, 2667, 5197, 4890, 3434, 5226, 4698, 6019, 23), -3.2342246347106993, 1]], [[(0, 5949, 503, 5480, 1294, 929, 2651, 7356, 7210), -6.574480473995209, 0], [(0, 5949, 503, 5480, 1294, 929, 2651, 7356, 190), -6.123410642147064, 0], [(0, 5949, 503, 5480, 1294, 929, 2651, 3329, 190), -8.378682225942612, 1], [(0, 5949, 503, 5480, 1294, 929, 2651, 3329, 6592), -7.15302374958992, 1]], [[(0, 3975, 3329, 6592, 1408, 4657, 6592, 1408, 19), -14.21376283839345, 0], [(0, 3975, 3329, 6592, 1408, 4657, 6592, 1408, 4657), -11.410298939794302, 0], [(0, 3975, 3329, 6592, 3071, 4657, 6592, 1558, 1408), -12.828163020312786, 1], [(0, 3975, 3329, 6592, 3071, 4657, 6592, 1558, 4657), -12.758271090686321, 1]]]\n",
            "next_beams[0] after sort:  [[(0, 2667, 5197, 4890, 3434, 775, 4698, 6019, 23), -0.9443421200849116, 0], [(0, 2667, 5197, 4890, 3434, 5226, 4698, 6019, 23), -3.2342246347106993, 1], [(0, 2667, 5197, 4890, 3434, 775, 4698, 6019, 4734), -4.835069185588509, 0], [(0, 2667, 5197, 4890, 3434, 5226, 4698, 6019, 503), -7.452121178153902, 1]]\n",
            "next_beams[1] after sort:  [[(0, 5949, 503, 5480, 1294, 929, 2651, 7356, 190), -6.123410642147064, 0], [(0, 5949, 503, 5480, 1294, 929, 2651, 7356, 7210), -6.574480473995209, 0], [(0, 5949, 503, 5480, 1294, 929, 2651, 3329, 6592), -7.15302374958992, 1], [(0, 5949, 503, 5480, 1294, 929, 2651, 3329, 190), -8.378682225942612, 1]]\n",
            "next_beams[2] after sort:  [[(0, 3975, 3329, 6592, 1408, 4657, 6592, 1408, 4657), -11.410298939794302, 0], [(0, 3975, 3329, 6592, 3071, 4657, 6592, 1558, 4657), -12.758271090686321, 1], [(0, 3975, 3329, 6592, 3071, 4657, 6592, 1558, 1408), -12.828163020312786, 1], [(0, 3975, 3329, 6592, 1408, 4657, 6592, 1408, 19), -14.21376283839345, 0]]\n",
            "outputs[0][0] = \n",
            " (0, 2667, 5197, 4890, 3434, 775, 4698, 6019, 23)\n",
            "outputs[0][1] = \n",
            " (0, 5949, 503, 5480, 1294, 929, 2651, 7356, 190)\n",
            "outputs[0][2] = \n",
            " (0, 3975, 3329, 6592, 1408, 4657, 6592, 1408, 4657)\n",
            "outputs[1][0] = \n",
            " (0, 2667, 5197, 4890, 3434, 5226, 4698, 6019, 23)\n",
            "outputs[1][1] = \n",
            " (0, 5949, 503, 5480, 1294, 929, 2651, 7356, 7210)\n",
            "outputs[1][2] = \n",
            " (0, 3975, 3329, 6592, 3071, 4657, 6592, 1558, 4657)\n",
            "next_beams =  [[[(0, 2667, 5197, 4890, 3434, 775, 4698, 6019, 23, 2667), -6.62343834200874, 0], [(0, 2667, 5197, 4890, 3434, 775, 4698, 6019, 23, 1), -0.9500640956684947, 0], [(0, 2667, 5197, 4890, 3434, 5226, 4698, 6019, 23, 2667), -8.582997637335211, 1], [(0, 2667, 5197, 4890, 3434, 5226, 4698, 6019, 23, 1), -3.2413429748266935, 1]], [[(0, 5949, 503, 5480, 1294, 929, 2651, 7356, 190, 39), -7.905634105205536, 0], [(0, 5949, 503, 5480, 1294, 929, 2651, 7356, 190, 123), -7.0858651995658875, 0], [(0, 5949, 503, 5480, 1294, 929, 2651, 7356, 7210, 4698), -11.283234059810638, 1], [(0, 5949, 503, 5480, 1294, 929, 2651, 7356, 7210, 2020), -6.642793163657188, 1]], [[(0, 3975, 3329, 6592, 1408, 4657, 6592, 1408, 4657, 5745), -15.707838173955679, 0], [(0, 3975, 3329, 6592, 1408, 4657, 6592, 1408, 4657, 6592), -13.85366689786315, 0], [(0, 3975, 3329, 6592, 3071, 4657, 6592, 1558, 4657, 3782), -16.908284537494183, 1], [(0, 3975, 3329, 6592, 3071, 4657, 6592, 1558, 4657, 6592), -15.580262057483196, 1]]]\n",
            "next_beams[0] after sort:  [[(0, 2667, 5197, 4890, 3434, 775, 4698, 6019, 23, 1), -0.9500640956684947, 0], [(0, 2667, 5197, 4890, 3434, 5226, 4698, 6019, 23, 1), -3.2413429748266935, 1], [(0, 2667, 5197, 4890, 3434, 775, 4698, 6019, 23, 2667), -6.62343834200874, 0], [(0, 2667, 5197, 4890, 3434, 5226, 4698, 6019, 23, 2667), -8.582997637335211, 1]]\n",
            "next_beams[1] after sort:  [[(0, 5949, 503, 5480, 1294, 929, 2651, 7356, 7210, 2020), -6.642793163657188, 1], [(0, 5949, 503, 5480, 1294, 929, 2651, 7356, 190, 123), -7.0858651995658875, 0], [(0, 5949, 503, 5480, 1294, 929, 2651, 7356, 190, 39), -7.905634105205536, 0], [(0, 5949, 503, 5480, 1294, 929, 2651, 7356, 7210, 4698), -11.283234059810638, 1]]\n",
            "next_beams[2] after sort:  [[(0, 3975, 3329, 6592, 1408, 4657, 6592, 1408, 4657, 6592), -13.85366689786315, 0], [(0, 3975, 3329, 6592, 3071, 4657, 6592, 1558, 4657, 6592), -15.580262057483196, 1], [(0, 3975, 3329, 6592, 1408, 4657, 6592, 1408, 4657, 5745), -15.707838173955679, 0], [(0, 3975, 3329, 6592, 3071, 4657, 6592, 1558, 4657, 3782), -16.908284537494183, 1]]\n",
            "outputs[0][1] = \n",
            " (0, 5949, 503, 5480, 1294, 929, 2651, 7356, 7210, 2020)\n",
            "outputs[0][2] = \n",
            " (0, 3975, 3329, 6592, 1408, 4657, 6592, 1408, 4657, 6592)\n",
            "outputs[1][1] = \n",
            " (0, 5949, 503, 5480, 1294, 929, 2651, 7356, 190, 123)\n",
            "outputs[1][2] = \n",
            " (0, 3975, 3329, 6592, 3071, 4657, 6592, 1558, 4657, 6592)\n",
            "next_beams =  [[[(0, 2667, 5197, 4890, 3434, 775, 4698, 6019, 23, 1), -0.9500640956684947, 0], [(0, 2667, 5197, 4890, 3434, 5226, 4698, 6019, 23, 1), -3.2413429748266935, 1]], [[(0, 5949, 503, 5480, 1294, 929, 2651, 7356, 7210, 2020, 4657), -7.771567329764366, 0], [(0, 5949, 503, 5480, 1294, 929, 2651, 7356, 7210, 2020, 23), -7.749454483389854, 0], [(0, 5949, 503, 5480, 1294, 929, 2651, 7356, 190, 123, 4332), -11.548136413097382, 1], [(0, 5949, 503, 5480, 1294, 929, 2651, 7356, 190, 123, 21), -7.13672911003232, 1]], [[(0, 3975, 3329, 6592, 1408, 4657, 6592, 1408, 4657, 6592, 1408), -17.291812535375357, 0], [(0, 3975, 3329, 6592, 1408, 4657, 6592, 1408, 4657, 6592, 1558), -17.278244610875845, 0], [(0, 3975, 3329, 6592, 3071, 4657, 6592, 1558, 4657, 6592, 1408), -18.981370083987713, 1], [(0, 3975, 3329, 6592, 3071, 4657, 6592, 1558, 4657, 6592, 1558), -18.905781857669353, 1]]]\n",
            "next_beams[0] after sort:  [[(0, 2667, 5197, 4890, 3434, 775, 4698, 6019, 23, 1), -0.9500640956684947, 0], [(0, 2667, 5197, 4890, 3434, 5226, 4698, 6019, 23, 1), -3.2413429748266935, 1]]\n",
            "next_beams[1] after sort:  [[(0, 5949, 503, 5480, 1294, 929, 2651, 7356, 190, 123, 21), -7.13672911003232, 1], [(0, 5949, 503, 5480, 1294, 929, 2651, 7356, 7210, 2020, 23), -7.749454483389854, 0], [(0, 5949, 503, 5480, 1294, 929, 2651, 7356, 7210, 2020, 4657), -7.771567329764366, 0], [(0, 5949, 503, 5480, 1294, 929, 2651, 7356, 190, 123, 4332), -11.548136413097382, 1]]\n",
            "next_beams[2] after sort:  [[(0, 3975, 3329, 6592, 1408, 4657, 6592, 1408, 4657, 6592, 1558), -17.278244610875845, 0], [(0, 3975, 3329, 6592, 1408, 4657, 6592, 1408, 4657, 6592, 1408), -17.291812535375357, 0], [(0, 3975, 3329, 6592, 3071, 4657, 6592, 1558, 4657, 6592, 1558), -18.905781857669353, 1], [(0, 3975, 3329, 6592, 3071, 4657, 6592, 1558, 4657, 6592, 1408), -18.981370083987713, 1]]\n",
            "outputs[0][1] = \n",
            " (0, 5949, 503, 5480, 1294, 929, 2651, 7356, 190, 123, 21)\n",
            "outputs[0][2] = \n",
            " (0, 3975, 3329, 6592, 1408, 4657, 6592, 1408, 4657, 6592, 1558)\n",
            "outputs[1][1] = \n",
            " (0, 5949, 503, 5480, 1294, 929, 2651, 7356, 7210, 2020, 23)\n",
            "outputs[1][2] = \n",
            " (0, 3975, 3329, 6592, 1408, 4657, 6592, 1408, 4657, 6592, 1408)\n",
            "next_beams =  [[[(0, 2667, 5197, 4890, 3434, 775, 4698, 6019, 23, 1), -0.9500640956684947, 0], [(0, 2667, 5197, 4890, 3434, 5226, 4698, 6019, 23, 1), -3.2413429748266935, 1]], [[(0, 5949, 503, 5480, 1294, 929, 2651, 7356, 190, 123, 21, 3198), -11.195355284959078, 0], [(0, 5949, 503, 5480, 1294, 929, 2651, 7356, 190, 123, 21, 4331), -7.168322555720806, 0], [(0, 5949, 503, 5480, 1294, 929, 2651, 7356, 7210, 2020, 23, 6592), -11.48971937596798, 1], [(0, 5949, 503, 5480, 1294, 929, 2651, 7356, 7210, 2020, 23, 1), -7.810814846307039, 1]], [[(0, 3975, 3329, 6592, 1408, 4657, 6592, 1408, 4657, 6592, 1558, 4657), -18.662651535123587, 0], [(0, 3975, 3329, 6592, 1408, 4657, 6592, 1408, 4657, 6592, 1558, 1408), -18.658730026334524, 0], [(0, 3975, 3329, 6592, 1408, 4657, 6592, 1408, 4657, 6592, 1408, 19), -20.078449364751577, 1], [(0, 3975, 3329, 6592, 1408, 4657, 6592, 1408, 4657, 6592, 1408, 4657), -17.39847205206752, 1]]]\n",
            "next_beams[0] after sort:  [[(0, 2667, 5197, 4890, 3434, 775, 4698, 6019, 23, 1), -0.9500640956684947, 0], [(0, 2667, 5197, 4890, 3434, 5226, 4698, 6019, 23, 1), -3.2413429748266935, 1]]\n",
            "next_beams[1] after sort:  [[(0, 5949, 503, 5480, 1294, 929, 2651, 7356, 190, 123, 21, 4331), -7.168322555720806, 0], [(0, 5949, 503, 5480, 1294, 929, 2651, 7356, 7210, 2020, 23, 1), -7.810814846307039, 1], [(0, 5949, 503, 5480, 1294, 929, 2651, 7356, 190, 123, 21, 3198), -11.195355284959078, 0], [(0, 5949, 503, 5480, 1294, 929, 2651, 7356, 7210, 2020, 23, 6592), -11.48971937596798, 1]]\n",
            "next_beams[2] after sort:  [[(0, 3975, 3329, 6592, 1408, 4657, 6592, 1408, 4657, 6592, 1408, 4657), -17.39847205206752, 1], [(0, 3975, 3329, 6592, 1408, 4657, 6592, 1408, 4657, 6592, 1558, 1408), -18.658730026334524, 0], [(0, 3975, 3329, 6592, 1408, 4657, 6592, 1408, 4657, 6592, 1558, 4657), -18.662651535123587, 0], [(0, 3975, 3329, 6592, 1408, 4657, 6592, 1408, 4657, 6592, 1408, 19), -20.078449364751577, 1]]\n",
            "outputs[0][1] = \n",
            " (0, 5949, 503, 5480, 1294, 929, 2651, 7356, 190, 123, 21, 4331)\n",
            "outputs[0][2] = \n",
            " (0, 3975, 3329, 6592, 1408, 4657, 6592, 1408, 4657, 6592, 1408, 4657)\n",
            "outputs[1][2] = \n",
            " (0, 3975, 3329, 6592, 1408, 4657, 6592, 1408, 4657, 6592, 1558, 1408)\n",
            "next_beams =  [[[(0, 2667, 5197, 4890, 3434, 775, 4698, 6019, 23, 1), -0.9500640956684947, 0], [(0, 2667, 5197, 4890, 3434, 5226, 4698, 6019, 23, 1), -3.2413429748266935, 1]], [[(0, 5949, 503, 5480, 1294, 929, 2651, 7356, 190, 123, 21, 4331, 2106), -9.89247965067625, 0], [(0, 5949, 503, 5480, 1294, 929, 2651, 7356, 190, 123, 21, 4331, 7209), -7.293002776801586, 0], [(0, 5949, 503, 5480, 1294, 929, 2651, 7356, 7210, 2020, 23, 1), -7.810814846307039, 1]], [[(0, 3975, 3329, 6592, 1408, 4657, 6592, 1408, 4657, 6592, 1408, 4657, 3782), -21.768066626042128, 0], [(0, 3975, 3329, 6592, 1408, 4657, 6592, 1408, 4657, 6592, 1408, 4657, 6592), -19.6248373799026, 0], [(0, 3975, 3329, 6592, 1408, 4657, 6592, 1408, 4657, 6592, 1558, 1408, 4657), -20.166906472295523, 1], [(0, 3975, 3329, 6592, 1408, 4657, 6592, 1408, 4657, 6592, 1558, 1408, 19), -19.213607903569937, 1]]]\n",
            "next_beams[0] after sort:  [[(0, 2667, 5197, 4890, 3434, 775, 4698, 6019, 23, 1), -0.9500640956684947, 0], [(0, 2667, 5197, 4890, 3434, 5226, 4698, 6019, 23, 1), -3.2413429748266935, 1]]\n",
            "next_beams[1] after sort:  [[(0, 5949, 503, 5480, 1294, 929, 2651, 7356, 190, 123, 21, 4331, 7209), -7.293002776801586, 0], [(0, 5949, 503, 5480, 1294, 929, 2651, 7356, 7210, 2020, 23, 1), -7.810814846307039, 1], [(0, 5949, 503, 5480, 1294, 929, 2651, 7356, 190, 123, 21, 4331, 2106), -9.89247965067625, 0]]\n",
            "next_beams[2] after sort:  [[(0, 3975, 3329, 6592, 1408, 4657, 6592, 1408, 4657, 6592, 1558, 1408, 19), -19.213607903569937, 1], [(0, 3975, 3329, 6592, 1408, 4657, 6592, 1408, 4657, 6592, 1408, 4657, 6592), -19.6248373799026, 0], [(0, 3975, 3329, 6592, 1408, 4657, 6592, 1408, 4657, 6592, 1558, 1408, 4657), -20.166906472295523, 1], [(0, 3975, 3329, 6592, 1408, 4657, 6592, 1408, 4657, 6592, 1408, 4657, 3782), -21.768066626042128, 0]]\n",
            "outputs[0][1] = \n",
            " (0, 5949, 503, 5480, 1294, 929, 2651, 7356, 190, 123, 21, 4331, 7209)\n",
            "outputs[0][2] = \n",
            " (0, 3975, 3329, 6592, 1408, 4657, 6592, 1408, 4657, 6592, 1558, 1408, 19)\n",
            "outputs[1][2] = \n",
            " (0, 3975, 3329, 6592, 1408, 4657, 6592, 1408, 4657, 6592, 1408, 4657, 6592)\n",
            "next_beams =  [[[(0, 2667, 5197, 4890, 3434, 775, 4698, 6019, 23, 1), -0.9500640956684947, 0], [(0, 2667, 5197, 4890, 3434, 5226, 4698, 6019, 23, 1), -3.2413429748266935, 1]], [[(0, 5949, 503, 5480, 1294, 929, 2651, 7356, 190, 123, 21, 4331, 7209, 4657), -8.745384864509106, 0], [(0, 5949, 503, 5480, 1294, 929, 2651, 7356, 190, 123, 21, 4331, 7209, 23), -8.470763854682446, 0], [(0, 5949, 503, 5480, 1294, 929, 2651, 7356, 7210, 2020, 23, 1), -7.810814846307039, 1]], [[(0, 3975, 3329, 6592, 1408, 4657, 6592, 1408, 4657, 6592, 1558, 1408, 19, 6592), -21.915552016347647, 0], [(0, 3975, 3329, 6592, 1408, 4657, 6592, 1408, 4657, 6592, 1558, 1408, 19, 6622), -21.298438902944326, 0], [(0, 3975, 3329, 6592, 1408, 4657, 6592, 1408, 4657, 6592, 1408, 4657, 6592, 3191), -23.0003895573318, 1], [(0, 3975, 3329, 6592, 1408, 4657, 6592, 1408, 4657, 6592, 1408, 4657, 6592, 1558), -22.91010568663478, 1]]]\n",
            "next_beams[0] after sort:  [[(0, 2667, 5197, 4890, 3434, 775, 4698, 6019, 23, 1), -0.9500640956684947, 0], [(0, 2667, 5197, 4890, 3434, 5226, 4698, 6019, 23, 1), -3.2413429748266935, 1]]\n",
            "next_beams[1] after sort:  [[(0, 5949, 503, 5480, 1294, 929, 2651, 7356, 7210, 2020, 23, 1), -7.810814846307039, 1], [(0, 5949, 503, 5480, 1294, 929, 2651, 7356, 190, 123, 21, 4331, 7209, 23), -8.470763854682446, 0], [(0, 5949, 503, 5480, 1294, 929, 2651, 7356, 190, 123, 21, 4331, 7209, 4657), -8.745384864509106, 0]]\n",
            "next_beams[2] after sort:  [[(0, 3975, 3329, 6592, 1408, 4657, 6592, 1408, 4657, 6592, 1558, 1408, 19, 6622), -21.298438902944326, 0], [(0, 3975, 3329, 6592, 1408, 4657, 6592, 1408, 4657, 6592, 1558, 1408, 19, 6592), -21.915552016347647, 0], [(0, 3975, 3329, 6592, 1408, 4657, 6592, 1408, 4657, 6592, 1408, 4657, 6592, 1558), -22.91010568663478, 1], [(0, 3975, 3329, 6592, 1408, 4657, 6592, 1408, 4657, 6592, 1408, 4657, 6592, 3191), -23.0003895573318, 1]]\n",
            "outputs[0][2] = \n",
            " (0, 3975, 3329, 6592, 1408, 4657, 6592, 1408, 4657, 6592, 1558, 1408, 19, 6622)\n",
            "outputs[1][1] = \n",
            " (0, 5949, 503, 5480, 1294, 929, 2651, 7356, 190, 123, 21, 4331, 7209, 23)\n",
            "outputs[1][2] = \n",
            " (0, 3975, 3329, 6592, 1408, 4657, 6592, 1408, 4657, 6592, 1558, 1408, 19, 6592)\n",
            "next_beams =  [[[(0, 2667, 5197, 4890, 3434, 775, 4698, 6019, 23, 1), -0.9500640956684947, 0], [(0, 2667, 5197, 4890, 3434, 5226, 4698, 6019, 23, 1), -3.2413429748266935, 1]], [[(0, 5949, 503, 5480, 1294, 929, 2651, 7356, 7210, 2020, 23, 1), -7.810814846307039, 0], [(0, 5949, 503, 5480, 1294, 929, 2651, 7356, 190, 123, 21, 4331, 7209, 23, 6592), -13.069003276526928, 1], [(0, 5949, 503, 5480, 1294, 929, 2651, 7356, 190, 123, 21, 4331, 7209, 23, 1), -8.504465412348509, 1]], [[(0, 3975, 3329, 6592, 1408, 4657, 6592, 1408, 4657, 6592, 1558, 1408, 19, 6622, 575), -23.36375915631652, 0], [(0, 3975, 3329, 6592, 1408, 4657, 6592, 1408, 4657, 6592, 1558, 1408, 19, 6622, 3191), -22.834365006536245, 0], [(0, 3975, 3329, 6592, 1408, 4657, 6592, 1408, 4657, 6592, 1558, 1408, 19, 6592, 575), -25.510767098516226, 1], [(0, 3975, 3329, 6592, 1408, 4657, 6592, 1408, 4657, 6592, 1558, 1408, 19, 6592, 3191), -24.155632611364126, 1]]]\n",
            "next_beams[0] after sort:  [[(0, 2667, 5197, 4890, 3434, 775, 4698, 6019, 23, 1), -0.9500640956684947, 0], [(0, 2667, 5197, 4890, 3434, 5226, 4698, 6019, 23, 1), -3.2413429748266935, 1]]\n",
            "next_beams[1] after sort:  [[(0, 5949, 503, 5480, 1294, 929, 2651, 7356, 7210, 2020, 23, 1), -7.810814846307039, 0], [(0, 5949, 503, 5480, 1294, 929, 2651, 7356, 190, 123, 21, 4331, 7209, 23, 1), -8.504465412348509, 1], [(0, 5949, 503, 5480, 1294, 929, 2651, 7356, 190, 123, 21, 4331, 7209, 23, 6592), -13.069003276526928, 1]]\n",
            "next_beams[2] after sort:  [[(0, 3975, 3329, 6592, 1408, 4657, 6592, 1408, 4657, 6592, 1558, 1408, 19, 6622, 3191), -22.834365006536245, 0], [(0, 3975, 3329, 6592, 1408, 4657, 6592, 1408, 4657, 6592, 1558, 1408, 19, 6622, 575), -23.36375915631652, 0], [(0, 3975, 3329, 6592, 1408, 4657, 6592, 1408, 4657, 6592, 1558, 1408, 19, 6592, 3191), -24.155632611364126, 1], [(0, 3975, 3329, 6592, 1408, 4657, 6592, 1408, 4657, 6592, 1558, 1408, 19, 6592, 575), -25.510767098516226, 1]]\n",
            "outputs[0][2] = \n",
            " (0, 3975, 3329, 6592, 1408, 4657, 6592, 1408, 4657, 6592, 1558, 1408, 19, 6622, 3191)\n",
            "outputs[1][2] = \n",
            " (0, 3975, 3329, 6592, 1408, 4657, 6592, 1408, 4657, 6592, 1558, 1408, 19, 6622, 575)\n",
            "next_beams =  [[[(0, 2667, 5197, 4890, 3434, 775, 4698, 6019, 23, 1), -0.9500640956684947, 0], [(0, 2667, 5197, 4890, 3434, 5226, 4698, 6019, 23, 1), -3.2413429748266935, 1]], [[(0, 5949, 503, 5480, 1294, 929, 2651, 7356, 7210, 2020, 23, 1), -7.810814846307039, 0], [(0, 5949, 503, 5480, 1294, 929, 2651, 7356, 190, 123, 21, 4331, 7209, 23, 1), -8.504465412348509, 1]], [[(0, 3975, 3329, 6592, 1408, 4657, 6592, 1408, 4657, 6592, 1558, 1408, 19, 6622, 3191, 4663), -24.616750355809927, 0], [(0, 3975, 3329, 6592, 1408, 4657, 6592, 1408, 4657, 6592, 1558, 1408, 19, 6622, 3191, 3434), -23.777650948613882, 0], [(0, 3975, 3329, 6592, 1408, 4657, 6592, 1408, 4657, 6592, 1558, 1408, 19, 6622, 575, 2515), -25.060354825109243, 1], [(0, 3975, 3329, 6592, 1408, 4657, 6592, 1408, 4657, 6592, 1558, 1408, 19, 6622, 575, 3434), -24.180569287389517, 1]]]\n",
            "next_beams[0] after sort:  [[(0, 2667, 5197, 4890, 3434, 775, 4698, 6019, 23, 1), -0.9500640956684947, 0], [(0, 2667, 5197, 4890, 3434, 5226, 4698, 6019, 23, 1), -3.2413429748266935, 1]]\n",
            "next_beams[1] after sort:  [[(0, 5949, 503, 5480, 1294, 929, 2651, 7356, 7210, 2020, 23, 1), -7.810814846307039, 0], [(0, 5949, 503, 5480, 1294, 929, 2651, 7356, 190, 123, 21, 4331, 7209, 23, 1), -8.504465412348509, 1]]\n",
            "next_beams[2] after sort:  [[(0, 3975, 3329, 6592, 1408, 4657, 6592, 1408, 4657, 6592, 1558, 1408, 19, 6622, 3191, 3434), -23.777650948613882, 0], [(0, 3975, 3329, 6592, 1408, 4657, 6592, 1408, 4657, 6592, 1558, 1408, 19, 6622, 575, 3434), -24.180569287389517, 1], [(0, 3975, 3329, 6592, 1408, 4657, 6592, 1408, 4657, 6592, 1558, 1408, 19, 6622, 3191, 4663), -24.616750355809927, 0], [(0, 3975, 3329, 6592, 1408, 4657, 6592, 1408, 4657, 6592, 1558, 1408, 19, 6622, 575, 2515), -25.060354825109243, 1]]\n",
            "outputs[0][2] = \n",
            " (0, 3975, 3329, 6592, 1408, 4657, 6592, 1408, 4657, 6592, 1558, 1408, 19, 6622, 3191, 3434)\n",
            "outputs[1][2] = \n",
            " (0, 3975, 3329, 6592, 1408, 4657, 6592, 1408, 4657, 6592, 1558, 1408, 19, 6622, 575, 3434)\n",
            "next_beams =  [[[(0, 2667, 5197, 4890, 3434, 775, 4698, 6019, 23, 1), -0.9500640956684947, 0], [(0, 2667, 5197, 4890, 3434, 5226, 4698, 6019, 23, 1), -3.2413429748266935, 1]], [[(0, 5949, 503, 5480, 1294, 929, 2651, 7356, 7210, 2020, 23, 1), -7.810814846307039, 0], [(0, 5949, 503, 5480, 1294, 929, 2651, 7356, 190, 123, 21, 4331, 7209, 23, 1), -8.504465412348509, 1]], [[(0, 3975, 3329, 6592, 1408, 4657, 6592, 1408, 4657, 6592, 1558, 1408, 19, 6622, 3191, 3434, 190), -25.636113043874502, 0], [(0, 3975, 3329, 6592, 1408, 4657, 6592, 1408, 4657, 6592, 1558, 1408, 19, 6622, 3191, 3434, 3975), -25.342103835195303, 0], [(0, 3975, 3329, 6592, 1408, 4657, 6592, 1408, 4657, 6592, 1558, 1408, 19, 6622, 575, 3434, 190), -26.223961468786, 1], [(0, 3975, 3329, 6592, 1408, 4657, 6592, 1408, 4657, 6592, 1558, 1408, 19, 6622, 575, 3434, 3975), -25.855555292218924, 1]]]\n",
            "next_beams[0] after sort:  [[(0, 2667, 5197, 4890, 3434, 775, 4698, 6019, 23, 1), -0.9500640956684947, 0], [(0, 2667, 5197, 4890, 3434, 5226, 4698, 6019, 23, 1), -3.2413429748266935, 1]]\n",
            "next_beams[1] after sort:  [[(0, 5949, 503, 5480, 1294, 929, 2651, 7356, 7210, 2020, 23, 1), -7.810814846307039, 0], [(0, 5949, 503, 5480, 1294, 929, 2651, 7356, 190, 123, 21, 4331, 7209, 23, 1), -8.504465412348509, 1]]\n",
            "next_beams[2] after sort:  [[(0, 3975, 3329, 6592, 1408, 4657, 6592, 1408, 4657, 6592, 1558, 1408, 19, 6622, 3191, 3434, 3975), -25.342103835195303, 0], [(0, 3975, 3329, 6592, 1408, 4657, 6592, 1408, 4657, 6592, 1558, 1408, 19, 6622, 3191, 3434, 190), -25.636113043874502, 0], [(0, 3975, 3329, 6592, 1408, 4657, 6592, 1408, 4657, 6592, 1558, 1408, 19, 6622, 575, 3434, 3975), -25.855555292218924, 1], [(0, 3975, 3329, 6592, 1408, 4657, 6592, 1408, 4657, 6592, 1558, 1408, 19, 6622, 575, 3434, 190), -26.223961468786, 1]]\n",
            "outputs[0][2] = \n",
            " (0, 3975, 3329, 6592, 1408, 4657, 6592, 1408, 4657, 6592, 1558, 1408, 19, 6622, 3191, 3434, 3975)\n",
            "outputs[1][2] = \n",
            " (0, 3975, 3329, 6592, 1408, 4657, 6592, 1408, 4657, 6592, 1558, 1408, 19, 6622, 3191, 3434, 190)\n",
            "next_beams =  [[[(0, 2667, 5197, 4890, 3434, 775, 4698, 6019, 23, 1), -0.9500640956684947, 0], [(0, 2667, 5197, 4890, 3434, 5226, 4698, 6019, 23, 1), -3.2413429748266935, 1]], [[(0, 5949, 503, 5480, 1294, 929, 2651, 7356, 7210, 2020, 23, 1), -7.810814846307039, 0], [(0, 5949, 503, 5480, 1294, 929, 2651, 7356, 190, 123, 21, 4331, 7209, 23, 1), -8.504465412348509, 1]], [[(0, 3975, 3329, 6592, 1408, 4657, 6592, 1408, 4657, 6592, 1558, 1408, 19, 6622, 3191, 3434, 3975, 3578), -28.566120263189077, 0], [(0, 3975, 3329, 6592, 1408, 4657, 6592, 1408, 4657, 6592, 1558, 1408, 19, 6622, 3191, 3434, 3975, 3329), -25.813779558986425, 0], [(0, 3975, 3329, 6592, 1408, 4657, 6592, 1408, 4657, 6592, 1558, 1408, 19, 6622, 3191, 3434, 190, 39), -27.804531689733267, 1], [(0, 3975, 3329, 6592, 1408, 4657, 6592, 1408, 4657, 6592, 1558, 1408, 19, 6622, 3191, 3434, 190, 123), -27.40915071591735, 1]]]\n",
            "next_beams[0] after sort:  [[(0, 2667, 5197, 4890, 3434, 775, 4698, 6019, 23, 1), -0.9500640956684947, 0], [(0, 2667, 5197, 4890, 3434, 5226, 4698, 6019, 23, 1), -3.2413429748266935, 1]]\n",
            "next_beams[1] after sort:  [[(0, 5949, 503, 5480, 1294, 929, 2651, 7356, 7210, 2020, 23, 1), -7.810814846307039, 0], [(0, 5949, 503, 5480, 1294, 929, 2651, 7356, 190, 123, 21, 4331, 7209, 23, 1), -8.504465412348509, 1]]\n",
            "next_beams[2] after sort:  [[(0, 3975, 3329, 6592, 1408, 4657, 6592, 1408, 4657, 6592, 1558, 1408, 19, 6622, 3191, 3434, 3975, 3329), -25.813779558986425, 0], [(0, 3975, 3329, 6592, 1408, 4657, 6592, 1408, 4657, 6592, 1558, 1408, 19, 6622, 3191, 3434, 190, 123), -27.40915071591735, 1], [(0, 3975, 3329, 6592, 1408, 4657, 6592, 1408, 4657, 6592, 1558, 1408, 19, 6622, 3191, 3434, 190, 39), -27.804531689733267, 1], [(0, 3975, 3329, 6592, 1408, 4657, 6592, 1408, 4657, 6592, 1558, 1408, 19, 6622, 3191, 3434, 3975, 3578), -28.566120263189077, 0]]\n",
            "outputs[0][2] = \n",
            " (0, 3975, 3329, 6592, 1408, 4657, 6592, 1408, 4657, 6592, 1558, 1408, 19, 6622, 3191, 3434, 3975, 3329)\n",
            "outputs[1][2] = \n",
            " (0, 3975, 3329, 6592, 1408, 4657, 6592, 1408, 4657, 6592, 1558, 1408, 19, 6622, 3191, 3434, 190, 123)\n",
            "next_beams =  [[[(0, 2667, 5197, 4890, 3434, 775, 4698, 6019, 23, 1), -0.9500640956684947, 0], [(0, 2667, 5197, 4890, 3434, 5226, 4698, 6019, 23, 1), -3.2413429748266935, 1]], [[(0, 5949, 503, 5480, 1294, 929, 2651, 7356, 7210, 2020, 23, 1), -7.810814846307039, 0], [(0, 5949, 503, 5480, 1294, 929, 2651, 7356, 190, 123, 21, 4331, 7209, 23, 1), -8.504465412348509, 1]], [[(0, 3975, 3329, 6592, 1408, 4657, 6592, 1408, 4657, 6592, 1558, 1408, 19, 6622, 3191, 3434, 3975, 3329, 190), -27.78307780250907, 0], [(0, 3975, 3329, 6592, 1408, 4657, 6592, 1408, 4657, 6592, 1558, 1408, 19, 6622, 3191, 3434, 3975, 3329, 6592), -27.213231172412634, 0], [(0, 3975, 3329, 6592, 1408, 4657, 6592, 1408, 4657, 6592, 1558, 1408, 19, 6622, 3191, 3434, 190, 123, 3699), -33.49472915753722, 1], [(0, 3975, 3329, 6592, 1408, 4657, 6592, 1408, 4657, 6592, 1558, 1408, 19, 6622, 3191, 3434, 190, 123, 21), -27.423718278296292, 1]]]\n",
            "next_beams[0] after sort:  [[(0, 2667, 5197, 4890, 3434, 775, 4698, 6019, 23, 1), -0.9500640956684947, 0], [(0, 2667, 5197, 4890, 3434, 5226, 4698, 6019, 23, 1), -3.2413429748266935, 1]]\n",
            "next_beams[1] after sort:  [[(0, 5949, 503, 5480, 1294, 929, 2651, 7356, 7210, 2020, 23, 1), -7.810814846307039, 0], [(0, 5949, 503, 5480, 1294, 929, 2651, 7356, 190, 123, 21, 4331, 7209, 23, 1), -8.504465412348509, 1]]\n",
            "next_beams[2] after sort:  [[(0, 3975, 3329, 6592, 1408, 4657, 6592, 1408, 4657, 6592, 1558, 1408, 19, 6622, 3191, 3434, 3975, 3329, 6592), -27.213231172412634, 0], [(0, 3975, 3329, 6592, 1408, 4657, 6592, 1408, 4657, 6592, 1558, 1408, 19, 6622, 3191, 3434, 190, 123, 21), -27.423718278296292, 1], [(0, 3975, 3329, 6592, 1408, 4657, 6592, 1408, 4657, 6592, 1558, 1408, 19, 6622, 3191, 3434, 3975, 3329, 190), -27.78307780250907, 0], [(0, 3975, 3329, 6592, 1408, 4657, 6592, 1408, 4657, 6592, 1558, 1408, 19, 6622, 3191, 3434, 190, 123, 3699), -33.49472915753722, 1]]\n",
            "outputs[0][2] = \n",
            " (0, 3975, 3329, 6592, 1408, 4657, 6592, 1408, 4657, 6592, 1558, 1408, 19, 6622, 3191, 3434, 3975, 3329, 6592)\n",
            "outputs[1][2] = \n",
            " (0, 3975, 3329, 6592, 1408, 4657, 6592, 1408, 4657, 6592, 1558, 1408, 19, 6622, 3191, 3434, 190, 123, 21)\n",
            "next_beams =  [[[(0, 2667, 5197, 4890, 3434, 775, 4698, 6019, 23, 1), -0.9500640956684947, 0], [(0, 2667, 5197, 4890, 3434, 5226, 4698, 6019, 23, 1), -3.2413429748266935, 1]], [[(0, 5949, 503, 5480, 1294, 929, 2651, 7356, 7210, 2020, 23, 1), -7.810814846307039, 0], [(0, 5949, 503, 5480, 1294, 929, 2651, 7356, 190, 123, 21, 4331, 7209, 23, 1), -8.504465412348509, 1]], [[(0, 3975, 3329, 6592, 1408, 4657, 6592, 1408, 4657, 6592, 1558, 1408, 19, 6622, 3191, 3434, 3975, 3329, 6592, 3071), -29.73589238151908, 0], [(0, 3975, 3329, 6592, 1408, 4657, 6592, 1408, 4657, 6592, 1558, 1408, 19, 6622, 3191, 3434, 3975, 3329, 6592, 1408), -28.918250288814306, 0], [(0, 3975, 3329, 6592, 1408, 4657, 6592, 1408, 4657, 6592, 1558, 1408, 19, 6622, 3191, 3434, 190, 123, 21, 3198), -31.535432641394436, 1], [(0, 3975, 3329, 6592, 1408, 4657, 6592, 1408, 4657, 6592, 1558, 1408, 19, 6622, 3191, 3434, 190, 123, 21, 4331), -27.528493200428784, 1]]]\n",
            "next_beams[0] after sort:  [[(0, 2667, 5197, 4890, 3434, 775, 4698, 6019, 23, 1), -0.9500640956684947, 0], [(0, 2667, 5197, 4890, 3434, 5226, 4698, 6019, 23, 1), -3.2413429748266935, 1]]\n",
            "next_beams[1] after sort:  [[(0, 5949, 503, 5480, 1294, 929, 2651, 7356, 7210, 2020, 23, 1), -7.810814846307039, 0], [(0, 5949, 503, 5480, 1294, 929, 2651, 7356, 190, 123, 21, 4331, 7209, 23, 1), -8.504465412348509, 1]]\n",
            "next_beams[2] after sort:  [[(0, 3975, 3329, 6592, 1408, 4657, 6592, 1408, 4657, 6592, 1558, 1408, 19, 6622, 3191, 3434, 190, 123, 21, 4331), -27.528493200428784, 1], [(0, 3975, 3329, 6592, 1408, 4657, 6592, 1408, 4657, 6592, 1558, 1408, 19, 6622, 3191, 3434, 3975, 3329, 6592, 1408), -28.918250288814306, 0], [(0, 3975, 3329, 6592, 1408, 4657, 6592, 1408, 4657, 6592, 1558, 1408, 19, 6622, 3191, 3434, 3975, 3329, 6592, 3071), -29.73589238151908, 0], [(0, 3975, 3329, 6592, 1408, 4657, 6592, 1408, 4657, 6592, 1558, 1408, 19, 6622, 3191, 3434, 190, 123, 21, 3198), -31.535432641394436, 1]]\n",
            "outputs[0][2] = \n",
            " (0, 3975, 3329, 6592, 1408, 4657, 6592, 1408, 4657, 6592, 1558, 1408, 19, 6622, 3191, 3434, 190, 123, 21, 4331)\n",
            "outputs[1][2] = \n",
            " (0, 3975, 3329, 6592, 1408, 4657, 6592, 1408, 4657, 6592, 1558, 1408, 19, 6622, 3191, 3434, 3975, 3329, 6592, 1408)\n",
            "next_beams =  [[[(0, 2667, 5197, 4890, 3434, 775, 4698, 6019, 23, 1), -0.9500640956684947, 0], [(0, 2667, 5197, 4890, 3434, 5226, 4698, 6019, 23, 1), -3.2413429748266935, 1]], [[(0, 5949, 503, 5480, 1294, 929, 2651, 7356, 7210, 2020, 23, 1), -7.810814846307039, 0], [(0, 5949, 503, 5480, 1294, 929, 2651, 7356, 190, 123, 21, 4331, 7209, 23, 1), -8.504465412348509, 1]], [[(0, 3975, 3329, 6592, 1408, 4657, 6592, 1408, 4657, 6592, 1558, 1408, 19, 6622, 3191, 3434, 190, 123, 21, 4331, 2106), -28.90857604611665, 0], [(0, 3975, 3329, 6592, 1408, 4657, 6592, 1408, 4657, 6592, 1558, 1408, 19, 6622, 3191, 3434, 190, 123, 21, 4331, 7209), -27.901295726187527, 0], [(0, 3975, 3329, 6592, 1408, 4657, 6592, 1408, 4657, 6592, 1558, 1408, 19, 6622, 3191, 3434, 3975, 3329, 6592, 1408, 19), -32.95015546306968, 1], [(0, 3975, 3329, 6592, 1408, 4657, 6592, 1408, 4657, 6592, 1558, 1408, 19, 6622, 3191, 3434, 3975, 3329, 6592, 1408, 4657), -28.962005637586117, 1]]]\n",
            "next_beams[0] after sort:  [[(0, 2667, 5197, 4890, 3434, 775, 4698, 6019, 23, 1), -0.9500640956684947, 0], [(0, 2667, 5197, 4890, 3434, 5226, 4698, 6019, 23, 1), -3.2413429748266935, 1]]\n",
            "next_beams[1] after sort:  [[(0, 5949, 503, 5480, 1294, 929, 2651, 7356, 7210, 2020, 23, 1), -7.810814846307039, 0], [(0, 5949, 503, 5480, 1294, 929, 2651, 7356, 190, 123, 21, 4331, 7209, 23, 1), -8.504465412348509, 1]]\n",
            "next_beams[2] after sort:  [[(0, 3975, 3329, 6592, 1408, 4657, 6592, 1408, 4657, 6592, 1558, 1408, 19, 6622, 3191, 3434, 190, 123, 21, 4331, 7209), -27.901295726187527, 0], [(0, 3975, 3329, 6592, 1408, 4657, 6592, 1408, 4657, 6592, 1558, 1408, 19, 6622, 3191, 3434, 190, 123, 21, 4331, 2106), -28.90857604611665, 0], [(0, 3975, 3329, 6592, 1408, 4657, 6592, 1408, 4657, 6592, 1558, 1408, 19, 6622, 3191, 3434, 3975, 3329, 6592, 1408, 4657), -28.962005637586117, 1], [(0, 3975, 3329, 6592, 1408, 4657, 6592, 1408, 4657, 6592, 1558, 1408, 19, 6622, 3191, 3434, 3975, 3329, 6592, 1408, 19), -32.95015546306968, 1]]\n",
            "outputs[0][2] = \n",
            " (0, 3975, 3329, 6592, 1408, 4657, 6592, 1408, 4657, 6592, 1558, 1408, 19, 6622, 3191, 3434, 190, 123, 21, 4331, 7209)\n",
            "outputs[1][2] = \n",
            " (0, 3975, 3329, 6592, 1408, 4657, 6592, 1408, 4657, 6592, 1558, 1408, 19, 6622, 3191, 3434, 190, 123, 21, 4331, 2106)\n",
            "next_beams =  [[[(0, 2667, 5197, 4890, 3434, 775, 4698, 6019, 23, 1), -0.9500640956684947, 0], [(0, 2667, 5197, 4890, 3434, 5226, 4698, 6019, 23, 1), -3.2413429748266935, 1]], [[(0, 5949, 503, 5480, 1294, 929, 2651, 7356, 7210, 2020, 23, 1), -7.810814846307039, 0], [(0, 5949, 503, 5480, 1294, 929, 2651, 7356, 190, 123, 21, 4331, 7209, 23, 1), -8.504465412348509, 1]], [[(0, 3975, 3329, 6592, 1408, 4657, 6592, 1408, 4657, 6592, 1558, 1408, 19, 6622, 3191, 3434, 190, 123, 21, 4331, 7209, 794), -30.51200777757913, 0], [(0, 3975, 3329, 6592, 1408, 4657, 6592, 1408, 4657, 6592, 1558, 1408, 19, 6622, 3191, 3434, 190, 123, 21, 4331, 7209, 2690), -28.113768537528813, 0], [(0, 3975, 3329, 6592, 1408, 4657, 6592, 1408, 4657, 6592, 1558, 1408, 19, 6622, 3191, 3434, 190, 123, 21, 4331, 2106, 794), -32.031481062062085, 1], [(0, 3975, 3329, 6592, 1408, 4657, 6592, 1408, 4657, 6592, 1558, 1408, 19, 6622, 3191, 3434, 190, 123, 21, 4331, 2106, 2690), -29.018304211087525, 1]]]\n",
            "next_beams[0] after sort:  [[(0, 2667, 5197, 4890, 3434, 775, 4698, 6019, 23, 1), -0.9500640956684947, 0], [(0, 2667, 5197, 4890, 3434, 5226, 4698, 6019, 23, 1), -3.2413429748266935, 1]]\n",
            "next_beams[1] after sort:  [[(0, 5949, 503, 5480, 1294, 929, 2651, 7356, 7210, 2020, 23, 1), -7.810814846307039, 0], [(0, 5949, 503, 5480, 1294, 929, 2651, 7356, 190, 123, 21, 4331, 7209, 23, 1), -8.504465412348509, 1]]\n",
            "next_beams[2] after sort:  [[(0, 3975, 3329, 6592, 1408, 4657, 6592, 1408, 4657, 6592, 1558, 1408, 19, 6622, 3191, 3434, 190, 123, 21, 4331, 7209, 2690), -28.113768537528813, 0], [(0, 3975, 3329, 6592, 1408, 4657, 6592, 1408, 4657, 6592, 1558, 1408, 19, 6622, 3191, 3434, 190, 123, 21, 4331, 2106, 2690), -29.018304211087525, 1], [(0, 3975, 3329, 6592, 1408, 4657, 6592, 1408, 4657, 6592, 1558, 1408, 19, 6622, 3191, 3434, 190, 123, 21, 4331, 7209, 794), -30.51200777757913, 0], [(0, 3975, 3329, 6592, 1408, 4657, 6592, 1408, 4657, 6592, 1558, 1408, 19, 6622, 3191, 3434, 190, 123, 21, 4331, 2106, 794), -32.031481062062085, 1]]\n",
            "outputs[0][2] = \n",
            " (0, 3975, 3329, 6592, 1408, 4657, 6592, 1408, 4657, 6592, 1558, 1408, 19, 6622, 3191, 3434, 190, 123, 21, 4331, 7209, 2690)\n",
            "outputs[1][2] = \n",
            " (0, 3975, 3329, 6592, 1408, 4657, 6592, 1408, 4657, 6592, 1558, 1408, 19, 6622, 3191, 3434, 190, 123, 21, 4331, 2106, 2690)\n",
            "next_beams =  [[[(0, 2667, 5197, 4890, 3434, 775, 4698, 6019, 23, 1), -0.9500640956684947, 0], [(0, 2667, 5197, 4890, 3434, 5226, 4698, 6019, 23, 1), -3.2413429748266935, 1]], [[(0, 5949, 503, 5480, 1294, 929, 2651, 7356, 7210, 2020, 23, 1), -7.810814846307039, 0], [(0, 5949, 503, 5480, 1294, 929, 2651, 7356, 190, 123, 21, 4331, 7209, 23, 1), -8.504465412348509, 1]], [[(0, 3975, 3329, 6592, 1408, 4657, 6592, 1408, 4657, 6592, 1558, 1408, 19, 6622, 3191, 3434, 190, 123, 21, 4331, 7209, 2690, 190), -32.51550718117505, 0], [(0, 3975, 3329, 6592, 1408, 4657, 6592, 1408, 4657, 6592, 1558, 1408, 19, 6622, 3191, 3434, 190, 123, 21, 4331, 7209, 2690, 6592), -28.699965913780034, 0], [(0, 3975, 3329, 6592, 1408, 4657, 6592, 1408, 4657, 6592, 1558, 1408, 19, 6622, 3191, 3434, 190, 123, 21, 4331, 2106, 2690, 190), -33.7866481365636, 1], [(0, 3975, 3329, 6592, 1408, 4657, 6592, 1408, 4657, 6592, 1558, 1408, 19, 6622, 3191, 3434, 190, 123, 21, 4331, 2106, 2690, 6592), -29.820925516076386, 1]]]\n",
            "next_beams[0] after sort:  [[(0, 2667, 5197, 4890, 3434, 775, 4698, 6019, 23, 1), -0.9500640956684947, 0], [(0, 2667, 5197, 4890, 3434, 5226, 4698, 6019, 23, 1), -3.2413429748266935, 1]]\n",
            "next_beams[1] after sort:  [[(0, 5949, 503, 5480, 1294, 929, 2651, 7356, 7210, 2020, 23, 1), -7.810814846307039, 0], [(0, 5949, 503, 5480, 1294, 929, 2651, 7356, 190, 123, 21, 4331, 7209, 23, 1), -8.504465412348509, 1]]\n",
            "next_beams[2] after sort:  [[(0, 3975, 3329, 6592, 1408, 4657, 6592, 1408, 4657, 6592, 1558, 1408, 19, 6622, 3191, 3434, 190, 123, 21, 4331, 7209, 2690, 6592), -28.699965913780034, 0], [(0, 3975, 3329, 6592, 1408, 4657, 6592, 1408, 4657, 6592, 1558, 1408, 19, 6622, 3191, 3434, 190, 123, 21, 4331, 2106, 2690, 6592), -29.820925516076386, 1], [(0, 3975, 3329, 6592, 1408, 4657, 6592, 1408, 4657, 6592, 1558, 1408, 19, 6622, 3191, 3434, 190, 123, 21, 4331, 7209, 2690, 190), -32.51550718117505, 0], [(0, 3975, 3329, 6592, 1408, 4657, 6592, 1408, 4657, 6592, 1558, 1408, 19, 6622, 3191, 3434, 190, 123, 21, 4331, 2106, 2690, 190), -33.7866481365636, 1]]\n",
            "outputs[0][2] = \n",
            " (0, 3975, 3329, 6592, 1408, 4657, 6592, 1408, 4657, 6592, 1558, 1408, 19, 6622, 3191, 3434, 190, 123, 21, 4331, 7209, 2690, 6592)\n",
            "outputs[1][2] = \n",
            " (0, 3975, 3329, 6592, 1408, 4657, 6592, 1408, 4657, 6592, 1558, 1408, 19, 6622, 3191, 3434, 190, 123, 21, 4331, 2106, 2690, 6592)\n",
            "next_beams =  [[[(0, 2667, 5197, 4890, 3434, 775, 4698, 6019, 23, 1), -0.9500640956684947, 0], [(0, 2667, 5197, 4890, 3434, 5226, 4698, 6019, 23, 1), -3.2413429748266935, 1]], [[(0, 5949, 503, 5480, 1294, 929, 2651, 7356, 7210, 2020, 23, 1), -7.810814846307039, 0], [(0, 5949, 503, 5480, 1294, 929, 2651, 7356, 190, 123, 21, 4331, 7209, 23, 1), -8.504465412348509, 1]], [[(0, 3975, 3329, 6592, 1408, 4657, 6592, 1408, 4657, 6592, 1558, 1408, 19, 6622, 3191, 3434, 190, 123, 21, 4331, 7209, 2690, 6592, 5216), -31.236895044334233, 0], [(0, 3975, 3329, 6592, 1408, 4657, 6592, 1408, 4657, 6592, 1558, 1408, 19, 6622, 3191, 3434, 190, 123, 21, 4331, 7209, 2690, 6592, 932), -31.204887826927006, 0], [(0, 3975, 3329, 6592, 1408, 4657, 6592, 1408, 4657, 6592, 1558, 1408, 19, 6622, 3191, 3434, 190, 123, 21, 4331, 2106, 2690, 6592, 932), -32.5057626189664, 1], [(0, 3975, 3329, 6592, 1408, 4657, 6592, 1408, 4657, 6592, 1558, 1408, 19, 6622, 3191, 3434, 190, 123, 21, 4331, 2106, 2690, 6592, 5216), -32.46643976587802, 1]]]\n",
            "next_beams[0] after sort:  [[(0, 2667, 5197, 4890, 3434, 775, 4698, 6019, 23, 1), -0.9500640956684947, 0], [(0, 2667, 5197, 4890, 3434, 5226, 4698, 6019, 23, 1), -3.2413429748266935, 1]]\n",
            "next_beams[1] after sort:  [[(0, 5949, 503, 5480, 1294, 929, 2651, 7356, 7210, 2020, 23, 1), -7.810814846307039, 0], [(0, 5949, 503, 5480, 1294, 929, 2651, 7356, 190, 123, 21, 4331, 7209, 23, 1), -8.504465412348509, 1]]\n",
            "next_beams[2] after sort:  [[(0, 3975, 3329, 6592, 1408, 4657, 6592, 1408, 4657, 6592, 1558, 1408, 19, 6622, 3191, 3434, 190, 123, 21, 4331, 7209, 2690, 6592, 932), -31.204887826927006, 0], [(0, 3975, 3329, 6592, 1408, 4657, 6592, 1408, 4657, 6592, 1558, 1408, 19, 6622, 3191, 3434, 190, 123, 21, 4331, 7209, 2690, 6592, 5216), -31.236895044334233, 0], [(0, 3975, 3329, 6592, 1408, 4657, 6592, 1408, 4657, 6592, 1558, 1408, 19, 6622, 3191, 3434, 190, 123, 21, 4331, 2106, 2690, 6592, 5216), -32.46643976587802, 1], [(0, 3975, 3329, 6592, 1408, 4657, 6592, 1408, 4657, 6592, 1558, 1408, 19, 6622, 3191, 3434, 190, 123, 21, 4331, 2106, 2690, 6592, 932), -32.5057626189664, 1]]\n",
            "outputs[0][2] = \n",
            " (0, 3975, 3329, 6592, 1408, 4657, 6592, 1408, 4657, 6592, 1558, 1408, 19, 6622, 3191, 3434, 190, 123, 21, 4331, 7209, 2690, 6592, 932)\n",
            "outputs[1][2] = \n",
            " (0, 3975, 3329, 6592, 1408, 4657, 6592, 1408, 4657, 6592, 1558, 1408, 19, 6622, 3191, 3434, 190, 123, 21, 4331, 7209, 2690, 6592, 5216)\n",
            "next_beams =  [[[(0, 2667, 5197, 4890, 3434, 775, 4698, 6019, 23, 1), -0.9500640956684947, 0], [(0, 2667, 5197, 4890, 3434, 5226, 4698, 6019, 23, 1), -3.2413429748266935, 1]], [[(0, 5949, 503, 5480, 1294, 929, 2651, 7356, 7210, 2020, 23, 1), -7.810814846307039, 0], [(0, 5949, 503, 5480, 1294, 929, 2651, 7356, 190, 123, 21, 4331, 7209, 23, 1), -8.504465412348509, 1]], [[(0, 3975, 3329, 6592, 1408, 4657, 6592, 1408, 4657, 6592, 1558, 1408, 19, 6622, 3191, 3434, 190, 123, 21, 4331, 7209, 2690, 6592, 932, 23), -32.60896547604352, 0], [(0, 3975, 3329, 6592, 1408, 4657, 6592, 1408, 4657, 6592, 1558, 1408, 19, 6622, 3191, 3434, 190, 123, 21, 4331, 7209, 2690, 6592, 932, 503), -32.068036635406315, 0], [(0, 3975, 3329, 6592, 1408, 4657, 6592, 1408, 4657, 6592, 1558, 1408, 19, 6622, 3191, 3434, 190, 123, 21, 4331, 7209, 2690, 6592, 5216, 19), -33.3993846969679, 1], [(0, 3975, 3329, 6592, 1408, 4657, 6592, 1408, 4657, 6592, 1558, 1408, 19, 6622, 3191, 3434, 190, 123, 21, 4331, 7209, 2690, 6592, 5216, 23), -31.569601346738636, 1]]]\n",
            "next_beams[0] after sort:  [[(0, 2667, 5197, 4890, 3434, 775, 4698, 6019, 23, 1), -0.9500640956684947, 0], [(0, 2667, 5197, 4890, 3434, 5226, 4698, 6019, 23, 1), -3.2413429748266935, 1]]\n",
            "next_beams[1] after sort:  [[(0, 5949, 503, 5480, 1294, 929, 2651, 7356, 7210, 2020, 23, 1), -7.810814846307039, 0], [(0, 5949, 503, 5480, 1294, 929, 2651, 7356, 190, 123, 21, 4331, 7209, 23, 1), -8.504465412348509, 1]]\n",
            "next_beams[2] after sort:  [[(0, 3975, 3329, 6592, 1408, 4657, 6592, 1408, 4657, 6592, 1558, 1408, 19, 6622, 3191, 3434, 190, 123, 21, 4331, 7209, 2690, 6592, 5216, 23), -31.569601346738636, 1], [(0, 3975, 3329, 6592, 1408, 4657, 6592, 1408, 4657, 6592, 1558, 1408, 19, 6622, 3191, 3434, 190, 123, 21, 4331, 7209, 2690, 6592, 932, 503), -32.068036635406315, 0], [(0, 3975, 3329, 6592, 1408, 4657, 6592, 1408, 4657, 6592, 1558, 1408, 19, 6622, 3191, 3434, 190, 123, 21, 4331, 7209, 2690, 6592, 932, 23), -32.60896547604352, 0], [(0, 3975, 3329, 6592, 1408, 4657, 6592, 1408, 4657, 6592, 1558, 1408, 19, 6622, 3191, 3434, 190, 123, 21, 4331, 7209, 2690, 6592, 5216, 19), -33.3993846969679, 1]]\n",
            "outputs[0][2] = \n",
            " (0, 3975, 3329, 6592, 1408, 4657, 6592, 1408, 4657, 6592, 1558, 1408, 19, 6622, 3191, 3434, 190, 123, 21, 4331, 7209, 2690, 6592, 5216, 23)\n",
            "outputs[1][2] = \n",
            " (0, 3975, 3329, 6592, 1408, 4657, 6592, 1408, 4657, 6592, 1558, 1408, 19, 6622, 3191, 3434, 190, 123, 21, 4331, 7209, 2690, 6592, 932, 503)\n",
            "next_beams =  [[[(0, 2667, 5197, 4890, 3434, 775, 4698, 6019, 23, 1), -0.9500640956684947, 0], [(0, 2667, 5197, 4890, 3434, 5226, 4698, 6019, 23, 1), -3.2413429748266935, 1]], [[(0, 5949, 503, 5480, 1294, 929, 2651, 7356, 7210, 2020, 23, 1), -7.810814846307039, 0], [(0, 5949, 503, 5480, 1294, 929, 2651, 7356, 190, 123, 21, 4331, 7209, 23, 1), -8.504465412348509, 1]], [[(0, 3975, 3329, 6592, 1408, 4657, 6592, 1408, 4657, 6592, 1558, 1408, 19, 6622, 3191, 3434, 190, 123, 21, 4331, 7209, 2690, 6592, 5216, 23, 6592), -34.783490468747914, 0], [(0, 3975, 3329, 6592, 1408, 4657, 6592, 1408, 4657, 6592, 1558, 1408, 19, 6622, 3191, 3434, 190, 123, 21, 4331, 7209, 2690, 6592, 5216, 23, 1), -31.764275004155934, 0], [(0, 3975, 3329, 6592, 1408, 4657, 6592, 1408, 4657, 6592, 1558, 1408, 19, 6622, 3191, 3434, 190, 123, 21, 4331, 7209, 2690, 6592, 932, 503, 190), -35.13446791935712, 1], [(0, 3975, 3329, 6592, 1408, 4657, 6592, 1408, 4657, 6592, 1558, 1408, 19, 6622, 3191, 3434, 190, 123, 21, 4331, 7209, 2690, 6592, 932, 503, 6592), -33.47492965031415, 1]]]\n",
            "next_beams[0] after sort:  [[(0, 2667, 5197, 4890, 3434, 775, 4698, 6019, 23, 1), -0.9500640956684947, 0], [(0, 2667, 5197, 4890, 3434, 5226, 4698, 6019, 23, 1), -3.2413429748266935, 1]]\n",
            "next_beams[1] after sort:  [[(0, 5949, 503, 5480, 1294, 929, 2651, 7356, 7210, 2020, 23, 1), -7.810814846307039, 0], [(0, 5949, 503, 5480, 1294, 929, 2651, 7356, 190, 123, 21, 4331, 7209, 23, 1), -8.504465412348509, 1]]\n",
            "next_beams[2] after sort:  [[(0, 3975, 3329, 6592, 1408, 4657, 6592, 1408, 4657, 6592, 1558, 1408, 19, 6622, 3191, 3434, 190, 123, 21, 4331, 7209, 2690, 6592, 5216, 23, 1), -31.764275004155934, 0], [(0, 3975, 3329, 6592, 1408, 4657, 6592, 1408, 4657, 6592, 1558, 1408, 19, 6622, 3191, 3434, 190, 123, 21, 4331, 7209, 2690, 6592, 932, 503, 6592), -33.47492965031415, 1], [(0, 3975, 3329, 6592, 1408, 4657, 6592, 1408, 4657, 6592, 1558, 1408, 19, 6622, 3191, 3434, 190, 123, 21, 4331, 7209, 2690, 6592, 5216, 23, 6592), -34.783490468747914, 0], [(0, 3975, 3329, 6592, 1408, 4657, 6592, 1408, 4657, 6592, 1558, 1408, 19, 6622, 3191, 3434, 190, 123, 21, 4331, 7209, 2690, 6592, 932, 503, 190), -35.13446791935712, 1]]\n",
            "outputs = \n",
            " [[(0, 2667, 5197, 4890, 3434, 775, 4698, 6019, 23, 1), (0, 5949, 503, 5480, 1294, 929, 2651, 7356, 7210, 2020, 23, 1), (0, 3975, 3329, 6592, 1408, 4657, 6592, 1408, 4657, 6592, 1558, 1408, 19, 6622, 3191, 3434, 190, 123, 21, 4331, 7209, 2690, 6592, 5216, 23, 1)], [(0, 2667, 5197, 4890, 3434, 5226, 4698, 6019, 23, 1), (0, 5949, 503, 5480, 1294, 929, 2651, 7356, 190, 123, 21, 4331, 7209, 23, 1), (0, 3975, 3329, 6592, 1408, 4657, 6592, 1408, 4657, 6592, 1558, 1408, 19, 6622, 3191, 3434, 190, 123, 21, 4331, 7209, 2690, 6592, 932, 503, 6592)]]\n",
            "hypos = \n",
            " [[[-0.15006409566849466, (0, 2667, 5197, 4890, 3434, 775, 4698, 6019, 23, 1)], [-2.4413429748266937, (0, 2667, 5197, 4890, 3434, 5226, 4698, 6019, 23, 1)], [-0.05006409566849468, (0, 2667, 5197, 4890, 3434, 775, 4698, 6019, 23, 1)], [-2.3413429748266936, (0, 2667, 5197, 4890, 3434, 5226, 4698, 6019, 23, 1)], [0.0499359043315053, (0, 2667, 5197, 4890, 3434, 775, 4698, 6019, 23, 1)], [-2.2413429748266935, (0, 2667, 5197, 4890, 3434, 5226, 4698, 6019, 23, 1)], [0.1499359043315054, (0, 2667, 5197, 4890, 3434, 775, 4698, 6019, 23, 1)], [-2.1413429748266934, (0, 2667, 5197, 4890, 3434, 5226, 4698, 6019, 23, 1)], [0.24993590433150548, (0, 2667, 5197, 4890, 3434, 775, 4698, 6019, 23, 1)], [-2.0413429748266934, (0, 2667, 5197, 4890, 3434, 5226, 4698, 6019, 23, 1)], [0.34993590433150534, (0, 2667, 5197, 4890, 3434, 775, 4698, 6019, 23, 1)], [-1.9413429748266935, (0, 2667, 5197, 4890, 3434, 5226, 4698, 6019, 23, 1)], [0.44993590433150543, (0, 2667, 5197, 4890, 3434, 775, 4698, 6019, 23, 1)], [-1.8413429748266934, (0, 2667, 5197, 4890, 3434, 5226, 4698, 6019, 23, 1)], [0.5499359043315053, (0, 2667, 5197, 4890, 3434, 775, 4698, 6019, 23, 1)], [-1.7413429748266935, (0, 2667, 5197, 4890, 3434, 5226, 4698, 6019, 23, 1)], [0.6499359043315054, (0, 2667, 5197, 4890, 3434, 775, 4698, 6019, 23, 1)], [-1.6413429748266934, (0, 2667, 5197, 4890, 3434, 5226, 4698, 6019, 23, 1)], [0.7499359043315055, (0, 2667, 5197, 4890, 3434, 775, 4698, 6019, 23, 1)], [-1.5413429748266934, (0, 2667, 5197, 4890, 3434, 5226, 4698, 6019, 23, 1)], [0.8499359043315053, (0, 2667, 5197, 4890, 3434, 775, 4698, 6019, 23, 1)], [-1.4413429748266935, (0, 2667, 5197, 4890, 3434, 5226, 4698, 6019, 23, 1)], [0.9499359043315054, (0, 2667, 5197, 4890, 3434, 775, 4698, 6019, 23, 1)], [-1.3413429748266934, (0, 2667, 5197, 4890, 3434, 5226, 4698, 6019, 23, 1)], [1.0499359043315053, (0, 2667, 5197, 4890, 3434, 775, 4698, 6019, 23, 1)], [-1.2413429748266935, (0, 2667, 5197, 4890, 3434, 5226, 4698, 6019, 23, 1)], [1.1499359043315054, (0, 2667, 5197, 4890, 3434, 775, 4698, 6019, 23, 1)], [-1.1413429748266934, (0, 2667, 5197, 4890, 3434, 5226, 4698, 6019, 23, 1)], [1.2499359043315055, (0, 2667, 5197, 4890, 3434, 775, 4698, 6019, 23, 1)], [-1.0413429748266934, (0, 2667, 5197, 4890, 3434, 5226, 4698, 6019, 23, 1)], [1.3499359043315056, (0, 2667, 5197, 4890, 3434, 775, 4698, 6019, 23, 1)], [-0.9413429748266933, (0, 2667, 5197, 4890, 3434, 5226, 4698, 6019, 23, 1)], [1.4499359043315057, (0, 2667, 5197, 4890, 3434, 775, 4698, 6019, 23, 1)], [-0.8413429748266932, (0, 2667, 5197, 4890, 3434, 5226, 4698, 6019, 23, 1)]], [[-6.810814846307039, (0, 5949, 503, 5480, 1294, 929, 2651, 7356, 7210, 2020, 23, 1)], [-6.71081484630704, (0, 5949, 503, 5480, 1294, 929, 2651, 7356, 7210, 2020, 23, 1)], [-6.610814846307039, (0, 5949, 503, 5480, 1294, 929, 2651, 7356, 7210, 2020, 23, 1)], [-6.510814846307039, (0, 5949, 503, 5480, 1294, 929, 2651, 7356, 7210, 2020, 23, 1)], [-7.204465412348509, (0, 5949, 503, 5480, 1294, 929, 2651, 7356, 190, 123, 21, 4331, 7209, 23, 1)], [-6.410814846307039, (0, 5949, 503, 5480, 1294, 929, 2651, 7356, 7210, 2020, 23, 1)], [-7.1044654123485085, (0, 5949, 503, 5480, 1294, 929, 2651, 7356, 190, 123, 21, 4331, 7209, 23, 1)], [-6.310814846307039, (0, 5949, 503, 5480, 1294, 929, 2651, 7356, 7210, 2020, 23, 1)], [-7.004465412348509, (0, 5949, 503, 5480, 1294, 929, 2651, 7356, 190, 123, 21, 4331, 7209, 23, 1)], [-6.21081484630704, (0, 5949, 503, 5480, 1294, 929, 2651, 7356, 7210, 2020, 23, 1)], [-6.904465412348509, (0, 5949, 503, 5480, 1294, 929, 2651, 7356, 190, 123, 21, 4331, 7209, 23, 1)], [-6.110814846307039, (0, 5949, 503, 5480, 1294, 929, 2651, 7356, 7210, 2020, 23, 1)], [-6.804465412348509, (0, 5949, 503, 5480, 1294, 929, 2651, 7356, 190, 123, 21, 4331, 7209, 23, 1)], [-6.010814846307039, (0, 5949, 503, 5480, 1294, 929, 2651, 7356, 7210, 2020, 23, 1)], [-6.704465412348509, (0, 5949, 503, 5480, 1294, 929, 2651, 7356, 190, 123, 21, 4331, 7209, 23, 1)], [-5.910814846307039, (0, 5949, 503, 5480, 1294, 929, 2651, 7356, 7210, 2020, 23, 1)], [-6.6044654123485085, (0, 5949, 503, 5480, 1294, 929, 2651, 7356, 190, 123, 21, 4331, 7209, 23, 1)], [-5.810814846307039, (0, 5949, 503, 5480, 1294, 929, 2651, 7356, 7210, 2020, 23, 1)], [-6.504465412348509, (0, 5949, 503, 5480, 1294, 929, 2651, 7356, 190, 123, 21, 4331, 7209, 23, 1)], [-5.71081484630704, (0, 5949, 503, 5480, 1294, 929, 2651, 7356, 7210, 2020, 23, 1)], [-6.404465412348509, (0, 5949, 503, 5480, 1294, 929, 2651, 7356, 190, 123, 21, 4331, 7209, 23, 1)], [-5.610814846307039, (0, 5949, 503, 5480, 1294, 929, 2651, 7356, 7210, 2020, 23, 1)], [-6.304465412348509, (0, 5949, 503, 5480, 1294, 929, 2651, 7356, 190, 123, 21, 4331, 7209, 23, 1)], [-5.5108148463070386, (0, 5949, 503, 5480, 1294, 929, 2651, 7356, 7210, 2020, 23, 1)], [-6.204465412348508, (0, 5949, 503, 5480, 1294, 929, 2651, 7356, 190, 123, 21, 4331, 7209, 23, 1)], [-5.410814846307039, (0, 5949, 503, 5480, 1294, 929, 2651, 7356, 7210, 2020, 23, 1)], [-6.1044654123485085, (0, 5949, 503, 5480, 1294, 929, 2651, 7356, 190, 123, 21, 4331, 7209, 23, 1)]], [[-29.364275004155935, (0, 3975, 3329, 6592, 1408, 4657, 6592, 1408, 4657, 6592, 1558, 1408, 19, 6622, 3191, 3434, 190, 123, 21, 4331, 7209, 2690, 6592, 5216, 23, 1)]]]\n",
            "hypos after sort = \n",
            " [[[-2.4413429748266937, (0, 2667, 5197, 4890, 3434, 5226, 4698, 6019, 23, 1)], [-2.3413429748266936, (0, 2667, 5197, 4890, 3434, 5226, 4698, 6019, 23, 1)], [-2.2413429748266935, (0, 2667, 5197, 4890, 3434, 5226, 4698, 6019, 23, 1)], [-2.1413429748266934, (0, 2667, 5197, 4890, 3434, 5226, 4698, 6019, 23, 1)], [-2.0413429748266934, (0, 2667, 5197, 4890, 3434, 5226, 4698, 6019, 23, 1)], [-1.9413429748266935, (0, 2667, 5197, 4890, 3434, 5226, 4698, 6019, 23, 1)], [-1.8413429748266934, (0, 2667, 5197, 4890, 3434, 5226, 4698, 6019, 23, 1)], [-1.7413429748266935, (0, 2667, 5197, 4890, 3434, 5226, 4698, 6019, 23, 1)], [-1.6413429748266934, (0, 2667, 5197, 4890, 3434, 5226, 4698, 6019, 23, 1)], [-1.5413429748266934, (0, 2667, 5197, 4890, 3434, 5226, 4698, 6019, 23, 1)], [-1.4413429748266935, (0, 2667, 5197, 4890, 3434, 5226, 4698, 6019, 23, 1)], [-1.3413429748266934, (0, 2667, 5197, 4890, 3434, 5226, 4698, 6019, 23, 1)], [-1.2413429748266935, (0, 2667, 5197, 4890, 3434, 5226, 4698, 6019, 23, 1)], [-1.1413429748266934, (0, 2667, 5197, 4890, 3434, 5226, 4698, 6019, 23, 1)], [-1.0413429748266934, (0, 2667, 5197, 4890, 3434, 5226, 4698, 6019, 23, 1)], [-0.9413429748266933, (0, 2667, 5197, 4890, 3434, 5226, 4698, 6019, 23, 1)], [-0.8413429748266932, (0, 2667, 5197, 4890, 3434, 5226, 4698, 6019, 23, 1)], [-0.15006409566849466, (0, 2667, 5197, 4890, 3434, 775, 4698, 6019, 23, 1)], [-0.05006409566849468, (0, 2667, 5197, 4890, 3434, 775, 4698, 6019, 23, 1)], [0.0499359043315053, (0, 2667, 5197, 4890, 3434, 775, 4698, 6019, 23, 1)], [0.1499359043315054, (0, 2667, 5197, 4890, 3434, 775, 4698, 6019, 23, 1)], [0.24993590433150548, (0, 2667, 5197, 4890, 3434, 775, 4698, 6019, 23, 1)], [0.34993590433150534, (0, 2667, 5197, 4890, 3434, 775, 4698, 6019, 23, 1)], [0.44993590433150543, (0, 2667, 5197, 4890, 3434, 775, 4698, 6019, 23, 1)], [0.5499359043315053, (0, 2667, 5197, 4890, 3434, 775, 4698, 6019, 23, 1)], [0.6499359043315054, (0, 2667, 5197, 4890, 3434, 775, 4698, 6019, 23, 1)], [0.7499359043315055, (0, 2667, 5197, 4890, 3434, 775, 4698, 6019, 23, 1)], [0.8499359043315053, (0, 2667, 5197, 4890, 3434, 775, 4698, 6019, 23, 1)], [0.9499359043315054, (0, 2667, 5197, 4890, 3434, 775, 4698, 6019, 23, 1)], [1.0499359043315053, (0, 2667, 5197, 4890, 3434, 775, 4698, 6019, 23, 1)], [1.1499359043315054, (0, 2667, 5197, 4890, 3434, 775, 4698, 6019, 23, 1)], [1.2499359043315055, (0, 2667, 5197, 4890, 3434, 775, 4698, 6019, 23, 1)], [1.3499359043315056, (0, 2667, 5197, 4890, 3434, 775, 4698, 6019, 23, 1)], [1.4499359043315057, (0, 2667, 5197, 4890, 3434, 775, 4698, 6019, 23, 1)]], [[-7.204465412348509, (0, 5949, 503, 5480, 1294, 929, 2651, 7356, 190, 123, 21, 4331, 7209, 23, 1)], [-7.1044654123485085, (0, 5949, 503, 5480, 1294, 929, 2651, 7356, 190, 123, 21, 4331, 7209, 23, 1)], [-7.004465412348509, (0, 5949, 503, 5480, 1294, 929, 2651, 7356, 190, 123, 21, 4331, 7209, 23, 1)], [-6.904465412348509, (0, 5949, 503, 5480, 1294, 929, 2651, 7356, 190, 123, 21, 4331, 7209, 23, 1)], [-6.810814846307039, (0, 5949, 503, 5480, 1294, 929, 2651, 7356, 7210, 2020, 23, 1)], [-6.804465412348509, (0, 5949, 503, 5480, 1294, 929, 2651, 7356, 190, 123, 21, 4331, 7209, 23, 1)], [-6.71081484630704, (0, 5949, 503, 5480, 1294, 929, 2651, 7356, 7210, 2020, 23, 1)], [-6.704465412348509, (0, 5949, 503, 5480, 1294, 929, 2651, 7356, 190, 123, 21, 4331, 7209, 23, 1)], [-6.610814846307039, (0, 5949, 503, 5480, 1294, 929, 2651, 7356, 7210, 2020, 23, 1)], [-6.6044654123485085, (0, 5949, 503, 5480, 1294, 929, 2651, 7356, 190, 123, 21, 4331, 7209, 23, 1)], [-6.510814846307039, (0, 5949, 503, 5480, 1294, 929, 2651, 7356, 7210, 2020, 23, 1)], [-6.504465412348509, (0, 5949, 503, 5480, 1294, 929, 2651, 7356, 190, 123, 21, 4331, 7209, 23, 1)], [-6.410814846307039, (0, 5949, 503, 5480, 1294, 929, 2651, 7356, 7210, 2020, 23, 1)], [-6.404465412348509, (0, 5949, 503, 5480, 1294, 929, 2651, 7356, 190, 123, 21, 4331, 7209, 23, 1)], [-6.310814846307039, (0, 5949, 503, 5480, 1294, 929, 2651, 7356, 7210, 2020, 23, 1)], [-6.304465412348509, (0, 5949, 503, 5480, 1294, 929, 2651, 7356, 190, 123, 21, 4331, 7209, 23, 1)], [-6.21081484630704, (0, 5949, 503, 5480, 1294, 929, 2651, 7356, 7210, 2020, 23, 1)], [-6.204465412348508, (0, 5949, 503, 5480, 1294, 929, 2651, 7356, 190, 123, 21, 4331, 7209, 23, 1)], [-6.110814846307039, (0, 5949, 503, 5480, 1294, 929, 2651, 7356, 7210, 2020, 23, 1)], [-6.1044654123485085, (0, 5949, 503, 5480, 1294, 929, 2651, 7356, 190, 123, 21, 4331, 7209, 23, 1)], [-6.010814846307039, (0, 5949, 503, 5480, 1294, 929, 2651, 7356, 7210, 2020, 23, 1)], [-5.910814846307039, (0, 5949, 503, 5480, 1294, 929, 2651, 7356, 7210, 2020, 23, 1)], [-5.810814846307039, (0, 5949, 503, 5480, 1294, 929, 2651, 7356, 7210, 2020, 23, 1)], [-5.71081484630704, (0, 5949, 503, 5480, 1294, 929, 2651, 7356, 7210, 2020, 23, 1)], [-5.610814846307039, (0, 5949, 503, 5480, 1294, 929, 2651, 7356, 7210, 2020, 23, 1)], [-5.5108148463070386, (0, 5949, 503, 5480, 1294, 929, 2651, 7356, 7210, 2020, 23, 1)], [-5.410814846307039, (0, 5949, 503, 5480, 1294, 929, 2651, 7356, 7210, 2020, 23, 1)]], [[-29.364275004155935, (0, 3975, 3329, 6592, 1408, 4657, 6592, 1408, 4657, 6592, 1558, 1408, 19, 6622, 3191, 3434, 190, 123, 21, 4331, 7209, 2690, 6592, 5216, 23, 1)]]]\n",
            "Translations with beam search:\n",
            "free private parking is available on site .\n",
            "shops and restaurants can be found within walking distance .\n",
            "located in the centre of the centre of the city centre , this hotel is a 5 - minute walk from the property .\n",
            "CPU times: user 281 ms, sys: 41.7 ms, total: 323 ms\n",
            "Wall time: 273 ms\n"
          ]
        }
      ]
    },
    {
      "cell_type": "code",
      "source": [
        "%%time\n",
        "# newer-newer-newer\n",
        "dummy_translations, dummy_states = model.translate_lines(train_inp[:3], max_len=25, beam_size=2, device=device)\n",
        "print(\"Translations with beam search:\")\n",
        "print('\\n'.join([line for line in dummy_translations]))"
      ],
      "metadata": {
        "colab": {
          "base_uri": "https://localhost:8080/"
        },
        "id": "gzPRE8f5gbqI",
        "outputId": "00b44619-dc56-466a-9644-69facf489661"
      },
      "execution_count": 12,
      "outputs": [
        {
          "output_type": "stream",
          "name": "stdout",
          "text": [
            "outputs[0][0] = \n",
            " (0,)\n",
            "outputs[0][1] = \n",
            " (0,)\n",
            "outputs[0][2] = \n",
            " (0,)\n",
            "next_beams =  [[[(0, 6090), -8.570329666137695, 0], [(0, 2838), -8.549932479858398, 0]], [[(0, 6090), -8.552896499633789, 0], [(0, 2838), -8.551274299621582, 0]], [[(0, 6090), -8.572891235351562, 0], [(0, 2838), -8.544949531555176, 0]]]\n",
            "next_beams[0] after sort:  [[(0, 2838), -8.549932479858398, 0], [(0, 6090), -8.570329666137695, 0]]\n",
            "next_beams[1] after sort:  [[(0, 2838), -8.551274299621582, 0], [(0, 6090), -8.552896499633789, 0]]\n",
            "next_beams[2] after sort:  [[(0, 2838), -8.544949531555176, 0], [(0, 6090), -8.572891235351562, 0]]\n",
            "outputs[0][0] = \n",
            " (0, 2838)\n",
            "outputs[0][1] = \n",
            " (0, 2838)\n",
            "outputs[0][2] = \n",
            " (0, 2838)\n",
            "outputs[1][0] = \n",
            " (0, 6090)\n",
            "outputs[1][1] = \n",
            " (0, 6090)\n",
            "outputs[1][2] = \n",
            " (0, 6090)\n",
            "next_beams =  [[[(0, 2838, 6703), -17.05619239807129, 0], [(0, 2838, 337), -17.02311897277832, 0], [(0, 6090, 3345), -17.070332527160645, 1], [(0, 6090, 4272), -17.058171272277832, 1]], [[(0, 2838, 6703), -17.05638885498047, 0], [(0, 2838, 337), -17.030473709106445, 0], [(0, 6090, 2895), -17.051349639892578, 1], [(0, 6090, 4272), -17.02381420135498, 1]], [[(0, 2838, 6703), -17.049278259277344, 0], [(0, 2838, 337), -17.027173042297363, 0], [(0, 6090, 2895), -17.075865745544434, 1], [(0, 6090, 4272), -17.055344581604004, 1]]]\n",
            "next_beams[0] after sort:  [[(0, 2838, 337), -17.02311897277832, 0], [(0, 2838, 6703), -17.05619239807129, 0], [(0, 6090, 4272), -17.058171272277832, 1], [(0, 6090, 3345), -17.070332527160645, 1]]\n",
            "next_beams[1] after sort:  [[(0, 6090, 4272), -17.02381420135498, 1], [(0, 2838, 337), -17.030473709106445, 0], [(0, 6090, 2895), -17.051349639892578, 1], [(0, 2838, 6703), -17.05638885498047, 0]]\n",
            "next_beams[2] after sort:  [[(0, 2838, 337), -17.027173042297363, 0], [(0, 2838, 6703), -17.049278259277344, 0], [(0, 6090, 4272), -17.055344581604004, 1], [(0, 6090, 2895), -17.075865745544434, 1]]\n",
            "outputs[0][0] = \n",
            " (0, 2838, 337)\n",
            "outputs[0][1] = \n",
            " (0, 6090, 4272)\n",
            "outputs[0][2] = \n",
            " (0, 2838, 337)\n",
            "outputs[1][0] = \n",
            " (0, 2838, 6703)\n",
            "outputs[1][1] = \n",
            " (0, 2838, 337)\n",
            "outputs[1][2] = \n",
            " (0, 2838, 6703)\n",
            "next_beams =  [[[(0, 2838, 337, 2279), -25.55094337463379, 0], [(0, 2838, 337, 4424), -25.47972011566162, 0], [(0, 2838, 6703, 2021), -25.533113479614258, 1], [(0, 2838, 6703, 6394), -25.48901653289795, 1]], [[(0, 6090, 4272, 4532), -25.576247215270996, 0], [(0, 6090, 4272, 4161), -25.53184986114502, 0], [(0, 2838, 337, 7222), -25.55159282684326, 1], [(0, 2838, 337, 4424), -25.500229835510254, 1]], [[(0, 2838, 337, 7222), -25.54942512512207, 0], [(0, 2838, 337, 4424), -25.48395538330078, 0], [(0, 2838, 6703, 5857), -25.530444145202637, 1], [(0, 2838, 6703, 6394), -25.481348991394043, 1]]]\n",
            "next_beams[0] after sort:  [[(0, 2838, 337, 4424), -25.47972011566162, 0], [(0, 2838, 6703, 6394), -25.48901653289795, 1], [(0, 2838, 6703, 2021), -25.533113479614258, 1], [(0, 2838, 337, 2279), -25.55094337463379, 0]]\n",
            "next_beams[1] after sort:  [[(0, 2838, 337, 4424), -25.500229835510254, 1], [(0, 6090, 4272, 4161), -25.53184986114502, 0], [(0, 2838, 337, 7222), -25.55159282684326, 1], [(0, 6090, 4272, 4532), -25.576247215270996, 0]]\n",
            "next_beams[2] after sort:  [[(0, 2838, 6703, 6394), -25.481348991394043, 1], [(0, 2838, 337, 4424), -25.48395538330078, 0], [(0, 2838, 6703, 5857), -25.530444145202637, 1], [(0, 2838, 337, 7222), -25.54942512512207, 0]]\n",
            "outputs[0][0] = \n",
            " (0, 2838, 337, 4424)\n",
            "outputs[0][1] = \n",
            " (0, 2838, 337, 4424)\n",
            "outputs[0][2] = \n",
            " (0, 2838, 6703, 6394)\n",
            "outputs[1][0] = \n",
            " (0, 2838, 6703, 6394)\n",
            "outputs[1][1] = \n",
            " (0, 6090, 4272, 4161)\n",
            "outputs[1][2] = \n",
            " (0, 2838, 337, 4424)\n",
            "next_beams =  [[[(0, 2838, 337, 4424, 6995), -33.893049240112305, 0], [(0, 2838, 337, 4424, 7728), -33.83700752258301, 0], [(0, 2838, 6703, 6394, 1096), -33.977304458618164, 1], [(0, 2838, 6703, 6394, 7172), -33.973008155822754, 1]], [[(0, 2838, 337, 4424, 6995), -33.914069175720215, 0], [(0, 2838, 337, 4424, 7728), -33.85049343109131, 0], [(0, 6090, 4272, 4161, 2454), -34.03234577178955, 1], [(0, 6090, 4272, 4161, 1984), -34.0263729095459, 1]], [[(0, 2838, 6703, 6394, 1096), -33.96690368652344, 0], [(0, 2838, 6703, 6394, 7172), -33.96376419067383, 0], [(0, 2838, 337, 4424, 6995), -33.90276622772217, 1], [(0, 2838, 337, 4424, 7728), -33.83707904815674, 1]]]\n",
            "next_beams[0] after sort:  [[(0, 2838, 337, 4424, 7728), -33.83700752258301, 0], [(0, 2838, 337, 4424, 6995), -33.893049240112305, 0], [(0, 2838, 6703, 6394, 7172), -33.973008155822754, 1], [(0, 2838, 6703, 6394, 1096), -33.977304458618164, 1]]\n",
            "next_beams[1] after sort:  [[(0, 2838, 337, 4424, 7728), -33.85049343109131, 0], [(0, 2838, 337, 4424, 6995), -33.914069175720215, 0], [(0, 6090, 4272, 4161, 1984), -34.0263729095459, 1], [(0, 6090, 4272, 4161, 2454), -34.03234577178955, 1]]\n",
            "next_beams[2] after sort:  [[(0, 2838, 337, 4424, 7728), -33.83707904815674, 1], [(0, 2838, 337, 4424, 6995), -33.90276622772217, 1], [(0, 2838, 6703, 6394, 7172), -33.96376419067383, 0], [(0, 2838, 6703, 6394, 1096), -33.96690368652344, 0]]\n",
            "outputs[0][0] = \n",
            " (0, 2838, 337, 4424, 7728)\n",
            "outputs[0][1] = \n",
            " (0, 2838, 337, 4424, 7728)\n",
            "outputs[0][2] = \n",
            " (0, 2838, 337, 4424, 7728)\n",
            "outputs[1][0] = \n",
            " (0, 2838, 337, 4424, 6995)\n",
            "outputs[1][1] = \n",
            " (0, 2838, 337, 4424, 6995)\n",
            "outputs[1][2] = \n",
            " (0, 2838, 337, 4424, 6995)\n",
            "next_beams =  [[[(0, 2838, 337, 4424, 7728, 1788), -42.300323486328125, 0], [(0, 2838, 337, 4424, 7728, 503), -42.298203468322754, 0], [(0, 2838, 337, 4424, 6995, 5333), -42.41848087310791, 1], [(0, 2838, 337, 4424, 6995, 1892), -42.37253665924072, 1]], [[(0, 2838, 337, 4424, 7728, 1788), -42.31373405456543, 0], [(0, 2838, 337, 4424, 7728, 503), -42.307007789611816, 0], [(0, 2838, 337, 4424, 6995, 5333), -42.43782711029053, 1], [(0, 2838, 337, 4424, 6995, 1892), -42.3897762298584, 1]], [[(0, 2838, 337, 4424, 7728, 1788), -42.30180072784424, 0], [(0, 2838, 337, 4424, 7728, 503), -42.29619789123535, 0], [(0, 2838, 337, 4424, 6995, 5333), -42.42597007751465, 1], [(0, 2838, 337, 4424, 6995, 1892), -42.38271141052246, 1]]]\n",
            "next_beams[0] after sort:  [[(0, 2838, 337, 4424, 7728, 503), -42.298203468322754, 0], [(0, 2838, 337, 4424, 7728, 1788), -42.300323486328125, 0], [(0, 2838, 337, 4424, 6995, 1892), -42.37253665924072, 1], [(0, 2838, 337, 4424, 6995, 5333), -42.41848087310791, 1]]\n",
            "next_beams[1] after sort:  [[(0, 2838, 337, 4424, 7728, 503), -42.307007789611816, 0], [(0, 2838, 337, 4424, 7728, 1788), -42.31373405456543, 0], [(0, 2838, 337, 4424, 6995, 1892), -42.3897762298584, 1], [(0, 2838, 337, 4424, 6995, 5333), -42.43782711029053, 1]]\n",
            "next_beams[2] after sort:  [[(0, 2838, 337, 4424, 7728, 503), -42.29619789123535, 0], [(0, 2838, 337, 4424, 7728, 1788), -42.30180072784424, 0], [(0, 2838, 337, 4424, 6995, 1892), -42.38271141052246, 1], [(0, 2838, 337, 4424, 6995, 5333), -42.42597007751465, 1]]\n",
            "outputs[0][0] = \n",
            " (0, 2838, 337, 4424, 7728, 503)\n",
            "outputs[0][1] = \n",
            " (0, 2838, 337, 4424, 7728, 503)\n",
            "outputs[0][2] = \n",
            " (0, 2838, 337, 4424, 7728, 503)\n",
            "outputs[1][0] = \n",
            " (0, 2838, 337, 4424, 7728, 1788)\n",
            "outputs[1][1] = \n",
            " (0, 2838, 337, 4424, 7728, 1788)\n",
            "outputs[1][2] = \n",
            " (0, 2838, 337, 4424, 7728, 1788)\n",
            "next_beams =  [[[(0, 2838, 337, 4424, 7728, 503, 4272), -50.79208183288574, 0], [(0, 2838, 337, 4424, 7728, 503, 3904), -50.70689105987549, 0], [(0, 2838, 337, 4424, 7728, 1788, 7481), -50.851704597473145, 1], [(0, 2838, 337, 4424, 7728, 1788, 503), -50.839205741882324, 1]], [[(0, 2838, 337, 4424, 7728, 503, 4272), -50.799333572387695, 0], [(0, 2838, 337, 4424, 7728, 503, 3904), -50.716736793518066, 0], [(0, 2838, 337, 4424, 7728, 1788, 7481), -50.86331844329834, 1], [(0, 2838, 337, 4424, 7728, 1788, 503), -50.84933090209961, 1]], [[(0, 2838, 337, 4424, 7728, 503, 4272), -50.78977012634277, 0], [(0, 2838, 337, 4424, 7728, 503, 3904), -50.70644664764404, 0], [(0, 2838, 337, 4424, 7728, 1788, 7481), -50.85275650024414, 1], [(0, 2838, 337, 4424, 7728, 1788, 503), -50.839219093322754, 1]]]\n",
            "next_beams[0] after sort:  [[(0, 2838, 337, 4424, 7728, 503, 3904), -50.70689105987549, 0], [(0, 2838, 337, 4424, 7728, 503, 4272), -50.79208183288574, 0], [(0, 2838, 337, 4424, 7728, 1788, 503), -50.839205741882324, 1], [(0, 2838, 337, 4424, 7728, 1788, 7481), -50.851704597473145, 1]]\n",
            "next_beams[1] after sort:  [[(0, 2838, 337, 4424, 7728, 503, 3904), -50.716736793518066, 0], [(0, 2838, 337, 4424, 7728, 503, 4272), -50.799333572387695, 0], [(0, 2838, 337, 4424, 7728, 1788, 503), -50.84933090209961, 1], [(0, 2838, 337, 4424, 7728, 1788, 7481), -50.86331844329834, 1]]\n",
            "next_beams[2] after sort:  [[(0, 2838, 337, 4424, 7728, 503, 3904), -50.70644664764404, 0], [(0, 2838, 337, 4424, 7728, 503, 4272), -50.78977012634277, 0], [(0, 2838, 337, 4424, 7728, 1788, 503), -50.839219093322754, 1], [(0, 2838, 337, 4424, 7728, 1788, 7481), -50.85275650024414, 1]]\n",
            "outputs[0][0] = \n",
            " (0, 2838, 337, 4424, 7728, 503, 3904)\n",
            "outputs[0][1] = \n",
            " (0, 2838, 337, 4424, 7728, 503, 3904)\n",
            "outputs[0][2] = \n",
            " (0, 2838, 337, 4424, 7728, 503, 3904)\n",
            "outputs[1][0] = \n",
            " (0, 2838, 337, 4424, 7728, 503, 4272)\n",
            "outputs[1][1] = \n",
            " (0, 2838, 337, 4424, 7728, 503, 4272)\n",
            "outputs[1][2] = \n",
            " (0, 2838, 337, 4424, 7728, 503, 4272)\n",
            "next_beams =  [[[(0, 2838, 337, 4424, 7728, 503, 3904, 3904), -59.156487464904785, 0], [(0, 2838, 337, 4424, 7728, 503, 3904, 1078), -59.12733840942383, 0], [(0, 2838, 337, 4424, 7728, 503, 4272, 1065), -59.30769062042236, 1], [(0, 2838, 337, 4424, 7728, 503, 4272, 1859), -59.29678153991699, 1]], [[(0, 2838, 337, 4424, 7728, 503, 3904, 3904), -59.16701030731201, 0], [(0, 2838, 337, 4424, 7728, 503, 3904, 1078), -59.13804244995117, 0], [(0, 2838, 337, 4424, 7728, 503, 4272, 1065), -59.315489768981934, 1], [(0, 2838, 337, 4424, 7728, 503, 4272, 1859), -59.303725242614746, 1]], [[(0, 2838, 337, 4424, 7728, 503, 3904, 3904), -59.157172203063965, 0], [(0, 2838, 337, 4424, 7728, 503, 3904, 1078), -59.12727069854736, 0], [(0, 2838, 337, 4424, 7728, 503, 4272, 1065), -59.305447578430176, 1], [(0, 2838, 337, 4424, 7728, 503, 4272, 1859), -59.29423522949219, 1]]]\n",
            "next_beams[0] after sort:  [[(0, 2838, 337, 4424, 7728, 503, 3904, 1078), -59.12733840942383, 0], [(0, 2838, 337, 4424, 7728, 503, 3904, 3904), -59.156487464904785, 0], [(0, 2838, 337, 4424, 7728, 503, 4272, 1859), -59.29678153991699, 1], [(0, 2838, 337, 4424, 7728, 503, 4272, 1065), -59.30769062042236, 1]]\n",
            "next_beams[1] after sort:  [[(0, 2838, 337, 4424, 7728, 503, 3904, 1078), -59.13804244995117, 0], [(0, 2838, 337, 4424, 7728, 503, 3904, 3904), -59.16701030731201, 0], [(0, 2838, 337, 4424, 7728, 503, 4272, 1859), -59.303725242614746, 1], [(0, 2838, 337, 4424, 7728, 503, 4272, 1065), -59.315489768981934, 1]]\n",
            "next_beams[2] after sort:  [[(0, 2838, 337, 4424, 7728, 503, 3904, 1078), -59.12727069854736, 0], [(0, 2838, 337, 4424, 7728, 503, 3904, 3904), -59.157172203063965, 0], [(0, 2838, 337, 4424, 7728, 503, 4272, 1859), -59.29423522949219, 1], [(0, 2838, 337, 4424, 7728, 503, 4272, 1065), -59.305447578430176, 1]]\n",
            "outputs[0][0] = \n",
            " (0, 2838, 337, 4424, 7728, 503, 3904, 1078)\n",
            "outputs[0][1] = \n",
            " (0, 2838, 337, 4424, 7728, 503, 3904, 1078)\n",
            "outputs[0][2] = \n",
            " (0, 2838, 337, 4424, 7728, 503, 3904, 1078)\n",
            "outputs[1][0] = \n",
            " (0, 2838, 337, 4424, 7728, 503, 3904, 3904)\n",
            "outputs[1][1] = \n",
            " (0, 2838, 337, 4424, 7728, 503, 3904, 3904)\n",
            "outputs[1][2] = \n",
            " (0, 2838, 337, 4424, 7728, 503, 3904, 3904)\n",
            "next_beams =  [[[(0, 2838, 337, 4424, 7728, 503, 3904, 1078, 731), -67.6001033782959, 0], [(0, 2838, 337, 4424, 7728, 503, 3904, 1078, 1140), -67.56678867340088, 0], [(0, 2838, 337, 4424, 7728, 503, 3904, 3904, 4906), -67.57184791564941, 1], [(0, 2838, 337, 4424, 7728, 503, 3904, 3904, 1078), -67.49601078033447, 1]], [[(0, 2838, 337, 4424, 7728, 503, 3904, 1078, 731), -67.61156749725342, 0], [(0, 2838, 337, 4424, 7728, 503, 3904, 1078, 1140), -67.57961940765381, 0], [(0, 2838, 337, 4424, 7728, 503, 3904, 3904, 4906), -67.58415985107422, 1], [(0, 2838, 337, 4424, 7728, 503, 3904, 3904, 1078), -67.5071029663086, 1]], [[(0, 2838, 337, 4424, 7728, 503, 3904, 1078, 731), -67.60026264190674, 0], [(0, 2838, 337, 4424, 7728, 503, 3904, 1078, 1140), -67.5680341720581, 0], [(0, 2838, 337, 4424, 7728, 503, 3904, 3904, 4906), -67.57322883605957, 1], [(0, 2838, 337, 4424, 7728, 503, 3904, 3904, 1078), -67.49686050415039, 1]]]\n",
            "next_beams[0] after sort:  [[(0, 2838, 337, 4424, 7728, 503, 3904, 3904, 1078), -67.49601078033447, 1], [(0, 2838, 337, 4424, 7728, 503, 3904, 1078, 1140), -67.56678867340088, 0], [(0, 2838, 337, 4424, 7728, 503, 3904, 3904, 4906), -67.57184791564941, 1], [(0, 2838, 337, 4424, 7728, 503, 3904, 1078, 731), -67.6001033782959, 0]]\n",
            "next_beams[1] after sort:  [[(0, 2838, 337, 4424, 7728, 503, 3904, 3904, 1078), -67.5071029663086, 1], [(0, 2838, 337, 4424, 7728, 503, 3904, 1078, 1140), -67.57961940765381, 0], [(0, 2838, 337, 4424, 7728, 503, 3904, 3904, 4906), -67.58415985107422, 1], [(0, 2838, 337, 4424, 7728, 503, 3904, 1078, 731), -67.61156749725342, 0]]\n",
            "next_beams[2] after sort:  [[(0, 2838, 337, 4424, 7728, 503, 3904, 3904, 1078), -67.49686050415039, 1], [(0, 2838, 337, 4424, 7728, 503, 3904, 1078, 1140), -67.5680341720581, 0], [(0, 2838, 337, 4424, 7728, 503, 3904, 3904, 4906), -67.57322883605957, 1], [(0, 2838, 337, 4424, 7728, 503, 3904, 1078, 731), -67.60026264190674, 0]]\n",
            "outputs[0][0] = \n",
            " (0, 2838, 337, 4424, 7728, 503, 3904, 3904, 1078)\n",
            "outputs[0][1] = \n",
            " (0, 2838, 337, 4424, 7728, 503, 3904, 3904, 1078)\n",
            "outputs[0][2] = \n",
            " (0, 2838, 337, 4424, 7728, 503, 3904, 3904, 1078)\n",
            "outputs[1][0] = \n",
            " (0, 2838, 337, 4424, 7728, 503, 3904, 1078, 1140)\n",
            "outputs[1][1] = \n",
            " (0, 2838, 337, 4424, 7728, 503, 3904, 1078, 1140)\n",
            "outputs[1][2] = \n",
            " (0, 2838, 337, 4424, 7728, 503, 3904, 1078, 1140)\n",
            "next_beams =  [[[(0, 2838, 337, 4424, 7728, 503, 3904, 3904, 1078, 731), -75.93209457397461, 0], [(0, 2838, 337, 4424, 7728, 503, 3904, 3904, 1078, 1140), -75.90186309814453, 0], [(0, 2838, 337, 4424, 7728, 503, 3904, 1078, 1140, 5026), -76.06234836578369, 1], [(0, 2838, 337, 4424, 7728, 503, 3904, 1078, 1140, 784), -76.05362319946289, 1]], [[(0, 2838, 337, 4424, 7728, 503, 3904, 3904, 1078, 731), -75.9436674118042, 0], [(0, 2838, 337, 4424, 7728, 503, 3904, 3904, 1078, 1140), -75.91434001922607, 0], [(0, 2838, 337, 4424, 7728, 503, 3904, 1078, 1140, 5026), -76.0756778717041, 1], [(0, 2838, 337, 4424, 7728, 503, 3904, 1078, 1140, 784), -76.06653213500977, 1]], [[(0, 2838, 337, 4424, 7728, 503, 3904, 3904, 1078, 731), -75.93308353424072, 0], [(0, 2838, 337, 4424, 7728, 503, 3904, 3904, 1078, 1140), -75.90356254577637, 0], [(0, 2838, 337, 4424, 7728, 503, 3904, 1078, 1140, 5026), -76.06398105621338, 1], [(0, 2838, 337, 4424, 7728, 503, 3904, 1078, 1140, 784), -76.05486869812012, 1]]]\n",
            "next_beams[0] after sort:  [[(0, 2838, 337, 4424, 7728, 503, 3904, 3904, 1078, 1140), -75.90186309814453, 0], [(0, 2838, 337, 4424, 7728, 503, 3904, 3904, 1078, 731), -75.93209457397461, 0], [(0, 2838, 337, 4424, 7728, 503, 3904, 1078, 1140, 784), -76.05362319946289, 1], [(0, 2838, 337, 4424, 7728, 503, 3904, 1078, 1140, 5026), -76.06234836578369, 1]]\n",
            "next_beams[1] after sort:  [[(0, 2838, 337, 4424, 7728, 503, 3904, 3904, 1078, 1140), -75.91434001922607, 0], [(0, 2838, 337, 4424, 7728, 503, 3904, 3904, 1078, 731), -75.9436674118042, 0], [(0, 2838, 337, 4424, 7728, 503, 3904, 1078, 1140, 784), -76.06653213500977, 1], [(0, 2838, 337, 4424, 7728, 503, 3904, 1078, 1140, 5026), -76.0756778717041, 1]]\n",
            "next_beams[2] after sort:  [[(0, 2838, 337, 4424, 7728, 503, 3904, 3904, 1078, 1140), -75.90356254577637, 0], [(0, 2838, 337, 4424, 7728, 503, 3904, 3904, 1078, 731), -75.93308353424072, 0], [(0, 2838, 337, 4424, 7728, 503, 3904, 1078, 1140, 784), -76.05486869812012, 1], [(0, 2838, 337, 4424, 7728, 503, 3904, 1078, 1140, 5026), -76.06398105621338, 1]]\n",
            "outputs[0][0] = \n",
            " (0, 2838, 337, 4424, 7728, 503, 3904, 3904, 1078, 1140)\n",
            "outputs[0][1] = \n",
            " (0, 2838, 337, 4424, 7728, 503, 3904, 3904, 1078, 1140)\n",
            "outputs[0][2] = \n",
            " (0, 2838, 337, 4424, 7728, 503, 3904, 3904, 1078, 1140)\n",
            "outputs[1][0] = \n",
            " (0, 2838, 337, 4424, 7728, 503, 3904, 3904, 1078, 731)\n",
            "outputs[1][1] = \n",
            " (0, 2838, 337, 4424, 7728, 503, 3904, 3904, 1078, 731)\n",
            "outputs[1][2] = \n",
            " (0, 2838, 337, 4424, 7728, 503, 3904, 3904, 1078, 731)\n",
            "next_beams =  [[[(0, 2838, 337, 4424, 7728, 503, 3904, 3904, 1078, 1140, 2648), -84.3750991821289, 0], [(0, 2838, 337, 4424, 7728, 503, 3904, 3904, 1078, 1140, 784), -84.37298393249512, 0], [(0, 2838, 337, 4424, 7728, 503, 3904, 3904, 1078, 731, 6663), -84.40840148925781, 1], [(0, 2838, 337, 4424, 7728, 503, 3904, 3904, 1078, 731, 1817), -84.37815284729004, 1]], [[(0, 2838, 337, 4424, 7728, 503, 3904, 3904, 1078, 1140, 2648), -84.38757038116455, 0], [(0, 2838, 337, 4424, 7728, 503, 3904, 3904, 1078, 1140, 784), -84.38551712036133, 0], [(0, 2838, 337, 4424, 7728, 503, 3904, 3904, 1078, 731, 6663), -84.42033290863037, 1], [(0, 2838, 337, 4424, 7728, 503, 3904, 3904, 1078, 731, 1817), -84.38976955413818, 1]], [[(0, 2838, 337, 4424, 7728, 503, 3904, 3904, 1078, 1140, 2648), -84.37654876708984, 0], [(0, 2838, 337, 4424, 7728, 503, 3904, 3904, 1078, 1140, 784), -84.3746566772461, 0], [(0, 2838, 337, 4424, 7728, 503, 3904, 3904, 1078, 731, 6663), -84.40973854064941, 1], [(0, 2838, 337, 4424, 7728, 503, 3904, 3904, 1078, 731, 1817), -84.37930965423584, 1]]]\n",
            "next_beams[0] after sort:  [[(0, 2838, 337, 4424, 7728, 503, 3904, 3904, 1078, 1140, 784), -84.37298393249512, 0], [(0, 2838, 337, 4424, 7728, 503, 3904, 3904, 1078, 1140, 2648), -84.3750991821289, 0], [(0, 2838, 337, 4424, 7728, 503, 3904, 3904, 1078, 731, 1817), -84.37815284729004, 1], [(0, 2838, 337, 4424, 7728, 503, 3904, 3904, 1078, 731, 6663), -84.40840148925781, 1]]\n",
            "next_beams[1] after sort:  [[(0, 2838, 337, 4424, 7728, 503, 3904, 3904, 1078, 1140, 784), -84.38551712036133, 0], [(0, 2838, 337, 4424, 7728, 503, 3904, 3904, 1078, 1140, 2648), -84.38757038116455, 0], [(0, 2838, 337, 4424, 7728, 503, 3904, 3904, 1078, 731, 1817), -84.38976955413818, 1], [(0, 2838, 337, 4424, 7728, 503, 3904, 3904, 1078, 731, 6663), -84.42033290863037, 1]]\n",
            "next_beams[2] after sort:  [[(0, 2838, 337, 4424, 7728, 503, 3904, 3904, 1078, 1140, 784), -84.3746566772461, 0], [(0, 2838, 337, 4424, 7728, 503, 3904, 3904, 1078, 1140, 2648), -84.37654876708984, 0], [(0, 2838, 337, 4424, 7728, 503, 3904, 3904, 1078, 731, 1817), -84.37930965423584, 1], [(0, 2838, 337, 4424, 7728, 503, 3904, 3904, 1078, 731, 6663), -84.40973854064941, 1]]\n",
            "outputs[0][0] = \n",
            " (0, 2838, 337, 4424, 7728, 503, 3904, 3904, 1078, 1140, 784)\n",
            "outputs[0][1] = \n",
            " (0, 2838, 337, 4424, 7728, 503, 3904, 3904, 1078, 1140, 784)\n",
            "outputs[0][2] = \n",
            " (0, 2838, 337, 4424, 7728, 503, 3904, 3904, 1078, 1140, 784)\n",
            "outputs[1][0] = \n",
            " (0, 2838, 337, 4424, 7728, 503, 3904, 3904, 1078, 1140, 2648)\n",
            "outputs[1][1] = \n",
            " (0, 2838, 337, 4424, 7728, 503, 3904, 3904, 1078, 1140, 2648)\n",
            "outputs[1][2] = \n",
            " (0, 2838, 337, 4424, 7728, 503, 3904, 3904, 1078, 1140, 2648)\n",
            "next_beams =  [[[(0, 2838, 337, 4424, 7728, 503, 3904, 3904, 1078, 1140, 784, 4759), -92.89338302612305, 0], [(0, 2838, 337, 4424, 7728, 503, 3904, 3904, 1078, 1140, 784, 781), -92.86756706237793, 0], [(0, 2838, 337, 4424, 7728, 503, 3904, 3904, 1078, 1140, 2648, 5590), -92.82303619384766, 1], [(0, 2838, 337, 4424, 7728, 503, 3904, 3904, 1078, 1140, 2648, 784), -92.80803489685059, 1]], [[(0, 2838, 337, 4424, 7728, 503, 3904, 3904, 1078, 1140, 784, 4759), -92.90609169006348, 0], [(0, 2838, 337, 4424, 7728, 503, 3904, 3904, 1078, 1140, 784, 781), -92.88013935089111, 0], [(0, 2838, 337, 4424, 7728, 503, 3904, 3904, 1078, 1140, 2648, 5590), -92.83533763885498, 1], [(0, 2838, 337, 4424, 7728, 503, 3904, 3904, 1078, 1140, 2648, 784), -92.82054138183594, 1]], [[(0, 2838, 337, 4424, 7728, 503, 3904, 3904, 1078, 1140, 784, 4759), -92.89522933959961, 0], [(0, 2838, 337, 4424, 7728, 503, 3904, 3904, 1078, 1140, 784, 781), -92.86923599243164, 0], [(0, 2838, 337, 4424, 7728, 503, 3904, 3904, 1078, 1140, 2648, 5590), -92.8243522644043, 1], [(0, 2838, 337, 4424, 7728, 503, 3904, 3904, 1078, 1140, 2648, 784), -92.8094425201416, 1]]]\n",
            "next_beams[0] after sort:  [[(0, 2838, 337, 4424, 7728, 503, 3904, 3904, 1078, 1140, 2648, 784), -92.80803489685059, 1], [(0, 2838, 337, 4424, 7728, 503, 3904, 3904, 1078, 1140, 2648, 5590), -92.82303619384766, 1], [(0, 2838, 337, 4424, 7728, 503, 3904, 3904, 1078, 1140, 784, 781), -92.86756706237793, 0], [(0, 2838, 337, 4424, 7728, 503, 3904, 3904, 1078, 1140, 784, 4759), -92.89338302612305, 0]]\n",
            "next_beams[1] after sort:  [[(0, 2838, 337, 4424, 7728, 503, 3904, 3904, 1078, 1140, 2648, 784), -92.82054138183594, 1], [(0, 2838, 337, 4424, 7728, 503, 3904, 3904, 1078, 1140, 2648, 5590), -92.83533763885498, 1], [(0, 2838, 337, 4424, 7728, 503, 3904, 3904, 1078, 1140, 784, 781), -92.88013935089111, 0], [(0, 2838, 337, 4424, 7728, 503, 3904, 3904, 1078, 1140, 784, 4759), -92.90609169006348, 0]]\n",
            "next_beams[2] after sort:  [[(0, 2838, 337, 4424, 7728, 503, 3904, 3904, 1078, 1140, 2648, 784), -92.8094425201416, 1], [(0, 2838, 337, 4424, 7728, 503, 3904, 3904, 1078, 1140, 2648, 5590), -92.8243522644043, 1], [(0, 2838, 337, 4424, 7728, 503, 3904, 3904, 1078, 1140, 784, 781), -92.86923599243164, 0], [(0, 2838, 337, 4424, 7728, 503, 3904, 3904, 1078, 1140, 784, 4759), -92.89522933959961, 0]]\n",
            "outputs[0][0] = \n",
            " (0, 2838, 337, 4424, 7728, 503, 3904, 3904, 1078, 1140, 2648, 784)\n",
            "outputs[0][1] = \n",
            " (0, 2838, 337, 4424, 7728, 503, 3904, 3904, 1078, 1140, 2648, 784)\n",
            "outputs[0][2] = \n",
            " (0, 2838, 337, 4424, 7728, 503, 3904, 3904, 1078, 1140, 2648, 784)\n",
            "outputs[1][0] = \n",
            " (0, 2838, 337, 4424, 7728, 503, 3904, 3904, 1078, 1140, 2648, 5590)\n",
            "outputs[1][1] = \n",
            " (0, 2838, 337, 4424, 7728, 503, 3904, 3904, 1078, 1140, 2648, 5590)\n",
            "outputs[1][2] = \n",
            " (0, 2838, 337, 4424, 7728, 503, 3904, 3904, 1078, 1140, 2648, 5590)\n",
            "next_beams =  [[[(0, 2838, 337, 4424, 7728, 503, 3904, 3904, 1078, 1140, 2648, 784, 5945), -101.28509616851807, 0], [(0, 2838, 337, 4424, 7728, 503, 3904, 3904, 1078, 1140, 2648, 784, 4759), -101.27328681945801, 0], [(0, 2838, 337, 4424, 7728, 503, 3904, 3904, 1078, 1140, 2648, 5590, 13), -101.28846645355225, 1], [(0, 2838, 337, 4424, 7728, 503, 3904, 3904, 1078, 1140, 2648, 5590, 1826), -101.22350978851318, 1]], [[(0, 2838, 337, 4424, 7728, 503, 3904, 3904, 1078, 1140, 2648, 784, 5945), -101.29765892028809, 0], [(0, 2838, 337, 4424, 7728, 503, 3904, 3904, 1078, 1140, 2648, 784, 4759), -101.2859115600586, 0], [(0, 2838, 337, 4424, 7728, 503, 3904, 3904, 1078, 1140, 2648, 5590, 13), -101.30076789855957, 1], [(0, 2838, 337, 4424, 7728, 503, 3904, 3904, 1078, 1140, 2648, 5590, 1826), -101.23587703704834, 1]], [[(0, 2838, 337, 4424, 7728, 503, 3904, 3904, 1078, 1140, 2648, 784, 5945), -101.28668689727783, 0], [(0, 2838, 337, 4424, 7728, 503, 3904, 3904, 1078, 1140, 2648, 784, 4759), -101.27479553222656, 0], [(0, 2838, 337, 4424, 7728, 503, 3904, 3904, 1078, 1140, 2648, 5590, 13), -101.28972911834717, 1], [(0, 2838, 337, 4424, 7728, 503, 3904, 3904, 1078, 1140, 2648, 5590, 1826), -101.22489261627197, 1]]]\n",
            "next_beams[0] after sort:  [[(0, 2838, 337, 4424, 7728, 503, 3904, 3904, 1078, 1140, 2648, 5590, 1826), -101.22350978851318, 1], [(0, 2838, 337, 4424, 7728, 503, 3904, 3904, 1078, 1140, 2648, 784, 4759), -101.27328681945801, 0], [(0, 2838, 337, 4424, 7728, 503, 3904, 3904, 1078, 1140, 2648, 784, 5945), -101.28509616851807, 0], [(0, 2838, 337, 4424, 7728, 503, 3904, 3904, 1078, 1140, 2648, 5590, 13), -101.28846645355225, 1]]\n",
            "next_beams[1] after sort:  [[(0, 2838, 337, 4424, 7728, 503, 3904, 3904, 1078, 1140, 2648, 5590, 1826), -101.23587703704834, 1], [(0, 2838, 337, 4424, 7728, 503, 3904, 3904, 1078, 1140, 2648, 784, 4759), -101.2859115600586, 0], [(0, 2838, 337, 4424, 7728, 503, 3904, 3904, 1078, 1140, 2648, 784, 5945), -101.29765892028809, 0], [(0, 2838, 337, 4424, 7728, 503, 3904, 3904, 1078, 1140, 2648, 5590, 13), -101.30076789855957, 1]]\n",
            "next_beams[2] after sort:  [[(0, 2838, 337, 4424, 7728, 503, 3904, 3904, 1078, 1140, 2648, 5590, 1826), -101.22489261627197, 1], [(0, 2838, 337, 4424, 7728, 503, 3904, 3904, 1078, 1140, 2648, 784, 4759), -101.27479553222656, 0], [(0, 2838, 337, 4424, 7728, 503, 3904, 3904, 1078, 1140, 2648, 784, 5945), -101.28668689727783, 0], [(0, 2838, 337, 4424, 7728, 503, 3904, 3904, 1078, 1140, 2648, 5590, 13), -101.28972911834717, 1]]\n",
            "outputs[0][0] = \n",
            " (0, 2838, 337, 4424, 7728, 503, 3904, 3904, 1078, 1140, 2648, 5590, 1826)\n",
            "outputs[0][1] = \n",
            " (0, 2838, 337, 4424, 7728, 503, 3904, 3904, 1078, 1140, 2648, 5590, 1826)\n",
            "outputs[0][2] = \n",
            " (0, 2838, 337, 4424, 7728, 503, 3904, 3904, 1078, 1140, 2648, 5590, 1826)\n",
            "outputs[1][0] = \n",
            " (0, 2838, 337, 4424, 7728, 503, 3904, 3904, 1078, 1140, 2648, 784, 4759)\n",
            "outputs[1][1] = \n",
            " (0, 2838, 337, 4424, 7728, 503, 3904, 3904, 1078, 1140, 2648, 784, 4759)\n",
            "outputs[1][2] = \n",
            " (0, 2838, 337, 4424, 7728, 503, 3904, 3904, 1078, 1140, 2648, 784, 4759)\n",
            "next_beams =  [[[(0, 2838, 337, 4424, 7728, 503, 3904, 3904, 1078, 1140, 2648, 5590, 1826, 5361), -109.6876916885376, 0], [(0, 2838, 337, 4424, 7728, 503, 3904, 3904, 1078, 1140, 2648, 5590, 1826, 141), -109.67857074737549, 0], [(0, 2838, 337, 4424, 7728, 503, 3904, 3904, 1078, 1140, 2648, 784, 4759, 898), -109.81708145141602, 1], [(0, 2838, 337, 4424, 7728, 503, 3904, 3904, 1078, 1140, 2648, 784, 4759, 4759), -109.81404399871826, 1]], [[(0, 2838, 337, 4424, 7728, 503, 3904, 3904, 1078, 1140, 2648, 5590, 1826, 5361), -109.70003509521484, 0], [(0, 2838, 337, 4424, 7728, 503, 3904, 3904, 1078, 1140, 2648, 5590, 1826, 141), -109.69078063964844, 0], [(0, 2838, 337, 4424, 7728, 503, 3904, 3904, 1078, 1140, 2648, 784, 4759, 898), -109.8297004699707, 1], [(0, 2838, 337, 4424, 7728, 503, 3904, 3904, 1078, 1140, 2648, 784, 4759, 4759), -109.82675075531006, 1]], [[(0, 2838, 337, 4424, 7728, 503, 3904, 3904, 1078, 1140, 2648, 5590, 1826, 5361), -109.68911838531494, 0], [(0, 2838, 337, 4424, 7728, 503, 3904, 3904, 1078, 1140, 2648, 5590, 1826, 141), -109.67986011505127, 0], [(0, 2838, 337, 4424, 7728, 503, 3904, 3904, 1078, 1140, 2648, 784, 4759, 898), -109.81855392456055, 1], [(0, 2838, 337, 4424, 7728, 503, 3904, 3904, 1078, 1140, 2648, 784, 4759, 4759), -109.81560611724854, 1]]]\n",
            "next_beams[0] after sort:  [[(0, 2838, 337, 4424, 7728, 503, 3904, 3904, 1078, 1140, 2648, 5590, 1826, 141), -109.67857074737549, 0], [(0, 2838, 337, 4424, 7728, 503, 3904, 3904, 1078, 1140, 2648, 5590, 1826, 5361), -109.6876916885376, 0], [(0, 2838, 337, 4424, 7728, 503, 3904, 3904, 1078, 1140, 2648, 784, 4759, 4759), -109.81404399871826, 1], [(0, 2838, 337, 4424, 7728, 503, 3904, 3904, 1078, 1140, 2648, 784, 4759, 898), -109.81708145141602, 1]]\n",
            "next_beams[1] after sort:  [[(0, 2838, 337, 4424, 7728, 503, 3904, 3904, 1078, 1140, 2648, 5590, 1826, 141), -109.69078063964844, 0], [(0, 2838, 337, 4424, 7728, 503, 3904, 3904, 1078, 1140, 2648, 5590, 1826, 5361), -109.70003509521484, 0], [(0, 2838, 337, 4424, 7728, 503, 3904, 3904, 1078, 1140, 2648, 784, 4759, 4759), -109.82675075531006, 1], [(0, 2838, 337, 4424, 7728, 503, 3904, 3904, 1078, 1140, 2648, 784, 4759, 898), -109.8297004699707, 1]]\n",
            "next_beams[2] after sort:  [[(0, 2838, 337, 4424, 7728, 503, 3904, 3904, 1078, 1140, 2648, 5590, 1826, 141), -109.67986011505127, 0], [(0, 2838, 337, 4424, 7728, 503, 3904, 3904, 1078, 1140, 2648, 5590, 1826, 5361), -109.68911838531494, 0], [(0, 2838, 337, 4424, 7728, 503, 3904, 3904, 1078, 1140, 2648, 784, 4759, 4759), -109.81560611724854, 1], [(0, 2838, 337, 4424, 7728, 503, 3904, 3904, 1078, 1140, 2648, 784, 4759, 898), -109.81855392456055, 1]]\n",
            "outputs[0][0] = \n",
            " (0, 2838, 337, 4424, 7728, 503, 3904, 3904, 1078, 1140, 2648, 5590, 1826, 141)\n",
            "outputs[0][1] = \n",
            " (0, 2838, 337, 4424, 7728, 503, 3904, 3904, 1078, 1140, 2648, 5590, 1826, 141)\n",
            "outputs[0][2] = \n",
            " (0, 2838, 337, 4424, 7728, 503, 3904, 3904, 1078, 1140, 2648, 5590, 1826, 141)\n",
            "outputs[1][0] = \n",
            " (0, 2838, 337, 4424, 7728, 503, 3904, 3904, 1078, 1140, 2648, 5590, 1826, 5361)\n",
            "outputs[1][1] = \n",
            " (0, 2838, 337, 4424, 7728, 503, 3904, 3904, 1078, 1140, 2648, 5590, 1826, 5361)\n",
            "outputs[1][2] = \n",
            " (0, 2838, 337, 4424, 7728, 503, 3904, 3904, 1078, 1140, 2648, 5590, 1826, 5361)\n",
            "next_beams =  [[[(0, 2838, 337, 4424, 7728, 503, 3904, 3904, 1078, 1140, 2648, 5590, 1826, 141, 4831), -118.16692161560059, 0], [(0, 2838, 337, 4424, 7728, 503, 3904, 3904, 1078, 1140, 2648, 5590, 1826, 141, 4274), -118.14495658874512, 0], [(0, 2838, 337, 4424, 7728, 503, 3904, 3904, 1078, 1140, 2648, 5590, 1826, 5361, 4558), -118.18859958648682, 1], [(0, 2838, 337, 4424, 7728, 503, 3904, 3904, 1078, 1140, 2648, 5590, 1826, 5361, 7150), -118.12321758270264, 1]], [[(0, 2838, 337, 4424, 7728, 503, 3904, 3904, 1078, 1140, 2648, 5590, 1826, 141, 4831), -118.17917346954346, 0], [(0, 2838, 337, 4424, 7728, 503, 3904, 3904, 1078, 1140, 2648, 5590, 1826, 141, 4274), -118.15718173980713, 0], [(0, 2838, 337, 4424, 7728, 503, 3904, 3904, 1078, 1140, 2648, 5590, 1826, 5361, 4558), -118.20095634460449, 1], [(0, 2838, 337, 4424, 7728, 503, 3904, 3904, 1078, 1140, 2648, 5590, 1826, 5361, 7150), -118.13551807403564, 1]], [[(0, 2838, 337, 4424, 7728, 503, 3904, 3904, 1078, 1140, 2648, 5590, 1826, 141, 4831), -118.16820812225342, 0], [(0, 2838, 337, 4424, 7728, 503, 3904, 3904, 1078, 1140, 2648, 5590, 1826, 141, 4274), -118.14620590209961, 0], [(0, 2838, 337, 4424, 7728, 503, 3904, 3904, 1078, 1140, 2648, 5590, 1826, 5361, 4558), -118.19000434875488, 1], [(0, 2838, 337, 4424, 7728, 503, 3904, 3904, 1078, 1140, 2648, 5590, 1826, 5361, 7150), -118.12463665008545, 1]]]\n",
            "next_beams[0] after sort:  [[(0, 2838, 337, 4424, 7728, 503, 3904, 3904, 1078, 1140, 2648, 5590, 1826, 5361, 7150), -118.12321758270264, 1], [(0, 2838, 337, 4424, 7728, 503, 3904, 3904, 1078, 1140, 2648, 5590, 1826, 141, 4274), -118.14495658874512, 0], [(0, 2838, 337, 4424, 7728, 503, 3904, 3904, 1078, 1140, 2648, 5590, 1826, 141, 4831), -118.16692161560059, 0], [(0, 2838, 337, 4424, 7728, 503, 3904, 3904, 1078, 1140, 2648, 5590, 1826, 5361, 4558), -118.18859958648682, 1]]\n",
            "next_beams[1] after sort:  [[(0, 2838, 337, 4424, 7728, 503, 3904, 3904, 1078, 1140, 2648, 5590, 1826, 5361, 7150), -118.13551807403564, 1], [(0, 2838, 337, 4424, 7728, 503, 3904, 3904, 1078, 1140, 2648, 5590, 1826, 141, 4274), -118.15718173980713, 0], [(0, 2838, 337, 4424, 7728, 503, 3904, 3904, 1078, 1140, 2648, 5590, 1826, 141, 4831), -118.17917346954346, 0], [(0, 2838, 337, 4424, 7728, 503, 3904, 3904, 1078, 1140, 2648, 5590, 1826, 5361, 4558), -118.20095634460449, 1]]\n",
            "next_beams[2] after sort:  [[(0, 2838, 337, 4424, 7728, 503, 3904, 3904, 1078, 1140, 2648, 5590, 1826, 5361, 7150), -118.12463665008545, 1], [(0, 2838, 337, 4424, 7728, 503, 3904, 3904, 1078, 1140, 2648, 5590, 1826, 141, 4274), -118.14620590209961, 0], [(0, 2838, 337, 4424, 7728, 503, 3904, 3904, 1078, 1140, 2648, 5590, 1826, 141, 4831), -118.16820812225342, 0], [(0, 2838, 337, 4424, 7728, 503, 3904, 3904, 1078, 1140, 2648, 5590, 1826, 5361, 4558), -118.19000434875488, 1]]\n",
            "outputs[0][0] = \n",
            " (0, 2838, 337, 4424, 7728, 503, 3904, 3904, 1078, 1140, 2648, 5590, 1826, 5361, 7150)\n",
            "outputs[0][1] = \n",
            " (0, 2838, 337, 4424, 7728, 503, 3904, 3904, 1078, 1140, 2648, 5590, 1826, 5361, 7150)\n",
            "outputs[0][2] = \n",
            " (0, 2838, 337, 4424, 7728, 503, 3904, 3904, 1078, 1140, 2648, 5590, 1826, 5361, 7150)\n",
            "outputs[1][0] = \n",
            " (0, 2838, 337, 4424, 7728, 503, 3904, 3904, 1078, 1140, 2648, 5590, 1826, 141, 4274)\n",
            "outputs[1][1] = \n",
            " (0, 2838, 337, 4424, 7728, 503, 3904, 3904, 1078, 1140, 2648, 5590, 1826, 141, 4274)\n",
            "outputs[1][2] = \n",
            " (0, 2838, 337, 4424, 7728, 503, 3904, 3904, 1078, 1140, 2648, 5590, 1826, 141, 4274)\n",
            "next_beams =  [[[(0, 2838, 337, 4424, 7728, 503, 3904, 3904, 1078, 1140, 2648, 5590, 1826, 5361, 7150, 1897), -126.5283088684082, 0], [(0, 2838, 337, 4424, 7728, 503, 3904, 3904, 1078, 1140, 2648, 5590, 1826, 5361, 7150, 6132), -126.50168704986572, 0], [(0, 2838, 337, 4424, 7728, 503, 3904, 3904, 1078, 1140, 2648, 5590, 1826, 141, 4274, 6614), -126.6164026260376, 1], [(0, 2838, 337, 4424, 7728, 503, 3904, 3904, 1078, 1140, 2648, 5590, 1826, 141, 4274, 2116), -126.60508251190186, 1]], [[(0, 2838, 337, 4424, 7728, 503, 3904, 3904, 1078, 1140, 2648, 5590, 1826, 5361, 7150, 1897), -126.5406141281128, 0], [(0, 2838, 337, 4424, 7728, 503, 3904, 3904, 1078, 1140, 2648, 5590, 1826, 5361, 7150, 6132), -126.51398468017578, 0], [(0, 2838, 337, 4424, 7728, 503, 3904, 3904, 1078, 1140, 2648, 5590, 1826, 141, 4274, 6614), -126.62863826751709, 1], [(0, 2838, 337, 4424, 7728, 503, 3904, 3904, 1078, 1140, 2648, 5590, 1826, 141, 4274, 2116), -126.61733627319336, 1]], [[(0, 2838, 337, 4424, 7728, 503, 3904, 3904, 1078, 1140, 2648, 5590, 1826, 5361, 7150, 1897), -126.52973175048828, 0], [(0, 2838, 337, 4424, 7728, 503, 3904, 3904, 1078, 1140, 2648, 5590, 1826, 5361, 7150, 6132), -126.50311088562012, 0], [(0, 2838, 337, 4424, 7728, 503, 3904, 3904, 1078, 1140, 2648, 5590, 1826, 141, 4274, 6614), -126.61765766143799, 1], [(0, 2838, 337, 4424, 7728, 503, 3904, 3904, 1078, 1140, 2648, 5590, 1826, 141, 4274, 2116), -126.6063346862793, 1]]]\n",
            "next_beams[0] after sort:  [[(0, 2838, 337, 4424, 7728, 503, 3904, 3904, 1078, 1140, 2648, 5590, 1826, 5361, 7150, 6132), -126.50168704986572, 0], [(0, 2838, 337, 4424, 7728, 503, 3904, 3904, 1078, 1140, 2648, 5590, 1826, 5361, 7150, 1897), -126.5283088684082, 0], [(0, 2838, 337, 4424, 7728, 503, 3904, 3904, 1078, 1140, 2648, 5590, 1826, 141, 4274, 2116), -126.60508251190186, 1], [(0, 2838, 337, 4424, 7728, 503, 3904, 3904, 1078, 1140, 2648, 5590, 1826, 141, 4274, 6614), -126.6164026260376, 1]]\n",
            "next_beams[1] after sort:  [[(0, 2838, 337, 4424, 7728, 503, 3904, 3904, 1078, 1140, 2648, 5590, 1826, 5361, 7150, 6132), -126.51398468017578, 0], [(0, 2838, 337, 4424, 7728, 503, 3904, 3904, 1078, 1140, 2648, 5590, 1826, 5361, 7150, 1897), -126.5406141281128, 0], [(0, 2838, 337, 4424, 7728, 503, 3904, 3904, 1078, 1140, 2648, 5590, 1826, 141, 4274, 2116), -126.61733627319336, 1], [(0, 2838, 337, 4424, 7728, 503, 3904, 3904, 1078, 1140, 2648, 5590, 1826, 141, 4274, 6614), -126.62863826751709, 1]]\n",
            "next_beams[2] after sort:  [[(0, 2838, 337, 4424, 7728, 503, 3904, 3904, 1078, 1140, 2648, 5590, 1826, 5361, 7150, 6132), -126.50311088562012, 0], [(0, 2838, 337, 4424, 7728, 503, 3904, 3904, 1078, 1140, 2648, 5590, 1826, 5361, 7150, 1897), -126.52973175048828, 0], [(0, 2838, 337, 4424, 7728, 503, 3904, 3904, 1078, 1140, 2648, 5590, 1826, 141, 4274, 2116), -126.6063346862793, 1], [(0, 2838, 337, 4424, 7728, 503, 3904, 3904, 1078, 1140, 2648, 5590, 1826, 141, 4274, 6614), -126.61765766143799, 1]]\n",
            "outputs[0][0] = \n",
            " (0, 2838, 337, 4424, 7728, 503, 3904, 3904, 1078, 1140, 2648, 5590, 1826, 5361, 7150, 6132)\n",
            "outputs[0][1] = \n",
            " (0, 2838, 337, 4424, 7728, 503, 3904, 3904, 1078, 1140, 2648, 5590, 1826, 5361, 7150, 6132)\n",
            "outputs[0][2] = \n",
            " (0, 2838, 337, 4424, 7728, 503, 3904, 3904, 1078, 1140, 2648, 5590, 1826, 5361, 7150, 6132)\n",
            "outputs[1][0] = \n",
            " (0, 2838, 337, 4424, 7728, 503, 3904, 3904, 1078, 1140, 2648, 5590, 1826, 5361, 7150, 1897)\n",
            "outputs[1][1] = \n",
            " (0, 2838, 337, 4424, 7728, 503, 3904, 3904, 1078, 1140, 2648, 5590, 1826, 5361, 7150, 1897)\n",
            "outputs[1][2] = \n",
            " (0, 2838, 337, 4424, 7728, 503, 3904, 3904, 1078, 1140, 2648, 5590, 1826, 5361, 7150, 1897)\n",
            "next_beams =  [[[(0, 2838, 337, 4424, 7728, 503, 3904, 3904, 1078, 1140, 2648, 5590, 1826, 5361, 7150, 6132, 1535), -134.95449924468994, 0], [(0, 2838, 337, 4424, 7728, 503, 3904, 3904, 1078, 1140, 2648, 5590, 1826, 5361, 7150, 6132, 4877), -134.9301462173462, 0], [(0, 2838, 337, 4424, 7728, 503, 3904, 3904, 1078, 1140, 2648, 5590, 1826, 5361, 7150, 1897, 1746), -135.04336643218994, 1], [(0, 2838, 337, 4424, 7728, 503, 3904, 3904, 1078, 1140, 2648, 5590, 1826, 5361, 7150, 1897, 4489), -135.03685569763184, 1]], [[(0, 2838, 337, 4424, 7728, 503, 3904, 3904, 1078, 1140, 2648, 5590, 1826, 5361, 7150, 6132, 1535), -134.96681308746338, 0], [(0, 2838, 337, 4424, 7728, 503, 3904, 3904, 1078, 1140, 2648, 5590, 1826, 5361, 7150, 6132, 4877), -134.94243907928467, 0], [(0, 2838, 337, 4424, 7728, 503, 3904, 3904, 1078, 1140, 2648, 5590, 1826, 5361, 7150, 1897, 1746), -135.0556869506836, 1], [(0, 2838, 337, 4424, 7728, 503, 3904, 3904, 1078, 1140, 2648, 5590, 1826, 5361, 7150, 1897, 4489), -135.0491590499878, 1]], [[(0, 2838, 337, 4424, 7728, 503, 3904, 3904, 1078, 1140, 2648, 5590, 1826, 5361, 7150, 6132, 1535), -134.95594310760498, 0], [(0, 2838, 337, 4424, 7728, 503, 3904, 3904, 1078, 1140, 2648, 5590, 1826, 5361, 7150, 6132, 4877), -134.93156337738037, 0], [(0, 2838, 337, 4424, 7728, 503, 3904, 3904, 1078, 1140, 2648, 5590, 1826, 5361, 7150, 1897, 1746), -135.04479217529297, 1], [(0, 2838, 337, 4424, 7728, 503, 3904, 3904, 1078, 1140, 2648, 5590, 1826, 5361, 7150, 1897, 4489), -135.0382957458496, 1]]]\n",
            "next_beams[0] after sort:  [[(0, 2838, 337, 4424, 7728, 503, 3904, 3904, 1078, 1140, 2648, 5590, 1826, 5361, 7150, 6132, 4877), -134.9301462173462, 0], [(0, 2838, 337, 4424, 7728, 503, 3904, 3904, 1078, 1140, 2648, 5590, 1826, 5361, 7150, 6132, 1535), -134.95449924468994, 0], [(0, 2838, 337, 4424, 7728, 503, 3904, 3904, 1078, 1140, 2648, 5590, 1826, 5361, 7150, 1897, 4489), -135.03685569763184, 1], [(0, 2838, 337, 4424, 7728, 503, 3904, 3904, 1078, 1140, 2648, 5590, 1826, 5361, 7150, 1897, 1746), -135.04336643218994, 1]]\n",
            "next_beams[1] after sort:  [[(0, 2838, 337, 4424, 7728, 503, 3904, 3904, 1078, 1140, 2648, 5590, 1826, 5361, 7150, 6132, 4877), -134.94243907928467, 0], [(0, 2838, 337, 4424, 7728, 503, 3904, 3904, 1078, 1140, 2648, 5590, 1826, 5361, 7150, 6132, 1535), -134.96681308746338, 0], [(0, 2838, 337, 4424, 7728, 503, 3904, 3904, 1078, 1140, 2648, 5590, 1826, 5361, 7150, 1897, 4489), -135.0491590499878, 1], [(0, 2838, 337, 4424, 7728, 503, 3904, 3904, 1078, 1140, 2648, 5590, 1826, 5361, 7150, 1897, 1746), -135.0556869506836, 1]]\n",
            "next_beams[2] after sort:  [[(0, 2838, 337, 4424, 7728, 503, 3904, 3904, 1078, 1140, 2648, 5590, 1826, 5361, 7150, 6132, 4877), -134.93156337738037, 0], [(0, 2838, 337, 4424, 7728, 503, 3904, 3904, 1078, 1140, 2648, 5590, 1826, 5361, 7150, 6132, 1535), -134.95594310760498, 0], [(0, 2838, 337, 4424, 7728, 503, 3904, 3904, 1078, 1140, 2648, 5590, 1826, 5361, 7150, 1897, 4489), -135.0382957458496, 1], [(0, 2838, 337, 4424, 7728, 503, 3904, 3904, 1078, 1140, 2648, 5590, 1826, 5361, 7150, 1897, 1746), -135.04479217529297, 1]]\n",
            "outputs[0][0] = \n",
            " (0, 2838, 337, 4424, 7728, 503, 3904, 3904, 1078, 1140, 2648, 5590, 1826, 5361, 7150, 6132, 4877)\n",
            "outputs[0][1] = \n",
            " (0, 2838, 337, 4424, 7728, 503, 3904, 3904, 1078, 1140, 2648, 5590, 1826, 5361, 7150, 6132, 4877)\n",
            "outputs[0][2] = \n",
            " (0, 2838, 337, 4424, 7728, 503, 3904, 3904, 1078, 1140, 2648, 5590, 1826, 5361, 7150, 6132, 4877)\n",
            "outputs[1][0] = \n",
            " (0, 2838, 337, 4424, 7728, 503, 3904, 3904, 1078, 1140, 2648, 5590, 1826, 5361, 7150, 6132, 1535)\n",
            "outputs[1][1] = \n",
            " (0, 2838, 337, 4424, 7728, 503, 3904, 3904, 1078, 1140, 2648, 5590, 1826, 5361, 7150, 6132, 1535)\n",
            "outputs[1][2] = \n",
            " (0, 2838, 337, 4424, 7728, 503, 3904, 3904, 1078, 1140, 2648, 5590, 1826, 5361, 7150, 6132, 1535)\n",
            "next_beams =  [[[(0, 2838, 337, 4424, 7728, 503, 3904, 3904, 1078, 1140, 2648, 5590, 1826, 5361, 7150, 6132, 4877, 3309), -143.4392318725586, 0], [(0, 2838, 337, 4424, 7728, 503, 3904, 3904, 1078, 1140, 2648, 5590, 1826, 5361, 7150, 6132, 4877, 4621), -143.42333316802979, 0], [(0, 2838, 337, 4424, 7728, 503, 3904, 3904, 1078, 1140, 2648, 5590, 1826, 5361, 7150, 6132, 1535, 6692), -143.45492267608643, 1], [(0, 2838, 337, 4424, 7728, 503, 3904, 3904, 1078, 1140, 2648, 5590, 1826, 5361, 7150, 6132, 1535, 4818), -143.44256591796875, 1]], [[(0, 2838, 337, 4424, 7728, 503, 3904, 3904, 1078, 1140, 2648, 5590, 1826, 5361, 7150, 6132, 4877, 3309), -143.45153141021729, 0], [(0, 2838, 337, 4424, 7728, 503, 3904, 3904, 1078, 1140, 2648, 5590, 1826, 5361, 7150, 6132, 4877, 4621), -143.4356288909912, 0], [(0, 2838, 337, 4424, 7728, 503, 3904, 3904, 1078, 1140, 2648, 5590, 1826, 5361, 7150, 6132, 1535, 6692), -143.46722221374512, 1], [(0, 2838, 337, 4424, 7728, 503, 3904, 3904, 1078, 1140, 2648, 5590, 1826, 5361, 7150, 6132, 1535, 4818), -143.45487594604492, 1]], [[(0, 2838, 337, 4424, 7728, 503, 3904, 3904, 1078, 1140, 2648, 5590, 1826, 5361, 7150, 6132, 4877, 3309), -143.44065284729004, 0], [(0, 2838, 337, 4424, 7728, 503, 3904, 3904, 1078, 1140, 2648, 5590, 1826, 5361, 7150, 6132, 4877, 4621), -143.4247579574585, 0], [(0, 2838, 337, 4424, 7728, 503, 3904, 3904, 1078, 1140, 2648, 5590, 1826, 5361, 7150, 6132, 1535, 6692), -143.45635890960693, 1], [(0, 2838, 337, 4424, 7728, 503, 3904, 3904, 1078, 1140, 2648, 5590, 1826, 5361, 7150, 6132, 1535, 4818), -143.44400310516357, 1]]]\n",
            "next_beams[0] after sort:  [[(0, 2838, 337, 4424, 7728, 503, 3904, 3904, 1078, 1140, 2648, 5590, 1826, 5361, 7150, 6132, 4877, 4621), -143.42333316802979, 0], [(0, 2838, 337, 4424, 7728, 503, 3904, 3904, 1078, 1140, 2648, 5590, 1826, 5361, 7150, 6132, 4877, 3309), -143.4392318725586, 0], [(0, 2838, 337, 4424, 7728, 503, 3904, 3904, 1078, 1140, 2648, 5590, 1826, 5361, 7150, 6132, 1535, 4818), -143.44256591796875, 1], [(0, 2838, 337, 4424, 7728, 503, 3904, 3904, 1078, 1140, 2648, 5590, 1826, 5361, 7150, 6132, 1535, 6692), -143.45492267608643, 1]]\n",
            "next_beams[1] after sort:  [[(0, 2838, 337, 4424, 7728, 503, 3904, 3904, 1078, 1140, 2648, 5590, 1826, 5361, 7150, 6132, 4877, 4621), -143.4356288909912, 0], [(0, 2838, 337, 4424, 7728, 503, 3904, 3904, 1078, 1140, 2648, 5590, 1826, 5361, 7150, 6132, 4877, 3309), -143.45153141021729, 0], [(0, 2838, 337, 4424, 7728, 503, 3904, 3904, 1078, 1140, 2648, 5590, 1826, 5361, 7150, 6132, 1535, 4818), -143.45487594604492, 1], [(0, 2838, 337, 4424, 7728, 503, 3904, 3904, 1078, 1140, 2648, 5590, 1826, 5361, 7150, 6132, 1535, 6692), -143.46722221374512, 1]]\n",
            "next_beams[2] after sort:  [[(0, 2838, 337, 4424, 7728, 503, 3904, 3904, 1078, 1140, 2648, 5590, 1826, 5361, 7150, 6132, 4877, 4621), -143.4247579574585, 0], [(0, 2838, 337, 4424, 7728, 503, 3904, 3904, 1078, 1140, 2648, 5590, 1826, 5361, 7150, 6132, 4877, 3309), -143.44065284729004, 0], [(0, 2838, 337, 4424, 7728, 503, 3904, 3904, 1078, 1140, 2648, 5590, 1826, 5361, 7150, 6132, 1535, 4818), -143.44400310516357, 1], [(0, 2838, 337, 4424, 7728, 503, 3904, 3904, 1078, 1140, 2648, 5590, 1826, 5361, 7150, 6132, 1535, 6692), -143.45635890960693, 1]]\n",
            "outputs[0][0] = \n",
            " (0, 2838, 337, 4424, 7728, 503, 3904, 3904, 1078, 1140, 2648, 5590, 1826, 5361, 7150, 6132, 4877, 4621)\n",
            "outputs[0][1] = \n",
            " (0, 2838, 337, 4424, 7728, 503, 3904, 3904, 1078, 1140, 2648, 5590, 1826, 5361, 7150, 6132, 4877, 4621)\n",
            "outputs[0][2] = \n",
            " (0, 2838, 337, 4424, 7728, 503, 3904, 3904, 1078, 1140, 2648, 5590, 1826, 5361, 7150, 6132, 4877, 4621)\n",
            "outputs[1][0] = \n",
            " (0, 2838, 337, 4424, 7728, 503, 3904, 3904, 1078, 1140, 2648, 5590, 1826, 5361, 7150, 6132, 4877, 3309)\n",
            "outputs[1][1] = \n",
            " (0, 2838, 337, 4424, 7728, 503, 3904, 3904, 1078, 1140, 2648, 5590, 1826, 5361, 7150, 6132, 4877, 3309)\n",
            "outputs[1][2] = \n",
            " (0, 2838, 337, 4424, 7728, 503, 3904, 3904, 1078, 1140, 2648, 5590, 1826, 5361, 7150, 6132, 4877, 3309)\n",
            "next_beams =  [[[(0, 2838, 337, 4424, 7728, 503, 3904, 3904, 1078, 1140, 2648, 5590, 1826, 5361, 7150, 6132, 4877, 4621, 6629), -151.90704250335693, 0], [(0, 2838, 337, 4424, 7728, 503, 3904, 3904, 1078, 1140, 2648, 5590, 1826, 5361, 7150, 6132, 4877, 4621, 6778), -151.8938808441162, 0], [(0, 2838, 337, 4424, 7728, 503, 3904, 3904, 1078, 1140, 2648, 5590, 1826, 5361, 7150, 6132, 4877, 3309, 3309), -151.9108943939209, 1], [(0, 2838, 337, 4424, 7728, 503, 3904, 3904, 1078, 1140, 2648, 5590, 1826, 5361, 7150, 6132, 4877, 3309, 1584), -151.84887218475342, 1]], [[(0, 2838, 337, 4424, 7728, 503, 3904, 3904, 1078, 1140, 2648, 5590, 1826, 5361, 7150, 6132, 4877, 4621, 6629), -151.9193410873413, 0], [(0, 2838, 337, 4424, 7728, 503, 3904, 3904, 1078, 1140, 2648, 5590, 1826, 5361, 7150, 6132, 4877, 4621, 6778), -151.90617656707764, 0], [(0, 2838, 337, 4424, 7728, 503, 3904, 3904, 1078, 1140, 2648, 5590, 1826, 5361, 7150, 6132, 4877, 3309, 3309), -151.92319869995117, 1], [(0, 2838, 337, 4424, 7728, 503, 3904, 3904, 1078, 1140, 2648, 5590, 1826, 5361, 7150, 6132, 4877, 3309, 1584), -151.86116981506348, 1]], [[(0, 2838, 337, 4424, 7728, 503, 3904, 3904, 1078, 1140, 2648, 5590, 1826, 5361, 7150, 6132, 4877, 4621, 6629), -151.9084711074829, 0], [(0, 2838, 337, 4424, 7728, 503, 3904, 3904, 1078, 1140, 2648, 5590, 1826, 5361, 7150, 6132, 4877, 4621, 6778), -151.89530563354492, 0], [(0, 2838, 337, 4424, 7728, 503, 3904, 3904, 1078, 1140, 2648, 5590, 1826, 5361, 7150, 6132, 4877, 3309, 3309), -151.91231727600098, 1], [(0, 2838, 337, 4424, 7728, 503, 3904, 3904, 1078, 1140, 2648, 5590, 1826, 5361, 7150, 6132, 4877, 3309, 1584), -151.85029125213623, 1]]]\n",
            "next_beams[0] after sort:  [[(0, 2838, 337, 4424, 7728, 503, 3904, 3904, 1078, 1140, 2648, 5590, 1826, 5361, 7150, 6132, 4877, 3309, 1584), -151.84887218475342, 1], [(0, 2838, 337, 4424, 7728, 503, 3904, 3904, 1078, 1140, 2648, 5590, 1826, 5361, 7150, 6132, 4877, 4621, 6778), -151.8938808441162, 0], [(0, 2838, 337, 4424, 7728, 503, 3904, 3904, 1078, 1140, 2648, 5590, 1826, 5361, 7150, 6132, 4877, 4621, 6629), -151.90704250335693, 0], [(0, 2838, 337, 4424, 7728, 503, 3904, 3904, 1078, 1140, 2648, 5590, 1826, 5361, 7150, 6132, 4877, 3309, 3309), -151.9108943939209, 1]]\n",
            "next_beams[1] after sort:  [[(0, 2838, 337, 4424, 7728, 503, 3904, 3904, 1078, 1140, 2648, 5590, 1826, 5361, 7150, 6132, 4877, 3309, 1584), -151.86116981506348, 1], [(0, 2838, 337, 4424, 7728, 503, 3904, 3904, 1078, 1140, 2648, 5590, 1826, 5361, 7150, 6132, 4877, 4621, 6778), -151.90617656707764, 0], [(0, 2838, 337, 4424, 7728, 503, 3904, 3904, 1078, 1140, 2648, 5590, 1826, 5361, 7150, 6132, 4877, 4621, 6629), -151.9193410873413, 0], [(0, 2838, 337, 4424, 7728, 503, 3904, 3904, 1078, 1140, 2648, 5590, 1826, 5361, 7150, 6132, 4877, 3309, 3309), -151.92319869995117, 1]]\n",
            "next_beams[2] after sort:  [[(0, 2838, 337, 4424, 7728, 503, 3904, 3904, 1078, 1140, 2648, 5590, 1826, 5361, 7150, 6132, 4877, 3309, 1584), -151.85029125213623, 1], [(0, 2838, 337, 4424, 7728, 503, 3904, 3904, 1078, 1140, 2648, 5590, 1826, 5361, 7150, 6132, 4877, 4621, 6778), -151.89530563354492, 0], [(0, 2838, 337, 4424, 7728, 503, 3904, 3904, 1078, 1140, 2648, 5590, 1826, 5361, 7150, 6132, 4877, 4621, 6629), -151.9084711074829, 0], [(0, 2838, 337, 4424, 7728, 503, 3904, 3904, 1078, 1140, 2648, 5590, 1826, 5361, 7150, 6132, 4877, 3309, 3309), -151.91231727600098, 1]]\n",
            "outputs[0][0] = \n",
            " (0, 2838, 337, 4424, 7728, 503, 3904, 3904, 1078, 1140, 2648, 5590, 1826, 5361, 7150, 6132, 4877, 3309, 1584)\n",
            "outputs[0][1] = \n",
            " (0, 2838, 337, 4424, 7728, 503, 3904, 3904, 1078, 1140, 2648, 5590, 1826, 5361, 7150, 6132, 4877, 3309, 1584)\n",
            "outputs[0][2] = \n",
            " (0, 2838, 337, 4424, 7728, 503, 3904, 3904, 1078, 1140, 2648, 5590, 1826, 5361, 7150, 6132, 4877, 3309, 1584)\n",
            "outputs[1][0] = \n",
            " (0, 2838, 337, 4424, 7728, 503, 3904, 3904, 1078, 1140, 2648, 5590, 1826, 5361, 7150, 6132, 4877, 4621, 6778)\n",
            "outputs[1][1] = \n",
            " (0, 2838, 337, 4424, 7728, 503, 3904, 3904, 1078, 1140, 2648, 5590, 1826, 5361, 7150, 6132, 4877, 4621, 6778)\n",
            "outputs[1][2] = \n",
            " (0, 2838, 337, 4424, 7728, 503, 3904, 3904, 1078, 1140, 2648, 5590, 1826, 5361, 7150, 6132, 4877, 4621, 6778)\n",
            "next_beams =  [[[(0, 2838, 337, 4424, 7728, 503, 3904, 3904, 1078, 1140, 2648, 5590, 1826, 5361, 7150, 6132, 4877, 3309, 1584, 3531), -160.348162651062, 0], [(0, 2838, 337, 4424, 7728, 503, 3904, 3904, 1078, 1140, 2648, 5590, 1826, 5361, 7150, 6132, 4877, 3309, 1584, 232), -160.30302906036377, 0], [(0, 2838, 337, 4424, 7728, 503, 3904, 3904, 1078, 1140, 2648, 5590, 1826, 5361, 7150, 6132, 4877, 4621, 6778, 3537), -160.4087734222412, 1], [(0, 2838, 337, 4424, 7728, 503, 3904, 3904, 1078, 1140, 2648, 5590, 1826, 5361, 7150, 6132, 4877, 4621, 6778, 6663), -160.38102436065674, 1]], [[(0, 2838, 337, 4424, 7728, 503, 3904, 3904, 1078, 1140, 2648, 5590, 1826, 5361, 7150, 6132, 4877, 3309, 1584, 3531), -160.36045837402344, 0], [(0, 2838, 337, 4424, 7728, 503, 3904, 3904, 1078, 1140, 2648, 5590, 1826, 5361, 7150, 6132, 4877, 3309, 1584, 232), -160.31532192230225, 0], [(0, 2838, 337, 4424, 7728, 503, 3904, 3904, 1078, 1140, 2648, 5590, 1826, 5361, 7150, 6132, 4877, 4621, 6778, 3537), -160.42106914520264, 1], [(0, 2838, 337, 4424, 7728, 503, 3904, 3904, 1078, 1140, 2648, 5590, 1826, 5361, 7150, 6132, 4877, 4621, 6778, 6663), -160.39331722259521, 1]], [[(0, 2838, 337, 4424, 7728, 503, 3904, 3904, 1078, 1140, 2648, 5590, 1826, 5361, 7150, 6132, 4877, 3309, 1584, 3531), -160.34958267211914, 0], [(0, 2838, 337, 4424, 7728, 503, 3904, 3904, 1078, 1140, 2648, 5590, 1826, 5361, 7150, 6132, 4877, 3309, 1584, 232), -160.3044490814209, 0], [(0, 2838, 337, 4424, 7728, 503, 3904, 3904, 1078, 1140, 2648, 5590, 1826, 5361, 7150, 6132, 4877, 4621, 6778, 3537), -160.41019439697266, 1], [(0, 2838, 337, 4424, 7728, 503, 3904, 3904, 1078, 1140, 2648, 5590, 1826, 5361, 7150, 6132, 4877, 4621, 6778, 6663), -160.38245010375977, 1]]]\n",
            "next_beams[0] after sort:  [[(0, 2838, 337, 4424, 7728, 503, 3904, 3904, 1078, 1140, 2648, 5590, 1826, 5361, 7150, 6132, 4877, 3309, 1584, 232), -160.30302906036377, 0], [(0, 2838, 337, 4424, 7728, 503, 3904, 3904, 1078, 1140, 2648, 5590, 1826, 5361, 7150, 6132, 4877, 3309, 1584, 3531), -160.348162651062, 0], [(0, 2838, 337, 4424, 7728, 503, 3904, 3904, 1078, 1140, 2648, 5590, 1826, 5361, 7150, 6132, 4877, 4621, 6778, 6663), -160.38102436065674, 1], [(0, 2838, 337, 4424, 7728, 503, 3904, 3904, 1078, 1140, 2648, 5590, 1826, 5361, 7150, 6132, 4877, 4621, 6778, 3537), -160.4087734222412, 1]]\n",
            "next_beams[1] after sort:  [[(0, 2838, 337, 4424, 7728, 503, 3904, 3904, 1078, 1140, 2648, 5590, 1826, 5361, 7150, 6132, 4877, 3309, 1584, 232), -160.31532192230225, 0], [(0, 2838, 337, 4424, 7728, 503, 3904, 3904, 1078, 1140, 2648, 5590, 1826, 5361, 7150, 6132, 4877, 3309, 1584, 3531), -160.36045837402344, 0], [(0, 2838, 337, 4424, 7728, 503, 3904, 3904, 1078, 1140, 2648, 5590, 1826, 5361, 7150, 6132, 4877, 4621, 6778, 6663), -160.39331722259521, 1], [(0, 2838, 337, 4424, 7728, 503, 3904, 3904, 1078, 1140, 2648, 5590, 1826, 5361, 7150, 6132, 4877, 4621, 6778, 3537), -160.42106914520264, 1]]\n",
            "next_beams[2] after sort:  [[(0, 2838, 337, 4424, 7728, 503, 3904, 3904, 1078, 1140, 2648, 5590, 1826, 5361, 7150, 6132, 4877, 3309, 1584, 232), -160.3044490814209, 0], [(0, 2838, 337, 4424, 7728, 503, 3904, 3904, 1078, 1140, 2648, 5590, 1826, 5361, 7150, 6132, 4877, 3309, 1584, 3531), -160.34958267211914, 0], [(0, 2838, 337, 4424, 7728, 503, 3904, 3904, 1078, 1140, 2648, 5590, 1826, 5361, 7150, 6132, 4877, 4621, 6778, 6663), -160.38245010375977, 1], [(0, 2838, 337, 4424, 7728, 503, 3904, 3904, 1078, 1140, 2648, 5590, 1826, 5361, 7150, 6132, 4877, 4621, 6778, 3537), -160.41019439697266, 1]]\n",
            "outputs[0][0] = \n",
            " (0, 2838, 337, 4424, 7728, 503, 3904, 3904, 1078, 1140, 2648, 5590, 1826, 5361, 7150, 6132, 4877, 3309, 1584, 232)\n",
            "outputs[0][1] = \n",
            " (0, 2838, 337, 4424, 7728, 503, 3904, 3904, 1078, 1140, 2648, 5590, 1826, 5361, 7150, 6132, 4877, 3309, 1584, 232)\n",
            "outputs[0][2] = \n",
            " (0, 2838, 337, 4424, 7728, 503, 3904, 3904, 1078, 1140, 2648, 5590, 1826, 5361, 7150, 6132, 4877, 3309, 1584, 232)\n",
            "outputs[1][0] = \n",
            " (0, 2838, 337, 4424, 7728, 503, 3904, 3904, 1078, 1140, 2648, 5590, 1826, 5361, 7150, 6132, 4877, 3309, 1584, 3531)\n",
            "outputs[1][1] = \n",
            " (0, 2838, 337, 4424, 7728, 503, 3904, 3904, 1078, 1140, 2648, 5590, 1826, 5361, 7150, 6132, 4877, 3309, 1584, 3531)\n",
            "outputs[1][2] = \n",
            " (0, 2838, 337, 4424, 7728, 503, 3904, 3904, 1078, 1140, 2648, 5590, 1826, 5361, 7150, 6132, 4877, 3309, 1584, 3531)\n",
            "next_beams =  [[[(0, 2838, 337, 4424, 7728, 503, 3904, 3904, 1078, 1140, 2648, 5590, 1826, 5361, 7150, 6132, 4877, 3309, 1584, 232, 1675), -168.80702877044678, 0], [(0, 2838, 337, 4424, 7728, 503, 3904, 3904, 1078, 1140, 2648, 5590, 1826, 5361, 7150, 6132, 4877, 3309, 1584, 232, 4872), -168.74325561523438, 0], [(0, 2838, 337, 4424, 7728, 503, 3904, 3904, 1078, 1140, 2648, 5590, 1826, 5361, 7150, 6132, 4877, 3309, 1584, 3531, 7718), -168.80964851379395, 1], [(0, 2838, 337, 4424, 7728, 503, 3904, 3904, 1078, 1140, 2648, 5590, 1826, 5361, 7150, 6132, 4877, 3309, 1584, 3531, 5198), -168.79114437103271, 1]], [[(0, 2838, 337, 4424, 7728, 503, 3904, 3904, 1078, 1140, 2648, 5590, 1826, 5361, 7150, 6132, 4877, 3309, 1584, 232, 1675), -168.8193235397339, 0], [(0, 2838, 337, 4424, 7728, 503, 3904, 3904, 1078, 1140, 2648, 5590, 1826, 5361, 7150, 6132, 4877, 3309, 1584, 232, 4872), -168.75555229187012, 0], [(0, 2838, 337, 4424, 7728, 503, 3904, 3904, 1078, 1140, 2648, 5590, 1826, 5361, 7150, 6132, 4877, 3309, 1584, 3531, 7718), -168.8219451904297, 1], [(0, 2838, 337, 4424, 7728, 503, 3904, 3904, 1078, 1140, 2648, 5590, 1826, 5361, 7150, 6132, 4877, 3309, 1584, 3531, 5198), -168.8034381866455, 1]], [[(0, 2838, 337, 4424, 7728, 503, 3904, 3904, 1078, 1140, 2648, 5590, 1826, 5361, 7150, 6132, 4877, 3309, 1584, 232, 1675), -168.8084487915039, 0], [(0, 2838, 337, 4424, 7728, 503, 3904, 3904, 1078, 1140, 2648, 5590, 1826, 5361, 7150, 6132, 4877, 3309, 1584, 232, 4872), -168.74467754364014, 0], [(0, 2838, 337, 4424, 7728, 503, 3904, 3904, 1078, 1140, 2648, 5590, 1826, 5361, 7150, 6132, 4877, 3309, 1584, 3531, 7718), -168.8110694885254, 1], [(0, 2838, 337, 4424, 7728, 503, 3904, 3904, 1078, 1140, 2648, 5590, 1826, 5361, 7150, 6132, 4877, 3309, 1584, 3531, 5198), -168.79256343841553, 1]]]\n",
            "next_beams[0] after sort:  [[(0, 2838, 337, 4424, 7728, 503, 3904, 3904, 1078, 1140, 2648, 5590, 1826, 5361, 7150, 6132, 4877, 3309, 1584, 232, 4872), -168.74325561523438, 0], [(0, 2838, 337, 4424, 7728, 503, 3904, 3904, 1078, 1140, 2648, 5590, 1826, 5361, 7150, 6132, 4877, 3309, 1584, 3531, 5198), -168.79114437103271, 1], [(0, 2838, 337, 4424, 7728, 503, 3904, 3904, 1078, 1140, 2648, 5590, 1826, 5361, 7150, 6132, 4877, 3309, 1584, 232, 1675), -168.80702877044678, 0], [(0, 2838, 337, 4424, 7728, 503, 3904, 3904, 1078, 1140, 2648, 5590, 1826, 5361, 7150, 6132, 4877, 3309, 1584, 3531, 7718), -168.80964851379395, 1]]\n",
            "next_beams[1] after sort:  [[(0, 2838, 337, 4424, 7728, 503, 3904, 3904, 1078, 1140, 2648, 5590, 1826, 5361, 7150, 6132, 4877, 3309, 1584, 232, 4872), -168.75555229187012, 0], [(0, 2838, 337, 4424, 7728, 503, 3904, 3904, 1078, 1140, 2648, 5590, 1826, 5361, 7150, 6132, 4877, 3309, 1584, 3531, 5198), -168.8034381866455, 1], [(0, 2838, 337, 4424, 7728, 503, 3904, 3904, 1078, 1140, 2648, 5590, 1826, 5361, 7150, 6132, 4877, 3309, 1584, 232, 1675), -168.8193235397339, 0], [(0, 2838, 337, 4424, 7728, 503, 3904, 3904, 1078, 1140, 2648, 5590, 1826, 5361, 7150, 6132, 4877, 3309, 1584, 3531, 7718), -168.8219451904297, 1]]\n",
            "next_beams[2] after sort:  [[(0, 2838, 337, 4424, 7728, 503, 3904, 3904, 1078, 1140, 2648, 5590, 1826, 5361, 7150, 6132, 4877, 3309, 1584, 232, 4872), -168.74467754364014, 0], [(0, 2838, 337, 4424, 7728, 503, 3904, 3904, 1078, 1140, 2648, 5590, 1826, 5361, 7150, 6132, 4877, 3309, 1584, 3531, 5198), -168.79256343841553, 1], [(0, 2838, 337, 4424, 7728, 503, 3904, 3904, 1078, 1140, 2648, 5590, 1826, 5361, 7150, 6132, 4877, 3309, 1584, 232, 1675), -168.8084487915039, 0], [(0, 2838, 337, 4424, 7728, 503, 3904, 3904, 1078, 1140, 2648, 5590, 1826, 5361, 7150, 6132, 4877, 3309, 1584, 3531, 7718), -168.8110694885254, 1]]\n",
            "outputs[0][0] = \n",
            " (0, 2838, 337, 4424, 7728, 503, 3904, 3904, 1078, 1140, 2648, 5590, 1826, 5361, 7150, 6132, 4877, 3309, 1584, 232, 4872)\n",
            "outputs[0][1] = \n",
            " (0, 2838, 337, 4424, 7728, 503, 3904, 3904, 1078, 1140, 2648, 5590, 1826, 5361, 7150, 6132, 4877, 3309, 1584, 232, 4872)\n",
            "outputs[0][2] = \n",
            " (0, 2838, 337, 4424, 7728, 503, 3904, 3904, 1078, 1140, 2648, 5590, 1826, 5361, 7150, 6132, 4877, 3309, 1584, 232, 4872)\n",
            "outputs[1][0] = \n",
            " (0, 2838, 337, 4424, 7728, 503, 3904, 3904, 1078, 1140, 2648, 5590, 1826, 5361, 7150, 6132, 4877, 3309, 1584, 3531, 5198)\n",
            "outputs[1][1] = \n",
            " (0, 2838, 337, 4424, 7728, 503, 3904, 3904, 1078, 1140, 2648, 5590, 1826, 5361, 7150, 6132, 4877, 3309, 1584, 3531, 5198)\n",
            "outputs[1][2] = \n",
            " (0, 2838, 337, 4424, 7728, 503, 3904, 3904, 1078, 1140, 2648, 5590, 1826, 5361, 7150, 6132, 4877, 3309, 1584, 3531, 5198)\n",
            "next_beams =  [[[(0, 2838, 337, 4424, 7728, 503, 3904, 3904, 1078, 1140, 2648, 5590, 1826, 5361, 7150, 6132, 4877, 3309, 1584, 232, 4872, 5296), -177.25045013427734, 0], [(0, 2838, 337, 4424, 7728, 503, 3904, 3904, 1078, 1140, 2648, 5590, 1826, 5361, 7150, 6132, 4877, 3309, 1584, 232, 4872, 6498), -177.23673057556152, 0], [(0, 2838, 337, 4424, 7728, 503, 3904, 3904, 1078, 1140, 2648, 5590, 1826, 5361, 7150, 6132, 4877, 3309, 1584, 3531, 5198, 3767), -177.27197551727295, 1], [(0, 2838, 337, 4424, 7728, 503, 3904, 3904, 1078, 1140, 2648, 5590, 1826, 5361, 7150, 6132, 4877, 3309, 1584, 3531, 5198, 3798), -177.2646713256836, 1]], [[(0, 2838, 337, 4424, 7728, 503, 3904, 3904, 1078, 1140, 2648, 5590, 1826, 5361, 7150, 6132, 4877, 3309, 1584, 232, 4872, 5296), -177.2627477645874, 0], [(0, 2838, 337, 4424, 7728, 503, 3904, 3904, 1078, 1140, 2648, 5590, 1826, 5361, 7150, 6132, 4877, 3309, 1584, 232, 4872, 6498), -177.24902820587158, 0], [(0, 2838, 337, 4424, 7728, 503, 3904, 3904, 1078, 1140, 2648, 5590, 1826, 5361, 7150, 6132, 4877, 3309, 1584, 3531, 5198, 3767), -177.28426933288574, 1], [(0, 2838, 337, 4424, 7728, 503, 3904, 3904, 1078, 1140, 2648, 5590, 1826, 5361, 7150, 6132, 4877, 3309, 1584, 3531, 5198, 3798), -177.27696418762207, 1]], [[(0, 2838, 337, 4424, 7728, 503, 3904, 3904, 1078, 1140, 2648, 5590, 1826, 5361, 7150, 6132, 4877, 3309, 1584, 232, 4872, 5296), -177.25187397003174, 0], [(0, 2838, 337, 4424, 7728, 503, 3904, 3904, 1078, 1140, 2648, 5590, 1826, 5361, 7150, 6132, 4877, 3309, 1584, 232, 4872, 6498), -177.23815441131592, 0], [(0, 2838, 337, 4424, 7728, 503, 3904, 3904, 1078, 1140, 2648, 5590, 1826, 5361, 7150, 6132, 4877, 3309, 1584, 3531, 5198, 3767), -177.27339553833008, 1], [(0, 2838, 337, 4424, 7728, 503, 3904, 3904, 1078, 1140, 2648, 5590, 1826, 5361, 7150, 6132, 4877, 3309, 1584, 3531, 5198, 3798), -177.2660894393921, 1]]]\n",
            "next_beams[0] after sort:  [[(0, 2838, 337, 4424, 7728, 503, 3904, 3904, 1078, 1140, 2648, 5590, 1826, 5361, 7150, 6132, 4877, 3309, 1584, 232, 4872, 6498), -177.23673057556152, 0], [(0, 2838, 337, 4424, 7728, 503, 3904, 3904, 1078, 1140, 2648, 5590, 1826, 5361, 7150, 6132, 4877, 3309, 1584, 232, 4872, 5296), -177.25045013427734, 0], [(0, 2838, 337, 4424, 7728, 503, 3904, 3904, 1078, 1140, 2648, 5590, 1826, 5361, 7150, 6132, 4877, 3309, 1584, 3531, 5198, 3798), -177.2646713256836, 1], [(0, 2838, 337, 4424, 7728, 503, 3904, 3904, 1078, 1140, 2648, 5590, 1826, 5361, 7150, 6132, 4877, 3309, 1584, 3531, 5198, 3767), -177.27197551727295, 1]]\n",
            "next_beams[1] after sort:  [[(0, 2838, 337, 4424, 7728, 503, 3904, 3904, 1078, 1140, 2648, 5590, 1826, 5361, 7150, 6132, 4877, 3309, 1584, 232, 4872, 6498), -177.24902820587158, 0], [(0, 2838, 337, 4424, 7728, 503, 3904, 3904, 1078, 1140, 2648, 5590, 1826, 5361, 7150, 6132, 4877, 3309, 1584, 232, 4872, 5296), -177.2627477645874, 0], [(0, 2838, 337, 4424, 7728, 503, 3904, 3904, 1078, 1140, 2648, 5590, 1826, 5361, 7150, 6132, 4877, 3309, 1584, 3531, 5198, 3798), -177.27696418762207, 1], [(0, 2838, 337, 4424, 7728, 503, 3904, 3904, 1078, 1140, 2648, 5590, 1826, 5361, 7150, 6132, 4877, 3309, 1584, 3531, 5198, 3767), -177.28426933288574, 1]]\n",
            "next_beams[2] after sort:  [[(0, 2838, 337, 4424, 7728, 503, 3904, 3904, 1078, 1140, 2648, 5590, 1826, 5361, 7150, 6132, 4877, 3309, 1584, 232, 4872, 6498), -177.23815441131592, 0], [(0, 2838, 337, 4424, 7728, 503, 3904, 3904, 1078, 1140, 2648, 5590, 1826, 5361, 7150, 6132, 4877, 3309, 1584, 232, 4872, 5296), -177.25187397003174, 0], [(0, 2838, 337, 4424, 7728, 503, 3904, 3904, 1078, 1140, 2648, 5590, 1826, 5361, 7150, 6132, 4877, 3309, 1584, 3531, 5198, 3798), -177.2660894393921, 1], [(0, 2838, 337, 4424, 7728, 503, 3904, 3904, 1078, 1140, 2648, 5590, 1826, 5361, 7150, 6132, 4877, 3309, 1584, 3531, 5198, 3767), -177.27339553833008, 1]]\n",
            "outputs[0][0] = \n",
            " (0, 2838, 337, 4424, 7728, 503, 3904, 3904, 1078, 1140, 2648, 5590, 1826, 5361, 7150, 6132, 4877, 3309, 1584, 232, 4872, 6498)\n",
            "outputs[0][1] = \n",
            " (0, 2838, 337, 4424, 7728, 503, 3904, 3904, 1078, 1140, 2648, 5590, 1826, 5361, 7150, 6132, 4877, 3309, 1584, 232, 4872, 6498)\n",
            "outputs[0][2] = \n",
            " (0, 2838, 337, 4424, 7728, 503, 3904, 3904, 1078, 1140, 2648, 5590, 1826, 5361, 7150, 6132, 4877, 3309, 1584, 232, 4872, 6498)\n",
            "outputs[1][0] = \n",
            " (0, 2838, 337, 4424, 7728, 503, 3904, 3904, 1078, 1140, 2648, 5590, 1826, 5361, 7150, 6132, 4877, 3309, 1584, 232, 4872, 5296)\n",
            "outputs[1][1] = \n",
            " (0, 2838, 337, 4424, 7728, 503, 3904, 3904, 1078, 1140, 2648, 5590, 1826, 5361, 7150, 6132, 4877, 3309, 1584, 232, 4872, 5296)\n",
            "outputs[1][2] = \n",
            " (0, 2838, 337, 4424, 7728, 503, 3904, 3904, 1078, 1140, 2648, 5590, 1826, 5361, 7150, 6132, 4877, 3309, 1584, 232, 4872, 5296)\n",
            "next_beams =  [[[(0, 2838, 337, 4424, 7728, 503, 3904, 3904, 1078, 1140, 2648, 5590, 1826, 5361, 7150, 6132, 4877, 3309, 1584, 232, 4872, 6498, 6316), -185.71948146820068, 0], [(0, 2838, 337, 4424, 7728, 503, 3904, 3904, 1078, 1140, 2648, 5590, 1826, 5361, 7150, 6132, 4877, 3309, 1584, 232, 4872, 6498, 3835), -185.70024490356445, 0], [(0, 2838, 337, 4424, 7728, 503, 3904, 3904, 1078, 1140, 2648, 5590, 1826, 5361, 7150, 6132, 4877, 3309, 1584, 232, 4872, 5296, 7563), -185.7670669555664, 1], [(0, 2838, 337, 4424, 7728, 503, 3904, 3904, 1078, 1140, 2648, 5590, 1826, 5361, 7150, 6132, 4877, 3309, 1584, 232, 4872, 5296, 6945), -185.7497844696045, 1]], [[(0, 2838, 337, 4424, 7728, 503, 3904, 3904, 1078, 1140, 2648, 5590, 1826, 5361, 7150, 6132, 4877, 3309, 1584, 232, 4872, 6498, 6316), -185.73178005218506, 0], [(0, 2838, 337, 4424, 7728, 503, 3904, 3904, 1078, 1140, 2648, 5590, 1826, 5361, 7150, 6132, 4877, 3309, 1584, 232, 4872, 6498, 3835), -185.7125425338745, 0], [(0, 2838, 337, 4424, 7728, 503, 3904, 3904, 1078, 1140, 2648, 5590, 1826, 5361, 7150, 6132, 4877, 3309, 1584, 232, 4872, 5296, 7563), -185.77936363220215, 1], [(0, 2838, 337, 4424, 7728, 503, 3904, 3904, 1078, 1140, 2648, 5590, 1826, 5361, 7150, 6132, 4877, 3309, 1584, 232, 4872, 5296, 6945), -185.76208209991455, 1]], [[(0, 2838, 337, 4424, 7728, 503, 3904, 3904, 1078, 1140, 2648, 5590, 1826, 5361, 7150, 6132, 4877, 3309, 1584, 232, 4872, 6498, 6316), -185.7209072113037, 0], [(0, 2838, 337, 4424, 7728, 503, 3904, 3904, 1078, 1140, 2648, 5590, 1826, 5361, 7150, 6132, 4877, 3309, 1584, 232, 4872, 6498, 3835), -185.70166873931885, 0], [(0, 2838, 337, 4424, 7728, 503, 3904, 3904, 1078, 1140, 2648, 5590, 1826, 5361, 7150, 6132, 4877, 3309, 1584, 232, 4872, 5296, 7563), -185.76849174499512, 1], [(0, 2838, 337, 4424, 7728, 503, 3904, 3904, 1078, 1140, 2648, 5590, 1826, 5361, 7150, 6132, 4877, 3309, 1584, 232, 4872, 5296, 6945), -185.7512092590332, 1]]]\n",
            "next_beams[0] after sort:  [[(0, 2838, 337, 4424, 7728, 503, 3904, 3904, 1078, 1140, 2648, 5590, 1826, 5361, 7150, 6132, 4877, 3309, 1584, 232, 4872, 6498, 3835), -185.70024490356445, 0], [(0, 2838, 337, 4424, 7728, 503, 3904, 3904, 1078, 1140, 2648, 5590, 1826, 5361, 7150, 6132, 4877, 3309, 1584, 232, 4872, 6498, 6316), -185.71948146820068, 0], [(0, 2838, 337, 4424, 7728, 503, 3904, 3904, 1078, 1140, 2648, 5590, 1826, 5361, 7150, 6132, 4877, 3309, 1584, 232, 4872, 5296, 6945), -185.7497844696045, 1], [(0, 2838, 337, 4424, 7728, 503, 3904, 3904, 1078, 1140, 2648, 5590, 1826, 5361, 7150, 6132, 4877, 3309, 1584, 232, 4872, 5296, 7563), -185.7670669555664, 1]]\n",
            "next_beams[1] after sort:  [[(0, 2838, 337, 4424, 7728, 503, 3904, 3904, 1078, 1140, 2648, 5590, 1826, 5361, 7150, 6132, 4877, 3309, 1584, 232, 4872, 6498, 3835), -185.7125425338745, 0], [(0, 2838, 337, 4424, 7728, 503, 3904, 3904, 1078, 1140, 2648, 5590, 1826, 5361, 7150, 6132, 4877, 3309, 1584, 232, 4872, 6498, 6316), -185.73178005218506, 0], [(0, 2838, 337, 4424, 7728, 503, 3904, 3904, 1078, 1140, 2648, 5590, 1826, 5361, 7150, 6132, 4877, 3309, 1584, 232, 4872, 5296, 6945), -185.76208209991455, 1], [(0, 2838, 337, 4424, 7728, 503, 3904, 3904, 1078, 1140, 2648, 5590, 1826, 5361, 7150, 6132, 4877, 3309, 1584, 232, 4872, 5296, 7563), -185.77936363220215, 1]]\n",
            "next_beams[2] after sort:  [[(0, 2838, 337, 4424, 7728, 503, 3904, 3904, 1078, 1140, 2648, 5590, 1826, 5361, 7150, 6132, 4877, 3309, 1584, 232, 4872, 6498, 3835), -185.70166873931885, 0], [(0, 2838, 337, 4424, 7728, 503, 3904, 3904, 1078, 1140, 2648, 5590, 1826, 5361, 7150, 6132, 4877, 3309, 1584, 232, 4872, 6498, 6316), -185.7209072113037, 0], [(0, 2838, 337, 4424, 7728, 503, 3904, 3904, 1078, 1140, 2648, 5590, 1826, 5361, 7150, 6132, 4877, 3309, 1584, 232, 4872, 5296, 6945), -185.7512092590332, 1], [(0, 2838, 337, 4424, 7728, 503, 3904, 3904, 1078, 1140, 2648, 5590, 1826, 5361, 7150, 6132, 4877, 3309, 1584, 232, 4872, 5296, 7563), -185.76849174499512, 1]]\n",
            "outputs[0][0] = \n",
            " (0, 2838, 337, 4424, 7728, 503, 3904, 3904, 1078, 1140, 2648, 5590, 1826, 5361, 7150, 6132, 4877, 3309, 1584, 232, 4872, 6498, 3835)\n",
            "outputs[0][1] = \n",
            " (0, 2838, 337, 4424, 7728, 503, 3904, 3904, 1078, 1140, 2648, 5590, 1826, 5361, 7150, 6132, 4877, 3309, 1584, 232, 4872, 6498, 3835)\n",
            "outputs[0][2] = \n",
            " (0, 2838, 337, 4424, 7728, 503, 3904, 3904, 1078, 1140, 2648, 5590, 1826, 5361, 7150, 6132, 4877, 3309, 1584, 232, 4872, 6498, 3835)\n",
            "outputs[1][0] = \n",
            " (0, 2838, 337, 4424, 7728, 503, 3904, 3904, 1078, 1140, 2648, 5590, 1826, 5361, 7150, 6132, 4877, 3309, 1584, 232, 4872, 6498, 6316)\n",
            "outputs[1][1] = \n",
            " (0, 2838, 337, 4424, 7728, 503, 3904, 3904, 1078, 1140, 2648, 5590, 1826, 5361, 7150, 6132, 4877, 3309, 1584, 232, 4872, 6498, 6316)\n",
            "outputs[1][2] = \n",
            " (0, 2838, 337, 4424, 7728, 503, 3904, 3904, 1078, 1140, 2648, 5590, 1826, 5361, 7150, 6132, 4877, 3309, 1584, 232, 4872, 6498, 6316)\n",
            "next_beams =  [[[(0, 2838, 337, 4424, 7728, 503, 3904, 3904, 1078, 1140, 2648, 5590, 1826, 5361, 7150, 6132, 4877, 3309, 1584, 232, 4872, 6498, 3835, 3453), -194.21870517730713, 0], [(0, 2838, 337, 4424, 7728, 503, 3904, 3904, 1078, 1140, 2648, 5590, 1826, 5361, 7150, 6132, 4877, 3309, 1584, 232, 4872, 6498, 3835, 2894), -194.19302940368652, 0], [(0, 2838, 337, 4424, 7728, 503, 3904, 3904, 1078, 1140, 2648, 5590, 1826, 5361, 7150, 6132, 4877, 3309, 1584, 232, 4872, 6498, 6316, 5479), -194.3183012008667, 1], [(0, 2838, 337, 4424, 7728, 503, 3904, 3904, 1078, 1140, 2648, 5590, 1826, 5361, 7150, 6132, 4877, 3309, 1584, 232, 4872, 6498, 6316, 4487), -194.31372547149658, 1]], [[(0, 2838, 337, 4424, 7728, 503, 3904, 3904, 1078, 1140, 2648, 5590, 1826, 5361, 7150, 6132, 4877, 3309, 1584, 232, 4872, 6498, 3835, 3453), -194.23100185394287, 0], [(0, 2838, 337, 4424, 7728, 503, 3904, 3904, 1078, 1140, 2648, 5590, 1826, 5361, 7150, 6132, 4877, 3309, 1584, 232, 4872, 6498, 3835, 2894), -194.20532703399658, 0], [(0, 2838, 337, 4424, 7728, 503, 3904, 3904, 1078, 1140, 2648, 5590, 1826, 5361, 7150, 6132, 4877, 3309, 1584, 232, 4872, 6498, 6316, 5479), -194.33059978485107, 1], [(0, 2838, 337, 4424, 7728, 503, 3904, 3904, 1078, 1140, 2648, 5590, 1826, 5361, 7150, 6132, 4877, 3309, 1584, 232, 4872, 6498, 6316, 4487), -194.32602405548096, 1]], [[(0, 2838, 337, 4424, 7728, 503, 3904, 3904, 1078, 1140, 2648, 5590, 1826, 5361, 7150, 6132, 4877, 3309, 1584, 232, 4872, 6498, 3835, 3453), -194.2201271057129, 0], [(0, 2838, 337, 4424, 7728, 503, 3904, 3904, 1078, 1140, 2648, 5590, 1826, 5361, 7150, 6132, 4877, 3309, 1584, 232, 4872, 6498, 3835, 2894), -194.1944522857666, 0], [(0, 2838, 337, 4424, 7728, 503, 3904, 3904, 1078, 1140, 2648, 5590, 1826, 5361, 7150, 6132, 4877, 3309, 1584, 232, 4872, 6498, 6316, 5479), -194.31972694396973, 1], [(0, 2838, 337, 4424, 7728, 503, 3904, 3904, 1078, 1140, 2648, 5590, 1826, 5361, 7150, 6132, 4877, 3309, 1584, 232, 4872, 6498, 6316, 4487), -194.31515216827393, 1]]]\n",
            "next_beams[0] after sort:  [[(0, 2838, 337, 4424, 7728, 503, 3904, 3904, 1078, 1140, 2648, 5590, 1826, 5361, 7150, 6132, 4877, 3309, 1584, 232, 4872, 6498, 3835, 2894), -194.19302940368652, 0], [(0, 2838, 337, 4424, 7728, 503, 3904, 3904, 1078, 1140, 2648, 5590, 1826, 5361, 7150, 6132, 4877, 3309, 1584, 232, 4872, 6498, 3835, 3453), -194.21870517730713, 0], [(0, 2838, 337, 4424, 7728, 503, 3904, 3904, 1078, 1140, 2648, 5590, 1826, 5361, 7150, 6132, 4877, 3309, 1584, 232, 4872, 6498, 6316, 4487), -194.31372547149658, 1], [(0, 2838, 337, 4424, 7728, 503, 3904, 3904, 1078, 1140, 2648, 5590, 1826, 5361, 7150, 6132, 4877, 3309, 1584, 232, 4872, 6498, 6316, 5479), -194.3183012008667, 1]]\n",
            "next_beams[1] after sort:  [[(0, 2838, 337, 4424, 7728, 503, 3904, 3904, 1078, 1140, 2648, 5590, 1826, 5361, 7150, 6132, 4877, 3309, 1584, 232, 4872, 6498, 3835, 2894), -194.20532703399658, 0], [(0, 2838, 337, 4424, 7728, 503, 3904, 3904, 1078, 1140, 2648, 5590, 1826, 5361, 7150, 6132, 4877, 3309, 1584, 232, 4872, 6498, 3835, 3453), -194.23100185394287, 0], [(0, 2838, 337, 4424, 7728, 503, 3904, 3904, 1078, 1140, 2648, 5590, 1826, 5361, 7150, 6132, 4877, 3309, 1584, 232, 4872, 6498, 6316, 4487), -194.32602405548096, 1], [(0, 2838, 337, 4424, 7728, 503, 3904, 3904, 1078, 1140, 2648, 5590, 1826, 5361, 7150, 6132, 4877, 3309, 1584, 232, 4872, 6498, 6316, 5479), -194.33059978485107, 1]]\n",
            "next_beams[2] after sort:  [[(0, 2838, 337, 4424, 7728, 503, 3904, 3904, 1078, 1140, 2648, 5590, 1826, 5361, 7150, 6132, 4877, 3309, 1584, 232, 4872, 6498, 3835, 2894), -194.1944522857666, 0], [(0, 2838, 337, 4424, 7728, 503, 3904, 3904, 1078, 1140, 2648, 5590, 1826, 5361, 7150, 6132, 4877, 3309, 1584, 232, 4872, 6498, 3835, 3453), -194.2201271057129, 0], [(0, 2838, 337, 4424, 7728, 503, 3904, 3904, 1078, 1140, 2648, 5590, 1826, 5361, 7150, 6132, 4877, 3309, 1584, 232, 4872, 6498, 6316, 4487), -194.31515216827393, 1], [(0, 2838, 337, 4424, 7728, 503, 3904, 3904, 1078, 1140, 2648, 5590, 1826, 5361, 7150, 6132, 4877, 3309, 1584, 232, 4872, 6498, 6316, 5479), -194.31972694396973, 1]]\n",
            "outputs[0][0] = \n",
            " (0, 2838, 337, 4424, 7728, 503, 3904, 3904, 1078, 1140, 2648, 5590, 1826, 5361, 7150, 6132, 4877, 3309, 1584, 232, 4872, 6498, 3835, 2894)\n",
            "outputs[0][1] = \n",
            " (0, 2838, 337, 4424, 7728, 503, 3904, 3904, 1078, 1140, 2648, 5590, 1826, 5361, 7150, 6132, 4877, 3309, 1584, 232, 4872, 6498, 3835, 2894)\n",
            "outputs[0][2] = \n",
            " (0, 2838, 337, 4424, 7728, 503, 3904, 3904, 1078, 1140, 2648, 5590, 1826, 5361, 7150, 6132, 4877, 3309, 1584, 232, 4872, 6498, 3835, 2894)\n",
            "outputs[1][0] = \n",
            " (0, 2838, 337, 4424, 7728, 503, 3904, 3904, 1078, 1140, 2648, 5590, 1826, 5361, 7150, 6132, 4877, 3309, 1584, 232, 4872, 6498, 3835, 3453)\n",
            "outputs[1][1] = \n",
            " (0, 2838, 337, 4424, 7728, 503, 3904, 3904, 1078, 1140, 2648, 5590, 1826, 5361, 7150, 6132, 4877, 3309, 1584, 232, 4872, 6498, 3835, 3453)\n",
            "outputs[1][2] = \n",
            " (0, 2838, 337, 4424, 7728, 503, 3904, 3904, 1078, 1140, 2648, 5590, 1826, 5361, 7150, 6132, 4877, 3309, 1584, 232, 4872, 6498, 3835, 3453)\n",
            "next_beams =  [[[(0, 2838, 337, 4424, 7728, 503, 3904, 3904, 1078, 1140, 2648, 5590, 1826, 5361, 7150, 6132, 4877, 3309, 1584, 232, 4872, 6498, 3835, 2894, 567), -202.74820518493652, 0], [(0, 2838, 337, 4424, 7728, 503, 3904, 3904, 1078, 1140, 2648, 5590, 1826, 5361, 7150, 6132, 4877, 3309, 1584, 232, 4872, 6498, 3835, 2894, 2017), -202.72190952301025, 0], [(0, 2838, 337, 4424, 7728, 503, 3904, 3904, 1078, 1140, 2648, 5590, 1826, 5361, 7150, 6132, 4877, 3309, 1584, 232, 4872, 6498, 3835, 3453, 4158), -202.73481559753418, 1], [(0, 2838, 337, 4424, 7728, 503, 3904, 3904, 1078, 1140, 2648, 5590, 1826, 5361, 7150, 6132, 4877, 3309, 1584, 232, 4872, 6498, 3835, 3453, 3040), -202.70654582977295, 1]], [[(0, 2838, 337, 4424, 7728, 503, 3904, 3904, 1078, 1140, 2648, 5590, 1826, 5361, 7150, 6132, 4877, 3309, 1584, 232, 4872, 6498, 3835, 2894, 567), -202.76050281524658, 0], [(0, 2838, 337, 4424, 7728, 503, 3904, 3904, 1078, 1140, 2648, 5590, 1826, 5361, 7150, 6132, 4877, 3309, 1584, 232, 4872, 6498, 3835, 2894, 2017), -202.7342071533203, 0], [(0, 2838, 337, 4424, 7728, 503, 3904, 3904, 1078, 1140, 2648, 5590, 1826, 5361, 7150, 6132, 4877, 3309, 1584, 232, 4872, 6498, 3835, 3453, 4158), -202.74711227416992, 1], [(0, 2838, 337, 4424, 7728, 503, 3904, 3904, 1078, 1140, 2648, 5590, 1826, 5361, 7150, 6132, 4877, 3309, 1584, 232, 4872, 6498, 3835, 3453, 3040), -202.7188425064087, 1]], [[(0, 2838, 337, 4424, 7728, 503, 3904, 3904, 1078, 1140, 2648, 5590, 1826, 5361, 7150, 6132, 4877, 3309, 1584, 232, 4872, 6498, 3835, 2894, 567), -202.74962902069092, 0], [(0, 2838, 337, 4424, 7728, 503, 3904, 3904, 1078, 1140, 2648, 5590, 1826, 5361, 7150, 6132, 4877, 3309, 1584, 232, 4872, 6498, 3835, 2894, 2017), -202.72333240509033, 0], [(0, 2838, 337, 4424, 7728, 503, 3904, 3904, 1078, 1140, 2648, 5590, 1826, 5361, 7150, 6132, 4877, 3309, 1584, 232, 4872, 6498, 3835, 3453, 4158), -202.73623752593994, 1], [(0, 2838, 337, 4424, 7728, 503, 3904, 3904, 1078, 1140, 2648, 5590, 1826, 5361, 7150, 6132, 4877, 3309, 1584, 232, 4872, 6498, 3835, 3453, 3040), -202.7079677581787, 1]]]\n",
            "next_beams[0] after sort:  [[(0, 2838, 337, 4424, 7728, 503, 3904, 3904, 1078, 1140, 2648, 5590, 1826, 5361, 7150, 6132, 4877, 3309, 1584, 232, 4872, 6498, 3835, 3453, 3040), -202.70654582977295, 1], [(0, 2838, 337, 4424, 7728, 503, 3904, 3904, 1078, 1140, 2648, 5590, 1826, 5361, 7150, 6132, 4877, 3309, 1584, 232, 4872, 6498, 3835, 2894, 2017), -202.72190952301025, 0], [(0, 2838, 337, 4424, 7728, 503, 3904, 3904, 1078, 1140, 2648, 5590, 1826, 5361, 7150, 6132, 4877, 3309, 1584, 232, 4872, 6498, 3835, 3453, 4158), -202.73481559753418, 1], [(0, 2838, 337, 4424, 7728, 503, 3904, 3904, 1078, 1140, 2648, 5590, 1826, 5361, 7150, 6132, 4877, 3309, 1584, 232, 4872, 6498, 3835, 2894, 567), -202.74820518493652, 0]]\n",
            "next_beams[1] after sort:  [[(0, 2838, 337, 4424, 7728, 503, 3904, 3904, 1078, 1140, 2648, 5590, 1826, 5361, 7150, 6132, 4877, 3309, 1584, 232, 4872, 6498, 3835, 3453, 3040), -202.7188425064087, 1], [(0, 2838, 337, 4424, 7728, 503, 3904, 3904, 1078, 1140, 2648, 5590, 1826, 5361, 7150, 6132, 4877, 3309, 1584, 232, 4872, 6498, 3835, 2894, 2017), -202.7342071533203, 0], [(0, 2838, 337, 4424, 7728, 503, 3904, 3904, 1078, 1140, 2648, 5590, 1826, 5361, 7150, 6132, 4877, 3309, 1584, 232, 4872, 6498, 3835, 3453, 4158), -202.74711227416992, 1], [(0, 2838, 337, 4424, 7728, 503, 3904, 3904, 1078, 1140, 2648, 5590, 1826, 5361, 7150, 6132, 4877, 3309, 1584, 232, 4872, 6498, 3835, 2894, 567), -202.76050281524658, 0]]\n",
            "next_beams[2] after sort:  [[(0, 2838, 337, 4424, 7728, 503, 3904, 3904, 1078, 1140, 2648, 5590, 1826, 5361, 7150, 6132, 4877, 3309, 1584, 232, 4872, 6498, 3835, 3453, 3040), -202.7079677581787, 1], [(0, 2838, 337, 4424, 7728, 503, 3904, 3904, 1078, 1140, 2648, 5590, 1826, 5361, 7150, 6132, 4877, 3309, 1584, 232, 4872, 6498, 3835, 2894, 2017), -202.72333240509033, 0], [(0, 2838, 337, 4424, 7728, 503, 3904, 3904, 1078, 1140, 2648, 5590, 1826, 5361, 7150, 6132, 4877, 3309, 1584, 232, 4872, 6498, 3835, 3453, 4158), -202.73623752593994, 1], [(0, 2838, 337, 4424, 7728, 503, 3904, 3904, 1078, 1140, 2648, 5590, 1826, 5361, 7150, 6132, 4877, 3309, 1584, 232, 4872, 6498, 3835, 2894, 567), -202.74962902069092, 0]]\n",
            "outputs[0][0] = \n",
            " (0, 2838, 337, 4424, 7728, 503, 3904, 3904, 1078, 1140, 2648, 5590, 1826, 5361, 7150, 6132, 4877, 3309, 1584, 232, 4872, 6498, 3835, 3453, 3040)\n",
            "outputs[0][1] = \n",
            " (0, 2838, 337, 4424, 7728, 503, 3904, 3904, 1078, 1140, 2648, 5590, 1826, 5361, 7150, 6132, 4877, 3309, 1584, 232, 4872, 6498, 3835, 3453, 3040)\n",
            "outputs[0][2] = \n",
            " (0, 2838, 337, 4424, 7728, 503, 3904, 3904, 1078, 1140, 2648, 5590, 1826, 5361, 7150, 6132, 4877, 3309, 1584, 232, 4872, 6498, 3835, 3453, 3040)\n",
            "outputs[1][0] = \n",
            " (0, 2838, 337, 4424, 7728, 503, 3904, 3904, 1078, 1140, 2648, 5590, 1826, 5361, 7150, 6132, 4877, 3309, 1584, 232, 4872, 6498, 3835, 2894, 2017)\n",
            "outputs[1][1] = \n",
            " (0, 2838, 337, 4424, 7728, 503, 3904, 3904, 1078, 1140, 2648, 5590, 1826, 5361, 7150, 6132, 4877, 3309, 1584, 232, 4872, 6498, 3835, 2894, 2017)\n",
            "outputs[1][2] = \n",
            " (0, 2838, 337, 4424, 7728, 503, 3904, 3904, 1078, 1140, 2648, 5590, 1826, 5361, 7150, 6132, 4877, 3309, 1584, 232, 4872, 6498, 3835, 2894, 2017)\n",
            "next_beams =  [[[(0, 2838, 337, 4424, 7728, 503, 3904, 3904, 1078, 1140, 2648, 5590, 1826, 5361, 7150, 6132, 4877, 3309, 1584, 232, 4872, 6498, 3835, 3453, 3040, 6420), -211.2823076248169, 0], [(0, 2838, 337, 4424, 7728, 503, 3904, 3904, 1078, 1140, 2648, 5590, 1826, 5361, 7150, 6132, 4877, 3309, 1584, 232, 4872, 6498, 3835, 3453, 3040, 3531), -211.24954319000244, 0], [(0, 2838, 337, 4424, 7728, 503, 3904, 3904, 1078, 1140, 2648, 5590, 1826, 5361, 7150, 6132, 4877, 3309, 1584, 232, 4872, 6498, 3835, 2894, 2017, 6829), -211.23615550994873, 1], [(0, 2838, 337, 4424, 7728, 503, 3904, 3904, 1078, 1140, 2648, 5590, 1826, 5361, 7150, 6132, 4877, 3309, 1584, 232, 4872, 6498, 3835, 2894, 2017, 4159), -211.20126914978027, 1]], [[(0, 2838, 337, 4424, 7728, 503, 3904, 3904, 1078, 1140, 2648, 5590, 1826, 5361, 7150, 6132, 4877, 3309, 1584, 232, 4872, 6498, 3835, 3453, 3040, 6420), -211.29460430145264, 0], [(0, 2838, 337, 4424, 7728, 503, 3904, 3904, 1078, 1140, 2648, 5590, 1826, 5361, 7150, 6132, 4877, 3309, 1584, 232, 4872, 6498, 3835, 3453, 3040, 3531), -211.26183986663818, 0], [(0, 2838, 337, 4424, 7728, 503, 3904, 3904, 1078, 1140, 2648, 5590, 1826, 5361, 7150, 6132, 4877, 3309, 1584, 232, 4872, 6498, 3835, 2894, 2017, 6829), -211.2484531402588, 1], [(0, 2838, 337, 4424, 7728, 503, 3904, 3904, 1078, 1140, 2648, 5590, 1826, 5361, 7150, 6132, 4877, 3309, 1584, 232, 4872, 6498, 3835, 2894, 2017, 4159), -211.21356678009033, 1]], [[(0, 2838, 337, 4424, 7728, 503, 3904, 3904, 1078, 1140, 2648, 5590, 1826, 5361, 7150, 6132, 4877, 3309, 1584, 232, 4872, 6498, 3835, 3453, 3040, 6420), -211.28372955322266, 0], [(0, 2838, 337, 4424, 7728, 503, 3904, 3904, 1078, 1140, 2648, 5590, 1826, 5361, 7150, 6132, 4877, 3309, 1584, 232, 4872, 6498, 3835, 3453, 3040, 3531), -211.2509651184082, 0], [(0, 2838, 337, 4424, 7728, 503, 3904, 3904, 1078, 1140, 2648, 5590, 1826, 5361, 7150, 6132, 4877, 3309, 1584, 232, 4872, 6498, 3835, 2894, 2017, 6829), -211.2375783920288, 1], [(0, 2838, 337, 4424, 7728, 503, 3904, 3904, 1078, 1140, 2648, 5590, 1826, 5361, 7150, 6132, 4877, 3309, 1584, 232, 4872, 6498, 3835, 2894, 2017, 4159), -211.20269203186035, 1]]]\n",
            "next_beams[0] after sort:  [[(0, 2838, 337, 4424, 7728, 503, 3904, 3904, 1078, 1140, 2648, 5590, 1826, 5361, 7150, 6132, 4877, 3309, 1584, 232, 4872, 6498, 3835, 2894, 2017, 4159), -211.20126914978027, 1], [(0, 2838, 337, 4424, 7728, 503, 3904, 3904, 1078, 1140, 2648, 5590, 1826, 5361, 7150, 6132, 4877, 3309, 1584, 232, 4872, 6498, 3835, 2894, 2017, 6829), -211.23615550994873, 1], [(0, 2838, 337, 4424, 7728, 503, 3904, 3904, 1078, 1140, 2648, 5590, 1826, 5361, 7150, 6132, 4877, 3309, 1584, 232, 4872, 6498, 3835, 3453, 3040, 3531), -211.24954319000244, 0], [(0, 2838, 337, 4424, 7728, 503, 3904, 3904, 1078, 1140, 2648, 5590, 1826, 5361, 7150, 6132, 4877, 3309, 1584, 232, 4872, 6498, 3835, 3453, 3040, 6420), -211.2823076248169, 0]]\n",
            "next_beams[1] after sort:  [[(0, 2838, 337, 4424, 7728, 503, 3904, 3904, 1078, 1140, 2648, 5590, 1826, 5361, 7150, 6132, 4877, 3309, 1584, 232, 4872, 6498, 3835, 2894, 2017, 4159), -211.21356678009033, 1], [(0, 2838, 337, 4424, 7728, 503, 3904, 3904, 1078, 1140, 2648, 5590, 1826, 5361, 7150, 6132, 4877, 3309, 1584, 232, 4872, 6498, 3835, 2894, 2017, 6829), -211.2484531402588, 1], [(0, 2838, 337, 4424, 7728, 503, 3904, 3904, 1078, 1140, 2648, 5590, 1826, 5361, 7150, 6132, 4877, 3309, 1584, 232, 4872, 6498, 3835, 3453, 3040, 3531), -211.26183986663818, 0], [(0, 2838, 337, 4424, 7728, 503, 3904, 3904, 1078, 1140, 2648, 5590, 1826, 5361, 7150, 6132, 4877, 3309, 1584, 232, 4872, 6498, 3835, 3453, 3040, 6420), -211.29460430145264, 0]]\n",
            "next_beams[2] after sort:  [[(0, 2838, 337, 4424, 7728, 503, 3904, 3904, 1078, 1140, 2648, 5590, 1826, 5361, 7150, 6132, 4877, 3309, 1584, 232, 4872, 6498, 3835, 2894, 2017, 4159), -211.20269203186035, 1], [(0, 2838, 337, 4424, 7728, 503, 3904, 3904, 1078, 1140, 2648, 5590, 1826, 5361, 7150, 6132, 4877, 3309, 1584, 232, 4872, 6498, 3835, 2894, 2017, 6829), -211.2375783920288, 1], [(0, 2838, 337, 4424, 7728, 503, 3904, 3904, 1078, 1140, 2648, 5590, 1826, 5361, 7150, 6132, 4877, 3309, 1584, 232, 4872, 6498, 3835, 3453, 3040, 3531), -211.2509651184082, 0], [(0, 2838, 337, 4424, 7728, 503, 3904, 3904, 1078, 1140, 2648, 5590, 1826, 5361, 7150, 6132, 4877, 3309, 1584, 232, 4872, 6498, 3835, 3453, 3040, 6420), -211.28372955322266, 0]]\n",
            "outputs = \n",
            " [[(0, 2838, 337, 4424, 7728, 503, 3904, 3904, 1078, 1140, 2648, 5590, 1826, 5361, 7150, 6132, 4877, 3309, 1584, 232, 4872, 6498, 3835, 2894, 2017, 4159), (0, 2838, 337, 4424, 7728, 503, 3904, 3904, 1078, 1140, 2648, 5590, 1826, 5361, 7150, 6132, 4877, 3309, 1584, 232, 4872, 6498, 3835, 2894, 2017, 4159), (0, 2838, 337, 4424, 7728, 503, 3904, 3904, 1078, 1140, 2648, 5590, 1826, 5361, 7150, 6132, 4877, 3309, 1584, 232, 4872, 6498, 3835, 2894, 2017, 4159)], [(0, 2838, 337, 4424, 7728, 503, 3904, 3904, 1078, 1140, 2648, 5590, 1826, 5361, 7150, 6132, 4877, 3309, 1584, 232, 4872, 6498, 3835, 2894, 2017, 6829), (0, 2838, 337, 4424, 7728, 503, 3904, 3904, 1078, 1140, 2648, 5590, 1826, 5361, 7150, 6132, 4877, 3309, 1584, 232, 4872, 6498, 3835, 2894, 2017, 6829), (0, 2838, 337, 4424, 7728, 503, 3904, 3904, 1078, 1140, 2648, 5590, 1826, 5361, 7150, 6132, 4877, 3309, 1584, 232, 4872, 6498, 3835, 2894, 2017, 6829)]]\n",
            "Translations with beam search:\n",
            "gift agon movi@@ ş and life life boasting box forum rono@@ cun@@ re vino@@ sor parad@@ ile cli@@ accommodate pap@@ tas@@ lav@@ gor@@ dispos@@ marin@@\n",
            "gift agon movi@@ ş and life life boasting box forum rono@@ cun@@ re vino@@ sor parad@@ ile cli@@ accommodate pap@@ tas@@ lav@@ gor@@ dispos@@ marin@@\n",
            "gift agon movi@@ ş and life life boasting box forum rono@@ cun@@ re vino@@ sor parad@@ ile cli@@ accommodate pap@@ tas@@ lav@@ gor@@ dispos@@ marin@@\n",
            "CPU times: user 329 ms, sys: 14.8 ms, total: 344 ms\n",
            "Wall time: 439 ms\n"
          ]
        }
      ]
    },
    {
      "cell_type": "code",
      "source": [
        "next_beams =  [[[(0, 2667, 5197, 4890, 3434, 775, 4698, 6019, 23, 1), -1.5714244381524622, 0], [(0, 2667, 5197, 4890, 3434, 5226, 23, 1), -2.9480822114273906, 1]], [[(0, 6609, 3434, 190, 123, 21, 4331, 7209, 794, 23, 1), -6.989384148269892, 0], [(0, 6609, 3434, 190, 123, 21, 4331, 7209, 2690, 6592, 3191, 23, 1), -7.683591481298208, 1]], [[(0, 3975, 3329, 6592, 1408, 4657, 6592, 1558, 1408, 19, 6622, 3191, 3434, 3975, 3329, 6592, 1408, 4657, 6592, 1558, 1408, 23, 1), -29.669763296842575, 0], [(0, 3975, 3329, 6592, 1408, 4657, 6592, 1558, 1408, 19, 6622, 3191, 3434, 3975, 3329, 6592, 1408, 4657, 6592, 1558, 1408, 19, 503, 6592, 1408), -37.028437435626984, 1], [(0, 3975, 3329, 6592, 1408, 4657, 6592, 1558, 1408, 19, 6622, 3191, 3434, 3975, 3329, 6592, 1408, 4657, 6592, 1558, 1408, 19, 503, 6592, 4514), -36.95717936754227, 1]]]"
      ],
      "metadata": {
        "id": "13V1EqHFS4V6"
      },
      "execution_count": 34,
      "outputs": []
    },
    {
      "cell_type": "code",
      "source": [
        "for i in range(3):\n",
        "    next_beams[i].sort(key=lambda x: x[1], reverse=True)\n",
        "    print(f'next_beams[{i}] after sort: ', next_beams[i])\n",
        "    for j in range(2):\n",
        "        outputs, probs, beam_idx = next_beams[i][j]\n",
        "        print('Вот этому присвоится outputs[j][i]', outputs)"
      ],
      "metadata": {
        "colab": {
          "base_uri": "https://localhost:8080/"
        },
        "id": "9pCJwLRHS5uD",
        "outputId": "a1698ba4-fc98-4066-b5c1-57600088080b"
      },
      "execution_count": 35,
      "outputs": [
        {
          "output_type": "stream",
          "name": "stdout",
          "text": [
            "next_beams[0] after sort:  [[(0, 2667, 5197, 4890, 3434, 775, 4698, 6019, 23, 1), -1.5714244381524622, 0], [(0, 2667, 5197, 4890, 3434, 5226, 23, 1), -2.9480822114273906, 1]]\n",
            "Вот этому присвоится outputs[j][i] (0, 2667, 5197, 4890, 3434, 775, 4698, 6019, 23, 1)\n",
            "Вот этому присвоится outputs[j][i] (0, 2667, 5197, 4890, 3434, 5226, 23, 1)\n",
            "next_beams[1] after sort:  [[(0, 6609, 3434, 190, 123, 21, 4331, 7209, 794, 23, 1), -6.989384148269892, 0], [(0, 6609, 3434, 190, 123, 21, 4331, 7209, 2690, 6592, 3191, 23, 1), -7.683591481298208, 1]]\n",
            "Вот этому присвоится outputs[j][i] (0, 6609, 3434, 190, 123, 21, 4331, 7209, 794, 23, 1)\n",
            "Вот этому присвоится outputs[j][i] (0, 6609, 3434, 190, 123, 21, 4331, 7209, 2690, 6592, 3191, 23, 1)\n",
            "next_beams[2] after sort:  [[(0, 3975, 3329, 6592, 1408, 4657, 6592, 1558, 1408, 19, 6622, 3191, 3434, 3975, 3329, 6592, 1408, 4657, 6592, 1558, 1408, 23, 1), -29.669763296842575, 0], [(0, 3975, 3329, 6592, 1408, 4657, 6592, 1558, 1408, 19, 6622, 3191, 3434, 3975, 3329, 6592, 1408, 4657, 6592, 1558, 1408, 19, 503, 6592, 4514), -36.95717936754227, 1], [(0, 3975, 3329, 6592, 1408, 4657, 6592, 1558, 1408, 19, 6622, 3191, 3434, 3975, 3329, 6592, 1408, 4657, 6592, 1558, 1408, 19, 503, 6592, 1408), -37.028437435626984, 1]]\n",
            "Вот этому присвоится outputs[j][i] (0, 3975, 3329, 6592, 1408, 4657, 6592, 1558, 1408, 19, 6622, 3191, 3434, 3975, 3329, 6592, 1408, 4657, 6592, 1558, 1408, 23, 1)\n",
            "Вот этому присвоится outputs[j][i] (0, 3975, 3329, 6592, 1408, 4657, 6592, 1558, 1408, 19, 6622, 3191, 3434, 3975, 3329, 6592, 1408, 4657, 6592, 1558, 1408, 19, 503, 6592, 4514)\n"
          ]
        }
      ]
    },
    {
      "cell_type": "code",
      "source": [
        "outputs = [[(0, 2667, 5197, 4890, 3434, 775, 4698, 6019, 23, 1), (0, 6609, 3434, 190, 123, 21, 4331, 7209, 794, 23, 1), (0, 3975, 3329, 6592, 1408, 4657, 6592, 1558, 1408, 19, 6622, 3191, 3434, 3975, 3329, 6592, 1408, 4657, 6592, 1558, 1408, 23, 1)], [(0, 2667, 5197, 4890, 3434, 5226, 23, 1), (0, 6609, 3434, 190, 123, 21, 4331, 7209, 2690, 6592, 3191, 23, 1), (0, 3975, 3329, 6592, 1408, 4657, 6592, 1558, 1408, 19, 6622, 3191, 3434, 3975, 3329, 6592, 1408, 4657, 6592, 1558, 1408, 19, 503, 6592, 4514, 361)]]"
      ],
      "metadata": {
        "id": "lglL1UQPNETu"
      },
      "execution_count": 24,
      "outputs": []
    },
    {
      "cell_type": "code",
      "source": [
        "len(outputs)"
      ],
      "metadata": {
        "colab": {
          "base_uri": "https://localhost:8080/"
        },
        "id": "R_V7_bCRNF-s",
        "outputId": "79153835-ca33-4df4-c200-2193b2ff7264"
      },
      "execution_count": 25,
      "outputs": [
        {
          "output_type": "execute_result",
          "data": {
            "text/plain": [
              "2"
            ]
          },
          "metadata": {},
          "execution_count": 25
        }
      ]
    },
    {
      "cell_type": "code",
      "source": [
        "len(outputs[0])"
      ],
      "metadata": {
        "colab": {
          "base_uri": "https://localhost:8080/"
        },
        "id": "Imu9VTYcNJyG",
        "outputId": "6386a9e3-7a6e-45c9-929b-bac8d4ea143e"
      },
      "execution_count": 26,
      "outputs": [
        {
          "output_type": "execute_result",
          "data": {
            "text/plain": [
              "3"
            ]
          },
          "metadata": {},
          "execution_count": 26
        }
      ]
    },
    {
      "cell_type": "code",
      "source": [
        "len(outputs[1][1])"
      ],
      "metadata": {
        "colab": {
          "base_uri": "https://localhost:8080/"
        },
        "id": "2Euyga1yNS9L",
        "outputId": "be027a5e-ff3b-46bd-9fcb-3fa06a0dc1ae"
      },
      "execution_count": 30,
      "outputs": [
        {
          "output_type": "execute_result",
          "data": {
            "text/plain": [
              "13"
            ]
          },
          "metadata": {},
          "execution_count": 30
        }
      ]
    },
    {
      "cell_type": "code",
      "source": [
        "hypos_after_sort = [[[-2.3480822114273905, (0, 2667, 5197, 4890, 3434, 5226, 23, 1)], [-2.2480822114273904, (0, 2667, 5197, 4890, 3434, 5226, 23, 1)], [-2.1480822114273908, (0, 2667, 5197, 4890, 3434, 5226, 23, 1)], [-2.0480822114273907, (0, 2667, 5197, 4890, 3434, 5226, 23, 1)], [-1.9480822114273906, (0, 2667, 5197, 4890, 3434, 5226, 23, 1)], [-1.8480822114273905, (0, 2667, 5197, 4890, 3434, 5226, 23, 1)], [-1.7480822114273904, (0, 2667, 5197, 4890, 3434, 5226, 23, 1)], [-1.6480822114273905, (0, 2667, 5197, 4890, 3434, 5226, 23, 1)], [-1.5480822114273904, (0, 2667, 5197, 4890, 3434, 5226, 23, 1)], [-1.4480822114273906, (0, 2667, 5197, 4890, 3434, 5226, 23, 1)], [-1.3480822114273905, (0, 2667, 5197, 4890, 3434, 5226, 23, 1)], [-1.2480822114273904, (0, 2667, 5197, 4890, 3434, 5226, 23, 1)], [-1.1480822114273905, (0, 2667, 5197, 4890, 3434, 5226, 23, 1)], [-1.0480822114273904, (0, 2667, 5197, 4890, 3434, 5226, 23, 1)], [-0.9480822114273906, (0, 2667, 5197, 4890, 3434, 5226, 23, 1)], [-0.8480822114273905, (0, 2667, 5197, 4890, 3434, 5226, 23, 1)], [-0.7714244381524622, (0, 2667, 5197, 4890, 3434, 775, 4698, 6019, 23, 1)], [-0.7480822114273904, (0, 2667, 5197, 4890, 3434, 5226, 23, 1)], [-0.6714244381524622, (0, 2667, 5197, 4890, 3434, 775, 4698, 6019, 23, 1)], [-0.6480822114273903, (0, 2667, 5197, 4890, 3434, 5226, 23, 1)], [-0.5714244381524622, (0, 2667, 5197, 4890, 3434, 775, 4698, 6019, 23, 1)], [-0.5480822114273902, (0, 2667, 5197, 4890, 3434, 5226, 23, 1)], [-0.47142443815246216, (0, 2667, 5197, 4890, 3434, 775, 4698, 6019, 23, 1)], [-0.37142443815246207, (0, 2667, 5197, 4890, 3434, 775, 4698, 6019, 23, 1)], [-0.2714244381524622, (0, 2667, 5197, 4890, 3434, 775, 4698, 6019, 23, 1)], [-0.1714244381524621, (0, 2667, 5197, 4890, 3434, 775, 4698, 6019, 23, 1)], [-0.07142443815246224, (0, 2667, 5197, 4890, 3434, 775, 4698, 6019, 23, 1)], [0.028575561847537845, (0, 2667, 5197, 4890, 3434, 775, 4698, 6019, 23, 1)], [0.12857556184753793, (0, 2667, 5197, 4890, 3434, 775, 4698, 6019, 23, 1)], [0.2285755618475378, (0, 2667, 5197, 4890, 3434, 775, 4698, 6019, 23, 1)], [0.3285755618475379, (0, 2667, 5197, 4890, 3434, 775, 4698, 6019, 23, 1)], [0.42857556184753776, (0, 2667, 5197, 4890, 3434, 775, 4698, 6019, 23, 1)], [0.5285755618475378, (0, 2667, 5197, 4890, 3434, 775, 4698, 6019, 23, 1)], [0.6285755618475379, (0, 2667, 5197, 4890, 3434, 775, 4698, 6019, 23, 1)], [0.728575561847538, (0, 2667, 5197, 4890, 3434, 775, 4698, 6019, 23, 1)], [0.8285755618475381, (0, 2667, 5197, 4890, 3434, 775, 4698, 6019, 23, 1)]], [[-6.583591481298209, (0, 6609, 3434, 190, 123, 21, 4331, 7209, 2690, 6592, 3191, 23, 1)], [-6.483591481298208, (0, 6609, 3434, 190, 123, 21, 4331, 7209, 2690, 6592, 3191, 23, 1)], [-6.383591481298208, (0, 6609, 3434, 190, 123, 21, 4331, 7209, 2690, 6592, 3191, 23, 1)], [-6.283591481298208, (0, 6609, 3434, 190, 123, 21, 4331, 7209, 2690, 6592, 3191, 23, 1)], [-6.183591481298208, (0, 6609, 3434, 190, 123, 21, 4331, 7209, 2690, 6592, 3191, 23, 1)], [-6.089384148269891, (0, 6609, 3434, 190, 123, 21, 4331, 7209, 794, 23, 1)], [-6.083591481298209, (0, 6609, 3434, 190, 123, 21, 4331, 7209, 2690, 6592, 3191, 23, 1)], [-5.989384148269892, (0, 6609, 3434, 190, 123, 21, 4331, 7209, 794, 23, 1)], [-5.983591481298208, (0, 6609, 3434, 190, 123, 21, 4331, 7209, 2690, 6592, 3191, 23, 1)], [-5.889384148269892, (0, 6609, 3434, 190, 123, 21, 4331, 7209, 794, 23, 1)], [-5.883591481298208, (0, 6609, 3434, 190, 123, 21, 4331, 7209, 2690, 6592, 3191, 23, 1)], [-5.789384148269892, (0, 6609, 3434, 190, 123, 21, 4331, 7209, 794, 23, 1)], [-5.783591481298208, (0, 6609, 3434, 190, 123, 21, 4331, 7209, 2690, 6592, 3191, 23, 1)], [-5.689384148269892, (0, 6609, 3434, 190, 123, 21, 4331, 7209, 794, 23, 1)], [-5.683591481298208, (0, 6609, 3434, 190, 123, 21, 4331, 7209, 2690, 6592, 3191, 23, 1)], [-5.589384148269891, (0, 6609, 3434, 190, 123, 21, 4331, 7209, 794, 23, 1)], [-5.583591481298209, (0, 6609, 3434, 190, 123, 21, 4331, 7209, 2690, 6592, 3191, 23, 1)], [-5.489384148269892, (0, 6609, 3434, 190, 123, 21, 4331, 7209, 794, 23, 1)], [-5.483591481298208, (0, 6609, 3434, 190, 123, 21, 4331, 7209, 2690, 6592, 3191, 23, 1)], [-5.389384148269892, (0, 6609, 3434, 190, 123, 21, 4331, 7209, 794, 23, 1)], [-5.3835914812982075, (0, 6609, 3434, 190, 123, 21, 4331, 7209, 2690, 6592, 3191, 23, 1)], [-5.289384148269892, (0, 6609, 3434, 190, 123, 21, 4331, 7209, 794, 23, 1)], [-5.283591481298208, (0, 6609, 3434, 190, 123, 21, 4331, 7209, 2690, 6592, 3191, 23, 1)], [-5.189384148269892, (0, 6609, 3434, 190, 123, 21, 4331, 7209, 794, 23, 1)], [-5.089384148269891, (0, 6609, 3434, 190, 123, 21, 4331, 7209, 794, 23, 1)], [-4.989384148269892, (0, 6609, 3434, 190, 123, 21, 4331, 7209, 794, 23, 1)], [-4.889384148269892, (0, 6609, 3434, 190, 123, 21, 4331, 7209, 794, 23, 1)], [-4.789384148269892, (0, 6609, 3434, 190, 123, 21, 4331, 7209, 794, 23, 1)], [-4.689384148269891, (0, 6609, 3434, 190, 123, 21, 4331, 7209, 794, 23, 1)], [-4.589384148269891, (0, 6609, 3434, 190, 123, 21, 4331, 7209, 794, 23, 1)]], [[-27.569763296842574, (0, 3975, 3329, 6592, 1408, 4657, 6592, 1558, 1408, 19, 6622, 3191, 3434, 3975, 3329, 6592, 1408, 4657, 6592, 1558, 1408, 23, 1)], [-27.469763296842576, (0, 3975, 3329, 6592, 1408, 4657, 6592, 1558, 1408, 19, 6622, 3191, 3434, 3975, 3329, 6592, 1408, 4657, 6592, 1558, 1408, 23, 1)], [-27.369763296842574, (0, 3975, 3329, 6592, 1408, 4657, 6592, 1558, 1408, 19, 6622, 3191, 3434, 3975, 3329, 6592, 1408, 4657, 6592, 1558, 1408, 23, 1)], [-27.269763296842576, (0, 3975, 3329, 6592, 1408, 4657, 6592, 1558, 1408, 19, 6622, 3191, 3434, 3975, 3329, 6592, 1408, 4657, 6592, 1558, 1408, 23, 1)]]]"
      ],
      "metadata": {
        "id": "Sp4zMKsFKa4c"
      },
      "execution_count": 18,
      "outputs": []
    },
    {
      "cell_type": "code",
      "source": [
        "hypos_after_sort[0]"
      ],
      "metadata": {
        "colab": {
          "base_uri": "https://localhost:8080/"
        },
        "id": "-Gsyra0WLAna",
        "outputId": "10a1f559-c6a0-44e8-a2db-8c36576ac4b3"
      },
      "execution_count": 22,
      "outputs": [
        {
          "output_type": "execute_result",
          "data": {
            "text/plain": [
              "[[-2.3480822114273905, (0, 2667, 5197, 4890, 3434, 5226, 23, 1)],\n",
              " [-2.2480822114273904, (0, 2667, 5197, 4890, 3434, 5226, 23, 1)],\n",
              " [-2.1480822114273908, (0, 2667, 5197, 4890, 3434, 5226, 23, 1)],\n",
              " [-2.0480822114273907, (0, 2667, 5197, 4890, 3434, 5226, 23, 1)],\n",
              " [-1.9480822114273906, (0, 2667, 5197, 4890, 3434, 5226, 23, 1)],\n",
              " [-1.8480822114273905, (0, 2667, 5197, 4890, 3434, 5226, 23, 1)],\n",
              " [-1.7480822114273904, (0, 2667, 5197, 4890, 3434, 5226, 23, 1)],\n",
              " [-1.6480822114273905, (0, 2667, 5197, 4890, 3434, 5226, 23, 1)],\n",
              " [-1.5480822114273904, (0, 2667, 5197, 4890, 3434, 5226, 23, 1)],\n",
              " [-1.4480822114273906, (0, 2667, 5197, 4890, 3434, 5226, 23, 1)],\n",
              " [-1.3480822114273905, (0, 2667, 5197, 4890, 3434, 5226, 23, 1)],\n",
              " [-1.2480822114273904, (0, 2667, 5197, 4890, 3434, 5226, 23, 1)],\n",
              " [-1.1480822114273905, (0, 2667, 5197, 4890, 3434, 5226, 23, 1)],\n",
              " [-1.0480822114273904, (0, 2667, 5197, 4890, 3434, 5226, 23, 1)],\n",
              " [-0.9480822114273906, (0, 2667, 5197, 4890, 3434, 5226, 23, 1)],\n",
              " [-0.8480822114273905, (0, 2667, 5197, 4890, 3434, 5226, 23, 1)],\n",
              " [-0.7714244381524622, (0, 2667, 5197, 4890, 3434, 775, 4698, 6019, 23, 1)],\n",
              " [-0.7480822114273904, (0, 2667, 5197, 4890, 3434, 5226, 23, 1)],\n",
              " [-0.6714244381524622, (0, 2667, 5197, 4890, 3434, 775, 4698, 6019, 23, 1)],\n",
              " [-0.6480822114273903, (0, 2667, 5197, 4890, 3434, 5226, 23, 1)],\n",
              " [-0.5714244381524622, (0, 2667, 5197, 4890, 3434, 775, 4698, 6019, 23, 1)],\n",
              " [-0.5480822114273902, (0, 2667, 5197, 4890, 3434, 5226, 23, 1)],\n",
              " [-0.47142443815246216, (0, 2667, 5197, 4890, 3434, 775, 4698, 6019, 23, 1)],\n",
              " [-0.37142443815246207, (0, 2667, 5197, 4890, 3434, 775, 4698, 6019, 23, 1)],\n",
              " [-0.2714244381524622, (0, 2667, 5197, 4890, 3434, 775, 4698, 6019, 23, 1)],\n",
              " [-0.1714244381524621, (0, 2667, 5197, 4890, 3434, 775, 4698, 6019, 23, 1)],\n",
              " [-0.07142443815246224, (0, 2667, 5197, 4890, 3434, 775, 4698, 6019, 23, 1)],\n",
              " [0.028575561847537845, (0, 2667, 5197, 4890, 3434, 775, 4698, 6019, 23, 1)],\n",
              " [0.12857556184753793, (0, 2667, 5197, 4890, 3434, 775, 4698, 6019, 23, 1)],\n",
              " [0.2285755618475378, (0, 2667, 5197, 4890, 3434, 775, 4698, 6019, 23, 1)],\n",
              " [0.3285755618475379, (0, 2667, 5197, 4890, 3434, 775, 4698, 6019, 23, 1)],\n",
              " [0.42857556184753776, (0, 2667, 5197, 4890, 3434, 775, 4698, 6019, 23, 1)],\n",
              " [0.5285755618475378, (0, 2667, 5197, 4890, 3434, 775, 4698, 6019, 23, 1)],\n",
              " [0.6285755618475379, (0, 2667, 5197, 4890, 3434, 775, 4698, 6019, 23, 1)],\n",
              " [0.728575561847538, (0, 2667, 5197, 4890, 3434, 775, 4698, 6019, 23, 1)],\n",
              " [0.8285755618475381, (0, 2667, 5197, 4890, 3434, 775, 4698, 6019, 23, 1)]]"
            ]
          },
          "metadata": {},
          "execution_count": 22
        }
      ]
    },
    {
      "cell_type": "code",
      "source": [
        "hypos_after_sort[0][-1]"
      ],
      "metadata": {
        "colab": {
          "base_uri": "https://localhost:8080/"
        },
        "id": "pn3wkxTELUKU",
        "outputId": "d0b616cb-9f0d-4780-ad59-66a8e7333c8b"
      },
      "execution_count": 23,
      "outputs": [
        {
          "output_type": "execute_result",
          "data": {
            "text/plain": [
              "[0.8285755618475381, (0, 2667, 5197, 4890, 3434, 775, 4698, 6019, 23, 1)]"
            ]
          },
          "metadata": {},
          "execution_count": 23
        }
      ]
    },
    {
      "cell_type": "code",
      "source": [
        "[hypo[-1][1] for hypo in hypos_after_sort]"
      ],
      "metadata": {
        "colab": {
          "base_uri": "https://localhost:8080/"
        },
        "id": "QcZ379fhKlD6",
        "outputId": "4ebddfe0-0bef-4722-c727-c73278f60869"
      },
      "execution_count": 20,
      "outputs": [
        {
          "output_type": "execute_result",
          "data": {
            "text/plain": [
              "[(0, 2667, 5197, 4890, 3434, 775, 4698, 6019, 23, 1),\n",
              " (0, 6609, 3434, 190, 123, 21, 4331, 7209, 794, 23, 1),\n",
              " (0,\n",
              "  3975,\n",
              "  3329,\n",
              "  6592,\n",
              "  1408,\n",
              "  4657,\n",
              "  6592,\n",
              "  1558,\n",
              "  1408,\n",
              "  19,\n",
              "  6622,\n",
              "  3191,\n",
              "  3434,\n",
              "  3975,\n",
              "  3329,\n",
              "  6592,\n",
              "  1408,\n",
              "  4657,\n",
              "  6592,\n",
              "  1558,\n",
              "  1408,\n",
              "  23,\n",
              "  1)]"
            ]
          },
          "metadata": {},
          "execution_count": 20
        }
      ]
    },
    {
      "cell_type": "code",
      "source": [
        "sample1_indices = [(0, 2667, 5197, 4890, 3434, 775, 4698, 6019, 23, 1, 21, 3198, 2691, 1953, 3434, 775, 23, 1, 21, 3198, 2691, 1953, 3434, 775, 23, 1)]\n",
        "out_voc.to_lines(sample1_indices)"
      ],
      "metadata": {
        "colab": {
          "base_uri": "https://localhost:8080/"
        },
        "id": "3CAIIUAbUsqc",
        "outputId": "c198b1b1-4cdf-4e59-abd9-1c16167b9703"
      },
      "execution_count": 20,
      "outputs": [
        {
          "output_type": "execute_result",
          "data": {
            "text/plain": [
              "['free private parking is available on site .']"
            ]
          },
          "metadata": {},
          "execution_count": 20
        }
      ]
    },
    {
      "cell_type": "code",
      "source": [
        "out_voc.tokens[1]"
      ],
      "metadata": {
        "colab": {
          "base_uri": "https://localhost:8080/",
          "height": 36
        },
        "id": "t0g_ZKfTVJYk",
        "outputId": "53f83a2f-bb36-4230-a5b3-72e67c8281a5"
      },
      "execution_count": 23,
      "outputs": [
        {
          "output_type": "execute_result",
          "data": {
            "text/plain": [
              "'_EOS_'"
            ],
            "application/vnd.google.colaboratory.intrinsic+json": {
              "type": "string"
            }
          },
          "metadata": {},
          "execution_count": 23
        }
      ]
    },
    {
      "cell_type": "code",
      "source": [
        "train_inp[:3]"
      ],
      "metadata": {
        "colab": {
          "base_uri": "https://localhost:8080/"
        },
        "id": "6AhF_k0JM_4A",
        "outputId": "a59f4ea8-0c7b-48f7-a049-a76c0a60ad82"
      },
      "execution_count": 31,
      "outputs": [
        {
          "output_type": "execute_result",
          "data": {
            "text/plain": [
              "array(['на территории обустроена бесплатная частная парковка .',\n",
              "       'кроме того , в 5 минутах ходьбы работают многочисленные бары и рестораны .',\n",
              "       'отель san mi@@ gu@@ el расположен в центре мор@@ ели@@ и , в 750 метрах от главной площади города и кафедрального собора .'],\n",
              "      dtype='<U524')"
            ]
          },
          "metadata": {},
          "execution_count": 31
        }
      ]
    },
    {
      "cell_type": "code",
      "source": [
        "dummy_translations"
      ],
      "metadata": {
        "colab": {
          "base_uri": "https://localhost:8080/"
        },
        "id": "w9ZLlcuQM7Rz",
        "outputId": "a9f97e00-3350-4dff-ad4c-fb9854fdd31d"
      },
      "execution_count": 30,
      "outputs": [
        {
          "output_type": "execute_result",
          "data": {
            "text/plain": [
              "['free private parking is available on site .',\n",
              " 'a variety of cafés and restaurants can be found within a 5 - minute walk .',\n",
              " 'located in the centre of saint petersburg , a 5 - minute walk from the centre of the city centre and a 10 - minute']"
            ]
          },
          "metadata": {},
          "execution_count": 30
        }
      ]
    },
    {
      "cell_type": "code",
      "source": [
        "out_voc.tokens[1]"
      ],
      "metadata": {
        "colab": {
          "base_uri": "https://localhost:8080/",
          "height": 36
        },
        "id": "8psxHsmjMlsA",
        "outputId": "c4a876dc-8bff-4cb3-f811-d65c77cfa5a3"
      },
      "execution_count": 29,
      "outputs": [
        {
          "output_type": "execute_result",
          "data": {
            "text/plain": [
              "'_EOS_'"
            ],
            "application/vnd.google.colaboratory.intrinsic+json": {
              "type": "string"
            }
          },
          "metadata": {},
          "execution_count": 29
        }
      ]
    },
    {
      "cell_type": "markdown",
      "metadata": {
        "id": "_wuv1-aVlrs0"
      },
      "source": [
        "### Training loss (2 points)\n",
        "\n",
        "Our training objective is almost the same as it was for neural language models:\n",
        "$$ L = {\\frac1{|D|}} \\sum_{X, Y \\in D} \\sum_{y_t \\in Y} - \\log p(y_t \\mid y_1, \\dots, y_{t-1}, X, \\theta) $$\n",
        "\n",
        "where $|D|$ is the __total length of all sequences__, including BOS and first EOS, but excluding PAD."
      ]
    },
    {
      "cell_type": "code",
      "source": [
        "from utils import compute_loss"
      ],
      "metadata": {
        "id": "fBThktS8NoGo"
      },
      "execution_count": 13,
      "outputs": []
    },
    {
      "cell_type": "code",
      "execution_count": 14,
      "metadata": {
        "id": "ME_LWUeklrs7",
        "colab": {
          "base_uri": "https://localhost:8080/"
        },
        "outputId": "a3d3363a-fa51-4d3f-a22a-4c160c3f4f8b"
      },
      "outputs": [
        {
          "output_type": "stream",
          "name": "stdout",
          "text": [
            "Loss: tensor(8.4666, grad_fn=<NegBackward0>)\n"
          ]
        }
      ],
      "source": [
        "dummy_loss = compute_loss(model, dummy_inp_tokens, dummy_out_tokens)\n",
        "print(\"Loss:\", dummy_loss)\n",
        "assert np.allclose(dummy_loss.item(), 8.5, rtol=0.1, atol=0.1), \"We're sorry for your loss\"\n",
        "\n",
        "# test autograd\n",
        "dummy_loss.backward()\n",
        "for name, param in model.named_parameters():\n",
        "    assert param.grad is not None and abs(param.grad.max()) != 0, f\"Param {name} received no gradients\""
      ]
    },
    {
      "cell_type": "markdown",
      "metadata": {
        "id": "HpbaBpW7lrs-"
      },
      "source": [
        "### Evaluation: BLEU\n",
        "\n",
        "Machine translation is commonly evaluated with [BLEU](https://en.wikipedia.org/wiki/BLEU) score. This metric simply computes which fraction of predicted n-grams is actually present in the reference translation. It does so for n=1,2,3 and 4 and computes the geometric average with penalty if translation is shorter than reference.\n",
        "\n",
        "While BLEU [has many drawbacks](http://www.cs.jhu.edu/~ccb/publications/re-evaluating-the-role-of-bleu-in-mt-research.pdf), it still remains the most commonly used metric and one of the simplest to compute."
      ]
    },
    {
      "cell_type": "code",
      "source": [
        "from utils import compute_bleu"
      ],
      "metadata": {
        "id": "wx53JqVsN9ZC"
      },
      "execution_count": 15,
      "outputs": []
    },
    {
      "cell_type": "code",
      "execution_count": 20,
      "metadata": {
        "id": "gZvfid1RlrtA",
        "colab": {
          "base_uri": "https://localhost:8080/"
        },
        "outputId": "2c344129-ebe7-4f8e-a059-aa7451af651c"
      },
      "outputs": [
        {
          "output_type": "stream",
          "name": "stdout",
          "text": [
            "CPU times: user 7.07 s, sys: 21.9 ms, total: 7.09 s\n",
            "Wall time: 8.48 s\n"
          ]
        },
        {
          "output_type": "execute_result",
          "data": {
            "text/plain": [
              "10.766395994150365"
            ]
          },
          "metadata": {},
          "execution_count": 20
        }
      ],
      "source": [
        "%time compute_bleu(model, dev_inp, dev_out, device=device)"
      ]
    },
    {
      "cell_type": "code",
      "source": [
        "%time compute_bleu(model, dev_inp, dev_out, beam_size=1, device=device)"
      ],
      "metadata": {
        "colab": {
          "base_uri": "https://localhost:8080/"
        },
        "id": "K8NjxhIwLXw6",
        "outputId": "845cd56a-d25b-469a-a9f0-779aa3be8cf0"
      },
      "execution_count": 21,
      "outputs": [
        {
          "output_type": "stream",
          "name": "stdout",
          "text": [
            "CPU times: user 17.1 s, sys: 282 ms, total: 17.4 s\n",
            "Wall time: 17.4 s\n"
          ]
        },
        {
          "output_type": "execute_result",
          "data": {
            "text/plain": [
              "10.816969497588813"
            ]
          },
          "metadata": {},
          "execution_count": 21
        }
      ]
    },
    {
      "cell_type": "code",
      "source": [
        "%time compute_bleu(model, dev_inp, dev_out, beam_size=2, device=device)"
      ],
      "metadata": {
        "colab": {
          "base_uri": "https://localhost:8080/"
        },
        "id": "OsfhhxtpI_H0",
        "outputId": "de3bc63e-1078-446c-8b3b-9452237e280e"
      },
      "execution_count": 19,
      "outputs": [
        {
          "output_type": "stream",
          "name": "stdout",
          "text": [
            "CPU times: user 1min 29s, sys: 326 ms, total: 1min 29s\n",
            "Wall time: 1min 29s\n"
          ]
        },
        {
          "output_type": "execute_result",
          "data": {
            "text/plain": [
              "11.125122372045059"
            ]
          },
          "metadata": {},
          "execution_count": 19
        }
      ]
    },
    {
      "cell_type": "markdown",
      "metadata": {
        "id": "nQDhGwg4lrtC"
      },
      "source": [
        "### Training loop\n",
        "\n",
        "Training encoder-decoder models isn't that different from any other models: sample batches, compute loss, backprop and update"
      ]
    },
    {
      "cell_type": "code",
      "execution_count": 16,
      "metadata": {
        "id": "yfwIaixHlrtI",
        "scrolled": false
      },
      "outputs": [],
      "source": [
        "from IPython.display import clear_output\n",
        "from tqdm import tqdm, trange\n",
        "from utils import save_checkpoint, load_checkpoint\n",
        "\n",
        "model = BasicModel(inp_voc, out_voc).to(device)\n",
        "optimizer = torch.optim.Adam(model.parameters(), lr=1e-3)\n",
        "batch_size = 32"
      ]
    },
    {
      "cell_type": "code",
      "source": [
        "def train_loop(model, optimizer, train_inp, num_epochs=25000, from_checkpoint=False):   \n",
        "\n",
        "    metrics = {'train_loss': [], 'dev_bleu': [] }\n",
        "\n",
        "    if from_checkpoint:\n",
        "        best_checkpoint = torch.load('/content/best_bleu_state.pth')\n",
        "        model.load_state_dict(best_checkpoint[\"state_dict\"])\n",
        "        best_bleu = best_checkpoint['bleu']\n",
        "    else:\n",
        "        best_bleu = 0\n",
        "\n",
        "    for epoch in trange(num_epochs):\n",
        "        batch_ix = np.random.randint(len(train_inp), size=batch_size)\n",
        "        batch_inp = inp_voc.to_matrix(train_inp[batch_ix]).to(device)\n",
        "        batch_out = out_voc.to_matrix(train_out[batch_ix]).to(device)\n",
        "        \n",
        "        optimizer.zero_grad() # set the gradients to zero before backpropagation\n",
        "        loss_t = compute_loss(model, batch_inp, batch_out)\n",
        "        loss_t.backward()\n",
        "        optimizer.step()\n",
        "\n",
        "        \n",
        "        metrics['train_loss'].append((epoch+1, loss_t.item()))\n",
        "        \n",
        "        if (epoch+1) % 100 == 0:\n",
        "            bleu = compute_bleu(model, dev_inp, dev_out, device=device)\n",
        "            metrics['dev_bleu'].append((epoch+1, bleu))\n",
        "            \n",
        "            if bleu > best_bleu:\n",
        "                best_bleu = bleu\n",
        "                checkpoint = {\n",
        "                    'state_dict' : deepcopy(model.state_dict()), \n",
        "                    'optimizer' : deepcopy(optimizer.state_dict()),\n",
        "                    'epoch' : epoch+1,\n",
        "                    'bleu' : bleu,\n",
        "                }\n",
        "                save_checkpoint(checkpoint, filename=\"best_bleu_state.pth\")\n",
        "\n",
        "            clear_output(True)\n",
        "            plt.figure(figsize=(12,4))\n",
        "            for i, (name, history) in enumerate(sorted(metrics.items())):\n",
        "                plt.subplot(1, len(metrics), i + 1)\n",
        "                plt.title(name)\n",
        "                plt.plot(*zip(*history))\n",
        "                plt.grid()\n",
        "            plt.show()\n",
        "            print(\"Mean loss=%.3f\" % np.mean(metrics['train_loss'][-10:], axis=0)[1], flush=True)\n",
        "    \n",
        "    return metrics"
      ],
      "metadata": {
        "id": "89mcZGJmVzVF"
      },
      "execution_count": 17,
      "outputs": []
    },
    {
      "cell_type": "code",
      "source": [
        "metrics = train_loop(\n",
        "    model,\n",
        "    optimizer, \n",
        "    train_inp, \n",
        "    num_epochs=2000,\n",
        "    from_checkpoint=False\n",
        ")"
      ],
      "metadata": {
        "colab": {
          "base_uri": "https://localhost:8080/",
          "height": 399
        },
        "id": "tEM-7xwwJZTd",
        "outputId": "ca5571a8-be6f-41e6-b830-96b653babcc5"
      },
      "execution_count": 18,
      "outputs": [
        {
          "output_type": "stream",
          "name": "stderr",
          "text": [
            "  5%|▍         | 99/2000 [01:07<21:33,  1.47it/s]\n"
          ]
        },
        {
          "output_type": "error",
          "ename": "KeyboardInterrupt",
          "evalue": "ignored",
          "traceback": [
            "\u001b[0;31m---------------------------------------------------------------------------\u001b[0m",
            "\u001b[0;31mKeyboardInterrupt\u001b[0m                         Traceback (most recent call last)",
            "\u001b[0;32m<ipython-input-18-320545a12db8>\u001b[0m in \u001b[0;36m<module>\u001b[0;34m\u001b[0m\n\u001b[1;32m      4\u001b[0m     \u001b[0mtrain_inp\u001b[0m\u001b[0;34m,\u001b[0m\u001b[0;34m\u001b[0m\u001b[0;34m\u001b[0m\u001b[0m\n\u001b[1;32m      5\u001b[0m     \u001b[0mnum_epochs\u001b[0m\u001b[0;34m=\u001b[0m\u001b[0;36m2000\u001b[0m\u001b[0;34m,\u001b[0m\u001b[0;34m\u001b[0m\u001b[0;34m\u001b[0m\u001b[0m\n\u001b[0;32m----> 6\u001b[0;31m     \u001b[0mfrom_checkpoint\u001b[0m\u001b[0;34m=\u001b[0m\u001b[0;32mFalse\u001b[0m\u001b[0;34m\u001b[0m\u001b[0;34m\u001b[0m\u001b[0m\n\u001b[0m\u001b[1;32m      7\u001b[0m )\n",
            "\u001b[0;32m<ipython-input-17-587514626813>\u001b[0m in \u001b[0;36mtrain_loop\u001b[0;34m(model, optimizer, train_inp, num_epochs, from_checkpoint)\u001b[0m\n\u001b[1;32m     24\u001b[0m \u001b[0;34m\u001b[0m\u001b[0m\n\u001b[1;32m     25\u001b[0m         \u001b[0;32mif\u001b[0m \u001b[0;34m(\u001b[0m\u001b[0mepoch\u001b[0m\u001b[0;34m+\u001b[0m\u001b[0;36m1\u001b[0m\u001b[0;34m)\u001b[0m \u001b[0;34m%\u001b[0m \u001b[0;36m100\u001b[0m \u001b[0;34m==\u001b[0m \u001b[0;36m0\u001b[0m\u001b[0;34m:\u001b[0m\u001b[0;34m\u001b[0m\u001b[0;34m\u001b[0m\u001b[0m\n\u001b[0;32m---> 26\u001b[0;31m             \u001b[0mbleu\u001b[0m \u001b[0;34m=\u001b[0m \u001b[0mcompute_bleu\u001b[0m\u001b[0;34m(\u001b[0m\u001b[0mmodel\u001b[0m\u001b[0;34m,\u001b[0m \u001b[0mdev_inp\u001b[0m\u001b[0;34m,\u001b[0m \u001b[0mdev_out\u001b[0m\u001b[0;34m,\u001b[0m \u001b[0mdevice\u001b[0m\u001b[0;34m=\u001b[0m\u001b[0mdevice\u001b[0m\u001b[0;34m)\u001b[0m\u001b[0;34m\u001b[0m\u001b[0;34m\u001b[0m\u001b[0m\n\u001b[0m\u001b[1;32m     27\u001b[0m             \u001b[0mmetrics\u001b[0m\u001b[0;34m[\u001b[0m\u001b[0;34m'dev_bleu'\u001b[0m\u001b[0;34m]\u001b[0m\u001b[0;34m.\u001b[0m\u001b[0mappend\u001b[0m\u001b[0;34m(\u001b[0m\u001b[0;34m(\u001b[0m\u001b[0mepoch\u001b[0m\u001b[0;34m+\u001b[0m\u001b[0;36m1\u001b[0m\u001b[0;34m,\u001b[0m \u001b[0mbleu\u001b[0m\u001b[0;34m)\u001b[0m\u001b[0;34m)\u001b[0m\u001b[0;34m\u001b[0m\u001b[0;34m\u001b[0m\u001b[0m\n\u001b[1;32m     28\u001b[0m \u001b[0;34m\u001b[0m\u001b[0m\n",
            "\u001b[0;32m/content/utils.py\u001b[0m in \u001b[0;36mcompute_bleu\u001b[0;34m(model, inp_lines, out_lines, device, bpe_sep, batch_size, beam_size, **flags)\u001b[0m\n\u001b[1;32m     54\u001b[0m         \u001b[0mtranslations\u001b[0m \u001b[0;34m=\u001b[0m \u001b[0;34m[\u001b[0m\u001b[0;34m]\u001b[0m\u001b[0;34m\u001b[0m\u001b[0;34m\u001b[0m\u001b[0m\n\u001b[1;32m     55\u001b[0m         \u001b[0;32mfor\u001b[0m \u001b[0mi\u001b[0m \u001b[0;32min\u001b[0m \u001b[0mrange\u001b[0m\u001b[0;34m(\u001b[0m\u001b[0;36m0\u001b[0m\u001b[0;34m,\u001b[0m \u001b[0mlen\u001b[0m\u001b[0;34m(\u001b[0m\u001b[0minp_lines\u001b[0m\u001b[0;34m)\u001b[0m\u001b[0;34m,\u001b[0m \u001b[0mbatch_size\u001b[0m\u001b[0;34m)\u001b[0m\u001b[0;34m:\u001b[0m\u001b[0;34m\u001b[0m\u001b[0;34m\u001b[0m\u001b[0m\n\u001b[0;32m---> 56\u001b[0;31m             \u001b[0mtranslations\u001b[0m\u001b[0;34m.\u001b[0m\u001b[0mextend\u001b[0m\u001b[0;34m(\u001b[0m\u001b[0mmodel\u001b[0m\u001b[0;34m.\u001b[0m\u001b[0mtranslate_lines\u001b[0m\u001b[0;34m(\u001b[0m\u001b[0minp_lines\u001b[0m\u001b[0;34m[\u001b[0m\u001b[0mi\u001b[0m\u001b[0;34m:\u001b[0m\u001b[0mi\u001b[0m\u001b[0;34m+\u001b[0m\u001b[0mbatch_size\u001b[0m\u001b[0;34m]\u001b[0m\u001b[0;34m,\u001b[0m \u001b[0mdevice\u001b[0m\u001b[0;34m,\u001b[0m \u001b[0mbeam_size\u001b[0m\u001b[0;34m=\u001b[0m\u001b[0mbeam_size\u001b[0m\u001b[0;34m,\u001b[0m \u001b[0;34m**\u001b[0m\u001b[0mflags\u001b[0m\u001b[0;34m)\u001b[0m\u001b[0;34m[\u001b[0m\u001b[0;36m0\u001b[0m\u001b[0;34m]\u001b[0m\u001b[0;34m)\u001b[0m\u001b[0;34m\u001b[0m\u001b[0;34m\u001b[0m\u001b[0m\n\u001b[0m\u001b[1;32m     57\u001b[0m \u001b[0;34m\u001b[0m\u001b[0m\n\u001b[1;32m     58\u001b[0m         \u001b[0mtranslations\u001b[0m \u001b[0;34m=\u001b[0m \u001b[0;34m[\u001b[0m\u001b[0mline\u001b[0m\u001b[0;34m.\u001b[0m\u001b[0mreplace\u001b[0m\u001b[0;34m(\u001b[0m\u001b[0mbpe_sep\u001b[0m\u001b[0;34m,\u001b[0m \u001b[0;34m''\u001b[0m\u001b[0;34m)\u001b[0m \u001b[0;32mfor\u001b[0m \u001b[0mline\u001b[0m \u001b[0;32min\u001b[0m \u001b[0mtranslations\u001b[0m\u001b[0;34m]\u001b[0m\u001b[0;34m\u001b[0m\u001b[0;34m\u001b[0m\u001b[0m\n",
            "\u001b[0;32m/content/models.py\u001b[0m in \u001b[0;36mtranslate_lines\u001b[0;34m(self, inp_lines, device, beam_size, **kwargs)\u001b[0m\n\u001b[1;32m    156\u001b[0m         \u001b[0minitial_state\u001b[0m \u001b[0;34m=\u001b[0m \u001b[0mself\u001b[0m\u001b[0;34m.\u001b[0m\u001b[0mencode\u001b[0m\u001b[0;34m(\u001b[0m\u001b[0minp\u001b[0m\u001b[0;34m)\u001b[0m\u001b[0;34m\u001b[0m\u001b[0;34m\u001b[0m\u001b[0m\n\u001b[1;32m    157\u001b[0m         \u001b[0;32mif\u001b[0m \u001b[0mbeam_size\u001b[0m \u001b[0;32mis\u001b[0m \u001b[0;32mNone\u001b[0m\u001b[0;34m:\u001b[0m\u001b[0;34m\u001b[0m\u001b[0;34m\u001b[0m\u001b[0m\n\u001b[0;32m--> 158\u001b[0;31m             \u001b[0mout_ids\u001b[0m\u001b[0;34m,\u001b[0m \u001b[0mstates\u001b[0m \u001b[0;34m=\u001b[0m \u001b[0mself\u001b[0m\u001b[0;34m.\u001b[0m\u001b[0mdecode_inference\u001b[0m\u001b[0;34m(\u001b[0m\u001b[0minitial_state\u001b[0m\u001b[0;34m,\u001b[0m \u001b[0;34m**\u001b[0m\u001b[0mkwargs\u001b[0m\u001b[0;34m)\u001b[0m\u001b[0;34m\u001b[0m\u001b[0;34m\u001b[0m\u001b[0m\n\u001b[0m\u001b[1;32m    159\u001b[0m         \u001b[0;32melse\u001b[0m\u001b[0;34m:\u001b[0m\u001b[0;34m\u001b[0m\u001b[0;34m\u001b[0m\u001b[0m\n\u001b[1;32m    160\u001b[0m             \u001b[0mout_ids\u001b[0m\u001b[0;34m,\u001b[0m \u001b[0mstates\u001b[0m \u001b[0;34m=\u001b[0m \u001b[0mself\u001b[0m\u001b[0;34m.\u001b[0m\u001b[0mdecode_inference_beam_search\u001b[0m\u001b[0;34m(\u001b[0m\u001b[0minitial_state\u001b[0m\u001b[0;34m,\u001b[0m \u001b[0mbeam_size\u001b[0m\u001b[0;34m,\u001b[0m \u001b[0;34m**\u001b[0m\u001b[0mkwargs\u001b[0m\u001b[0;34m)\u001b[0m\u001b[0;34m\u001b[0m\u001b[0;34m\u001b[0m\u001b[0m\n",
            "\u001b[0;32m/content/models.py\u001b[0m in \u001b[0;36mdecode_inference\u001b[0;34m(self, initial_state, max_len, **flags)\u001b[0m\n\u001b[1;32m     97\u001b[0m \u001b[0;34m\u001b[0m\u001b[0m\n\u001b[1;32m     98\u001b[0m         \u001b[0;32mfor\u001b[0m \u001b[0mi\u001b[0m \u001b[0;32min\u001b[0m \u001b[0mrange\u001b[0m\u001b[0;34m(\u001b[0m\u001b[0mmax_len\u001b[0m\u001b[0;34m)\u001b[0m\u001b[0;34m:\u001b[0m\u001b[0;34m\u001b[0m\u001b[0;34m\u001b[0m\u001b[0m\n\u001b[0;32m---> 99\u001b[0;31m             \u001b[0mstate\u001b[0m\u001b[0;34m,\u001b[0m \u001b[0mlogits\u001b[0m \u001b[0;34m=\u001b[0m \u001b[0mself\u001b[0m\u001b[0;34m.\u001b[0m\u001b[0mdecode_step\u001b[0m\u001b[0;34m(\u001b[0m\u001b[0mstate\u001b[0m\u001b[0;34m,\u001b[0m \u001b[0moutputs\u001b[0m\u001b[0;34m[\u001b[0m\u001b[0;34m-\u001b[0m\u001b[0;36m1\u001b[0m\u001b[0;34m]\u001b[0m\u001b[0;34m)\u001b[0m\u001b[0;34m\u001b[0m\u001b[0;34m\u001b[0m\u001b[0m\n\u001b[0m\u001b[1;32m    100\u001b[0m             \u001b[0moutputs\u001b[0m\u001b[0;34m.\u001b[0m\u001b[0mappend\u001b[0m\u001b[0;34m(\u001b[0m\u001b[0mlogits\u001b[0m\u001b[0;34m.\u001b[0m\u001b[0margmax\u001b[0m\u001b[0;34m(\u001b[0m\u001b[0mdim\u001b[0m\u001b[0;34m=\u001b[0m\u001b[0;34m-\u001b[0m\u001b[0;36m1\u001b[0m\u001b[0;34m)\u001b[0m\u001b[0;34m)\u001b[0m\u001b[0;34m\u001b[0m\u001b[0;34m\u001b[0m\u001b[0m\n\u001b[1;32m    101\u001b[0m             \u001b[0mall_states\u001b[0m\u001b[0;34m.\u001b[0m\u001b[0mappend\u001b[0m\u001b[0;34m(\u001b[0m\u001b[0mstate\u001b[0m\u001b[0;34m)\u001b[0m\u001b[0;34m\u001b[0m\u001b[0;34m\u001b[0m\u001b[0m\n",
            "\u001b[0;32m/content/models.py\u001b[0m in \u001b[0;36mdecode_step\u001b[0;34m(self, prev_state, prev_tokens, **flags)\u001b[0m\n\u001b[1;32m     65\u001b[0m         \u001b[0mprev_emb\u001b[0m \u001b[0;34m=\u001b[0m \u001b[0mself\u001b[0m\u001b[0;34m.\u001b[0m\u001b[0memb_out\u001b[0m\u001b[0;34m(\u001b[0m\u001b[0mprev_tokens\u001b[0m\u001b[0;34m)\u001b[0m\u001b[0;34m\u001b[0m\u001b[0;34m\u001b[0m\u001b[0m\n\u001b[1;32m     66\u001b[0m         \u001b[0;31m# 2. find next decoder state (for each sample in batch)\u001b[0m\u001b[0;34m\u001b[0m\u001b[0;34m\u001b[0m\u001b[0;34m\u001b[0m\u001b[0m\n\u001b[0;32m---> 67\u001b[0;31m         \u001b[0mnew_dec_state\u001b[0m \u001b[0;34m=\u001b[0m \u001b[0mself\u001b[0m\u001b[0;34m.\u001b[0m\u001b[0mdec0\u001b[0m\u001b[0;34m(\u001b[0m\u001b[0mprev_emb\u001b[0m\u001b[0;34m,\u001b[0m \u001b[0mprev_gru0_state\u001b[0m\u001b[0;34m)\u001b[0m \u001b[0;31m# [batch_size x hid_size]\u001b[0m\u001b[0;34m\u001b[0m\u001b[0;34m\u001b[0m\u001b[0m\n\u001b[0m\u001b[1;32m     68\u001b[0m         \u001b[0;31m# 3. calculate the output logits\u001b[0m\u001b[0;34m\u001b[0m\u001b[0;34m\u001b[0m\u001b[0;34m\u001b[0m\u001b[0m\n\u001b[1;32m     69\u001b[0m         \u001b[0moutput_logits\u001b[0m \u001b[0;34m=\u001b[0m \u001b[0mself\u001b[0m\u001b[0;34m.\u001b[0m\u001b[0mlogits\u001b[0m\u001b[0;34m(\u001b[0m\u001b[0mnew_dec_state\u001b[0m\u001b[0;34m)\u001b[0m\u001b[0;34m\u001b[0m\u001b[0;34m\u001b[0m\u001b[0m\n",
            "\u001b[0;32m/usr/local/lib/python3.7/dist-packages/torch/nn/modules/module.py\u001b[0m in \u001b[0;36m_call_impl\u001b[0;34m(self, *input, **kwargs)\u001b[0m\n\u001b[1;32m   1128\u001b[0m         if not (self._backward_hooks or self._forward_hooks or self._forward_pre_hooks or _global_backward_hooks\n\u001b[1;32m   1129\u001b[0m                 or _global_forward_hooks or _global_forward_pre_hooks):\n\u001b[0;32m-> 1130\u001b[0;31m             \u001b[0;32mreturn\u001b[0m \u001b[0mforward_call\u001b[0m\u001b[0;34m(\u001b[0m\u001b[0;34m*\u001b[0m\u001b[0minput\u001b[0m\u001b[0;34m,\u001b[0m \u001b[0;34m**\u001b[0m\u001b[0mkwargs\u001b[0m\u001b[0;34m)\u001b[0m\u001b[0;34m\u001b[0m\u001b[0;34m\u001b[0m\u001b[0m\n\u001b[0m\u001b[1;32m   1131\u001b[0m         \u001b[0;31m# Do not call functions when jit is used\u001b[0m\u001b[0;34m\u001b[0m\u001b[0;34m\u001b[0m\u001b[0;34m\u001b[0m\u001b[0m\n\u001b[1;32m   1132\u001b[0m         \u001b[0mfull_backward_hooks\u001b[0m\u001b[0;34m,\u001b[0m \u001b[0mnon_full_backward_hooks\u001b[0m \u001b[0;34m=\u001b[0m \u001b[0;34m[\u001b[0m\u001b[0;34m]\u001b[0m\u001b[0;34m,\u001b[0m \u001b[0;34m[\u001b[0m\u001b[0;34m]\u001b[0m\u001b[0;34m\u001b[0m\u001b[0;34m\u001b[0m\u001b[0m\n",
            "\u001b[0;32m/usr/local/lib/python3.7/dist-packages/torch/nn/modules/rnn.py\u001b[0m in \u001b[0;36mforward\u001b[0;34m(self, input, hx)\u001b[0m\n\u001b[1;32m   1280\u001b[0m             \u001b[0minput\u001b[0m\u001b[0;34m,\u001b[0m \u001b[0mhx\u001b[0m\u001b[0;34m,\u001b[0m\u001b[0;34m\u001b[0m\u001b[0;34m\u001b[0m\u001b[0m\n\u001b[1;32m   1281\u001b[0m             \u001b[0mself\u001b[0m\u001b[0;34m.\u001b[0m\u001b[0mweight_ih\u001b[0m\u001b[0;34m,\u001b[0m \u001b[0mself\u001b[0m\u001b[0;34m.\u001b[0m\u001b[0mweight_hh\u001b[0m\u001b[0;34m,\u001b[0m\u001b[0;34m\u001b[0m\u001b[0;34m\u001b[0m\u001b[0m\n\u001b[0;32m-> 1282\u001b[0;31m             \u001b[0mself\u001b[0m\u001b[0;34m.\u001b[0m\u001b[0mbias_ih\u001b[0m\u001b[0;34m,\u001b[0m \u001b[0mself\u001b[0m\u001b[0;34m.\u001b[0m\u001b[0mbias_hh\u001b[0m\u001b[0;34m,\u001b[0m\u001b[0;34m\u001b[0m\u001b[0;34m\u001b[0m\u001b[0m\n\u001b[0m\u001b[1;32m   1283\u001b[0m         )\n\u001b[1;32m   1284\u001b[0m \u001b[0;34m\u001b[0m\u001b[0m\n",
            "\u001b[0;31mKeyboardInterrupt\u001b[0m: "
          ]
        }
      ]
    },
    {
      "cell_type": "code",
      "source": [
        "metrics = train_loop(\n",
        "    model,\n",
        "    optimizer, \n",
        "    train_inp, \n",
        "    num_epochs=15000,\n",
        "    from_checkpoint=False\n",
        ")"
      ],
      "metadata": {
        "colab": {
          "base_uri": "https://localhost:8080/",
          "height": 318
        },
        "outputId": "fad6c2b0-9308-499d-b202-408fb6835672",
        "id": "V8YNm-tOT5d_"
      },
      "execution_count": 24,
      "outputs": [
        {
          "output_type": "display_data",
          "data": {
            "text/plain": [
              "<Figure size 864x288 with 2 Axes>"
            ],
            "image/png": "[encoded data removed]"
          },
          "metadata": {
            "needs_background": "light"
          }
        },
        {
          "output_type": "stream",
          "name": "stdout",
          "text": [
            "Mean loss=1.948\n"
          ]
        },
        {
          "output_type": "stream",
          "name": "stderr",
          "text": [
            "100%|██████████| 15000/15000 [21:47<00:00, 11.47it/s]\n"
          ]
        }
      ]
    },
    {
      "cell_type": "code",
      "source": [
        "best_checkpoint = torch.load('/content/best_bleu_state.pth')\n",
        "print('best BLEU = ', best_checkpoint['bleu'])\n",
        "print('best epoch = ', best_checkpoint['epoch'])\n",
        "\n",
        "print('Mean BLEU on last 10 epoches = ', np.mean(metrics['dev_bleu'][-10:], axis=0)[1]) # Simple GRU model without attention"
      ],
      "metadata": {
        "colab": {
          "base_uri": "https://localhost:8080/"
        },
        "id": "WM-cP_mGWpLD",
        "outputId": "d9eced86-0fbf-412c-a05a-5b585f438be5"
      },
      "execution_count": 25,
      "outputs": [
        {
          "output_type": "stream",
          "name": "stdout",
          "text": [
            "best BLEU =  18.2925618702539\n",
            "best epoch =  13600\n",
            "Mean BLEU on last 10 epoches =  17.7647786952787\n"
          ]
        }
      ]
    },
    {
      "cell_type": "markdown",
      "source": [
        "### Beam research"
      ],
      "metadata": {
        "id": "gXcUM973AAxe"
      }
    },
    {
      "cell_type": "code",
      "source": [
        "def beam_research(model, inp, out, model_name, beam_min=2, beam_max=10):\n",
        "    \"\"\"BLEU scores of a model with different beam_size\"\"\"\n",
        "    \n",
        "    beam_range = range(beam_min, beam_max + 1)\n",
        "    blue_scores = []\n",
        "\n",
        "    for beam_size in beam_range:\n",
        "        blue = compute_bleu(model, inp, out, beam_size=beam_size, device=device)\n",
        "        blue_scores.append(blue)\n",
        "\n",
        "    plt.figure(figsize=(12, 5))\n",
        "    plt.plot(beam_range, blue_scores)\n",
        "    plt.title('Beam search results for %s' % model_name)\n",
        "    plt.xticks(beam_range)\n",
        "    plt.xlabel('beam size')\n",
        "    plt.ylabel('blue score')\n",
        "    plt.show()"
      ],
      "metadata": {
        "id": "Pgka3zW0M7kM"
      },
      "execution_count": 28,
      "outputs": []
    },
    {
      "cell_type": "code",
      "source": [
        "%time beam_research(model, dev_inp, dev_out, 'basic model')"
      ],
      "metadata": {
        "colab": {
          "base_uri": "https://localhost:8080/",
          "height": 387
        },
        "id": "ESHaKx9oM8NB",
        "outputId": "4c34e353-ebdb-4f81-fa06-bdb07bd5488b"
      },
      "execution_count": 29,
      "outputs": [
        {
          "output_type": "display_data",
          "data": {
            "text/plain": [
              "<Figure size 864x360 with 1 Axes>"
            ],
            "image/png": "[encoded data removed]"
          },
          "metadata": {
            "needs_background": "light"
          }
        },
        {
          "output_type": "stream",
          "name": "stdout",
          "text": [
            "CPU times: user 40min, sys: 19.1 s, total: 40min 19s\n",
            "Wall time: 40min 25s\n"
          ]
        }
      ]
    },
    {
      "cell_type": "code",
      "source": [
        "for inp_line, trans_line, out_line in zip(dev_inp[::500], model.translate_lines(dev_inp[::500], device=device, beam_size=2)[0], dev_out[::500]):\n",
        "    print(f'input line: {inp_line}')\n",
        "    print(f'translated line: {trans_line}')\n",
        "    print(f'target line: {out_line}')\n",
        "    print()"
      ],
      "metadata": {
        "colab": {
          "base_uri": "https://localhost:8080/"
        },
        "id": "t3zGuym0LSKC",
        "outputId": "b4dfa67f-6fb2-4c2a-d378-11af48ed2a66"
      },
      "execution_count": 27,
      "outputs": [
        {
          "output_type": "stream",
          "name": "stdout",
          "text": [
            "input line: в распоряжении гостей общая кухня и общая гостиная .\n",
            "translated line: they are a seating and dining room with shared / or a terrace and the area is available for a surcharge and a private kitchen is provided for a fee and a garden with the accommodation is available on the premises ’ . the property has an hour ’ drive from all of them at a distance . the hotel has an on site of this holiday . there are also access . the hotel has an hour ’ drive away from all of a 20 . the hotel has an on site of this holiday . there are also\n",
            "target line: a shared equipped kitchen and a common living room are provided to guests .\n",
            "\n",
            "input line: кроме того , предоставляется прокат велосипедов , услуги трансфера и бесплатная парковка .\n",
            "translated line: there are free of bicycles , free shuttle services , free shuttle services and laundry facilities are provided at this property and the property is popular . free wi . free wi parking . the hotel has free parking is possible . the hotel has free parking is possible . the hotel has free parking on the premises ’ . the hotel has an on site of this holiday . there are a 20 % available on the premises and free private bathrooms are provided for a surcharge and free wifi . the hotel has an on site of this\n",
            "target line: bicycle rental and shuttle services are also available . the property offers free parking .\n",
            "\n",
            "input line: расстояние до города ки@@ сси@@ м@@ ми составляет 26 км .\n",
            "translated line: the bathroom airport can accommodate is located 20 . 4 miles from this hotel is a 20 km from hotel on - demand park , which offers a selection . the hotel has an on site of this holiday . the hotel has its rooms with direct connections . the hotel . the hotel has its rooms with direct connections . the hotel . the hotel has its rooms with direct connections . the hotel . the hotel has its rooms with direct connections . the hotel . the hotel has its rooms with direct connections . the hotel .\n",
            "target line: the unit is 26 km from kissimmee .\n",
            "\n",
            "input line: апартаменты в пент@@ хаусе с общим открытым бассейном , садом , кондиционером и террасой для загара расположены в 5 минутах ходьбы от пляжа на курорте ка@@ бо - рой .\n",
            "translated line: offering views is a 5 located just 5 blocks in the city , located just 5 blocks away , while a garden and views from a beach terrace with sea view and offers self accommodation . the unit features views . the unit . the property has views over access . the unit . the property has direct links . the unit . the hotel has its views over a 15 . there are a 20 % ity of a private bathroom with direct connections to explore . the hotel has an on site of this holiday . there are\n",
            "target line: situated 5 minutes ' walk from the beach in cabo ro@@ ig , this air - conditioned penthouse apartment features a communal outdoor pool , garden and sun terrace .\n",
            "\n",
            "input line: апартаменты mo@@ s@@ co@@ w point - loft red square находятся в москве , в 200 метрах от большого театра .\n",
            "translated line: ka@@ storia - style apartments in prague in prague in central , this air apartment features free private beach in public transport - minute drive from central station and a 40 km away from this hotel is a 10 . the hotel has an hour . the hotel has an on site of this holiday . the hotel has an on site of this holiday . the hotel has an on site of this holiday . the hotel has an on site of this holiday . the hotel has an on site of this holiday . there are also access\n",
            "target line: moscow point - loft red square offers accommodation in moscow . the apartment is 200 metres from bolshoi theatre .\n",
            "\n",
            "input line: в вашем распоряжении собственная ванная комната с душем и полотенцами .\n",
            "translated line: bike villa also has private bathroom facilities with a bath , bidet , and slippers are also available in the apartment ’ . the unit . there are a 15 . there are a 15 . there are a private beach area with free internet . the hotel has an outdoor swimming pools for a fee of their room service by car and the ionian area of fame are . the hotel has an on site of this holiday . there are a 20 % ity of a drink at a surcharge of fame ). . the hotel has an\n",
            "target line: featuring a shower , private bathrooms also come with towels .\n",
            "\n"
          ]
        }
      ]
    },
    {
      "cell_type": "code",
      "source": [
        "for inp_line, trans_line, out_line in zip(dev_inp[::500], model.translate_lines(dev_inp[::500], device=device, beam_size=2, verbose=True)[0], dev_out[::500]):\n",
        "    print(f'input line: {inp_line}')\n",
        "    print(f'translated line: {trans_line}')\n",
        "    print(f'target line: {out_line}')\n",
        "    print()"
      ],
      "metadata": {
        "colab": {
          "base_uri": "https://localhost:8080/",
          "height": 399
        },
        "id": "Rgb180OMLhXG",
        "outputId": "cb48576f-fcf7-4697-e939-8f12581cf573"
      },
      "execution_count": 28,
      "outputs": [
        {
          "output_type": "error",
          "ename": "TypeError",
          "evalue": "ignored",
          "traceback": [
            "\u001b[0;31m---------------------------------------------------------------------------\u001b[0m",
            "\u001b[0;31mTypeError\u001b[0m                                 Traceback (most recent call last)",
            "\u001b[0;32m<ipython-input-28-7f2a1a365bad>\u001b[0m in \u001b[0;36m<module>\u001b[0;34m\u001b[0m\n\u001b[0;32m----> 1\u001b[0;31m \u001b[0;32mfor\u001b[0m \u001b[0minp_line\u001b[0m\u001b[0;34m,\u001b[0m \u001b[0mtrans_line\u001b[0m\u001b[0;34m,\u001b[0m \u001b[0mout_line\u001b[0m \u001b[0;32min\u001b[0m \u001b[0mzip\u001b[0m\u001b[0;34m(\u001b[0m\u001b[0mdev_inp\u001b[0m\u001b[0;34m[\u001b[0m\u001b[0;34m:\u001b[0m\u001b[0;34m:\u001b[0m\u001b[0;36m500\u001b[0m\u001b[0;34m]\u001b[0m\u001b[0;34m,\u001b[0m \u001b[0mmodel\u001b[0m\u001b[0;34m.\u001b[0m\u001b[0mtranslate_lines\u001b[0m\u001b[0;34m(\u001b[0m\u001b[0mdev_inp\u001b[0m\u001b[0;34m[\u001b[0m\u001b[0;34m:\u001b[0m\u001b[0;34m:\u001b[0m\u001b[0;36m500\u001b[0m\u001b[0;34m]\u001b[0m\u001b[0;34m,\u001b[0m \u001b[0mdevice\u001b[0m\u001b[0;34m=\u001b[0m\u001b[0mdevice\u001b[0m\u001b[0;34m,\u001b[0m \u001b[0mbeam_size\u001b[0m\u001b[0;34m=\u001b[0m\u001b[0;36m2\u001b[0m\u001b[0;34m,\u001b[0m \u001b[0mverbose\u001b[0m\u001b[0;34m=\u001b[0m\u001b[0;32mTrue\u001b[0m\u001b[0;34m)\u001b[0m\u001b[0;34m[\u001b[0m\u001b[0;36m0\u001b[0m\u001b[0;34m]\u001b[0m\u001b[0;34m,\u001b[0m \u001b[0mdev_out\u001b[0m\u001b[0;34m[\u001b[0m\u001b[0;34m:\u001b[0m\u001b[0;34m:\u001b[0m\u001b[0;36m500\u001b[0m\u001b[0;34m]\u001b[0m\u001b[0;34m)\u001b[0m\u001b[0;34m:\u001b[0m\u001b[0;34m\u001b[0m\u001b[0;34m\u001b[0m\u001b[0m\n\u001b[0m\u001b[1;32m      2\u001b[0m     \u001b[0mprint\u001b[0m\u001b[0;34m(\u001b[0m\u001b[0;34mf'input line: {inp_line}'\u001b[0m\u001b[0;34m)\u001b[0m\u001b[0;34m\u001b[0m\u001b[0;34m\u001b[0m\u001b[0m\n\u001b[1;32m      3\u001b[0m     \u001b[0mprint\u001b[0m\u001b[0;34m(\u001b[0m\u001b[0;34mf'translated line: {trans_line}'\u001b[0m\u001b[0;34m)\u001b[0m\u001b[0;34m\u001b[0m\u001b[0;34m\u001b[0m\u001b[0m\n\u001b[1;32m      4\u001b[0m     \u001b[0mprint\u001b[0m\u001b[0;34m(\u001b[0m\u001b[0;34mf'target line: {out_line}'\u001b[0m\u001b[0;34m)\u001b[0m\u001b[0;34m\u001b[0m\u001b[0;34m\u001b[0m\u001b[0m\n\u001b[1;32m      5\u001b[0m     \u001b[0mprint\u001b[0m\u001b[0;34m(\u001b[0m\u001b[0;34m)\u001b[0m\u001b[0;34m\u001b[0m\u001b[0;34m\u001b[0m\u001b[0m\n",
            "\u001b[0;32m/content/models.py\u001b[0m in \u001b[0;36mtranslate_lines\u001b[0;34m(self, inp_lines, device, beam_size, **kwargs)\u001b[0m\n\u001b[1;32m    146\u001b[0m         \u001b[0;32melse\u001b[0m\u001b[0;34m:\u001b[0m\u001b[0;34m\u001b[0m\u001b[0;34m\u001b[0m\u001b[0m\n\u001b[1;32m    147\u001b[0m             \u001b[0mout_ids\u001b[0m\u001b[0;34m,\u001b[0m \u001b[0mstates\u001b[0m \u001b[0;34m=\u001b[0m \u001b[0mself\u001b[0m\u001b[0;34m.\u001b[0m\u001b[0mdecode_inference_beam_search\u001b[0m\u001b[0;34m(\u001b[0m\u001b[0minitial_state\u001b[0m\u001b[0;34m,\u001b[0m \u001b[0mbeam_size\u001b[0m\u001b[0;34m,\u001b[0m \u001b[0;34m**\u001b[0m\u001b[0mkwargs\u001b[0m\u001b[0;34m)\u001b[0m\u001b[0;34m\u001b[0m\u001b[0;34m\u001b[0m\u001b[0m\n\u001b[0;32m--> 148\u001b[0;31m         \u001b[0;32mreturn\u001b[0m \u001b[0mself\u001b[0m\u001b[0;34m.\u001b[0m\u001b[0mout_voc\u001b[0m\u001b[0;34m.\u001b[0m\u001b[0mto_lines\u001b[0m\u001b[0;34m(\u001b[0m\u001b[0mout_ids\u001b[0m\u001b[0;34m)\u001b[0m\u001b[0;34m,\u001b[0m \u001b[0mstates\u001b[0m\u001b[0;34m\u001b[0m\u001b[0;34m\u001b[0m\u001b[0m\n\u001b[0m\u001b[1;32m    149\u001b[0m \u001b[0;34m\u001b[0m\u001b[0m\n\u001b[1;32m    150\u001b[0m \u001b[0;34m\u001b[0m\u001b[0m\n",
            "\u001b[0;32m/content/vocab.py\u001b[0m in \u001b[0;36mto_lines\u001b[0;34m(self, matrix, crop)\u001b[0m\n\u001b[1;32m     67\u001b[0m                 \u001b[0;32mif\u001b[0m \u001b[0mself\u001b[0m\u001b[0;34m.\u001b[0m\u001b[0meos_ix\u001b[0m \u001b[0;32min\u001b[0m \u001b[0mline_ix\u001b[0m\u001b[0;34m:\u001b[0m\u001b[0;34m\u001b[0m\u001b[0;34m\u001b[0m\u001b[0m\n\u001b[1;32m     68\u001b[0m                     \u001b[0mline_ix\u001b[0m \u001b[0;34m=\u001b[0m \u001b[0mline_ix\u001b[0m\u001b[0;34m[\u001b[0m\u001b[0;34m:\u001b[0m\u001b[0mline_ix\u001b[0m\u001b[0;34m.\u001b[0m\u001b[0mindex\u001b[0m\u001b[0;34m(\u001b[0m\u001b[0mself\u001b[0m\u001b[0;34m.\u001b[0m\u001b[0meos_ix\u001b[0m\u001b[0;34m)\u001b[0m\u001b[0;34m]\u001b[0m\u001b[0;34m\u001b[0m\u001b[0;34m\u001b[0m\u001b[0m\n\u001b[0;32m---> 69\u001b[0;31m             \u001b[0mline\u001b[0m \u001b[0;34m=\u001b[0m \u001b[0;34m' '\u001b[0m\u001b[0;34m.\u001b[0m\u001b[0mjoin\u001b[0m\u001b[0;34m(\u001b[0m\u001b[0mself\u001b[0m\u001b[0;34m.\u001b[0m\u001b[0mtokens\u001b[0m\u001b[0;34m[\u001b[0m\u001b[0mi\u001b[0m\u001b[0;34m]\u001b[0m \u001b[0;32mfor\u001b[0m \u001b[0mi\u001b[0m \u001b[0;32min\u001b[0m \u001b[0mline_ix\u001b[0m\u001b[0;34m)\u001b[0m\u001b[0;34m\u001b[0m\u001b[0;34m\u001b[0m\u001b[0m\n\u001b[0m\u001b[1;32m     70\u001b[0m             \u001b[0mlines\u001b[0m\u001b[0;34m.\u001b[0m\u001b[0mappend\u001b[0m\u001b[0;34m(\u001b[0m\u001b[0mline\u001b[0m\u001b[0;34m)\u001b[0m\u001b[0;34m\u001b[0m\u001b[0;34m\u001b[0m\u001b[0m\n\u001b[1;32m     71\u001b[0m         \u001b[0;32mreturn\u001b[0m \u001b[0mlines\u001b[0m\u001b[0;34m\u001b[0m\u001b[0;34m\u001b[0m\u001b[0m\n",
            "\u001b[0;32m/content/vocab.py\u001b[0m in \u001b[0;36m<genexpr>\u001b[0;34m(.0)\u001b[0m\n\u001b[1;32m     67\u001b[0m                 \u001b[0;32mif\u001b[0m \u001b[0mself\u001b[0m\u001b[0;34m.\u001b[0m\u001b[0meos_ix\u001b[0m \u001b[0;32min\u001b[0m \u001b[0mline_ix\u001b[0m\u001b[0;34m:\u001b[0m\u001b[0;34m\u001b[0m\u001b[0;34m\u001b[0m\u001b[0m\n\u001b[1;32m     68\u001b[0m                     \u001b[0mline_ix\u001b[0m \u001b[0;34m=\u001b[0m \u001b[0mline_ix\u001b[0m\u001b[0;34m[\u001b[0m\u001b[0;34m:\u001b[0m\u001b[0mline_ix\u001b[0m\u001b[0;34m.\u001b[0m\u001b[0mindex\u001b[0m\u001b[0;34m(\u001b[0m\u001b[0mself\u001b[0m\u001b[0;34m.\u001b[0m\u001b[0meos_ix\u001b[0m\u001b[0;34m)\u001b[0m\u001b[0;34m]\u001b[0m\u001b[0;34m\u001b[0m\u001b[0;34m\u001b[0m\u001b[0m\n\u001b[0;32m---> 69\u001b[0;31m             \u001b[0mline\u001b[0m \u001b[0;34m=\u001b[0m \u001b[0;34m' '\u001b[0m\u001b[0;34m.\u001b[0m\u001b[0mjoin\u001b[0m\u001b[0;34m(\u001b[0m\u001b[0mself\u001b[0m\u001b[0;34m.\u001b[0m\u001b[0mtokens\u001b[0m\u001b[0;34m[\u001b[0m\u001b[0mi\u001b[0m\u001b[0;34m]\u001b[0m \u001b[0;32mfor\u001b[0m \u001b[0mi\u001b[0m \u001b[0;32min\u001b[0m \u001b[0mline_ix\u001b[0m\u001b[0;34m)\u001b[0m\u001b[0;34m\u001b[0m\u001b[0;34m\u001b[0m\u001b[0m\n\u001b[0m\u001b[1;32m     70\u001b[0m             \u001b[0mlines\u001b[0m\u001b[0;34m.\u001b[0m\u001b[0mappend\u001b[0m\u001b[0;34m(\u001b[0m\u001b[0mline\u001b[0m\u001b[0;34m)\u001b[0m\u001b[0;34m\u001b[0m\u001b[0;34m\u001b[0m\u001b[0m\n\u001b[1;32m     71\u001b[0m         \u001b[0;32mreturn\u001b[0m \u001b[0mlines\u001b[0m\u001b[0;34m\u001b[0m\u001b[0;34m\u001b[0m\u001b[0m\n",
            "\u001b[0;31mTypeError\u001b[0m: list indices must be integers or slices, not tuple"
          ]
        }
      ]
    },
    {
      "cell_type": "code",
      "execution_count": 32,
      "metadata": {
        "id": "KyaHOpealrtS",
        "colab": {
          "base_uri": "https://localhost:8080/"
        },
        "outputId": "894c5e4f-60fd-4046-93d3-ec8c0ef04691"
      },
      "outputs": [
        {
          "output_type": "stream",
          "name": "stdout",
          "text": [
            "input line: в распоряжении гостей общая кухня и общая гостиная .\n",
            "translated line: you will find a shared kitchen and a shared kitchen at the property .\n",
            "target line: a shared equipped kitchen and a common living room are provided to guests .\n",
            "\n",
            "input line: кроме того , предоставляется прокат велосипедов , услуги трансфера и бесплатная парковка .\n",
            "translated line: other facilities offered at the property include free parking .\n",
            "target line: bicycle rental and shuttle services are also available . the property offers free parking .\n",
            "\n",
            "input line: расстояние до города ки@@ сси@@ м@@ ми составляет 26 км .\n",
            "translated line: brindisi is 11 km from the property .\n",
            "target line: the unit is 26 km from kissimmee .\n",
            "\n",
            "input line: апартаменты в пент@@ хаусе с общим открытым бассейном , садом , кондиционером и террасой для загара расположены в 5 минутах ходьбы от пляжа на курорте ка@@ бо - рой .\n",
            "translated line: located in a quiet area , just a 5 - minute walk from the beach , villa vision offers self - catering accommodation with a balcony and views of the garden .\n",
            "target line: situated 5 minutes ' walk from the beach in cabo ro@@ ig , this air - conditioned penthouse apartment features a communal outdoor pool , garden and sun terrace .\n",
            "\n",
            "input line: апартаменты mo@@ s@@ co@@ w point - loft red square находятся в москве , в 200 метрах от большого театра .\n",
            "translated line: apartments ba@@ glio i is located in the centre of rome , 300 metres from the centre of the building .\n",
            "target line: moscow point - loft red square offers accommodation in moscow . the apartment is 200 metres from bolshoi theatre .\n",
            "\n",
            "input line: в вашем распоряжении собственная ванная комната с душем и полотенцами .\n",
            "translated line: featuring a shower , private bathrooms also come with a hairdryer .\n",
            "target line: featuring a shower , private bathrooms also come with towels .\n",
            "\n"
          ]
        }
      ],
      "source": [
        "for inp_line, trans_line, out_line in zip(dev_inp[::500], model.translate_lines(dev_inp[::500], device=device)[0], dev_out[::500]):\n",
        "    print(f'input line: {inp_line}')\n",
        "    print(f'translated line: {trans_line}')\n",
        "    print(f'target line: {out_line}')\n",
        "    print()"
      ]
    },
    {
      "cell_type": "code",
      "source": [
        "for inp_line, trans_line, out_line in zip(dev_inp[::500], model.translate_lines(dev_inp[::500], device=device, beam_size=2)[0], dev_out[::500]):\n",
        "    print(f'input line: {inp_line}')\n",
        "    print(f'translated line: {trans_line}')\n",
        "    print(f'target line: {out_line}')\n",
        "    print()"
      ],
      "metadata": {
        "colab": {
          "base_uri": "https://localhost:8080/"
        },
        "id": "ZAdx0g5xMZ3d",
        "outputId": "9822b76c-0ed8-44e5-b8d3-b6a8d175739e"
      },
      "execution_count": 35,
      "outputs": [
        {
          "output_type": "stream",
          "name": "stdout",
          "text": [
            "input line: в распоряжении гостей общая кухня и общая гостиная .\n",
            "translated line: there are a common lounge and hairdresser ’ a laundry service at a surcharge and is also . a cash tions at this guest . guests will also have a bicycle rental facilities for guests to explore guests at their stay at additional charge in . guests are available for a fee and free entry . the hotel offers free parking is possible on the premises\n",
            "target line: a shared equipped kitchen and a common living room are provided to guests .\n",
            "\n",
            "input line: кроме того , предоставляется прокат велосипедов , услуги трансфера и бесплатная парковка .\n",
            "translated line: the hostel in a bicycle and bicycle rentals can also rent bicycles for guests to use the car rental and car rental services are offered at this hotel and guests receive free of the hotel in a car rental service for guests to the free shuttle . free parking spaces . the hotel offers a free transfer . the nearest grocery shop and a private parking are located available at a distance . the hotel can accommodate their stay at nearby attractions include city and fishing opportunities are located nearby in front . the hotel offers an indoor swimming pools\n",
            "target line: bicycle rental and shuttle services are also available . the property offers free parking .\n",
            "\n",
            "input line: расстояние до города ки@@ сси@@ м@@ ми составляет 26 км .\n",
            "translated line: the air - gro@@ ss@@ i is 26 miles from this hotel hotel in a 48 - conditioned room . 6 miles away from this property and is a mile away from this property and offers accommodation with free wifi . the hotel offers an on site and a wide selection to explore all of this guest rooms\n",
            "target line: the unit is 26 km from kissimmee .\n",
            "\n",
            "input line: апартаменты в пент@@ хаусе с общим открытым бассейном , садом , кондиционером и террасой для загара расположены в 5 минутах ходьбы от пляжа на курорте ка@@ бо - рой .\n",
            "translated line: set tours and is located just 5 - minutes ' drive to a balcony with sea view . it features self catering accommodation and free wi . the unit features views over a garden and an indoor swimming pools , in a terrace and garden views in a building in a building and 500 m2 . the unit can accommodate on to explore guests can reach . the hotel offers an on site and a private terrace with barbecue . the nearest grocery shop are available at a surcharge , a ski school is located right outside the hotel and\n",
            "target line: situated 5 minutes ' walk from the beach in cabo ro@@ ig , this air - conditioned penthouse apartment features a communal outdoor pool , garden and sun terrace .\n",
            "\n",
            "input line: апартаменты mo@@ s@@ co@@ w point - loft red square находятся в москве , в 200 метрах от большого театра .\n",
            "translated line: bicycle and suites in santa maria maggiore in sain@@ st@@ ya in a historic centre of opera and is 200 metre distance . the apartment can be rented . the apartment can be rented . the property offers a washing - view ski areas and a supermarket are located within 200 meters away from this holiday . this property features free wi . the hotel offers an on site and a garden with the property is also available to guests in the city centre of sölden , is 200 metre . the hotel offers an on site and is also\n",
            "target line: moscow point - loft red square offers accommodation in moscow . the apartment is 200 metres from bolshoi theatre .\n",
            "\n",
            "input line: в вашем распоряжении собственная ванная комната с душем и полотенцами .\n",
            "translated line: apartment comes complete and private bathrooms have shower facilities and a shower cabin in each room in a shower and the private bathrooms come . each unit also includes an electric private . a hairdryer is available in all the area and is fitted . the bathroom comes . a tv with cable tv and private bathrooms are also included in all the rooms and a bathroom with hairdryer and the private bathrooms are available for the guests of your stay in a . guests will also have a private beach in a shared bathroom and free of the garden\n",
            "target line: featuring a shower , private bathrooms also come with towels .\n",
            "\n"
          ]
        }
      ]
    },
    {
      "cell_type": "code",
      "source": [
        "# Why changing number?\n",
        "\n",
        "# input line: расстояние до города ки@@ сси@@ м@@ ми составляет 26 км .\n",
        "# translated line: the city of santander is 5 km away .\n",
        "\n",
        "for out_line in dev_out:\n",
        "    if ('is 5 km' in out_line):\n",
        "        print(out_line)\n",
        "\n",
        "# Answer: Where's a sample in training set (dev_out) which has 'is 5 km' \n",
        "#  ... is 5 km from ...\n",
        "\n",
        "# Thus, the model remember 'is' with '5 km away'"
      ],
      "metadata": {
        "colab": {
          "base_uri": "https://localhost:8080/"
        },
        "id": "HM5n90n5L7-2",
        "outputId": "3a8d9fe7-16fd-4a17-8fde-3f4afb5291cd"
      },
      "execution_count": null,
      "outputs": [
        {
          "output_type": "stream",
          "name": "stdout",
          "text": [
            "zo@@ ag@@ li train station is 900 metres from the mare zo@@ ag@@ li . ra@@ pal@@ lo is 5 km away .\n",
            "novosibirsk state circus is 2 . 6 km from apartment on vo@@ en@@ naya , while novosibirsk zoo is 5 km away .\n",
            "set in her@@ mag@@ or , haus ei@@ ch@@ horn ferienwohnung offers self - catering accommodation with free wifi . featuring free private parking , the apartment is 5 km from lake pres@@ seg@@ ger .\n",
            "lake pi@@ ch@@ ho@@ la is 4 . 1 km from sin@@ gh@@ i villa guest house , while city palace of ud@@ aipur is 5 km away .\n",
            "salzburg is 5 km from las@@ chen@@ sky depend@@ ance , while berchtesgaden is 16 km away .\n",
            "hotel sto@@ mi@@ o beach is 5 km from kim@@ i harbour and at a distance of 180 km from athens city centre .\n",
            "parc des ex@@ posit@@ ions de metz is 5 km from bo@@ he@@ me ap@@ part , while sta@@ de saint - sy@@ mp@@ hori@@ en is 1 . 1 km from the property . metz - nan@@ cy - lor@@ ra@@ ine airport is 15 km away .\n",
            "the blu gro@@ tto is 5 km away .\n",
            "situated in the pat@@ el complex , hotel royal park is 5 km from the kur@@ la railway station .\n",
            "situated 4 . 3 km from bu@@ lev@@ ar plaza in alicante , this apartment features a patio with garden views . the property is 5 km from expl@@ an@@ ada de espa@@ ña boulevard and free private parking is provided .\n"
          ]
        }
      ]
    },
    {
      "cell_type": "markdown",
      "source": [
        "**QUESTION:** How to tackle this problem with numbers?  \n",
        "**ANSWER:** Add attention / train more"
      ],
      "metadata": {
        "id": "WqYMdkLrSAZC"
      }
    },
    {
      "cell_type": "markdown",
      "metadata": {
        "id": "Qz9aROAIlrtX"
      },
      "source": [
        "# Attention layer\n",
        "\n",
        "Given encoder sequence $ h^e_0, h^e_1, h^e_2, ..., h^e_T$ and a single decoder state $h^d$,\n",
        "\n",
        "* Compute logits with a 2-layer neural network\n",
        "$$a_t = linear_{out}(tanh(linear_{e}(h^e_t) + linear_{d}(h_d)))$$\n",
        "* Get probabilities from logits, \n",
        "$$ p_t = {{e ^ {a_t}} \\over { \\sum_\\tau e^{a_\\tau} }} $$\n",
        "\n",
        "* Add up encoder states with probabilities to get __attention response__\n",
        "$$ attn = \\sum_t p_t \\cdot h^e_t $$\n",
        "\n",
        "You can learn more about attention layers in the lecture slides or [from this post](https://distill.pub/2016/augmented-rnns/)."
      ]
    },
    {
      "cell_type": "markdown",
      "metadata": {
        "id": "IalfpdAelrtb"
      },
      "source": [
        "### Seq2seq model with attention\n",
        "\n",
        "The simplest way to implement attention is to use it in decoder phase:\n",
        "![img](https://i.imgur.com/6fKHlHb.png)\n",
        "_image from distill.pub [article](https://distill.pub/2016/augmented-rnns/)_\n",
        "\n",
        "On every step, use __previous__ decoder state to obtain attention response. Then feed concat this response to the inputs of next attention layer.\n",
        "\n",
        "The key implementation detail here is __model state__. Put simply, you can add any tensor into the list of `encode` outputs. You will then have access to them at each `decode` step. This may include:\n",
        "* Last RNN hidden states (as in basic model)\n",
        "* The whole sequence of encoder outputs (to attend to) and mask\n",
        "* Attention probabilities (to visualize)\n",
        "\n",
        "_There are, of course, alternative ways to wire attention into your network and different kinds of attention. Take a look at [this](https://arxiv.org/abs/1609.08144), [this](https://arxiv.org/abs/1706.03762) and [this](https://arxiv.org/abs/1808.03867) for ideas. And for image captioning/im2latex there's [visual attention](https://arxiv.org/abs/1502.03044)_"
      ]
    },
    {
      "cell_type": "code",
      "source": [
        "from models import AttentiveModel"
      ],
      "metadata": {
        "id": "mlpN_XPy6F4n"
      },
      "execution_count": null,
      "outputs": []
    },
    {
      "cell_type": "markdown",
      "metadata": {
        "id": "ryZCOTEslrtf"
      },
      "source": [
        "### Training attentive model\n",
        "\n",
        "Reusing the structure we've built for the regular model."
      ]
    },
    {
      "cell_type": "code",
      "execution_count": null,
      "metadata": {
        "id": "-YMHPgZxcFaQ"
      },
      "outputs": [],
      "source": [
        "from IPython.display import clear_output\n",
        "from tqdm import tqdm, trange\n",
        "metrics = {'train_loss': [], 'dev_bleu': [] }\n",
        "\n",
        "model = AttentiveModel(inp_voc, out_voc).to(device)\n",
        "optimizer = torch.optim.Adam(model.parameters(), lr=1e-3)\n",
        "batch_size = 32"
      ]
    },
    {
      "cell_type": "code",
      "source": [
        "metrics = train_loop(\n",
        "    model,\n",
        "    optimizer, \n",
        "    train_inp, \n",
        "    num_epochs=25000,\n",
        "    from_checkpoint=False\n",
        ")"
      ],
      "metadata": {
        "colab": {
          "base_uri": "https://localhost:8080/",
          "height": 318
        },
        "id": "3qWDTs7Z89EA",
        "outputId": "234d72ae-7863-481a-f2b2-3a9455c18728"
      },
      "execution_count": null,
      "outputs": [
        {
          "output_type": "display_data",
          "data": {
            "text/plain": [
              "<Figure size 864x288 with 2 Axes>"
            ],
            "image/png": "[encoded data removed]"
          },
          "metadata": {
            "needs_background": "light"
          }
        },
        {
          "output_type": "stream",
          "name": "stdout",
          "text": [
            "Mean loss=1.716\n"
          ]
        },
        {
          "output_type": "stream",
          "name": "stderr",
          "text": [
            "\r100%|██████████| 25000/25000 [39:57<00:00, 10.43it/s]\n"
          ]
        }
      ]
    },
    {
      "cell_type": "code",
      "source": [
        "best_checkpoint = torch.load('/content/best_bleu_state.pth')\n",
        "print('best BLEU = ', best_checkpoint['bleu'])\n",
        "print('best epoch = ', best_checkpoint['epoch'])"
      ],
      "metadata": {
        "colab": {
          "base_uri": "https://localhost:8080/"
        },
        "outputId": "ec58f428-0d80-4d26-dd64-eca411a359b8",
        "id": "xRYG7IVwNGfl"
      },
      "execution_count": null,
      "outputs": [
        {
          "output_type": "stream",
          "name": "stdout",
          "text": [
            "best BLEU =  22.752529507906143\n",
            "best epoch =  24800\n"
          ]
        }
      ]
    },
    {
      "cell_type": "code",
      "execution_count": null,
      "metadata": {
        "id": "jG_6u676NGfm"
      },
      "outputs": [],
      "source": [
        "assert np.mean(metrics['dev_bleu'][-10:], axis=0)[1] > 15, \"We kind of need a higher bleu BLEU from you. Kind of right now.\""
      ]
    },
    {
      "cell_type": "code",
      "source": [
        "# Mean BLEU on last 10 epoches (Simple GRU model without attention)\n",
        "np.mean(metrics['dev_bleu'][-10:], axis=0)[1]"
      ],
      "metadata": {
        "colab": {
          "base_uri": "https://localhost:8080/"
        },
        "outputId": "8f3d8777-7b81-44cf-cbb1-9d221393a2a9",
        "id": "MmcpsCqkNGfn"
      },
      "execution_count": null,
      "outputs": [
        {
          "output_type": "execute_result",
          "data": {
            "text/plain": [
              "22.407775743721057"
            ]
          },
          "metadata": {},
          "execution_count": 38
        }
      ]
    },
    {
      "cell_type": "code",
      "execution_count": null,
      "metadata": {
        "colab": {
          "base_uri": "https://localhost:8080/"
        },
        "outputId": "2886567d-87f6-4e67-ae77-b393ddec92d9",
        "id": "yzFgNQ_qNGfn"
      },
      "outputs": [
        {
          "output_type": "stream",
          "name": "stdout",
          "text": [
            "input line: в распоряжении гостей общая кухня и общая гостиная .\n",
            "translated line: there is a shared kitchen and shared shared kitchen .\n",
            "target line: a shared equipped kitchen and a common living room are provided to guests .\n",
            "\n",
            "input line: кроме того , предоставляется прокат велосипедов , услуги трансфера и бесплатная парковка .\n",
            "translated line: bike rental and car rental are available at the property and free parking .\n",
            "target line: bicycle rental and shuttle services are also available . the property offers free parking .\n",
            "\n",
            "input line: расстояние до города ки@@ сси@@ м@@ ми составляет 26 км .\n",
            "translated line: the town of rethymno is 26 km away .\n",
            "target line: the unit is 26 km from kissimmee .\n",
            "\n",
            "input line: апартаменты в пент@@ хаусе с общим открытым бассейном , садом , кондиционером и террасой для загара расположены в 5 минутах ходьбы от пляжа на курорте ка@@ бо - рой .\n",
            "translated line: offering a barbecue and a garden , the apartment is situated in a quiet area in the complex of the sea , a 5 - minute walk from ubud market .\n",
            "target line: situated 5 minutes ' walk from the beach in cabo ro@@ ig , this air - conditioned penthouse apartment features a communal outdoor pool , garden and sun terrace .\n",
            "\n",
            "input line: апартаменты mo@@ s@@ co@@ w point - loft red square находятся в москве , в 200 метрах от большого театра .\n",
            "translated line: apartment laz@@ lino is located in minsk , 200 metres from the property .\n",
            "target line: moscow point - loft red square offers accommodation in moscow . the apartment is 200 metres from bolshoi theatre .\n",
            "\n",
            "input line: в вашем распоряжении собственная ванная комната с душем и полотенцами .\n",
            "translated line: featuring a shower , private bathrooms also come with towels .\n",
            "target line: featuring a shower , private bathrooms also come with towels .\n",
            "\n"
          ]
        }
      ],
      "source": [
        "for inp_line, trans_line, out_line in zip(dev_inp[::500], model.translate_lines(dev_inp[::500], device='cuda')[0], dev_out[::500]):\n",
        "    print(f'input line: {inp_line}')\n",
        "    print(f'translated line: {trans_line}')\n",
        "    print(f'target line: {out_line}')\n",
        "    print()"
      ]
    },
    {
      "cell_type": "markdown",
      "source": [
        "__My comment:__   \n",
        "As we can see, the translation is way better now.  \n",
        "Our model also translated the line __'составляет 26 км' --> 'is 26 km from property'__ correctly."
      ],
      "metadata": {
        "id": "HIt8EhRsRNDN"
      }
    },
    {
      "cell_type": "markdown",
      "metadata": {
        "id": "HquhmTYeMrrb"
      },
      "source": [
        "### Visualizing model attention \n",
        "\n",
        "After training the attentive translation model, you can check it's sanity by visualizing its attention weights.\n",
        "\n",
        "We provided you with a function that draws attention maps using [`Bokeh`](https://bokeh.pydata.org/en/latest/index.html). Once you managed to produce something better than random noise, please save at least 3 attention maps and __submit them to anytask__ alongside this notebook to get the max grade. Saving bokeh figures as __cell outputs is not enough!__ (TAs can't see saved bokeh figures in anytask). You can save bokeh images as screenshots or using this button:\n",
        "\n",
        "![bokeh_panel](https://github.com/yandexdataschool/nlp_course/raw/2019/resources/bokeh_panel.png)\n",
        "\n",
        "__Note:__ you're not locked into using bokeh. If you prefer a different visualization method, feel free to use that instead of bokeh."
      ]
    },
    {
      "cell_type": "code",
      "execution_count": null,
      "metadata": {
        "id": "ds72eX5hMrrc"
      },
      "outputs": [],
      "source": [
        "import bokeh.plotting as pl\n",
        "import bokeh.models as bm\n",
        "from bokeh.io import output_notebook, show\n",
        "output_notebook()\n",
        "\n",
        "def draw_attention(inp_line, translation, probs):\n",
        "    \"\"\" An intentionally ambiguous function to visualize attention weights \"\"\"\n",
        "    inp_tokens = inp_voc.tokenize(inp_line)\n",
        "    trans_tokens = out_voc.tokenize(translation)\n",
        "    probs = probs[:len(trans_tokens), :len(inp_tokens)]\n",
        "    \n",
        "    fig = pl.figure(x_range=(0, len(inp_tokens)), y_range=(0, len(trans_tokens)),\n",
        "                    x_axis_type=None, y_axis_type=None, tools=[])\n",
        "    fig.image([probs[::-1]], 0, 0, len(inp_tokens), len(trans_tokens))\n",
        "\n",
        "    fig.add_layout(bm.LinearAxis(axis_label='source tokens'), 'above')\n",
        "    fig.xaxis.ticker = np.arange(len(inp_tokens)) + 0.5\n",
        "    fig.xaxis.major_label_overrides = dict(zip(np.arange(len(inp_tokens)) + 0.5, inp_tokens))\n",
        "    fig.xaxis.major_label_orientation = 45\n",
        "\n",
        "    fig.add_layout(bm.LinearAxis(axis_label='translation tokens'), 'left')\n",
        "    fig.yaxis.ticker = np.arange(len(trans_tokens)) + 0.5\n",
        "    fig.yaxis.major_label_overrides = dict(zip(np.arange(len(trans_tokens)) + 0.5, trans_tokens[::-1]))\n",
        "\n",
        "    show(fig)"
      ]
    },
    {
      "cell_type": "code",
      "execution_count": null,
      "metadata": {
        "id": "o0ygVY1JMrrd"
      },
      "outputs": [],
      "source": [
        "inp = dev_inp[::500]\n",
        "\n",
        "trans, states = model.translate_lines(inp)\n",
        "\n",
        "print(states.size())\n",
        "# select attention probs from model state (you may need to change this for your custom model)\n",
        "# attention_probs below must have shape [batch_size, translation_length, input_length], extracted from states\n",
        "# e.g. if attention probs are at the end of each state, use np.stack([state[-1] for state in states], axis=1)\n",
        "attention_probs = <YOUR CODE>"
      ]
    },
    {
      "cell_type": "code",
      "execution_count": null,
      "metadata": {
        "id": "r3s4NB6IMrrd"
      },
      "outputs": [],
      "source": [
        "for i in range(5):\n",
        "    draw_attention(inp[i], trans[i], attention_probs[i])\n",
        "    \n",
        "# Does it look fine already? don't forget to save images for anytask!"
      ]
    },
    {
      "cell_type": "markdown",
      "metadata": {
        "id": "q_weX7fEMrre"
      },
      "source": [
        "__Note 1:__ If the attention maps are not iterpretable, try starting encoder from zeros (instead of dec_start), forcing model to use attention.\n",
        "\n",
        "__Note 2:__ If you're studying this course as a YSDA student, please submit __attention screenshots__ alongside your notebook."
      ]
    },
    {
      "cell_type": "markdown",
      "metadata": {
        "id": "pbIIngNVlrtt"
      },
      "source": [
        "## Goind deeper (2++ points each)\n",
        "\n",
        "We want you to find the best model for the task. Use everything you know.\n",
        "\n",
        "* different recurrent units: rnn/gru/lstm; deeper architectures\n",
        "* bidirectional encoder, different attention methods for decoder (additive, dot-product, multi-head)\n",
        "* word dropout, training schedules, anything you can imagine\n",
        "* replace greedy inference with beam search\n",
        "\n",
        "For a better grasp of seq2seq We recommend you to conduct at least one experiment from one of the bullet-points or your alternative ideas. As usual, describe what you tried and what results you obtained in a short report."
      ]
    },
    {
      "cell_type": "markdown",
      "metadata": {
        "collapsed": true,
        "id": "2rzAj_xtlrtt"
      },
      "source": [
        "`[your report/log here or anywhere you please]`"
      ]
    }
  ],
  "metadata": {
    "colab": {
      "collapsed_sections": [],
      "name": "practice_and_homework_pytorch.ipynb",
      "provenance": []
    },
    "kernelspec": {
      "display_name": "Python 3",
      "language": "python",
      "name": "python3"
    },
    "language_info": {
      "codemirror_mode": {
        "name": "ipython",
        "version": 3
      },
      "file_extension": ".py",
      "mimetype": "text/x-python",
      "name": "python",
      "nbconvert_exporter": "python",
      "pygments_lexer": "ipython3",
      "version": "3.8.3"
    },
    "gpuClass": "standard",
    "accelerator": "GPU"
  },
  "nbformat": 4,
  "nbformat_minor": 0
}